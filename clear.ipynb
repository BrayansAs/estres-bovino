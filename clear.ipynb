{
 "cells": [
  {
   "cell_type": "code",
   "execution_count": 3,
   "metadata": {},
   "outputs": [],
   "source": [
    "import numpy as np # linear algebra\n",
    "import pandas as pd # data processing, CSV file I/O (e.g. pd.read_csv)\n",
    "import matplotlib.pyplot as plt\n",
    "from datetime import datetime, timedelta"
   ]
  },
  {
   "cell_type": "code",
   "execution_count": 4,
   "metadata": {},
   "outputs": [],
   "source": [
    "\n",
    "file_path = 'Data_cow.xlsx'\n",
    "# Crea un diccionario vacío para almacenar los DataFrames\n",
    "dataframes = {}\n",
    "\n",
    "# Lee cada hoja del archivo de Excel y la convierte en un DataFrame\n",
    "for sheet_name in pd.ExcelFile(file_path).sheet_names[:10]:\n",
    "    df = pd.read_excel(file_path, sheet_name=sheet_name)\n",
    "    dataframes[sheet_name] = df\n"
   ]
  },
  {
   "cell_type": "code",
   "execution_count": null,
   "metadata": {},
   "outputs": [
    {
     "name": "stdout",
     "output_type": "stream",
     "text": [
      "           Fecha   x1   x2              Class  Ancho\n",
      "0     2024-01-01   30   36     period resting      6\n",
      "1     2024-01-01   36   45  period rumination      9\n",
      "2     2024-01-01   45   84      period eating     39\n",
      "3     2024-01-01   84   85       period other      1\n",
      "4     2024-01-01   85   99  period rumination     14\n",
      "...          ...  ...  ...                ...    ...\n",
      "18486 2025-01-02  557  566  period rumination      9\n",
      "18487 2025-01-02  566  590      period eating     24\n",
      "18488 2025-01-02  590  612  period rumination     22\n",
      "18489 2025-01-02  612  625     period resting     13\n",
      "18490 2025-01-02  625  640  period rumination     15\n",
      "\n",
      "[18491 rows x 5 columns]\n"
     ]
    }
   ],
   "source": [
    "\n",
    "print(dataframes[pd.ExcelFile(file_path).sheet_names[9]])\n"
   ]
  },
  {
   "cell_type": "code",
   "execution_count": 5,
   "metadata": {},
   "outputs": [],
   "source": [
    "# Itera sobre la lista de DataFrames\n",
    "for sheet_name in dataframes:\n",
    "    # Accede al DataFrame correspondiente\n",
    "    df = dataframes[sheet_name]\n",
    "    # Borra las filas con ancho 0\n",
    "    df.drop(df.query('Ancho == 0').index, inplace=True)\n",
    "    # Actualizamos el índice después de eliminar las filas\n",
    "    df.reset_index(drop=True, inplace=True)\n",
    "    #elimina columnas\n",
    "    df.drop(columns=['x1', 'x2'], inplace=True)\n",
    "    "
   ]
  },
  {
   "cell_type": "code",
   "execution_count": 6,
   "metadata": {},
   "outputs": [],
   "source": [
    "# Itera sobre la lista de DataFrames\n",
    "for sheet_name in dataframes:\n",
    "    # Accede al DataFrame correspondiente\n",
    "    df = dataframes[sheet_name]\n",
    "    df['H/Pix']=24/610\n",
    "    df['H.N']= df['Ancho']*df['H/Pix']\n",
    "    "
   ]
  },
  {
   "cell_type": "code",
   "execution_count": 7,
   "metadata": {},
   "outputs": [],
   "source": [
    "# Itera sobre la lista de DataFrames\n",
    "for sheet_name in dataframes:\n",
    "    # Accede al DataFrame correspondiente\n",
    "    df = dataframes[sheet_name]\n",
    "    # Convertir cada fila de horas a timedelta\n",
    "    df['H'] = pd.to_timedelta(df['H.N'], unit='hours')\n",
    "    \n",
    "    "
   ]
  },
  {
   "cell_type": "code",
   "execution_count": 8,
   "metadata": {},
   "outputs": [
    {
     "data": {
      "application/vnd.microsoft.datawrangler.viewer.v0+json": {
       "columns": [
        {
         "name": "index",
         "rawType": "int64",
         "type": "integer"
        },
        {
         "name": "Fecha",
         "rawType": "datetime64[ns]",
         "type": "datetime"
        },
        {
         "name": "Class",
         "rawType": "object",
         "type": "string"
        },
        {
         "name": "Ancho",
         "rawType": "int64",
         "type": "integer"
        },
        {
         "name": "H/Pix",
         "rawType": "float64",
         "type": "float"
        },
        {
         "name": "H.N",
         "rawType": "float64",
         "type": "float"
        },
        {
         "name": "H",
         "rawType": "timedelta64[ns]",
         "type": "unknown"
        }
       ],
       "conversionMethod": "pd.DataFrame",
       "ref": "4270da14-29a2-481c-96ac-48d1abf94b44",
       "rows": [
        [
         "0",
         "2024-01-01 00:00:00",
         "period resting",
         "6",
         "0.03934426229508197",
         "0.2360655737704918",
         "0 days 00:14:09.836065572"
        ],
        [
         "1",
         "2024-01-01 00:00:00",
         "period rumination",
         "9",
         "0.03934426229508197",
         "0.35409836065573774",
         "0 days 00:21:14.754098361"
        ],
        [
         "2",
         "2024-01-01 00:00:00",
         "period eating",
         "39",
         "0.03934426229508197",
         "1.534426229508197",
         "0 days 01:32:03.934426228"
        ],
        [
         "3",
         "2024-01-01 00:00:00",
         "period other",
         "1",
         "0.03934426229508197",
         "0.03934426229508197",
         "0 days 00:02:21.639344262"
        ],
        [
         "4",
         "2024-01-01 00:00:00",
         "period rumination",
         "14",
         "0.03934426229508197",
         "0.5508196721311476",
         "0 days 00:33:02.950819671"
        ],
        [
         "5",
         "2024-01-01 00:00:00",
         "period resting",
         "14",
         "0.03934426229508197",
         "0.5508196721311476",
         "0 days 00:33:02.950819671"
        ],
        [
         "6",
         "2024-01-01 00:00:00",
         "period rumination",
         "10",
         "0.03934426229508197",
         "0.3934426229508197",
         "0 days 00:23:36.393442623"
        ],
        [
         "7",
         "2024-01-01 00:00:00",
         "period resting",
         "17",
         "0.03934426229508197",
         "0.6688524590163935",
         "0 days 00:40:07.868852457"
        ],
        [
         "8",
         "2024-01-01 00:00:00",
         "period rumination",
         "14",
         "0.03934426229508197",
         "0.5508196721311476",
         "0 days 00:33:02.950819671"
        ],
        [
         "9",
         "2024-01-01 00:00:00",
         "period resting",
         "4",
         "0.03934426229508197",
         "0.15737704918032788",
         "0 days 00:09:26.557377048"
        ],
        [
         "10",
         "2024-01-01 00:00:00",
         "period eating",
         "3",
         "0.03934426229508197",
         "0.1180327868852459",
         "0 days 00:07:04.918032786"
        ],
        [
         "11",
         "2024-01-01 00:00:00",
         "period resting",
         "17",
         "0.03934426229508197",
         "0.6688524590163935",
         "0 days 00:40:07.868852457"
        ],
        [
         "12",
         "2024-01-01 00:00:00",
         "period eating",
         "1",
         "0.03934426229508197",
         "0.03934426229508197",
         "0 days 00:02:21.639344262"
        ],
        [
         "13",
         "2024-01-01 00:00:00",
         "period resting",
         "8",
         "0.03934426229508197",
         "0.31475409836065577",
         "0 days 00:18:53.114754099"
        ],
        [
         "14",
         "2024-01-01 00:00:00",
         "period rumination",
         "11",
         "0.03934426229508197",
         "0.4327868852459017",
         "0 days 00:25:58.032786885"
        ],
        [
         "15",
         "2024-01-01 00:00:00",
         "period resting",
         "6",
         "0.03934426229508197",
         "0.2360655737704918",
         "0 days 00:14:09.836065572"
        ],
        [
         "16",
         "2024-01-01 00:00:00",
         "period eating",
         "105",
         "0.03934426229508197",
         "4.131147540983607",
         "0 days 04:07:52.131147542"
        ],
        [
         "17",
         "2024-01-01 00:00:00",
         "period rumination",
         "16",
         "0.03934426229508197",
         "0.6295081967213115",
         "0 days 00:37:46.229508195"
        ],
        [
         "18",
         "2024-01-01 00:00:00",
         "period resting",
         "5",
         "0.03934426229508197",
         "0.19672131147540986",
         "0 days 00:11:48.196721310"
        ],
        [
         "19",
         "2024-01-01 00:00:00",
         "period eating",
         "61",
         "0.03934426229508197",
         "2.4000000000000004",
         "0 days 02:24:00"
        ],
        [
         "20",
         "2024-01-01 00:00:00",
         "period rumination",
         "12",
         "0.03934426229508197",
         "0.4721311475409836",
         "0 days 00:28:19.672131147"
        ],
        [
         "21",
         "2024-01-01 00:00:00",
         "period eating",
         "3",
         "0.03934426229508197",
         "0.1180327868852459",
         "0 days 00:07:04.918032786"
        ],
        [
         "22",
         "2024-01-01 00:00:00",
         "period other",
         "2",
         "0.03934426229508197",
         "0.07868852459016394",
         "0 days 00:04:43.278688524"
        ],
        [
         "23",
         "2024-01-01 00:00:00",
         "period eating",
         "3",
         "0.03934426229508197",
         "0.1180327868852459",
         "0 days 00:07:04.918032786"
        ],
        [
         "24",
         "2024-01-01 00:00:00",
         "period resting",
         "1",
         "0.03934426229508197",
         "0.03934426229508197",
         "0 days 00:02:21.639344262"
        ],
        [
         "25",
         "2024-01-01 00:00:00",
         "period rumination",
         "6",
         "0.03934426229508197",
         "0.2360655737704918",
         "0 days 00:14:09.836065572"
        ],
        [
         "26",
         "2024-01-01 00:00:00",
         "period eating",
         "1",
         "0.03934426229508197",
         "0.03934426229508197",
         "0 days 00:02:21.639344262"
        ],
        [
         "27",
         "2024-01-01 00:00:00",
         "period resting",
         "5",
         "0.03934426229508197",
         "0.19672131147540986",
         "0 days 00:11:48.196721310"
        ],
        [
         "28",
         "2024-01-01 00:00:00",
         "period rumination",
         "2",
         "0.03934426229508197",
         "0.07868852459016394",
         "0 days 00:04:43.278688524"
        ],
        [
         "29",
         "2024-01-01 00:00:00",
         "period resting",
         "1",
         "0.03934426229508197",
         "0.03934426229508197",
         "0 days 00:02:21.639344262"
        ],
        [
         "30",
         "2024-01-01 00:00:00",
         "period rumination",
         "15",
         "0.03934426229508197",
         "0.5901639344262296",
         "0 days 00:35:24.590163933"
        ],
        [
         "31",
         "2024-01-01 00:00:00",
         "period resting",
         "7",
         "0.03934426229508197",
         "0.2754098360655738",
         "0 days 00:16:31.475409837"
        ],
        [
         "32",
         "2024-01-01 00:00:00",
         "period other",
         "4",
         "0.03934426229508197",
         "0.15737704918032788",
         "0 days 00:09:26.557377048"
        ],
        [
         "33",
         "2024-01-01 00:00:00",
         "period eating",
         "52",
         "0.03934426229508197",
         "2.0459016393442626",
         "0 days 02:02:45.245901638"
        ],
        [
         "34",
         "2024-01-01 00:00:00",
         "period resting",
         "3",
         "0.03934426229508197",
         "0.1180327868852459",
         "0 days 00:07:04.918032786"
        ],
        [
         "35",
         "2024-01-01 00:00:00",
         "period rumination",
         "20",
         "0.03934426229508197",
         "0.7868852459016394",
         "0 days 00:47:12.786885247"
        ],
        [
         "36",
         "2024-01-01 00:00:00",
         "period resting",
         "13",
         "0.03934426229508197",
         "0.5114754098360657",
         "0 days 00:30:41.311475409"
        ],
        [
         "37",
         "2024-01-01 00:00:00",
         "period rumination",
         "17",
         "0.03934426229508197",
         "0.6688524590163935",
         "0 days 00:40:07.868852457"
        ],
        [
         "38",
         "2024-01-01 00:00:00",
         "period resting",
         "9",
         "0.03934426229508197",
         "0.35409836065573774",
         "0 days 00:21:14.754098361"
        ],
        [
         "39",
         "2024-01-01 00:00:00",
         "period rumination",
         "19",
         "0.03934426229508197",
         "0.7475409836065574",
         "0 days 00:44:51.147540985"
        ],
        [
         "40",
         "2024-01-01 00:00:00",
         "period resting",
         "16",
         "0.03934426229508197",
         "0.6295081967213115",
         "0 days 00:37:46.229508195"
        ],
        [
         "41",
         "2024-01-01 00:00:00",
         "period rumination",
         "17",
         "0.03934426229508197",
         "0.6688524590163935",
         "0 days 00:40:07.868852457"
        ],
        [
         "42",
         "2024-01-01 00:00:00",
         "period resting",
         "10",
         "0.03934426229508197",
         "0.3934426229508197",
         "0 days 00:23:36.393442623"
        ],
        [
         "43",
         "2024-01-01 00:00:00",
         "period rumination",
         "11",
         "0.03934426229508197",
         "0.4327868852459017",
         "0 days 00:25:58.032786885"
        ],
        [
         "44",
         "2024-01-02 00:00:00",
         "period rumination",
         "1",
         "0.03934426229508197",
         "0.03934426229508197",
         "0 days 00:02:21.639344262"
        ],
        [
         "45",
         "2024-01-02 00:00:00",
         "period resting",
         "18",
         "0.03934426229508197",
         "0.7081967213114755",
         "0 days 00:42:29.508196719"
        ],
        [
         "46",
         "2024-01-02 00:00:00",
         "period rumination",
         "14",
         "0.03934426229508197",
         "0.5508196721311476",
         "0 days 00:33:02.950819671"
        ],
        [
         "47",
         "2024-01-02 00:00:00",
         "period resting",
         "17",
         "0.03934426229508197",
         "0.6688524590163935",
         "0 days 00:40:07.868852457"
        ],
        [
         "48",
         "2024-01-02 00:00:00",
         "period eating",
         "2",
         "0.03934426229508197",
         "0.07868852459016394",
         "0 days 00:04:43.278688524"
        ],
        [
         "49",
         "2024-01-02 00:00:00",
         "period resting",
         "2",
         "0.03934426229508197",
         "0.07868852459016394",
         "0 days 00:04:43.278688524"
        ]
       ],
       "shape": {
        "columns": 6,
        "rows": 17858
       }
      },
      "text/html": [
       "<div>\n",
       "<style scoped>\n",
       "    .dataframe tbody tr th:only-of-type {\n",
       "        vertical-align: middle;\n",
       "    }\n",
       "\n",
       "    .dataframe tbody tr th {\n",
       "        vertical-align: top;\n",
       "    }\n",
       "\n",
       "    .dataframe thead th {\n",
       "        text-align: right;\n",
       "    }\n",
       "</style>\n",
       "<table border=\"1\" class=\"dataframe\">\n",
       "  <thead>\n",
       "    <tr style=\"text-align: right;\">\n",
       "      <th></th>\n",
       "      <th>Fecha</th>\n",
       "      <th>Class</th>\n",
       "      <th>Ancho</th>\n",
       "      <th>H/Pix</th>\n",
       "      <th>H.N</th>\n",
       "      <th>H</th>\n",
       "    </tr>\n",
       "  </thead>\n",
       "  <tbody>\n",
       "    <tr>\n",
       "      <th>0</th>\n",
       "      <td>2024-01-01</td>\n",
       "      <td>period resting</td>\n",
       "      <td>6</td>\n",
       "      <td>0.039344</td>\n",
       "      <td>0.236066</td>\n",
       "      <td>0 days 00:14:09.836065572</td>\n",
       "    </tr>\n",
       "    <tr>\n",
       "      <th>1</th>\n",
       "      <td>2024-01-01</td>\n",
       "      <td>period rumination</td>\n",
       "      <td>9</td>\n",
       "      <td>0.039344</td>\n",
       "      <td>0.354098</td>\n",
       "      <td>0 days 00:21:14.754098361</td>\n",
       "    </tr>\n",
       "    <tr>\n",
       "      <th>2</th>\n",
       "      <td>2024-01-01</td>\n",
       "      <td>period eating</td>\n",
       "      <td>39</td>\n",
       "      <td>0.039344</td>\n",
       "      <td>1.534426</td>\n",
       "      <td>0 days 01:32:03.934426228</td>\n",
       "    </tr>\n",
       "    <tr>\n",
       "      <th>3</th>\n",
       "      <td>2024-01-01</td>\n",
       "      <td>period other</td>\n",
       "      <td>1</td>\n",
       "      <td>0.039344</td>\n",
       "      <td>0.039344</td>\n",
       "      <td>0 days 00:02:21.639344262</td>\n",
       "    </tr>\n",
       "    <tr>\n",
       "      <th>4</th>\n",
       "      <td>2024-01-01</td>\n",
       "      <td>period rumination</td>\n",
       "      <td>14</td>\n",
       "      <td>0.039344</td>\n",
       "      <td>0.550820</td>\n",
       "      <td>0 days 00:33:02.950819671</td>\n",
       "    </tr>\n",
       "    <tr>\n",
       "      <th>...</th>\n",
       "      <td>...</td>\n",
       "      <td>...</td>\n",
       "      <td>...</td>\n",
       "      <td>...</td>\n",
       "      <td>...</td>\n",
       "      <td>...</td>\n",
       "    </tr>\n",
       "    <tr>\n",
       "      <th>17853</th>\n",
       "      <td>2025-01-02</td>\n",
       "      <td>period rumination</td>\n",
       "      <td>9</td>\n",
       "      <td>0.039344</td>\n",
       "      <td>0.354098</td>\n",
       "      <td>0 days 00:21:14.754098361</td>\n",
       "    </tr>\n",
       "    <tr>\n",
       "      <th>17854</th>\n",
       "      <td>2025-01-02</td>\n",
       "      <td>period eating</td>\n",
       "      <td>24</td>\n",
       "      <td>0.039344</td>\n",
       "      <td>0.944262</td>\n",
       "      <td>0 days 00:56:39.344262295</td>\n",
       "    </tr>\n",
       "    <tr>\n",
       "      <th>17855</th>\n",
       "      <td>2025-01-02</td>\n",
       "      <td>period rumination</td>\n",
       "      <td>22</td>\n",
       "      <td>0.039344</td>\n",
       "      <td>0.865574</td>\n",
       "      <td>0 days 00:51:56.065573771</td>\n",
       "    </tr>\n",
       "    <tr>\n",
       "      <th>17856</th>\n",
       "      <td>2025-01-02</td>\n",
       "      <td>period resting</td>\n",
       "      <td>13</td>\n",
       "      <td>0.039344</td>\n",
       "      <td>0.511475</td>\n",
       "      <td>0 days 00:30:41.311475409</td>\n",
       "    </tr>\n",
       "    <tr>\n",
       "      <th>17857</th>\n",
       "      <td>2025-01-02</td>\n",
       "      <td>period rumination</td>\n",
       "      <td>15</td>\n",
       "      <td>0.039344</td>\n",
       "      <td>0.590164</td>\n",
       "      <td>0 days 00:35:24.590163933</td>\n",
       "    </tr>\n",
       "  </tbody>\n",
       "</table>\n",
       "<p>17858 rows × 6 columns</p>\n",
       "</div>"
      ],
      "text/plain": [
       "           Fecha              Class  Ancho     H/Pix       H.N  \\\n",
       "0     2024-01-01     period resting      6  0.039344  0.236066   \n",
       "1     2024-01-01  period rumination      9  0.039344  0.354098   \n",
       "2     2024-01-01      period eating     39  0.039344  1.534426   \n",
       "3     2024-01-01       period other      1  0.039344  0.039344   \n",
       "4     2024-01-01  period rumination     14  0.039344  0.550820   \n",
       "...          ...                ...    ...       ...       ...   \n",
       "17853 2025-01-02  period rumination      9  0.039344  0.354098   \n",
       "17854 2025-01-02      period eating     24  0.039344  0.944262   \n",
       "17855 2025-01-02  period rumination     22  0.039344  0.865574   \n",
       "17856 2025-01-02     period resting     13  0.039344  0.511475   \n",
       "17857 2025-01-02  period rumination     15  0.039344  0.590164   \n",
       "\n",
       "                              H  \n",
       "0     0 days 00:14:09.836065572  \n",
       "1     0 days 00:21:14.754098361  \n",
       "2     0 days 01:32:03.934426228  \n",
       "3     0 days 00:02:21.639344262  \n",
       "4     0 days 00:33:02.950819671  \n",
       "...                         ...  \n",
       "17853 0 days 00:21:14.754098361  \n",
       "17854 0 days 00:56:39.344262295  \n",
       "17855 0 days 00:51:56.065573771  \n",
       "17856 0 days 00:30:41.311475409  \n",
       "17857 0 days 00:35:24.590163933  \n",
       "\n",
       "[17858 rows x 6 columns]"
      ]
     },
     "execution_count": 8,
     "metadata": {},
     "output_type": "execute_result"
    }
   ],
   "source": [
    "df"
   ]
  },
  {
   "cell_type": "code",
   "execution_count": 9,
   "metadata": {},
   "outputs": [],
   "source": [
    "# Itera sobre la lista de DataFrames\n",
    "for sheet_name in dataframes:\n",
    "    # Accede al DataFrame correspondiente\n",
    "    df = dataframes[sheet_name]\n",
    "    # Agregar las columnas \"desde\" y \"hasta\"\n",
    "    df[\"Desde\"] = ''\n",
    "    df[\"Hasta\"] = ''\n",
    "\n",
    "    # Calcular las columnas \"desde\" y \"hasta\"\n",
    "    for i in range(len(df)):\n",
    "        if i == 0:\n",
    "            df.at[i, \"Desde\"] = pd.to_timedelta('00:00:00')\n",
    "        else:\n",
    "            start = df.at[i-1, \"Hasta\"]\n",
    "            df.at[i, \"Desde\"] = start\n",
    "\n",
    "        end = df.at[i, \"H\"] + df.at[i, \"Desde\"]\n",
    "        df.at[i, \"Hasta\"] = end\n",
    "\n",
    "   "
   ]
  },
  {
   "cell_type": "code",
   "execution_count": 10,
   "metadata": {},
   "outputs": [],
   "source": [
    "# Itera sobre la lista de DataFrames\n",
    "for sheet_name in dataframes:\n",
    "    # Accede al DataFrame correspondiente\n",
    "    df = dataframes[sheet_name]\n",
    "    #elimina columnas\n",
    "    df.drop(columns=['Ancho','H/Pix', 'H.N'], inplace=True)\n",
    "    "
   ]
  },
  {
   "cell_type": "code",
   "execution_count": 11,
   "metadata": {},
   "outputs": [],
   "source": [
    "from datetime import datetime, timedelta\n",
    "\n",
    "# Itera sobre la lista de DataFrames\n",
    "for sheet_name in dataframes:\n",
    "    # Accede al DataFrame correspondiente\n",
    "    df = dataframes[sheet_name]\n",
    "    \n",
    "    hourly_periods = []\n",
    "    # Iterar sobre cada fila del dataframe original\n",
    "    for index, row in df.iterrows():\n",
    "        fecha = row[\"Fecha\"]\n",
    "        periodo = row[\"Class\"]\n",
    "        duracion_timedelta = row[\"H\"]\n",
    "        desde_timedelta = row[\"Desde\"]\n",
    "        hasta_timedelta = row[\"Hasta\"]\n",
    "\n",
    "        start_hour = int(desde_timedelta.total_seconds() // 3600)\n",
    "        end_hour = int(hasta_timedelta.total_seconds() // 3600)\n",
    "\n",
    "        # Calcular el total de segundos de duración\n",
    "        total_seconds = duracion_timedelta.total_seconds()\n",
    "\n",
    "        for hour in range(start_hour, end_hour + 1):\n",
    "            # Calcular el tiempo en segundos dentro de la hora actual\n",
    "            current_hour_start = timedelta(hours=hour )\n",
    "            current_hour_end = timedelta(hours=(hour + 1) )\n",
    "\n",
    "            # Calcular la intersección de tiempo dentro de la hora actual\n",
    "            period_start = max(desde_timedelta, current_hour_start)\n",
    "            period_end = min(hasta_timedelta, current_hour_end)\n",
    "            period_seconds = (period_end - period_start).total_seconds()\n",
    "\n",
    "            # Añadir al DataFrame el periodo correspondiente a la hora actual\n",
    "            hourly_periods.append({\n",
    "                \"Fecha\": fecha,\n",
    "                \"Hora\": hour % 24,\n",
    "                \"Periodo\": periodo,\n",
    "                \"Tiempo\": timedelta(seconds=period_seconds),\n",
    "                \"Desde\": period_start,\n",
    "                \"Hasta\": period_end ,\n",
    "            })\n",
    "            \n",
    "    # Crear un DataFrame a partir de la lista de diccionarios\n",
    "    hourly_periods_df = pd.DataFrame( hourly_periods)\n",
    "    hourly_periods_df.drop(columns=['Desde','Hasta'], inplace=True)\n",
    "    \n",
    "        \n",
    "    df_grouped = hourly_periods_df.groupby(['Fecha', 'Hora', 'Periodo']).agg({'Tiempo': 'sum'}).reset_index()\n",
    "\n",
    "    # Agregar la columna de conteo después del groupby\n",
    "    conteo = hourly_periods_df.groupby(['Fecha', 'Hora', 'Periodo']).size().reset_index(name='Conteo')\n",
    "\n",
    "    # Combinar los resultados\n",
    "    df_grouped = pd.merge(df_grouped, conteo[['Fecha', 'Hora', 'Periodo', 'Conteo']], on=['Fecha', 'Hora', 'Periodo'])\n",
    "\n",
    "    # Crear pivot table para ambas métricas\n",
    "    df_pivot_tiempo = df_grouped.pivot_table( index=['Fecha', 'Hora'], columns='Periodo',values='Tiempo', fill_value=pd.Timedelta(0)).reset_index()\n",
    "\n",
    "    df_pivot_conteo = df_grouped.pivot_table( index=['Fecha', 'Hora'], columns='Periodo', values='Conteo', fill_value=0 ).reset_index()\n",
    "\n",
    "    # Renombrar las columnas de conteo para diferenciarlas\n",
    "    conteo_columns = {col: f'{col}_count' for col in df_pivot_conteo.columns if col not in ['Fecha', 'Hora']}\n",
    "    df_pivot_conteo = df_pivot_conteo.rename(columns=conteo_columns)\n",
    "\n",
    "    # Combinar ambos DataFrames\n",
    "    df_final = pd.merge(df_pivot_tiempo, df_pivot_conteo, on=['Fecha', 'Hora'])\n",
    "    df_final.columns.name = None\n",
    "\n",
    "    # Define the columns to convert\n",
    "    time_columns = ['period eating', 'period other', 'period resting', 'period rumination']\n",
    "\n",
    "    # Convert each timedelta column to decimal hours\n",
    "    for column in time_columns:\n",
    "        df_final[column] = (df_final[column].dt.total_seconds() / 3600).round(3)\n",
    "\n",
    "    # Mostrar el DataFrame resultante\n",
    "    dataframes[sheet_name] = df_final"
   ]
  },
  {
   "cell_type": "code",
   "execution_count": 12,
   "metadata": {},
   "outputs": [],
   "source": [
    "import re\n",
    "# Itera sobre la lista de DataFrames\n",
    "for sheet_name in dataframes:\n",
    "    # Accede al DataFrame correspondiente\n",
    "    df = dataframes[sheet_name]\n",
    "    namecsv = re.findall(r'\\d+', sheet_name)[0]\n",
    "    \n",
    "    #df.to_csv(f'Data1_procesados/{namecsv}.csv', index=False)\n",
    "    df.to_csv(f'Datos_procesados/{namecsv}.csv', index=False)"
   ]
  }
 ],
 "metadata": {
  "kernelspec": {
   "display_name": "Python 3",
   "language": "python",
   "name": "python3"
  },
  "language_info": {
   "codemirror_mode": {
    "name": "ipython",
    "version": 3
   },
   "file_extension": ".py",
   "mimetype": "text/x-python",
   "name": "python",
   "nbconvert_exporter": "python",
   "pygments_lexer": "ipython3",
   "version": "3.11.0"
  }
 },
 "nbformat": 4,
 "nbformat_minor": 2
}
