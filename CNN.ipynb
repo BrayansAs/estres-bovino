{
 "cells": [
  {
   "cell_type": "code",
   "execution_count": 1,
   "metadata": {
    "id": "5_y6LGXrRp0L"
   },
   "outputs": [],
   "source": [
    "import pandas as pd\n",
    "import numpy as np\n",
    "from sklearn.preprocessing import StandardScaler\n",
    "from sklearn.metrics import accuracy_score, precision_score, recall_score, f1_score, roc_auc_score\n",
    "from sklearn.metrics import roc_curve, auc\n",
    "import matplotlib.pyplot as plt\n",
    "from sklearn.utils.class_weight import compute_class_weight\n",
    "from tensorflow.keras.utils import to_categorical\n",
    "import tensorflow as tf"
   ]
  },
  {
   "cell_type": "code",
   "execution_count": 2,
   "metadata": {},
   "outputs": [],
   "source": [
    "nombre_csv = 1\n",
    "de = pd.read_csv(f'Datos_entrenamiento2/{nombre_csv}_e.csv')\n",
    "dp = pd.read_csv(f'Datos_prueba2/{nombre_csv}_p.csv')"
   ]
  },
  {
   "cell_type": "code",
   "execution_count": 3,
   "metadata": {},
   "outputs": [
    {
     "data": {
      "text/html": [
       "<div>\n",
       "<style scoped>\n",
       "    .dataframe tbody tr th:only-of-type {\n",
       "        vertical-align: middle;\n",
       "    }\n",
       "\n",
       "    .dataframe tbody tr th {\n",
       "        vertical-align: top;\n",
       "    }\n",
       "\n",
       "    .dataframe thead th {\n",
       "        text-align: right;\n",
       "    }\n",
       "</style>\n",
       "<table border=\"1\" class=\"dataframe\">\n",
       "  <thead>\n",
       "    <tr style=\"text-align: right;\">\n",
       "      <th></th>\n",
       "      <th>Fecha</th>\n",
       "      <th>Hora</th>\n",
       "      <th>period eating</th>\n",
       "      <th>period other</th>\n",
       "      <th>period resting</th>\n",
       "      <th>period rumination</th>\n",
       "      <th>period eating_count</th>\n",
       "      <th>period other_count</th>\n",
       "      <th>period resting_count</th>\n",
       "      <th>period rumination_count</th>\n",
       "      <th>nivel_actividad</th>\n",
       "      <th>distancia</th>\n",
       "      <th>nivel_estres</th>\n",
       "    </tr>\n",
       "  </thead>\n",
       "  <tbody>\n",
       "    <tr>\n",
       "      <th>0</th>\n",
       "      <td>2024-07-02</td>\n",
       "      <td>0</td>\n",
       "      <td>1.000</td>\n",
       "      <td>0.0</td>\n",
       "      <td>0.000</td>\n",
       "      <td>0.000</td>\n",
       "      <td>1.0</td>\n",
       "      <td>0.0</td>\n",
       "      <td>0.0</td>\n",
       "      <td>0.0</td>\n",
       "      <td>0.261201</td>\n",
       "      <td>0.138593</td>\n",
       "      <td>normal</td>\n",
       "    </tr>\n",
       "    <tr>\n",
       "      <th>1</th>\n",
       "      <td>2024-07-02</td>\n",
       "      <td>1</td>\n",
       "      <td>0.692</td>\n",
       "      <td>0.0</td>\n",
       "      <td>0.039</td>\n",
       "      <td>0.269</td>\n",
       "      <td>1.0</td>\n",
       "      <td>0.0</td>\n",
       "      <td>1.0</td>\n",
       "      <td>1.0</td>\n",
       "      <td>0.097238</td>\n",
       "      <td>0.238522</td>\n",
       "      <td>peligro</td>\n",
       "    </tr>\n",
       "    <tr>\n",
       "      <th>2</th>\n",
       "      <td>2024-07-02</td>\n",
       "      <td>2</td>\n",
       "      <td>0.000</td>\n",
       "      <td>0.0</td>\n",
       "      <td>0.403</td>\n",
       "      <td>0.597</td>\n",
       "      <td>0.0</td>\n",
       "      <td>0.0</td>\n",
       "      <td>1.0</td>\n",
       "      <td>1.0</td>\n",
       "      <td>-0.268779</td>\n",
       "      <td>0.295043</td>\n",
       "      <td>peligro</td>\n",
       "    </tr>\n",
       "    <tr>\n",
       "      <th>3</th>\n",
       "      <td>2024-07-02</td>\n",
       "      <td>3</td>\n",
       "      <td>0.000</td>\n",
       "      <td>0.0</td>\n",
       "      <td>0.266</td>\n",
       "      <td>0.734</td>\n",
       "      <td>0.0</td>\n",
       "      <td>0.0</td>\n",
       "      <td>1.0</td>\n",
       "      <td>1.0</td>\n",
       "      <td>-0.269952</td>\n",
       "      <td>0.230329</td>\n",
       "      <td>peligro</td>\n",
       "    </tr>\n",
       "    <tr>\n",
       "      <th>4</th>\n",
       "      <td>2024-07-02</td>\n",
       "      <td>4</td>\n",
       "      <td>0.118</td>\n",
       "      <td>0.0</td>\n",
       "      <td>0.436</td>\n",
       "      <td>0.446</td>\n",
       "      <td>1.0</td>\n",
       "      <td>0.0</td>\n",
       "      <td>2.0</td>\n",
       "      <td>1.0</td>\n",
       "      <td>-0.205552</td>\n",
       "      <td>0.132157</td>\n",
       "      <td>normal</td>\n",
       "    </tr>\n",
       "    <tr>\n",
       "      <th>...</th>\n",
       "      <td>...</td>\n",
       "      <td>...</td>\n",
       "      <td>...</td>\n",
       "      <td>...</td>\n",
       "      <td>...</td>\n",
       "      <td>...</td>\n",
       "      <td>...</td>\n",
       "      <td>...</td>\n",
       "      <td>...</td>\n",
       "      <td>...</td>\n",
       "      <td>...</td>\n",
       "      <td>...</td>\n",
       "      <td>...</td>\n",
       "    </tr>\n",
       "    <tr>\n",
       "      <th>2467</th>\n",
       "      <td>2024-11-03</td>\n",
       "      <td>19</td>\n",
       "      <td>0.236</td>\n",
       "      <td>0.0</td>\n",
       "      <td>0.236</td>\n",
       "      <td>0.528</td>\n",
       "      <td>1.0</td>\n",
       "      <td>0.0</td>\n",
       "      <td>1.0</td>\n",
       "      <td>2.0</td>\n",
       "      <td>-0.144319</td>\n",
       "      <td>0.134704</td>\n",
       "      <td>normal</td>\n",
       "    </tr>\n",
       "    <tr>\n",
       "      <th>2468</th>\n",
       "      <td>2024-11-03</td>\n",
       "      <td>20</td>\n",
       "      <td>0.000</td>\n",
       "      <td>0.0</td>\n",
       "      <td>0.000</td>\n",
       "      <td>1.000</td>\n",
       "      <td>0.0</td>\n",
       "      <td>0.0</td>\n",
       "      <td>0.0</td>\n",
       "      <td>1.0</td>\n",
       "      <td>-0.272229</td>\n",
       "      <td>0.147219</td>\n",
       "      <td>normal</td>\n",
       "    </tr>\n",
       "    <tr>\n",
       "      <th>2469</th>\n",
       "      <td>2024-11-03</td>\n",
       "      <td>21</td>\n",
       "      <td>0.000</td>\n",
       "      <td>0.0</td>\n",
       "      <td>0.675</td>\n",
       "      <td>0.325</td>\n",
       "      <td>0.0</td>\n",
       "      <td>0.0</td>\n",
       "      <td>1.0</td>\n",
       "      <td>1.0</td>\n",
       "      <td>-0.266450</td>\n",
       "      <td>0.149409</td>\n",
       "      <td>normal</td>\n",
       "    </tr>\n",
       "    <tr>\n",
       "      <th>2470</th>\n",
       "      <td>2024-11-03</td>\n",
       "      <td>22</td>\n",
       "      <td>0.000</td>\n",
       "      <td>0.0</td>\n",
       "      <td>0.308</td>\n",
       "      <td>0.692</td>\n",
       "      <td>0.0</td>\n",
       "      <td>0.0</td>\n",
       "      <td>1.0</td>\n",
       "      <td>1.0</td>\n",
       "      <td>-0.269592</td>\n",
       "      <td>0.150447</td>\n",
       "      <td>normal</td>\n",
       "    </tr>\n",
       "    <tr>\n",
       "      <th>2471</th>\n",
       "      <td>2024-11-03</td>\n",
       "      <td>23</td>\n",
       "      <td>0.000</td>\n",
       "      <td>0.0</td>\n",
       "      <td>0.551</td>\n",
       "      <td>0.449</td>\n",
       "      <td>0.0</td>\n",
       "      <td>0.0</td>\n",
       "      <td>1.0</td>\n",
       "      <td>3.0</td>\n",
       "      <td>-0.267512</td>\n",
       "      <td>0.149865</td>\n",
       "      <td>normal</td>\n",
       "    </tr>\n",
       "  </tbody>\n",
       "</table>\n",
       "<p>2472 rows × 13 columns</p>\n",
       "</div>"
      ],
      "text/plain": [
       "           Fecha  Hora  period eating  period other  period resting  \\\n",
       "0     2024-07-02     0          1.000           0.0           0.000   \n",
       "1     2024-07-02     1          0.692           0.0           0.039   \n",
       "2     2024-07-02     2          0.000           0.0           0.403   \n",
       "3     2024-07-02     3          0.000           0.0           0.266   \n",
       "4     2024-07-02     4          0.118           0.0           0.436   \n",
       "...          ...   ...            ...           ...             ...   \n",
       "2467  2024-11-03    19          0.236           0.0           0.236   \n",
       "2468  2024-11-03    20          0.000           0.0           0.000   \n",
       "2469  2024-11-03    21          0.000           0.0           0.675   \n",
       "2470  2024-11-03    22          0.000           0.0           0.308   \n",
       "2471  2024-11-03    23          0.000           0.0           0.551   \n",
       "\n",
       "      period rumination  period eating_count  period other_count  \\\n",
       "0                 0.000                  1.0                 0.0   \n",
       "1                 0.269                  1.0                 0.0   \n",
       "2                 0.597                  0.0                 0.0   \n",
       "3                 0.734                  0.0                 0.0   \n",
       "4                 0.446                  1.0                 0.0   \n",
       "...                 ...                  ...                 ...   \n",
       "2467              0.528                  1.0                 0.0   \n",
       "2468              1.000                  0.0                 0.0   \n",
       "2469              0.325                  0.0                 0.0   \n",
       "2470              0.692                  0.0                 0.0   \n",
       "2471              0.449                  0.0                 0.0   \n",
       "\n",
       "      period resting_count  period rumination_count  nivel_actividad  \\\n",
       "0                      0.0                      0.0         0.261201   \n",
       "1                      1.0                      1.0         0.097238   \n",
       "2                      1.0                      1.0        -0.268779   \n",
       "3                      1.0                      1.0        -0.269952   \n",
       "4                      2.0                      1.0        -0.205552   \n",
       "...                    ...                      ...              ...   \n",
       "2467                   1.0                      2.0        -0.144319   \n",
       "2468                   0.0                      1.0        -0.272229   \n",
       "2469                   1.0                      1.0        -0.266450   \n",
       "2470                   1.0                      1.0        -0.269592   \n",
       "2471                   1.0                      3.0        -0.267512   \n",
       "\n",
       "      distancia nivel_estres  \n",
       "0      0.138593       normal  \n",
       "1      0.238522      peligro  \n",
       "2      0.295043      peligro  \n",
       "3      0.230329      peligro  \n",
       "4      0.132157       normal  \n",
       "...         ...          ...  \n",
       "2467   0.134704       normal  \n",
       "2468   0.147219       normal  \n",
       "2469   0.149409       normal  \n",
       "2470   0.150447       normal  \n",
       "2471   0.149865       normal  \n",
       "\n",
       "[2472 rows x 13 columns]"
      ]
     },
     "execution_count": 3,
     "metadata": {},
     "output_type": "execute_result"
    }
   ],
   "source": [
    "dp"
   ]
  },
  {
   "cell_type": "code",
   "execution_count": 4,
   "metadata": {},
   "outputs": [
    {
     "name": "stdout",
     "output_type": "stream",
     "text": [
      "nivel_estres\n",
      "normal     3342\n",
      "alerta      391\n",
      "peligro     179\n",
      "Name: count, dtype: int64\n",
      "nivel_estres\n",
      "normal     2114\n",
      "alerta      255\n",
      "peligro     103\n",
      "Name: count, dtype: int64\n"
     ]
    }
   ],
   "source": [
    "# Contamos las ocurrencias de cada nivel de estrés en la nueva columna\n",
    "conteo_nivel_estresde = de['nivel_estres'].value_counts()\n",
    "conteo_nivel_estresdp = dp['nivel_estres'].value_counts()\n",
    "print(conteo_nivel_estresde)\n",
    "print(conteo_nivel_estresdp)"
   ]
  },
  {
   "cell_type": "code",
   "execution_count": 5,
   "metadata": {},
   "outputs": [],
   "source": [
    "# Crear un diccionario para mapear cada categoría única en la columna 'nivel_estres' a un número\n",
    "mapping = {'normal': 0, 'alerta': 1, 'peligro': 2}\n",
    "\n",
    "# Mapear las categorías a números utilizando el método map de pandas\n",
    "de['nivel_estres'] = de['nivel_estres'].map(mapping)\n",
    "dp['nivel_estres'] = dp['nivel_estres'].map(mapping)"
   ]
  },
  {
   "cell_type": "markdown",
   "metadata": {
    "id": "3xPbACa9YGXs"
   },
   "source": [
    "# Aplicación de CNN"
   ]
  },
  {
   "cell_type": "code",
   "execution_count": 6,
   "metadata": {
    "id": "5GQhI-L2R5Cr"
   },
   "outputs": [],
   "source": [
    "# Separar características y etiquetas del conjunto de entrenamiento\n",
    "X_train = de[['period eating','period other','period resting','period rumination']]\n",
    "y_train = de['nivel_estres']\n",
    "# Separar características y etiquetas del conjunto de prueba\n",
    "X_test = dp[['period eating','period other','period resting','period rumination']]\n",
    "y_test = dp['nivel_estres']\n"
   ]
  },
  {
   "cell_type": "code",
   "execution_count": 7,
   "metadata": {},
   "outputs": [],
   "source": [
    "# Estandarizar las características\n",
    "scaler = StandardScaler()\n",
    "X_train_scaled = scaler.fit_transform(X_train)\n",
    "X_test_scaled = scaler.transform(X_test)"
   ]
  },
  {
   "cell_type": "code",
   "execution_count": 8,
   "metadata": {},
   "outputs": [],
   "source": [
    "# Expandir a 24 horas de datos para capturar ciclo diario\n",
    "timesteps = 36\n",
    "X_train_reshaped = np.array([X_train_scaled[i:i + timesteps] for i in range(len(X_train_scaled) - timesteps)])\n",
    "y_train = y_train[timesteps:]\n",
    "X_test_reshaped = np.array([X_test_scaled[i:i + timesteps] for i in range(len(X_test_scaled) - timesteps)])\n",
    "y_test = y_test[timesteps:]\n"
   ]
  },
  {
   "cell_type": "code",
   "execution_count": 9,
   "metadata": {},
   "outputs": [],
   "source": [
    "# Ajuste de pesos: Calcular pesos de clase para manejar el desbalance\n",
    "class_weights = compute_class_weight(class_weight='balanced', classes=np.unique(y_train), y=y_train)\n",
    "class_weights_dict = dict(enumerate(class_weights))"
   ]
  },
  {
   "cell_type": "code",
   "execution_count": 10,
   "metadata": {},
   "outputs": [],
   "source": [
    "# Convertir etiquetas a formato categórico\n",
    "y_train_categorical = to_categorical(y_train, num_classes=3)\n",
    "y_test_categorical = to_categorical(y_test, num_classes=3)"
   ]
  },
  {
   "cell_type": "code",
   "execution_count": 11,
   "metadata": {},
   "outputs": [
    {
     "name": "stderr",
     "output_type": "stream",
     "text": [
      "C:\\Users\\PC\\AppData\\Roaming\\Python\\Python311\\site-packages\\keras\\src\\layers\\convolutional\\base_conv.py:107: UserWarning: Do not pass an `input_shape`/`input_dim` argument to a layer. When using Sequential models, prefer using an `Input(shape)` object as the first layer in the model instead.\n",
      "  super().__init__(activity_regularizer=activity_regularizer, **kwargs)\n"
     ]
    },
    {
     "name": "stdout",
     "output_type": "stream",
     "text": [
      "Epoch 1/20\n",
      "\u001b[1m162/162\u001b[0m \u001b[32m━━━━━━━━━━━━━━━━━━━━\u001b[0m\u001b[37m\u001b[0m \u001b[1m4s\u001b[0m 14ms/step - AUC: 0.4976 - accuracy: 0.3411 - loss: 1.2207 - val_AUC: 0.2880 - val_accuracy: 0.2061 - val_loss: 1.1627\n",
      "Epoch 2/20\n",
      "\u001b[1m162/162\u001b[0m \u001b[32m━━━━━━━━━━━━━━━━━━━━\u001b[0m\u001b[37m\u001b[0m \u001b[1m1s\u001b[0m 5ms/step - AUC: 0.6112 - accuracy: 0.4676 - loss: 1.0850 - val_AUC: 0.6882 - val_accuracy: 0.4454 - val_loss: 1.0001\n",
      "Epoch 3/20\n",
      "\u001b[1m162/162\u001b[0m \u001b[32m━━━━━━━━━━━━━━━━━━━━\u001b[0m\u001b[37m\u001b[0m \u001b[1m1s\u001b[0m 7ms/step - AUC: 0.6533 - accuracy: 0.4561 - loss: 1.0554 - val_AUC: 0.6602 - val_accuracy: 0.4959 - val_loss: 1.0392\n",
      "Epoch 4/20\n",
      "\u001b[1m162/162\u001b[0m \u001b[32m━━━━━━━━━━━━━━━━━━━━\u001b[0m\u001b[37m\u001b[0m \u001b[1m2s\u001b[0m 11ms/step - AUC: 0.7396 - accuracy: 0.5653 - loss: 0.9287 - val_AUC: 0.5645 - val_accuracy: 0.4146 - val_loss: 1.1247\n",
      "Epoch 5/20\n",
      "\u001b[1m162/162\u001b[0m \u001b[32m━━━━━━━━━━━━━━━━━━━━\u001b[0m\u001b[37m\u001b[0m \u001b[1m1s\u001b[0m 6ms/step - AUC: 0.7456 - accuracy: 0.5678 - loss: 0.8839 - val_AUC: 0.6087 - val_accuracy: 0.4606 - val_loss: 1.1079\n",
      "Epoch 6/20\n",
      "\u001b[1m162/162\u001b[0m \u001b[32m━━━━━━━━━━━━━━━━━━━━\u001b[0m\u001b[37m\u001b[0m \u001b[1m1s\u001b[0m 9ms/step - AUC: 0.8063 - accuracy: 0.6443 - loss: 0.8278 - val_AUC: 0.7801 - val_accuracy: 0.5915 - val_loss: 0.8698\n",
      "Epoch 7/20\n",
      "\u001b[1m162/162\u001b[0m \u001b[32m━━━━━━━━━━━━━━━━━━━━\u001b[0m\u001b[37m\u001b[0m \u001b[1m1s\u001b[0m 6ms/step - AUC: 0.8056 - accuracy: 0.6228 - loss: 0.7601 - val_AUC: 0.7726 - val_accuracy: 0.6207 - val_loss: 0.9064\n",
      "Epoch 8/20\n",
      "\u001b[1m162/162\u001b[0m \u001b[32m━━━━━━━━━━━━━━━━━━━━\u001b[0m\u001b[37m\u001b[0m \u001b[1m1s\u001b[0m 8ms/step - AUC: 0.8538 - accuracy: 0.6814 - loss: 0.7028 - val_AUC: 0.8410 - val_accuracy: 0.6778 - val_loss: 0.7787\n",
      "Epoch 9/20\n",
      "\u001b[1m162/162\u001b[0m \u001b[32m━━━━━━━━━━━━━━━━━━━━\u001b[0m\u001b[37m\u001b[0m \u001b[1m1s\u001b[0m 6ms/step - AUC: 0.8731 - accuracy: 0.7074 - loss: 0.6196 - val_AUC: 0.7917 - val_accuracy: 0.6301 - val_loss: 0.8688\n",
      "Epoch 10/20\n",
      "\u001b[1m162/162\u001b[0m \u001b[32m━━━━━━━━━━━━━━━━━━━━\u001b[0m\u001b[37m\u001b[0m \u001b[1m1s\u001b[0m 8ms/step - AUC: 0.9013 - accuracy: 0.7527 - loss: 0.5355 - val_AUC: 0.8401 - val_accuracy: 0.6897 - val_loss: 0.7838\n",
      "Epoch 11/20\n",
      "\u001b[1m162/162\u001b[0m \u001b[32m━━━━━━━━━━━━━━━━━━━━\u001b[0m\u001b[37m\u001b[0m \u001b[1m1s\u001b[0m 8ms/step - AUC: 0.9104 - accuracy: 0.7613 - loss: 0.4958 - val_AUC: 0.8220 - val_accuracy: 0.6355 - val_loss: 0.8295\n",
      "Epoch 12/20\n",
      "\u001b[1m162/162\u001b[0m \u001b[32m━━━━━━━━━━━━━━━━━━━━\u001b[0m\u001b[37m\u001b[0m \u001b[1m1s\u001b[0m 8ms/step - AUC: 0.9130 - accuracy: 0.7624 - loss: 0.4480 - val_AUC: 0.8737 - val_accuracy: 0.7274 - val_loss: 0.7294\n",
      "Epoch 13/20\n",
      "\u001b[1m162/162\u001b[0m \u001b[32m━━━━━━━━━━━━━━━━━━━━\u001b[0m\u001b[37m\u001b[0m \u001b[1m2s\u001b[0m 9ms/step - AUC: 0.9366 - accuracy: 0.8008 - loss: 0.3890 - val_AUC: 0.8178 - val_accuracy: 0.6408 - val_loss: 0.8729\n",
      "Epoch 14/20\n",
      "\u001b[1m162/162\u001b[0m \u001b[32m━━━━━━━━━━━━━━━━━━━━\u001b[0m\u001b[37m\u001b[0m \u001b[1m2s\u001b[0m 12ms/step - AUC: 0.9463 - accuracy: 0.8225 - loss: 0.3324 - val_AUC: 0.8597 - val_accuracy: 0.7094 - val_loss: 0.8176\n",
      "Epoch 15/20\n",
      "\u001b[1m162/162\u001b[0m \u001b[32m━━━━━━━━━━━━━━━━━━━━\u001b[0m\u001b[37m\u001b[0m \u001b[1m1s\u001b[0m 7ms/step - AUC: 0.9558 - accuracy: 0.8399 - loss: 0.3084 - val_AUC: 0.8600 - val_accuracy: 0.7077 - val_loss: 0.8245\n",
      "Epoch 16/20\n",
      "\u001b[1m162/162\u001b[0m \u001b[32m━━━━━━━━━━━━━━━━━━━━\u001b[0m\u001b[37m\u001b[0m \u001b[1m1s\u001b[0m 7ms/step - AUC: 0.9715 - accuracy: 0.8745 - loss: 0.2407 - val_AUC: 0.8531 - val_accuracy: 0.7094 - val_loss: 0.8587\n",
      "Epoch 17/20\n",
      "\u001b[1m162/162\u001b[0m \u001b[32m━━━━━━━━━━━━━━━━━━━━\u001b[0m\u001b[37m\u001b[0m \u001b[1m2s\u001b[0m 9ms/step - AUC: 0.9584 - accuracy: 0.8463 - loss: 0.2656 - val_AUC: 0.8231 - val_accuracy: 0.6474 - val_loss: 0.9527\n",
      "Epoch 18/20\n",
      "\u001b[1m162/162\u001b[0m \u001b[32m━━━━━━━━━━━━━━━━━━━━\u001b[0m\u001b[37m\u001b[0m \u001b[1m2s\u001b[0m 11ms/step - AUC: 0.9677 - accuracy: 0.8600 - loss: 0.2344 - val_AUC: 0.8883 - val_accuracy: 0.7878 - val_loss: 0.8498\n",
      "Epoch 19/20\n",
      "\u001b[1m162/162\u001b[0m \u001b[32m━━━━━━━━━━━━━━━━━━━━\u001b[0m\u001b[37m\u001b[0m \u001b[1m1s\u001b[0m 7ms/step - AUC: 0.9775 - accuracy: 0.8893 - loss: 0.1997 - val_AUC: 0.8579 - val_accuracy: 0.6983 - val_loss: 0.9169\n",
      "Epoch 20/20\n",
      "\u001b[1m162/162\u001b[0m \u001b[32m━━━━━━━━━━━━━━━━━━━━\u001b[0m\u001b[37m\u001b[0m \u001b[1m2s\u001b[0m 9ms/step - AUC: 0.9842 - accuracy: 0.9117 - loss: 0.1607 - val_AUC: 0.8514 - val_accuracy: 0.6929 - val_loss: 0.9608\n"
     ]
    }
   ],
   "source": [
    "# Definir la arquitectura del modelo CNN\n",
    "model = tf.keras.models.Sequential([\n",
    "    tf.keras.layers.Conv1D(36, 6, activation='relu', input_shape=(timesteps, X_train_scaled.shape[1])),\n",
    "    tf.keras.layers.MaxPooling1D(2),\n",
    "    tf.keras.layers.Flatten(),\n",
    "    tf.keras.layers.Dense(36, activation='relu'),\n",
    "    tf.keras.layers.Dense(3, activation='softmax')  # 3 neuronas para los 3 niveles de estrés\n",
    "])\n",
    "\n",
    "# Compilar el modelo\n",
    "model.compile(optimizer='adam', loss='categorical_crossentropy', metrics=['accuracy', 'AUC'])\n",
    "\n",
    "# Entrenar el modelo\n",
    "history = model.fit(X_train_reshaped, y_train_categorical, epochs=20, batch_size=24,\n",
    "                    validation_data=(X_test_reshaped, y_test_categorical), class_weight=class_weights_dict)\n",
    "\n"
   ]
  },
  {
   "cell_type": "code",
   "execution_count": 12,
   "metadata": {},
   "outputs": [
    {
     "name": "stdout",
     "output_type": "stream",
     "text": [
      "\u001b[1m77/77\u001b[0m \u001b[32m━━━━━━━━━━━━━━━━━━━━\u001b[0m\u001b[37m\u001b[0m \u001b[1m1s\u001b[0m 5ms/step\n",
      "{0: 2088, 1: 249, 2: 99}\n",
      "{0: 1922, 1: 423, 2: 91}\n"
     ]
    }
   ],
   "source": [
    "# Predecir las clases del conjunto de prueba\n",
    "y_pred = model.predict(X_test_reshaped)\n",
    "y_pred = np.argmax(y_pred, axis=1)\n",
    "\n",
    "# Contamos las ocurrencias de cada nivel de estrés en y_test y y_pred\n",
    "valores_unicos, conteos = np.unique(y_test, return_counts=True)\n",
    "valores_unicos1, conteos1 = np.unique(y_pred, return_counts=True)\n",
    "ocurrencias = dict(zip(valores_unicos, conteos))\n",
    "ocurrenciaspre = dict(zip(valores_unicos1, conteos1))\n",
    "\n",
    "# Mostramos el resultado\n",
    "print(ocurrencias)\n",
    "print(ocurrenciaspre)"
   ]
  },
  {
   "cell_type": "markdown",
   "metadata": {
    "id": "PByAddAg6WK6"
   },
   "source": [
    "# Evaluación"
   ]
  },
  {
   "cell_type": "code",
   "execution_count": 13,
   "metadata": {
    "colab": {
     "base_uri": "https://localhost:8080/"
    },
    "id": "D70N8RD2SZBK",
    "outputId": "aa7d32a9-a277-440e-945b-acafe16480b3"
   },
   "outputs": [
    {
     "name": "stdout",
     "output_type": "stream",
     "text": [
      "Accuracy: 0.6929392446633826\n",
      "Precision: 0.7444115511034054\n",
      "Recall: 0.6929392446633826\n",
      "F1 Score: 0.7165703595876846\n",
      "ROC AUC: 0.49399456403714065\n"
     ]
    }
   ],
   "source": [
    "from sklearn.preprocessing import label_binarize\n",
    "\n",
    "# Calcular las métricas de evaluación\n",
    "accuracy = accuracy_score(y_test, y_pred)\n",
    "precision = precision_score(y_test, y_pred, average='weighted')\n",
    "recall = recall_score(y_test, y_pred, average='weighted')\n",
    "f1 = f1_score(y_test, y_pred, average='weighted')\n",
    "\n",
    "y_pred= label_binarize(y_pred, classes=[0, 1, 2])\n",
    "\n",
    "# Calcular el AUC\n",
    "roc_auc = roc_auc_score(y_test, y_pred, multi_class='ovr')\n",
    "\n",
    "# Mostrar métricas\n",
    "print(\"Accuracy:\", accuracy)\n",
    "print(\"Precision:\", precision)\n",
    "print(\"Recall:\", recall)\n",
    "print(\"F1 Score:\", f1)\n",
    "print(\"ROC AUC:\", roc_auc)"
   ]
  },
  {
   "cell_type": "code",
   "execution_count": 14,
   "metadata": {
    "colab": {
     "base_uri": "https://localhost:8080/",
     "height": 581
    },
    "id": "6FG0drBiiOBp",
    "outputId": "036f4ace-de01-4510-9929-48a0f50690ad"
   },
   "outputs": [
    {
     "data": {
      "image/png": "[encoded data removed]",
      "text/plain": [
       "<Figure size 800x600 with 1 Axes>"
      ]
     },
     "metadata": {},
     "output_type": "display_data"
    },
    {
     "name": "stdout",
     "output_type": "stream",
     "text": [
      "AUC per class: {0: 0.4959291187739463, 1: 0.49499506944100136, 2: 0.49105950389647435}\n"
     ]
    }
   ],
   "source": [
    "# Calcular la curva ROC y el AUC\n",
    "fpr = dict()\n",
    "tpr = dict()\n",
    "roc_auc = dict()\n",
    "for i in range(len(np.unique(y_test))):\n",
    "    fpr[i], tpr[i], _ = roc_curve(y_test == i, y_pred[:, i])\n",
    "    roc_auc[i] = auc(fpr[i], tpr[i])\n",
    "\n",
    "# Extraer los valores\n",
    "values = roc_auc.values()\n",
    "# Calcular la media\n",
    "mean_auc = sum(values) / len(values)\n",
    "\n",
    "# Graficar la curva ROC\n",
    "plt.figure(figsize=(8, 6))\n",
    "for i in range(len(np.unique(y_test))):\n",
    "    plt.plot(fpr[i], tpr[i], lw=2, label=f'Class {i} (AUC = {roc_auc[i]:.2f})')\n",
    "plt.plot([0, 1], [0, 1], 'b--', label=f\"Mean AUC = {mean_auc:.2f}\", alpha=0.5)\n",
    "plt.xlim([0.0, 1.0])\n",
    "plt.ylim([0.0, 1.05])\n",
    "plt.xlabel('False Positive Rate')\n",
    "plt.ylabel('True Positive Rate')\n",
    "plt.title('Receiver Operating Characteristic (ROC) Curve')\n",
    "plt.legend(loc=\"lower right\")\n",
    "#plt.savefig(f'../Curva_Roc/{nombre_csv}_roc_cnn.png', format='png', dpi=300)\n",
    "plt.show()\n",
    "print(\"AUC per class:\", roc_auc)\n"
   ]
  }
 ],
 "metadata": {
  "colab": {
   "collapsed_sections": [
    "jjbkZpfGXyuN"
   ],
   "provenance": []
  },
  "kernelspec": {
   "display_name": "Python 3",
   "name": "python3"
  },
  "language_info": {
   "codemirror_mode": {
    "name": "ipython",
    "version": 3
   },
   "file_extension": ".py",
   "mimetype": "text/x-python",
   "name": "python",
   "nbconvert_exporter": "python",
   "pygments_lexer": "ipython3",
   "version": "3.11.0"
  }
 },
 "nbformat": 4,
 "nbformat_minor": 0
}
