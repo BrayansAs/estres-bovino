{
 "cells": [
  {
   "cell_type": "code",
   "execution_count": 1,
   "metadata": {},
   "outputs": [],
   "source": [
    "import pandas as pd\n",
    "\n",
    "# Supongamos que 'file.xlsx' es el nombre de tu archivo de Excel\n",
    "file_path = 'Data1.xlsx'\n",
    "\n",
    "# Crea un diccionario vacío para almacenar los DataFrames\n",
    "dataframes = {}\n",
    "\n",
    "# Lee cada hoja del archivo de Excel y la convierte en un DataFrame\n",
    "for sheet_name in pd.ExcelFile(file_path).sheet_names[:10]:\n",
    "    df = pd.read_excel(file_path, sheet_name=sheet_name)\n",
    "    dataframes[sheet_name] = df\n",
    "\n",
    "# Ahora puedes acceder a cada DataFrame por su nombre de hoja\n",
    "# Por ejemplo, para acceder al DataFrame de la primera hoja:"
   ]
  },
  {
   "cell_type": "code",
   "execution_count": 7,
   "metadata": {},
   "outputs": [
    {
     "name": "stdout",
     "output_type": "stream",
     "text": [
      "          Fecha              Class  Ancho       H.N                      H\n",
      "0    2024-01-01     period resting      3  0.118033 0 days 00:07:04.918000\n",
      "1    2024-01-01  period rumination      1  0.039344 0 days 00:02:21.639000\n",
      "2    2024-01-01     period resting      1  0.039344 0 days 00:02:21.639000\n",
      "3    2024-01-01  period rumination     12  0.472131 0 days 00:28:19.672000\n",
      "4    2024-01-01     period resting      1  0.039344 0 days 00:02:21.639000\n",
      "...         ...                ...    ...       ...                    ...\n",
      "8376 2024-06-30      period eating    108  4.249180 0 days 04:14:57.049000\n",
      "8377 2024-06-30  period rumination     28  1.101639 0 days 01:06:05.902000\n",
      "8378 2024-06-30     period resting     14  0.550820 0 days 00:33:02.951000\n",
      "8379 2024-06-30  period rumination     15  0.590164 0 days 00:35:24.590000\n",
      "8380 2024-06-30      period eating     36  1.416393 0 days 01:24:59.016000\n",
      "\n",
      "[8094 rows x 5 columns]\n"
     ]
    }
   ],
   "source": [
    "\n",
    "print(dataframes[pd.ExcelFile(file_path).sheet_names[0]])\n"
   ]
  },
  {
   "cell_type": "code",
   "execution_count": 3,
   "metadata": {},
   "outputs": [],
   "source": [
    "# Itera sobre la lista de DataFrames\n",
    "for sheet_name in dataframes:\n",
    "    # Accede al DataFrame correspondiente\n",
    "    df = dataframes[sheet_name]\n",
    "    #elimina columnas\n",
    "    df.drop(columns=['x1', 'x2', 'H/Pix', 'S.H'], inplace=True)\n",
    "    # Borra las filas con ancho 0\n",
    "    df.drop(df.query('Ancho == 0').index, inplace=True)\n",
    "    # Convierte la columna 'H' en un formato timedelta\n",
    "    df['H'] = pd.to_timedelta(df['H'].astype(str))\n"
   ]
  },
  {
   "cell_type": "code",
   "execution_count": 4,
   "metadata": {},
   "outputs": [],
   "source": [
    "# Itera sobre la lista de DataFrames\n",
    "for sheet_name in dataframes:\n",
    "    # Accede al DataFrame correspondiente\n",
    "    df = dataframes[sheet_name]\n",
    "    # Agregar las columnas \"desde\" y \"hasta\"\n",
    "    df[\"Desde\"] = ''\n",
    "    df[\"Hasta\"] = ''\n",
    "\n",
    "    # Calcular las columnas \"desde\" y \"hasta\"\n",
    "    for i in range(len(df)):\n",
    "        if i == 0:\n",
    "            df.at[i, \"Desde\"] = pd.to_timedelta('00:00:00')\n",
    "        else:\n",
    "            start = df.at[i-1, \"Hasta\"]\n",
    "            df.at[i, \"Desde\"] = start\n",
    "\n",
    "        end = df.at[i, \"H\"] + df.at[i, \"Desde\"]\n",
    "        df.at[i, \"Hasta\"] = end\n",
    "\n",
    "   "
   ]
  },
  {
   "cell_type": "code",
   "execution_count": 5,
   "metadata": {},
   "outputs": [
    {
     "name": "stdout",
     "output_type": "stream",
     "text": [
      "8372\n"
     ]
    }
   ],
   "source": [
    "print (len(dataframes['1-Cris']))"
   ]
  },
  {
   "cell_type": "code",
   "execution_count": 12,
   "metadata": {},
   "outputs": [
    {
     "name": "stdout",
     "output_type": "stream",
     "text": [
      "          Fecha              Class  Ancho       H.N                      H\n",
      "0    2024-01-01     period resting      3  0.118033 0 days 00:07:04.918000\n",
      "1    2024-01-01  period rumination      1  0.039344 0 days 00:02:21.639000\n",
      "2    2024-01-01     period resting      1  0.039344 0 days 00:02:21.639000\n",
      "3    2024-01-01  period rumination     12  0.472131 0 days 00:28:19.672000\n",
      "4    2024-01-01     period resting      1  0.039344 0 days 00:02:21.639000\n",
      "...         ...                ...    ...       ...                    ...\n",
      "8376 2024-06-30      period eating    108  4.249180 0 days 04:14:57.049000\n",
      "8377 2024-06-30  period rumination     28  1.101639 0 days 01:06:05.902000\n",
      "8378 2024-06-30     period resting     14  0.550820 0 days 00:33:02.951000\n",
      "8379 2024-06-30  period rumination     15  0.590164 0 days 00:35:24.590000\n",
      "8380 2024-06-30      period eating     36  1.416393 0 days 01:24:59.016000\n",
      "\n",
      "[8094 rows x 5 columns]\n"
     ]
    }
   ],
   "source": [
    "\n",
    "print(dataframes['1-Cris'])\n"
   ]
  },
  {
   "cell_type": "code",
   "execution_count": 13,
   "metadata": {},
   "outputs": [],
   "source": [
    "dataframes['1-Cris'].to_csv(f'1.csv', index=False)"
   ]
  }
 ],
 "metadata": {
  "kernelspec": {
   "display_name": "Python 3",
   "language": "python",
   "name": "python3"
  },
  "language_info": {
   "codemirror_mode": {
    "name": "ipython",
    "version": 3
   },
   "file_extension": ".py",
   "mimetype": "text/x-python",
   "name": "python",
   "nbconvert_exporter": "python",
   "pygments_lexer": "ipython3",
   "version": "3.11.0"
  }
 },
 "nbformat": 4,
 "nbformat_minor": 2
}
