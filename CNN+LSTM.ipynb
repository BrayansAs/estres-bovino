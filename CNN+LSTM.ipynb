{
 "cells": [
  {
   "cell_type": "markdown",
   "metadata": {
    "id": "VaDJ6NbM4R4c"
   },
   "source": [
    "## Algoritmo LSTM"
   ]
  },
  {
   "cell_type": "code",
   "execution_count": 1,
   "metadata": {
    "id": "s_sVYocgwqjC"
   },
   "outputs": [],
   "source": [
    "# Importar las bibliotecas necesarias\n",
    "import pandas as pd\n",
    "import numpy as np\n",
    "import matplotlib.pyplot as plt\n",
    "from sklearn.metrics import accuracy_score, precision_score, recall_score, f1_score, roc_auc_score,roc_auc_score, roc_curve, auc\n",
    "from sklearn.preprocessing import StandardScaler\n",
    "from tensorflow.keras.models import Sequential\n",
    "from tensorflow.keras.layers import LSTM, Dense\n",
    "from tensorflow.keras.utils import to_categorical\n",
    "from sklearn.utils.class_weight import compute_class_weight\n",
    "from tensorflow.keras.layers import Conv1D, MaxPooling1D, LSTM, Dense, Flatten\n"
   ]
  },
  {
   "cell_type": "code",
   "execution_count": 2,
   "metadata": {
    "collapsed": true,
    "id": "g8WDDqQaxRx4"
   },
   "outputs": [],
   "source": [
    "nombre_csv = 1\n",
    "de = pd.read_csv(f'Datos_entrenamiento2/{nombre_csv}_e.csv')\n",
    "dp = pd.read_csv(f'Datos_prueba2/{nombre_csv}_p.csv')"
   ]
  },
  {
   "cell_type": "markdown",
   "metadata": {},
   "source": [
    "# Procesamiento"
   ]
  },
  {
   "cell_type": "code",
   "execution_count": 3,
   "metadata": {
    "id": "tNzDx458xTz5"
   },
   "outputs": [
    {
     "name": "stdout",
     "output_type": "stream",
     "text": [
      "nivel_estres\n",
      "normal     3342\n",
      "alerta      391\n",
      "peligro     179\n",
      "Name: count, dtype: int64\n",
      "nivel_estres\n",
      "normal     2114\n",
      "alerta      255\n",
      "peligro     103\n",
      "Name: count, dtype: int64\n"
     ]
    }
   ],
   "source": [
    "# Contamos las ocurrencias de cada nivel de estrés en la nueva columna\n",
    "conteo_nivel_estresde = de['nivel_estres'].value_counts()\n",
    "conteo_nivel_estresdp = dp['nivel_estres'].value_counts()\n",
    "# Mostramos el resultado\n",
    "print(conteo_nivel_estresde)\n",
    "print(conteo_nivel_estresdp)"
   ]
  },
  {
   "cell_type": "code",
   "execution_count": 4,
   "metadata": {
    "id": "Xl9IHQwfxX6R"
   },
   "outputs": [],
   "source": [
    "# Crear un diccionario para mapear cada categoría única en la columna 'nivel_estres' a un número\n",
    "mapping = {'normal': 0, 'alerta': 1, 'peligro': 2}\n",
    "# Mapear las categorías a números utilizando el método map de pandas\n",
    "de['nivel_estres'] = de['nivel_estres'].map(mapping)\n",
    "dp['nivel_estres'] = dp['nivel_estres'].map(mapping)\n"
   ]
  },
  {
   "cell_type": "markdown",
   "metadata": {
    "id": "TVUnOhfZ1Ntc"
   },
   "source": [
    "# ALGORITMO DE CNN+LSTM"
   ]
  },
  {
   "cell_type": "code",
   "execution_count": 5,
   "metadata": {
    "id": "Lvzb3Kfcxe5h"
   },
   "outputs": [],
   "source": [
    "# Separar características y etiquetas del conjunto de entrenamiento\n",
    "X_train = de[['period eating','period other','period resting','period rumination']]\n",
    "y_train = de['nivel_estres']\n",
    "# Separar características y etiquetas del conjunto de prueba\n",
    "X_test = dp[['period eating','period other','period resting','period rumination']]\n",
    "y_test = dp['nivel_estres']"
   ]
  },
  {
   "cell_type": "code",
   "execution_count": 6,
   "metadata": {
    "id": "juQN7hSuxhmY"
   },
   "outputs": [],
   "source": [
    "# Estandarizar las características\n",
    "scaler = StandardScaler()\n",
    "X_train_scaled = scaler.fit_transform(X_train)\n",
    "X_test_scaled = scaler.transform(X_test)"
   ]
  },
  {
   "cell_type": "code",
   "execution_count": 7,
   "metadata": {
    "id": "y48rGM_0xlNZ"
   },
   "outputs": [],
   "source": [
    "#Expandir a 24 horas de datos para capturar ciclo diario\n",
    "timesteps = 24\n",
    "X_train_reshaped = np.array([X_train_scaled[i:i + timesteps] for i in range(len(X_train_scaled) - timesteps)])\n",
    "y_train = y_train[timesteps:]\n",
    "X_test_reshaped = np.array([X_test_scaled[i:i + timesteps] for i in range(len(X_test_scaled) - timesteps)])\n",
    "y_test = y_test[timesteps:]"
   ]
  },
  {
   "cell_type": "code",
   "execution_count": 8,
   "metadata": {},
   "outputs": [],
   "source": [
    "#Ajuste de pesos: Calcular pesos de clase para manejar el desbalance\n",
    "class_weights = compute_class_weight(class_weight='balanced', classes=np.unique(y_train), y=y_train)\n",
    "#class_weights_dict = {i: weight for i, weight in enumerate(class_weights)}\n",
    "class_weights_dict = dict(enumerate(class_weights))"
   ]
  },
  {
   "cell_type": "code",
   "execution_count": 9,
   "metadata": {},
   "outputs": [],
   "source": [
    "# Convertir etiquetas a formato categórico\n",
    "y_train_categorical = to_categorical(y_train, num_classes=3)\n",
    "y_test_categorical = to_categorical(y_test, num_classes=3)"
   ]
  },
  {
   "cell_type": "code",
   "execution_count": 10,
   "metadata": {
    "id": "weTv5z_TxnD4"
   },
   "outputs": [
    {
     "name": "stderr",
     "output_type": "stream",
     "text": [
      "C:\\Users\\PC\\AppData\\Roaming\\Python\\Python311\\site-packages\\keras\\src\\layers\\convolutional\\base_conv.py:107: UserWarning: Do not pass an `input_shape`/`input_dim` argument to a layer. When using Sequential models, prefer using an `Input(shape)` object as the first layer in the model instead.\n",
      "  super().__init__(activity_regularizer=activity_regularizer, **kwargs)\n"
     ]
    },
    {
     "name": "stdout",
     "output_type": "stream",
     "text": [
      "Epoch 1/100\n",
      "\u001b[1m108/108\u001b[0m \u001b[32m━━━━━━━━━━━━━━━━━━━━\u001b[0m\u001b[37m\u001b[0m \u001b[1m7s\u001b[0m 33ms/step - AUC: 0.4236 - accuracy: 0.2144 - loss: 1.1303 - val_AUC: 0.7658 - val_accuracy: 0.7353 - val_loss: 1.0693\n",
      "Epoch 2/100\n",
      "\u001b[1m108/108\u001b[0m \u001b[32m━━━━━━━━━━━━━━━━━━━━\u001b[0m\u001b[37m\u001b[0m \u001b[1m3s\u001b[0m 27ms/step - AUC: 0.7210 - accuracy: 0.6563 - loss: 1.0849 - val_AUC: 0.8712 - val_accuracy: 0.8068 - val_loss: 1.0696\n",
      "Epoch 3/100\n",
      "\u001b[1m108/108\u001b[0m \u001b[32m━━━━━━━━━━━━━━━━━━━━\u001b[0m\u001b[37m\u001b[0m \u001b[1m3s\u001b[0m 31ms/step - AUC: 0.4273 - accuracy: 0.3659 - loss: 1.1371 - val_AUC: 0.8786 - val_accuracy: 0.7998 - val_loss: 0.9904\n",
      "Epoch 4/100\n",
      "\u001b[1m108/108\u001b[0m \u001b[32m━━━━━━━━━━━━━━━━━━━━\u001b[0m\u001b[37m\u001b[0m \u001b[1m6s\u001b[0m 58ms/step - AUC: 0.6221 - accuracy: 0.5315 - loss: 1.0566 - val_AUC: 0.8947 - val_accuracy: 0.8264 - val_loss: 0.9829\n",
      "Epoch 5/100\n",
      "\u001b[1m108/108\u001b[0m \u001b[32m━━━━━━━━━━━━━━━━━━━━\u001b[0m\u001b[37m\u001b[0m \u001b[1m4s\u001b[0m 34ms/step - AUC: 0.6934 - accuracy: 0.6129 - loss: 1.0535 - val_AUC: 0.5764 - val_accuracy: 0.3321 - val_loss: 1.0753\n",
      "Epoch 6/100\n",
      "\u001b[1m108/108\u001b[0m \u001b[32m━━━━━━━━━━━━━━━━━━━━\u001b[0m\u001b[37m\u001b[0m \u001b[1m5s\u001b[0m 45ms/step - AUC: 0.6006 - accuracy: 0.4752 - loss: 1.0346 - val_AUC: 0.9030 - val_accuracy: 0.8444 - val_loss: 0.8944\n",
      "Epoch 7/100\n",
      "\u001b[1m108/108\u001b[0m \u001b[32m━━━━━━━━━━━━━━━━━━━━\u001b[0m\u001b[37m\u001b[0m \u001b[1m4s\u001b[0m 34ms/step - AUC: 0.6783 - accuracy: 0.5864 - loss: 1.0740 - val_AUC: 0.8600 - val_accuracy: 0.7631 - val_loss: 0.9281\n",
      "Epoch 8/100\n",
      "\u001b[1m108/108\u001b[0m \u001b[32m━━━━━━━━━━━━━━━━━━━━\u001b[0m\u001b[37m\u001b[0m \u001b[1m3s\u001b[0m 26ms/step - AUC: 0.7400 - accuracy: 0.6351 - loss: 1.0094 - val_AUC: 0.8981 - val_accuracy: 0.8309 - val_loss: 0.8342\n",
      "Epoch 9/100\n",
      "\u001b[1m108/108\u001b[0m \u001b[32m━━━━━━━━━━━━━━━━━━━━\u001b[0m\u001b[37m\u001b[0m \u001b[1m3s\u001b[0m 27ms/step - AUC: 0.7992 - accuracy: 0.7117 - loss: 0.9723 - val_AUC: 0.8858 - val_accuracy: 0.7888 - val_loss: 0.7358\n",
      "Epoch 10/100\n",
      "\u001b[1m108/108\u001b[0m \u001b[32m━━━━━━━━━━━━━━━━━━━━\u001b[0m\u001b[37m\u001b[0m \u001b[1m3s\u001b[0m 30ms/step - AUC: 0.7601 - accuracy: 0.6201 - loss: 0.9560 - val_AUC: 0.8523 - val_accuracy: 0.7480 - val_loss: 0.8533\n",
      "Epoch 11/100\n",
      "\u001b[1m108/108\u001b[0m \u001b[32m━━━━━━━━━━━━━━━━━━━━\u001b[0m\u001b[37m\u001b[0m \u001b[1m4s\u001b[0m 34ms/step - AUC: 0.7944 - accuracy: 0.6821 - loss: 0.9102 - val_AUC: 0.5392 - val_accuracy: 0.3807 - val_loss: 1.1615\n",
      "Epoch 12/100\n",
      "\u001b[1m108/108\u001b[0m \u001b[32m━━━━━━━━━━━━━━━━━━━━\u001b[0m\u001b[37m\u001b[0m \u001b[1m5s\u001b[0m 46ms/step - AUC: 0.7577 - accuracy: 0.6200 - loss: 0.9524 - val_AUC: 0.8716 - val_accuracy: 0.8043 - val_loss: 0.8703\n",
      "Epoch 13/100\n",
      "\u001b[1m108/108\u001b[0m \u001b[32m━━━━━━━━━━━━━━━━━━━━\u001b[0m\u001b[37m\u001b[0m \u001b[1m4s\u001b[0m 37ms/step - AUC: 0.8264 - accuracy: 0.7315 - loss: 0.8883 - val_AUC: 0.7259 - val_accuracy: 0.6324 - val_loss: 0.9815\n",
      "Epoch 14/100\n",
      "\u001b[1m108/108\u001b[0m \u001b[32m━━━━━━━━━━━━━━━━━━━━\u001b[0m\u001b[37m\u001b[0m \u001b[1m4s\u001b[0m 39ms/step - AUC: 0.8396 - accuracy: 0.7355 - loss: 0.8589 - val_AUC: 0.8299 - val_accuracy: 0.7267 - val_loss: 0.8322\n",
      "Epoch 15/100\n",
      "\u001b[1m108/108\u001b[0m \u001b[32m━━━━━━━━━━━━━━━━━━━━\u001b[0m\u001b[37m\u001b[0m \u001b[1m4s\u001b[0m 41ms/step - AUC: 0.8189 - accuracy: 0.6950 - loss: 0.8367 - val_AUC: 0.7402 - val_accuracy: 0.6107 - val_loss: 0.9633\n",
      "Epoch 16/100\n",
      "\u001b[1m108/108\u001b[0m \u001b[32m━━━━━━━━━━━━━━━━━━━━\u001b[0m\u001b[37m\u001b[0m \u001b[1m4s\u001b[0m 35ms/step - AUC: 0.8274 - accuracy: 0.7022 - loss: 0.7937 - val_AUC: 0.6179 - val_accuracy: 0.5074 - val_loss: 1.2380\n",
      "Epoch 17/100\n",
      "\u001b[1m108/108\u001b[0m \u001b[32m━━━━━━━━━━━━━━━━━━━━\u001b[0m\u001b[37m\u001b[0m \u001b[1m4s\u001b[0m 36ms/step - AUC: 0.8268 - accuracy: 0.6947 - loss: 0.8243 - val_AUC: 0.6744 - val_accuracy: 0.5139 - val_loss: 1.1066\n",
      "Epoch 18/100\n",
      "\u001b[1m108/108\u001b[0m \u001b[32m━━━━━━━━━━━━━━━━━━━━\u001b[0m\u001b[37m\u001b[0m \u001b[1m4s\u001b[0m 35ms/step - AUC: 0.8535 - accuracy: 0.7280 - loss: 0.8079 - val_AUC: 0.8830 - val_accuracy: 0.7864 - val_loss: 0.8163\n",
      "Epoch 19/100\n",
      "\u001b[1m108/108\u001b[0m \u001b[32m━━━━━━━━━━━━━━━━━━━━\u001b[0m\u001b[37m\u001b[0m \u001b[1m3s\u001b[0m 32ms/step - AUC: 0.8292 - accuracy: 0.6565 - loss: 0.7455 - val_AUC: 0.8885 - val_accuracy: 0.8190 - val_loss: 0.8179\n",
      "Epoch 20/100\n",
      "\u001b[1m108/108\u001b[0m \u001b[32m━━━━━━━━━━━━━━━━━━━━\u001b[0m\u001b[37m\u001b[0m \u001b[1m3s\u001b[0m 32ms/step - AUC: 0.8587 - accuracy: 0.7299 - loss: 0.6712 - val_AUC: 0.8989 - val_accuracy: 0.8325 - val_loss: 0.7033\n",
      "Epoch 21/100\n",
      "\u001b[1m108/108\u001b[0m \u001b[32m━━━━━━━━━━━━━━━━━━━━\u001b[0m\u001b[37m\u001b[0m \u001b[1m4s\u001b[0m 32ms/step - AUC: 0.8626 - accuracy: 0.7099 - loss: 0.7244 - val_AUC: 0.5953 - val_accuracy: 0.4645 - val_loss: 1.2002\n",
      "Epoch 22/100\n",
      "\u001b[1m108/108\u001b[0m \u001b[32m━━━━━━━━━━━━━━━━━━━━\u001b[0m\u001b[37m\u001b[0m \u001b[1m4s\u001b[0m 33ms/step - AUC: 0.8422 - accuracy: 0.7126 - loss: 0.7135 - val_AUC: 0.8575 - val_accuracy: 0.7610 - val_loss: 0.8038\n",
      "Epoch 23/100\n",
      "\u001b[1m108/108\u001b[0m \u001b[32m━━━━━━━━━━━━━━━━━━━━\u001b[0m\u001b[37m\u001b[0m \u001b[1m4s\u001b[0m 38ms/step - AUC: 0.8641 - accuracy: 0.7289 - loss: 0.6806 - val_AUC: 0.7541 - val_accuracy: 0.5768 - val_loss: 1.0158\n",
      "Epoch 24/100\n",
      "\u001b[1m108/108\u001b[0m \u001b[32m━━━━━━━━━━━━━━━━━━━━\u001b[0m\u001b[37m\u001b[0m \u001b[1m4s\u001b[0m 37ms/step - AUC: 0.8713 - accuracy: 0.7118 - loss: 0.6192 - val_AUC: 0.7597 - val_accuracy: 0.5523 - val_loss: 0.9470\n",
      "Epoch 25/100\n",
      "\u001b[1m108/108\u001b[0m \u001b[32m━━━━━━━━━━━━━━━━━━━━\u001b[0m\u001b[37m\u001b[0m \u001b[1m3s\u001b[0m 28ms/step - AUC: 0.8837 - accuracy: 0.7216 - loss: 0.6242 - val_AUC: 0.7780 - val_accuracy: 0.5821 - val_loss: 0.9757\n",
      "Epoch 26/100\n",
      "\u001b[1m108/108\u001b[0m \u001b[32m━━━━━━━━━━━━━━━━━━━━\u001b[0m\u001b[37m\u001b[0m \u001b[1m3s\u001b[0m 27ms/step - AUC: 0.8809 - accuracy: 0.7211 - loss: 0.5205 - val_AUC: 0.6148 - val_accuracy: 0.3603 - val_loss: 1.1950\n",
      "Epoch 27/100\n",
      "\u001b[1m108/108\u001b[0m \u001b[32m━━━━━━━━━━━━━━━━━━━━\u001b[0m\u001b[37m\u001b[0m \u001b[1m4s\u001b[0m 33ms/step - AUC: 0.8386 - accuracy: 0.6655 - loss: 0.6825 - val_AUC: 0.7683 - val_accuracy: 0.5535 - val_loss: 0.9673\n",
      "Epoch 28/100\n",
      "\u001b[1m108/108\u001b[0m \u001b[32m━━━━━━━━━━━━━━━━━━━━\u001b[0m\u001b[37m\u001b[0m \u001b[1m4s\u001b[0m 32ms/step - AUC: 0.8895 - accuracy: 0.7201 - loss: 0.5096 - val_AUC: 0.7520 - val_accuracy: 0.5470 - val_loss: 1.0896\n",
      "Epoch 29/100\n",
      "\u001b[1m108/108\u001b[0m \u001b[32m━━━━━━━━━━━━━━━━━━━━\u001b[0m\u001b[37m\u001b[0m \u001b[1m3s\u001b[0m 32ms/step - AUC: 0.8978 - accuracy: 0.7336 - loss: 0.5045 - val_AUC: 0.8451 - val_accuracy: 0.6687 - val_loss: 0.9618\n",
      "Epoch 30/100\n",
      "\u001b[1m108/108\u001b[0m \u001b[32m━━━━━━━━━━━━━━━━━━━━\u001b[0m\u001b[37m\u001b[0m \u001b[1m4s\u001b[0m 38ms/step - AUC: 0.9060 - accuracy: 0.7386 - loss: 0.4744 - val_AUC: 0.8204 - val_accuracy: 0.6270 - val_loss: 0.9339\n",
      "Epoch 31/100\n",
      "\u001b[1m108/108\u001b[0m \u001b[32m━━━━━━━━━━━━━━━━━━━━\u001b[0m\u001b[37m\u001b[0m \u001b[1m3s\u001b[0m 29ms/step - AUC: 0.9095 - accuracy: 0.7452 - loss: 0.4434 - val_AUC: 0.8012 - val_accuracy: 0.6091 - val_loss: 1.1023\n",
      "Epoch 32/100\n",
      "\u001b[1m108/108\u001b[0m \u001b[32m━━━━━━━━━━━━━━━━━━━━\u001b[0m\u001b[37m\u001b[0m \u001b[1m3s\u001b[0m 29ms/step - AUC: 0.9131 - accuracy: 0.7485 - loss: 0.4284 - val_AUC: 0.8189 - val_accuracy: 0.6360 - val_loss: 1.0306\n",
      "Epoch 33/100\n",
      "\u001b[1m108/108\u001b[0m \u001b[32m━━━━━━━━━━━━━━━━━━━━\u001b[0m\u001b[37m\u001b[0m \u001b[1m3s\u001b[0m 32ms/step - AUC: 0.9189 - accuracy: 0.7594 - loss: 0.4042 - val_AUC: 0.7962 - val_accuracy: 0.6009 - val_loss: 1.0491\n",
      "Epoch 34/100\n",
      "\u001b[1m108/108\u001b[0m \u001b[32m━━━━━━━━━━━━━━━━━━━━\u001b[0m\u001b[37m\u001b[0m \u001b[1m3s\u001b[0m 29ms/step - AUC: 0.9090 - accuracy: 0.7540 - loss: 0.4794 - val_AUC: 0.8244 - val_accuracy: 0.6332 - val_loss: 1.0950\n",
      "Epoch 35/100\n",
      "\u001b[1m108/108\u001b[0m \u001b[32m━━━━━━━━━━━━━━━━━━━━\u001b[0m\u001b[37m\u001b[0m \u001b[1m3s\u001b[0m 30ms/step - AUC: 0.9266 - accuracy: 0.7775 - loss: 0.3960 - val_AUC: 0.7878 - val_accuracy: 0.5854 - val_loss: 1.1372\n",
      "Epoch 36/100\n",
      "\u001b[1m108/108\u001b[0m \u001b[32m━━━━━━━━━━━━━━━━━━━━\u001b[0m\u001b[37m\u001b[0m \u001b[1m3s\u001b[0m 31ms/step - AUC: 0.9280 - accuracy: 0.7752 - loss: 0.3737 - val_AUC: 0.8108 - val_accuracy: 0.6087 - val_loss: 1.1264\n",
      "Epoch 37/100\n",
      "\u001b[1m108/108\u001b[0m \u001b[32m━━━━━━━━━━━━━━━━━━━━\u001b[0m\u001b[37m\u001b[0m \u001b[1m3s\u001b[0m 27ms/step - AUC: 0.9264 - accuracy: 0.7683 - loss: 0.3746 - val_AUC: 0.8186 - val_accuracy: 0.6140 - val_loss: 0.9939\n",
      "Epoch 38/100\n",
      "\u001b[1m108/108\u001b[0m \u001b[32m━━━━━━━━━━━━━━━━━━━━\u001b[0m\u001b[37m\u001b[0m \u001b[1m3s\u001b[0m 30ms/step - AUC: 0.9403 - accuracy: 0.7894 - loss: 0.3590 - val_AUC: 0.8302 - val_accuracy: 0.6352 - val_loss: 1.1862\n",
      "Epoch 39/100\n",
      "\u001b[1m108/108\u001b[0m \u001b[32m━━━━━━━━━━━━━━━━━━━━\u001b[0m\u001b[37m\u001b[0m \u001b[1m3s\u001b[0m 31ms/step - AUC: 0.9402 - accuracy: 0.7945 - loss: 0.3308 - val_AUC: 0.7475 - val_accuracy: 0.5025 - val_loss: 1.2074\n",
      "Epoch 40/100\n",
      "\u001b[1m108/108\u001b[0m \u001b[32m━━━━━━━━━━━━━━━━━━━━\u001b[0m\u001b[37m\u001b[0m \u001b[1m5s\u001b[0m 43ms/step - AUC: 0.9314 - accuracy: 0.7767 - loss: 0.3613 - val_AUC: 0.8864 - val_accuracy: 0.7704 - val_loss: 1.1579\n",
      "Epoch 41/100\n",
      "\u001b[1m108/108\u001b[0m \u001b[32m━━━━━━━━━━━━━━━━━━━━\u001b[0m\u001b[37m\u001b[0m \u001b[1m3s\u001b[0m 31ms/step - AUC: 0.9607 - accuracy: 0.8381 - loss: 0.2702 - val_AUC: 0.6915 - val_accuracy: 0.4289 - val_loss: 1.5145\n",
      "Epoch 42/100\n",
      "\u001b[1m108/108\u001b[0m \u001b[32m━━━━━━━━━━━━━━━━━━━━\u001b[0m\u001b[37m\u001b[0m \u001b[1m3s\u001b[0m 30ms/step - AUC: 0.9251 - accuracy: 0.7609 - loss: 0.3011 - val_AUC: 0.8577 - val_accuracy: 0.6953 - val_loss: 1.2979\n",
      "Epoch 43/100\n",
      "\u001b[1m108/108\u001b[0m \u001b[32m━━━━━━━━━━━━━━━━━━━━\u001b[0m\u001b[37m\u001b[0m \u001b[1m3s\u001b[0m 32ms/step - AUC: 0.9609 - accuracy: 0.8397 - loss: 0.2367 - val_AUC: 0.8131 - val_accuracy: 0.6593 - val_loss: 1.3596\n",
      "Epoch 44/100\n",
      "\u001b[1m108/108\u001b[0m \u001b[32m━━━━━━━━━━━━━━━━━━━━\u001b[0m\u001b[37m\u001b[0m \u001b[1m3s\u001b[0m 28ms/step - AUC: 0.9460 - accuracy: 0.8042 - loss: 0.3301 - val_AUC: 0.7810 - val_accuracy: 0.5527 - val_loss: 1.2516\n",
      "Epoch 45/100\n",
      "\u001b[1m108/108\u001b[0m \u001b[32m━━━━━━━━━━━━━━━━━━━━\u001b[0m\u001b[37m\u001b[0m \u001b[1m3s\u001b[0m 30ms/step - AUC: 0.9345 - accuracy: 0.7701 - loss: 0.4119 - val_AUC: 0.8335 - val_accuracy: 0.6381 - val_loss: 1.1485\n",
      "Epoch 46/100\n",
      "\u001b[1m108/108\u001b[0m \u001b[32m━━━━━━━━━━━━━━━━━━━━\u001b[0m\u001b[37m\u001b[0m \u001b[1m3s\u001b[0m 28ms/step - AUC: 0.9553 - accuracy: 0.8156 - loss: 0.2817 - val_AUC: 0.8655 - val_accuracy: 0.7218 - val_loss: 1.2767\n",
      "Epoch 47/100\n",
      "\u001b[1m108/108\u001b[0m \u001b[32m━━━━━━━━━━━━━━━━━━━━\u001b[0m\u001b[37m\u001b[0m \u001b[1m3s\u001b[0m 28ms/step - AUC: 0.9675 - accuracy: 0.8497 - loss: 0.2378 - val_AUC: 0.8591 - val_accuracy: 0.7083 - val_loss: 1.2913\n",
      "Epoch 48/100\n",
      "\u001b[1m108/108\u001b[0m \u001b[32m━━━━━━━━━━━━━━━━━━━━\u001b[0m\u001b[37m\u001b[0m \u001b[1m3s\u001b[0m 29ms/step - AUC: 0.9731 - accuracy: 0.8660 - loss: 0.2058 - val_AUC: 0.8839 - val_accuracy: 0.7770 - val_loss: 1.6652\n",
      "Epoch 49/100\n",
      "\u001b[1m108/108\u001b[0m \u001b[32m━━━━━━━━━━━━━━━━━━━━\u001b[0m\u001b[37m\u001b[0m \u001b[1m3s\u001b[0m 28ms/step - AUC: 0.9809 - accuracy: 0.8835 - loss: 0.1737 - val_AUC: 0.8779 - val_accuracy: 0.7598 - val_loss: 1.8122\n",
      "Epoch 50/100\n",
      "\u001b[1m108/108\u001b[0m \u001b[32m━━━━━━━━━━━━━━━━━━━━\u001b[0m\u001b[37m\u001b[0m \u001b[1m3s\u001b[0m 30ms/step - AUC: 0.9780 - accuracy: 0.8732 - loss: 0.1775 - val_AUC: 0.8552 - val_accuracy: 0.6863 - val_loss: 1.4868\n",
      "Epoch 51/100\n",
      "\u001b[1m108/108\u001b[0m \u001b[32m━━━━━━━━━━━━━━━━━━━━\u001b[0m\u001b[37m\u001b[0m \u001b[1m3s\u001b[0m 31ms/step - AUC: 0.9599 - accuracy: 0.8253 - loss: 0.2588 - val_AUC: 0.8578 - val_accuracy: 0.7075 - val_loss: 1.5566\n",
      "Epoch 52/100\n",
      "\u001b[1m108/108\u001b[0m \u001b[32m━━━━━━━━━━━━━━━━━━━━\u001b[0m\u001b[37m\u001b[0m \u001b[1m3s\u001b[0m 26ms/step - AUC: 0.9806 - accuracy: 0.8903 - loss: 0.1575 - val_AUC: 0.8557 - val_accuracy: 0.6949 - val_loss: 1.9524\n",
      "Epoch 53/100\n",
      "\u001b[1m108/108\u001b[0m \u001b[32m━━━━━━━━━━━━━━━━━━━━\u001b[0m\u001b[37m\u001b[0m \u001b[1m3s\u001b[0m 27ms/step - AUC: 0.9858 - accuracy: 0.9040 - loss: 0.1328 - val_AUC: 0.8773 - val_accuracy: 0.7488 - val_loss: 2.0547\n",
      "Epoch 54/100\n",
      "\u001b[1m108/108\u001b[0m \u001b[32m━━━━━━━━━━━━━━━━━━━━\u001b[0m\u001b[37m\u001b[0m \u001b[1m5s\u001b[0m 42ms/step - AUC: 0.9914 - accuracy: 0.9299 - loss: 0.1013 - val_AUC: 0.8818 - val_accuracy: 0.7782 - val_loss: 2.5500\n",
      "Epoch 55/100\n",
      "\u001b[1m108/108\u001b[0m \u001b[32m━━━━━━━━━━━━━━━━━━━━\u001b[0m\u001b[37m\u001b[0m \u001b[1m4s\u001b[0m 34ms/step - AUC: 0.9852 - accuracy: 0.9105 - loss: 0.1699 - val_AUC: 0.8616 - val_accuracy: 0.7132 - val_loss: 1.1029\n",
      "Epoch 56/100\n",
      "\u001b[1m108/108\u001b[0m \u001b[32m━━━━━━━━━━━━━━━━━━━━\u001b[0m\u001b[37m\u001b[0m \u001b[1m3s\u001b[0m 29ms/step - AUC: 0.9605 - accuracy: 0.8255 - loss: 0.3053 - val_AUC: 0.8765 - val_accuracy: 0.7500 - val_loss: 1.7971\n",
      "Epoch 57/100\n",
      "\u001b[1m108/108\u001b[0m \u001b[32m━━━━━━━━━━━━━━━━━━━━\u001b[0m\u001b[37m\u001b[0m \u001b[1m3s\u001b[0m 28ms/step - AUC: 0.9675 - accuracy: 0.8536 - loss: 0.2718 - val_AUC: 0.8819 - val_accuracy: 0.7688 - val_loss: 1.4598\n",
      "Epoch 58/100\n",
      "\u001b[1m108/108\u001b[0m \u001b[32m━━━━━━━━━━━━━━━━━━━━\u001b[0m\u001b[37m\u001b[0m \u001b[1m3s\u001b[0m 27ms/step - AUC: 0.9824 - accuracy: 0.9006 - loss: 0.1852 - val_AUC: 0.8657 - val_accuracy: 0.7198 - val_loss: 1.4947\n",
      "Epoch 59/100\n",
      "\u001b[1m108/108\u001b[0m \u001b[32m━━━━━━━━━━━━━━━━━━━━\u001b[0m\u001b[37m\u001b[0m \u001b[1m3s\u001b[0m 27ms/step - AUC: 0.9820 - accuracy: 0.8916 - loss: 0.1476 - val_AUC: 0.8717 - val_accuracy: 0.7394 - val_loss: 1.3765\n",
      "Epoch 60/100\n",
      "\u001b[1m108/108\u001b[0m \u001b[32m━━━━━━━━━━━━━━━━━━━━\u001b[0m\u001b[37m\u001b[0m \u001b[1m3s\u001b[0m 29ms/step - AUC: 0.9868 - accuracy: 0.9165 - loss: 0.1297 - val_AUC: 0.8567 - val_accuracy: 0.7096 - val_loss: 1.7411\n",
      "Epoch 61/100\n",
      "\u001b[1m108/108\u001b[0m \u001b[32m━━━━━━━━━━━━━━━━━━━━\u001b[0m\u001b[37m\u001b[0m \u001b[1m3s\u001b[0m 26ms/step - AUC: 0.9902 - accuracy: 0.9245 - loss: 0.1063 - val_AUC: 0.8856 - val_accuracy: 0.7994 - val_loss: 2.0536\n",
      "Epoch 62/100\n",
      "\u001b[1m108/108\u001b[0m \u001b[32m━━━━━━━━━━━━━━━━━━━━\u001b[0m\u001b[37m\u001b[0m \u001b[1m3s\u001b[0m 26ms/step - AUC: 0.9965 - accuracy: 0.9608 - loss: 0.0619 - val_AUC: 0.8855 - val_accuracy: 0.7994 - val_loss: 1.9516\n",
      "Epoch 63/100\n",
      "\u001b[1m108/108\u001b[0m \u001b[32m━━━━━━━━━━━━━━━━━━━━\u001b[0m\u001b[37m\u001b[0m \u001b[1m3s\u001b[0m 26ms/step - AUC: 0.9971 - accuracy: 0.9680 - loss: 0.0521 - val_AUC: 0.8752 - val_accuracy: 0.7741 - val_loss: 2.3977\n",
      "Epoch 64/100\n",
      "\u001b[1m108/108\u001b[0m \u001b[32m━━━━━━━━━━━━━━━━━━━━\u001b[0m\u001b[37m\u001b[0m \u001b[1m3s\u001b[0m 27ms/step - AUC: 0.9952 - accuracy: 0.9549 - loss: 0.0721 - val_AUC: 0.8657 - val_accuracy: 0.7357 - val_loss: 1.8242\n",
      "Epoch 65/100\n",
      "\u001b[1m108/108\u001b[0m \u001b[32m━━━━━━━━━━━━━━━━━━━━\u001b[0m\u001b[37m\u001b[0m \u001b[1m3s\u001b[0m 27ms/step - AUC: 0.9968 - accuracy: 0.9606 - loss: 0.0595 - val_AUC: 0.8842 - val_accuracy: 0.7966 - val_loss: 2.6175\n",
      "Epoch 66/100\n",
      "\u001b[1m108/108\u001b[0m \u001b[32m━━━━━━━━━━━━━━━━━━━━\u001b[0m\u001b[37m\u001b[0m \u001b[1m3s\u001b[0m 26ms/step - AUC: 0.9966 - accuracy: 0.9679 - loss: 0.0471 - val_AUC: 0.8721 - val_accuracy: 0.7541 - val_loss: 2.3207\n",
      "Epoch 67/100\n",
      "\u001b[1m108/108\u001b[0m \u001b[32m━━━━━━━━━━━━━━━━━━━━\u001b[0m\u001b[37m\u001b[0m \u001b[1m3s\u001b[0m 26ms/step - AUC: 0.9845 - accuracy: 0.9116 - loss: 0.1773 - val_AUC: 0.8884 - val_accuracy: 0.8051 - val_loss: 1.5105\n",
      "Epoch 68/100\n",
      "\u001b[1m108/108\u001b[0m \u001b[32m━━━━━━━━━━━━━━━━━━━━\u001b[0m\u001b[37m\u001b[0m \u001b[1m3s\u001b[0m 27ms/step - AUC: 0.9926 - accuracy: 0.9381 - loss: 0.1193 - val_AUC: 0.8772 - val_accuracy: 0.7553 - val_loss: 1.8054\n",
      "Epoch 69/100\n",
      "\u001b[1m108/108\u001b[0m \u001b[32m━━━━━━━━━━━━━━━━━━━━\u001b[0m\u001b[37m\u001b[0m \u001b[1m3s\u001b[0m 26ms/step - AUC: 0.9908 - accuracy: 0.9297 - loss: 0.1289 - val_AUC: 0.8831 - val_accuracy: 0.7569 - val_loss: 1.2076\n",
      "Epoch 70/100\n",
      "\u001b[1m108/108\u001b[0m \u001b[32m━━━━━━━━━━━━━━━━━━━━\u001b[0m\u001b[37m\u001b[0m \u001b[1m3s\u001b[0m 32ms/step - AUC: 0.9864 - accuracy: 0.9039 - loss: 0.1568 - val_AUC: 0.8537 - val_accuracy: 0.7128 - val_loss: 1.7221\n",
      "Epoch 71/100\n",
      "\u001b[1m108/108\u001b[0m \u001b[32m━━━━━━━━━━━━━━━━━━━━\u001b[0m\u001b[37m\u001b[0m \u001b[1m3s\u001b[0m 29ms/step - AUC: 0.9939 - accuracy: 0.9503 - loss: 0.0902 - val_AUC: 0.8434 - val_accuracy: 0.6985 - val_loss: 1.7608\n",
      "Epoch 72/100\n",
      "\u001b[1m108/108\u001b[0m \u001b[32m━━━━━━━━━━━━━━━━━━━━\u001b[0m\u001b[37m\u001b[0m \u001b[1m3s\u001b[0m 26ms/step - AUC: 0.9953 - accuracy: 0.9538 - loss: 0.0690 - val_AUC: 0.8616 - val_accuracy: 0.7328 - val_loss: 1.9573\n",
      "Epoch 73/100\n",
      "\u001b[1m108/108\u001b[0m \u001b[32m━━━━━━━━━━━━━━━━━━━━\u001b[0m\u001b[37m\u001b[0m \u001b[1m3s\u001b[0m 29ms/step - AUC: 0.9985 - accuracy: 0.9707 - loss: 0.0359 - val_AUC: 0.8658 - val_accuracy: 0.7578 - val_loss: 2.0802\n",
      "Epoch 74/100\n",
      "\u001b[1m108/108\u001b[0m \u001b[32m━━━━━━━━━━━━━━━━━━━━\u001b[0m\u001b[37m\u001b[0m \u001b[1m3s\u001b[0m 29ms/step - AUC: 0.9960 - accuracy: 0.9668 - loss: 0.0564 - val_AUC: 0.8745 - val_accuracy: 0.7602 - val_loss: 1.9061\n",
      "Epoch 75/100\n",
      "\u001b[1m108/108\u001b[0m \u001b[32m━━━━━━━━━━━━━━━━━━━━\u001b[0m\u001b[37m\u001b[0m \u001b[1m3s\u001b[0m 26ms/step - AUC: 0.9945 - accuracy: 0.9535 - loss: 0.0874 - val_AUC: 0.8715 - val_accuracy: 0.7422 - val_loss: 1.7739\n",
      "Epoch 76/100\n",
      "\u001b[1m108/108\u001b[0m \u001b[32m━━━━━━━━━━━━━━━━━━━━\u001b[0m\u001b[37m\u001b[0m \u001b[1m3s\u001b[0m 28ms/step - AUC: 0.9912 - accuracy: 0.9382 - loss: 0.1138 - val_AUC: 0.8686 - val_accuracy: 0.7447 - val_loss: 1.8724\n",
      "Epoch 77/100\n",
      "\u001b[1m108/108\u001b[0m \u001b[32m━━━━━━━━━━━━━━━━━━━━\u001b[0m\u001b[37m\u001b[0m \u001b[1m3s\u001b[0m 31ms/step - AUC: 0.9985 - accuracy: 0.9758 - loss: 0.0378 - val_AUC: 0.8442 - val_accuracy: 0.7206 - val_loss: 2.1576\n",
      "Epoch 78/100\n",
      "\u001b[1m108/108\u001b[0m \u001b[32m━━━━━━━━━━━━━━━━━━━━\u001b[0m\u001b[37m\u001b[0m \u001b[1m3s\u001b[0m 26ms/step - AUC: 0.9983 - accuracy: 0.9692 - loss: 0.0453 - val_AUC: 0.8819 - val_accuracy: 0.7958 - val_loss: 2.1406\n",
      "Epoch 79/100\n",
      "\u001b[1m108/108\u001b[0m \u001b[32m━━━━━━━━━━━━━━━━━━━━\u001b[0m\u001b[37m\u001b[0m \u001b[1m3s\u001b[0m 26ms/step - AUC: 0.9989 - accuracy: 0.9804 - loss: 0.0334 - val_AUC: 0.8797 - val_accuracy: 0.7949 - val_loss: 2.5246\n",
      "Epoch 80/100\n",
      "\u001b[1m108/108\u001b[0m \u001b[32m━━━━━━━━━━━━━━━━━━━━\u001b[0m\u001b[37m\u001b[0m \u001b[1m4s\u001b[0m 33ms/step - AUC: 0.9987 - accuracy: 0.9772 - loss: 0.0343 - val_AUC: 0.8798 - val_accuracy: 0.7888 - val_loss: 2.2813\n",
      "Epoch 81/100\n",
      "\u001b[1m108/108\u001b[0m \u001b[32m━━━━━━━━━━━━━━━━━━━━\u001b[0m\u001b[37m\u001b[0m \u001b[1m3s\u001b[0m 26ms/step - AUC: 0.9994 - accuracy: 0.9927 - loss: 0.0141 - val_AUC: 0.8713 - val_accuracy: 0.7810 - val_loss: 2.3744\n",
      "Epoch 82/100\n",
      "\u001b[1m108/108\u001b[0m \u001b[32m━━━━━━━━━━━━━━━━━━━━\u001b[0m\u001b[37m\u001b[0m \u001b[1m3s\u001b[0m 26ms/step - AUC: 0.9999 - accuracy: 0.9940 - loss: 0.0097 - val_AUC: 0.8616 - val_accuracy: 0.7676 - val_loss: 2.7531\n",
      "Epoch 83/100\n",
      "\u001b[1m108/108\u001b[0m \u001b[32m━━━━━━━━━━━━━━━━━━━━\u001b[0m\u001b[37m\u001b[0m \u001b[1m3s\u001b[0m 30ms/step - AUC: 0.9996 - accuracy: 0.9863 - loss: 0.0196 - val_AUC: 0.8512 - val_accuracy: 0.7353 - val_loss: 2.4451\n",
      "Epoch 84/100\n",
      "\u001b[1m108/108\u001b[0m \u001b[32m━━━━━━━━━━━━━━━━━━━━\u001b[0m\u001b[37m\u001b[0m \u001b[1m3s\u001b[0m 29ms/step - AUC: 0.9909 - accuracy: 0.9356 - loss: 0.1375 - val_AUC: 0.8755 - val_accuracy: 0.7520 - val_loss: 1.4741\n",
      "Epoch 85/100\n",
      "\u001b[1m108/108\u001b[0m \u001b[32m━━━━━━━━━━━━━━━━━━━━\u001b[0m\u001b[37m\u001b[0m \u001b[1m3s\u001b[0m 26ms/step - AUC: 0.9958 - accuracy: 0.9571 - loss: 0.1059 - val_AUC: 0.8666 - val_accuracy: 0.7549 - val_loss: 1.8998\n",
      "Epoch 86/100\n",
      "\u001b[1m108/108\u001b[0m \u001b[32m━━━━━━━━━━━━━━━━━━━━\u001b[0m\u001b[37m\u001b[0m \u001b[1m3s\u001b[0m 28ms/step - AUC: 0.9991 - accuracy: 0.9771 - loss: 0.0305 - val_AUC: 0.8692 - val_accuracy: 0.7761 - val_loss: 2.1967\n",
      "Epoch 87/100\n",
      "\u001b[1m108/108\u001b[0m \u001b[32m━━━━━━━━━━━━━━━━━━━━\u001b[0m\u001b[37m\u001b[0m \u001b[1m3s\u001b[0m 30ms/step - AUC: 0.9999 - accuracy: 0.9957 - loss: 0.0097 - val_AUC: 0.8798 - val_accuracy: 0.8039 - val_loss: 2.4942\n",
      "Epoch 88/100\n",
      "\u001b[1m108/108\u001b[0m \u001b[32m━━━━━━━━━━━━━━━━━━━━\u001b[0m\u001b[37m\u001b[0m \u001b[1m3s\u001b[0m 26ms/step - AUC: 0.9979 - accuracy: 0.9816 - loss: 0.0368 - val_AUC: 0.8516 - val_accuracy: 0.7210 - val_loss: 1.7644\n",
      "Epoch 89/100\n",
      "\u001b[1m108/108\u001b[0m \u001b[32m━━━━━━━━━━━━━━━━━━━━\u001b[0m\u001b[37m\u001b[0m \u001b[1m3s\u001b[0m 26ms/step - AUC: 0.9949 - accuracy: 0.9538 - loss: 0.0887 - val_AUC: 0.8654 - val_accuracy: 0.7247 - val_loss: 1.3453\n",
      "Epoch 90/100\n",
      "\u001b[1m108/108\u001b[0m \u001b[32m━━━━━━━━━━━━━━━━━━━━\u001b[0m\u001b[37m\u001b[0m \u001b[1m4s\u001b[0m 33ms/step - AUC: 0.9909 - accuracy: 0.9297 - loss: 0.1350 - val_AUC: 0.8898 - val_accuracy: 0.8039 - val_loss: 1.5161\n",
      "Epoch 91/100\n",
      "\u001b[1m108/108\u001b[0m \u001b[32m━━━━━━━━━━━━━━━━━━━━\u001b[0m\u001b[37m\u001b[0m \u001b[1m3s\u001b[0m 28ms/step - AUC: 0.9995 - accuracy: 0.9861 - loss: 0.0277 - val_AUC: 0.8765 - val_accuracy: 0.7839 - val_loss: 1.8516\n",
      "Epoch 92/100\n",
      "\u001b[1m108/108\u001b[0m \u001b[32m━━━━━━━━━━━━━━━━━━━━\u001b[0m\u001b[37m\u001b[0m \u001b[1m3s\u001b[0m 29ms/step - AUC: 0.9986 - accuracy: 0.9885 - loss: 0.0311 - val_AUC: 0.8853 - val_accuracy: 0.7770 - val_loss: 1.5145\n",
      "Epoch 93/100\n",
      "\u001b[1m108/108\u001b[0m \u001b[32m━━━━━━━━━━━━━━━━━━━━\u001b[0m\u001b[37m\u001b[0m \u001b[1m4s\u001b[0m 41ms/step - AUC: 0.9981 - accuracy: 0.9794 - loss: 0.0529 - val_AUC: 0.8806 - val_accuracy: 0.7937 - val_loss: 1.9262\n",
      "Epoch 94/100\n",
      "\u001b[1m108/108\u001b[0m \u001b[32m━━━━━━━━━━━━━━━━━━━━\u001b[0m\u001b[37m\u001b[0m \u001b[1m4s\u001b[0m 33ms/step - AUC: 0.9995 - accuracy: 0.9872 - loss: 0.0231 - val_AUC: 0.8824 - val_accuracy: 0.8092 - val_loss: 2.0860\n",
      "Epoch 95/100\n",
      "\u001b[1m108/108\u001b[0m \u001b[32m━━━━━━━━━━━━━━━━━━━━\u001b[0m\u001b[37m\u001b[0m \u001b[1m4s\u001b[0m 40ms/step - AUC: 0.9999 - accuracy: 0.9938 - loss: 0.0116 - val_AUC: 0.8792 - val_accuracy: 0.8019 - val_loss: 2.3771\n",
      "Epoch 96/100\n",
      "\u001b[1m108/108\u001b[0m \u001b[32m━━━━━━━━━━━━━━━━━━━━\u001b[0m\u001b[37m\u001b[0m \u001b[1m4s\u001b[0m 35ms/step - AUC: 0.9999 - accuracy: 0.9975 - loss: 0.0056 - val_AUC: 0.8827 - val_accuracy: 0.8162 - val_loss: 2.5254\n",
      "Epoch 97/100\n",
      "\u001b[1m108/108\u001b[0m \u001b[32m━━━━━━━━━━━━━━━━━━━━\u001b[0m\u001b[37m\u001b[0m \u001b[1m4s\u001b[0m 35ms/step - AUC: 1.0000 - accuracy: 0.9967 - loss: 0.0044 - val_AUC: 0.8789 - val_accuracy: 0.8100 - val_loss: 2.6692\n",
      "Epoch 98/100\n",
      "\u001b[1m108/108\u001b[0m \u001b[32m━━━━━━━━━━━━━━━━━━━━\u001b[0m\u001b[37m\u001b[0m \u001b[1m4s\u001b[0m 35ms/step - AUC: 1.0000 - accuracy: 0.9998 - loss: 0.0013 - val_AUC: 0.8793 - val_accuracy: 0.8141 - val_loss: 2.8961\n",
      "Epoch 99/100\n",
      "\u001b[1m108/108\u001b[0m \u001b[32m━━━━━━━━━━━━━━━━━━━━\u001b[0m\u001b[37m\u001b[0m \u001b[1m3s\u001b[0m 32ms/step - AUC: 1.0000 - accuracy: 0.9999 - loss: 9.5829e-04 - val_AUC: 0.8773 - val_accuracy: 0.8072 - val_loss: 2.9432\n",
      "Epoch 100/100\n",
      "\u001b[1m108/108\u001b[0m \u001b[32m━━━━━━━━━━━━━━━━━━━━\u001b[0m\u001b[37m\u001b[0m \u001b[1m3s\u001b[0m 31ms/step - AUC: 1.0000 - accuracy: 0.9999 - loss: 6.6059e-04 - val_AUC: 0.8767 - val_accuracy: 0.8080 - val_loss: 3.0712\n"
     ]
    },
    {
     "data": {
      "text/plain": [
       "<keras.src.callbacks.history.History at 0x1e9985eec50>"
      ]
     },
     "execution_count": 10,
     "metadata": {},
     "output_type": "execute_result"
    }
   ],
   "source": [
    "# Construir el modelo CNN-LSTM\n",
    "model = Sequential()\n",
    "model.add(Conv1D(36, 3, activation='relu', input_shape=(timesteps, X_train_scaled.shape[1])))\n",
    "model.add(MaxPooling1D(2))\n",
    "model.add(LSTM(216, activation='relu', return_sequences=True))\n",
    "model.add(LSTM(108, activation='relu'))\n",
    "model.add(Dense(36, activation='relu'))\n",
    "model.add(Dense(3, activation='softmax'))\n",
    "\n",
    "# Compilar el modelo\n",
    "model.compile(optimizer='adam', loss='categorical_crossentropy', metrics=['accuracy', 'AUC'])\n",
    "\n",
    "# Entrenar el modelo\n",
    "model.fit(X_train_reshaped, y_train_categorical, epochs=100, batch_size=36,\n",
    "          validation_data=(X_test_reshaped, y_test_categorical), class_weight=class_weights_dict)\n",
    "\n"
   ]
  },
  {
   "cell_type": "code",
   "execution_count": 11,
   "metadata": {
    "colab": {
     "base_uri": "https://localhost:8080/"
    },
    "id": "Hq-cWmEVxsKB",
    "outputId": "da098090-b3eb-42be-e96f-728e1712343b"
   },
   "outputs": [
    {
     "name": "stdout",
     "output_type": "stream",
     "text": [
      "\u001b[1m77/77\u001b[0m \u001b[32m━━━━━━━━━━━━━━━━━━━━\u001b[0m\u001b[37m\u001b[0m \u001b[1m1s\u001b[0m 12ms/step\n",
      "{0: 2098, 1: 251, 2: 99}\n",
      "{0: 2295, 1: 112, 2: 41}\n"
     ]
    }
   ],
   "source": [
    "# Predecir las etiquetas para el conjunto de prueba\n",
    "y_pred_proba = model.predict(X_test_reshaped)\n",
    "y_pred = np.argmax(y_pred_proba, axis=1)\n",
    "# Contamos las ocurrencias de cada nivel de estrés\n",
    "valores_unicos, conteos = np.unique(y_test, return_counts=True)\n",
    "valores_unicos1, conteos1 = np.unique(y_pred, return_counts=True)\n",
    "# Combina los valores únicos y sus conteos en un diccionario para facilitar la visualización\n",
    "ocurrencias = dict(zip(valores_unicos, conteos))\n",
    "ocurrenciaspre = dict(zip(valores_unicos1, conteos1))\n",
    "# Mostramos el resultado\n",
    "#print(conteo_nivel_estres)\n",
    "print(ocurrencias)\n",
    "print(ocurrenciaspre)"
   ]
  },
  {
   "cell_type": "markdown",
   "metadata": {
    "id": "r_WwX96g31SC"
   },
   "source": [
    "# EVALUACION DEL ALGORITMO"
   ]
  },
  {
   "cell_type": "code",
   "execution_count": 12,
   "metadata": {},
   "outputs": [
    {
     "name": "stdout",
     "output_type": "stream",
     "text": [
      "\u001b[1m77/77\u001b[0m \u001b[32m━━━━━━━━━━━━━━━━━━━━\u001b[0m\u001b[37m\u001b[0m \u001b[1m1s\u001b[0m 7ms/step - AUC: 0.8956 - accuracy: 0.8296 - loss: 2.5777\n",
      "Acuracy: 0.8080065250396729\n",
      "AUC en prueba: 0.8766908049583435\n"
     ]
    }
   ],
   "source": [
    "test_loss,test_acuracy , test_auc = model.evaluate(X_test_reshaped, y_test_categorical)\n",
    "print(f\"Acuracy: {test_acuracy}\")\n",
    "print(f\"AUC en prueba: {test_auc}\")"
   ]
  },
  {
   "cell_type": "code",
   "execution_count": 13,
   "metadata": {
    "colab": {
     "base_uri": "https://localhost:8080/"
    },
    "id": "OWISIj2Nx4KC",
    "outputId": "69dc4ea4-2114-458b-9b9b-093076faaf3e"
   },
   "outputs": [
    {
     "name": "stdout",
     "output_type": "stream",
     "text": [
      "Accuracy: 0.8080065359477124\n",
      "Precision: 0.7446815638307859\n",
      "Recall: 0.8080065359477124\n",
      "F1 Score: 0.7737071899129138\n",
      "ROC AUC: 0.518876242096845\n"
     ]
    }
   ],
   "source": [
    "# EVALUACION DEL MODELO\n",
    "from sklearn.preprocessing import label_binarize\n",
    "y_pred2 = label_binarize(y_pred, classes=[0, 1, 2])\n",
    "# Calcular las métricas de evaluación\n",
    "accuracy = accuracy_score(y_test, y_pred)\n",
    "precision = precision_score(y_test, y_pred, average='weighted')\n",
    "recall = recall_score(y_test, y_pred, average='weighted')\n",
    "f1 = f1_score(y_test, y_pred, average='weighted')\n",
    "# Calcular el AUC\n",
    "roc_auc = roc_auc_score(y_test_categorical, y_pred_proba, multi_class='ovo')\n",
    "\n",
    "# Mostrar métricas\n",
    "print(\"Accuracy:\", accuracy)\n",
    "print(\"Precision:\", precision)\n",
    "print(\"Recall:\", recall)\n",
    "print(\"F1 Score:\", f1)\n",
    "print(\"ROC AUC:\", roc_auc)"
   ]
  },
  {
   "cell_type": "code",
   "execution_count": 14,
   "metadata": {},
   "outputs": [
    {
     "data": {
      "image/png": "[encoded data removed]",
      "text/plain": [
       "<Figure size 640x480 with 1 Axes>"
      ]
     },
     "metadata": {},
     "output_type": "display_data"
    }
   ],
   "source": [
    "fpr = {}\n",
    "tpr = {}\n",
    "roc_auc = {}\n",
    "\n",
    "for i in range(3):\n",
    "    fpr[i], tpr[i], _ = roc_curve(y_test_categorical[:, i], y_pred_proba[:, i])\n",
    "    roc_auc[i] = auc(fpr[i], tpr[i])\n",
    "\n",
    "# Graficar las curvas ROC\n",
    "plt.figure()\n",
    "for i in range(3):\n",
    "    plt.plot(fpr[i], tpr[i], label=f'Clase {i} (AUC = {roc_auc[i]:.2f})')\n",
    "\n",
    "# Extraer los valores\n",
    "values = roc_auc.values()\n",
    "# Calcular la media\n",
    "mean_auc = sum(values) / len(values)\n",
    "\n",
    "plt.plot([0, 1], [0, 1], 'b--', label=f\"Mean AUC = {mean_auc:.2f}\", alpha=0.5)\n",
    "plt.xlim([0.0, 1.0])\n",
    "plt.ylim([0.0, 1.05])\n",
    "plt.xlabel('Tasa de Falsos Positivos')\n",
    "plt.ylabel('Tasa de Verdaderos Positivos')\n",
    "plt.title('Curva ROC Multiclase')\n",
    "plt.legend(loc='lower right')\n",
    "#plt.savefig(f'../Curva_Roc/{nombre_csv}_roc_LSTM.png', format='png', dpi=300)\n",
    "plt.show()"
   ]
  }
 ],
 "metadata": {
  "colab": {
   "provenance": []
  },
  "kernelspec": {
   "display_name": "Python 3",
   "name": "python3"
  },
  "language_info": {
   "codemirror_mode": {
    "name": "ipython",
    "version": 3
   },
   "file_extension": ".py",
   "mimetype": "text/x-python",
   "name": "python",
   "nbconvert_exporter": "python",
   "pygments_lexer": "ipython3",
   "version": "3.11.0"
  }
 },
 "nbformat": 4,
 "nbformat_minor": 0
}
