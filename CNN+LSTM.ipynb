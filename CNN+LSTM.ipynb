{
 "cells": [
  {
   "cell_type": "markdown",
   "metadata": {
    "id": "VaDJ6NbM4R4c"
   },
   "source": [
    "## Algoritmo LSTM"
   ]
  },
  {
   "cell_type": "code",
   "execution_count": 1,
   "metadata": {
    "id": "s_sVYocgwqjC"
   },
   "outputs": [],
   "source": [
    "# Importar las bibliotecas necesarias\n",
    "import pandas as pd\n",
    "import numpy as np\n",
    "import matplotlib.pyplot as plt\n",
    "from sklearn.metrics import accuracy_score, precision_score, recall_score, f1_score, roc_auc_score,roc_auc_score, roc_curve, auc\n",
    "from sklearn.preprocessing import StandardScaler\n",
    "from tensorflow.keras.models import Sequential\n",
    "from tensorflow.keras.layers import LSTM, Dense\n",
    "from tensorflow.keras.utils import to_categorical\n",
    "from sklearn.utils.class_weight import compute_class_weight\n",
    "from tensorflow.keras.layers import Conv1D, MaxPooling1D, LSTM, Dense, Flatten\n"
   ]
  },
  {
   "cell_type": "code",
   "execution_count": 2,
   "metadata": {
    "collapsed": true,
    "id": "g8WDDqQaxRx4"
   },
   "outputs": [],
   "source": [
    "nombre_csv = 1\n",
    "de = pd.read_csv(f'Datos_entrenamiento/{nombre_csv}_e.csv')\n",
    "dp = pd.read_csv(f'Datos_prueba/{nombre_csv}_p.csv')"
   ]
  },
  {
   "cell_type": "markdown",
   "metadata": {},
   "source": [
    "# Procesamiento"
   ]
  },
  {
   "cell_type": "code",
   "execution_count": 3,
   "metadata": {
    "id": "tNzDx458xTz5"
   },
   "outputs": [
    {
     "name": "stdout",
     "output_type": "stream",
     "text": [
      "Nivel_estres\n",
      "normal     3518\n",
      "alerta      352\n",
      "peligro      66\n",
      "Name: count, dtype: int64\n",
      "Nivel_estres\n",
      "normal     2378\n",
      "alerta      102\n",
      "peligro      16\n",
      "Name: count, dtype: int64\n"
     ]
    }
   ],
   "source": [
    "# Contamos las ocurrencias de cada nivel de estrés en la nueva columna\n",
    "conteo_nivel_estresde = de['Nivel_estres'].value_counts()\n",
    "conteo_nivel_estresdp = dp['Nivel_estres'].value_counts()\n",
    "# Mostramos el resultado\n",
    "print(conteo_nivel_estresde)\n",
    "print(conteo_nivel_estresdp)"
   ]
  },
  {
   "cell_type": "code",
   "execution_count": 4,
   "metadata": {
    "id": "Xl9IHQwfxX6R"
   },
   "outputs": [],
   "source": [
    "# Crear un diccionario para mapear cada categoría única en la columna 'nivel_estres' a un número\n",
    "mapping = {'normal': 0, 'alerta': 1, 'peligro': 2}\n",
    "# Mapear las categorías a números utilizando el método map de pandas\n",
    "de['Nivel_estres'] = de['Nivel_estres'].map(mapping)\n",
    "dp['Nivel_estres'] = dp['Nivel_estres'].map(mapping)\n"
   ]
  },
  {
   "cell_type": "markdown",
   "metadata": {
    "id": "TVUnOhfZ1Ntc"
   },
   "source": [
    "# ALGORITMO DE CNN+LSTM"
   ]
  },
  {
   "cell_type": "code",
   "execution_count": 5,
   "metadata": {
    "id": "Lvzb3Kfcxe5h"
   },
   "outputs": [],
   "source": [
    "# Separar características y etiquetas del conjunto de entrenamiento\n",
    "X_train = de[['period eating','period other','period resting','period rumination']]\n",
    "y_train = de['Nivel_estres']\n",
    "# Separar características y etiquetas del conjunto de prueba\n",
    "X_test = dp[['period eating','period other','period resting','period rumination']]\n",
    "y_test = dp['Nivel_estres']"
   ]
  },
  {
   "cell_type": "code",
   "execution_count": 6,
   "metadata": {
    "id": "juQN7hSuxhmY"
   },
   "outputs": [],
   "source": [
    "# Estandarizar las características\n",
    "scaler = StandardScaler()\n",
    "X_train_scaled = scaler.fit_transform(X_train)\n",
    "X_test_scaled = scaler.transform(X_test)"
   ]
  },
  {
   "cell_type": "code",
   "execution_count": 7,
   "metadata": {
    "id": "y48rGM_0xlNZ"
   },
   "outputs": [],
   "source": [
    "#Expandir a 24 horas de datos para capturar ciclo diario\n",
    "timesteps = 24\n",
    "X_train_reshaped = np.array([X_train_scaled[i:i + timesteps] for i in range(len(X_train_scaled) - timesteps)])\n",
    "y_train = y_train[timesteps:]\n",
    "X_test_reshaped = np.array([X_test_scaled[i:i + timesteps] for i in range(len(X_test_scaled) - timesteps)])\n",
    "y_test = y_test[timesteps:]"
   ]
  },
  {
   "cell_type": "code",
   "execution_count": 8,
   "metadata": {},
   "outputs": [],
   "source": [
    "#Ajuste de pesos: Calcular pesos de clase para manejar el desbalance\n",
    "class_weights = compute_class_weight(class_weight='balanced', classes=np.unique(y_train), y=y_train)\n",
    "#class_weights_dict = {i: weight for i, weight in enumerate(class_weights)}\n",
    "class_weights_dict = dict(enumerate(class_weights))"
   ]
  },
  {
   "cell_type": "code",
   "execution_count": 9,
   "metadata": {},
   "outputs": [],
   "source": [
    "# Convertir etiquetas a formato categórico\n",
    "y_train_categorical = to_categorical(y_train, num_classes=3)\n",
    "y_test_categorical = to_categorical(y_test, num_classes=3)"
   ]
  },
  {
   "cell_type": "code",
   "execution_count": 15,
   "metadata": {
    "id": "weTv5z_TxnD4"
   },
   "outputs": [
    {
     "name": "stderr",
     "output_type": "stream",
     "text": [
      "C:\\Users\\PC\\AppData\\Roaming\\Python\\Python311\\site-packages\\keras\\src\\layers\\convolutional\\base_conv.py:107: UserWarning: Do not pass an `input_shape`/`input_dim` argument to a layer. When using Sequential models, prefer using an `Input(shape)` object as the first layer in the model instead.\n",
      "  super().__init__(activity_regularizer=activity_regularizer, **kwargs)\n"
     ]
    },
    {
     "name": "stdout",
     "output_type": "stream",
     "text": [
      "Epoch 1/100\n",
      "\u001b[1m163/163\u001b[0m \u001b[32m━━━━━━━━━━━━━━━━━━━━\u001b[0m\u001b[37m\u001b[0m \u001b[1m11s\u001b[0m 25ms/step - AUC: 0.5924 - accuracy: 0.4046 - loss: 1.0577 - val_AUC: 0.9590 - val_accuracy: 0.8977 - val_loss: 0.7269\n",
      "Epoch 2/100\n",
      "\u001b[1m163/163\u001b[0m \u001b[32m━━━━━━━━━━━━━━━━━━━━\u001b[0m\u001b[37m\u001b[0m \u001b[1m3s\u001b[0m 16ms/step - AUC: 0.8054 - accuracy: 0.6809 - loss: 0.9230 - val_AUC: 0.9656 - val_accuracy: 0.9292 - val_loss: 0.6311\n",
      "Epoch 3/100\n",
      "\u001b[1m163/163\u001b[0m \u001b[32m━━━━━━━━━━━━━━━━━━━━\u001b[0m\u001b[37m\u001b[0m \u001b[1m3s\u001b[0m 17ms/step - AUC: 0.8141 - accuracy: 0.6935 - loss: 0.9658 - val_AUC: 0.9578 - val_accuracy: 0.9219 - val_loss: 0.6764\n",
      "Epoch 4/100\n",
      "\u001b[1m163/163\u001b[0m \u001b[32m━━━━━━━━━━━━━━━━━━━━\u001b[0m\u001b[37m\u001b[0m \u001b[1m2s\u001b[0m 15ms/step - AUC: 0.8356 - accuracy: 0.7197 - loss: 0.8568 - val_AUC: 0.9733 - val_accuracy: 0.9430 - val_loss: 0.3578\n",
      "Epoch 5/100\n",
      "\u001b[1m163/163\u001b[0m \u001b[32m━━━━━━━━━━━━━━━━━━━━\u001b[0m\u001b[37m\u001b[0m \u001b[1m3s\u001b[0m 18ms/step - AUC: 0.8533 - accuracy: 0.7432 - loss: 0.8224 - val_AUC: 0.9748 - val_accuracy: 0.9506 - val_loss: 0.3380\n",
      "Epoch 6/100\n",
      "\u001b[1m163/163\u001b[0m \u001b[32m━━━━━━━━━━━━━━━━━━━━\u001b[0m\u001b[37m\u001b[0m \u001b[1m2s\u001b[0m 14ms/step - AUC: 0.8182 - accuracy: 0.6842 - loss: 0.8164 - val_AUC: 0.9037 - val_accuracy: 0.8176 - val_loss: 0.7075\n",
      "Epoch 7/100\n",
      "\u001b[1m163/163\u001b[0m \u001b[32m━━━━━━━━━━━━━━━━━━━━\u001b[0m\u001b[37m\u001b[0m \u001b[1m1s\u001b[0m 8ms/step - AUC: 0.8312 - accuracy: 0.7012 - loss: 0.7801 - val_AUC: 0.9752 - val_accuracy: 0.9422 - val_loss: 0.3188\n",
      "Epoch 8/100\n",
      "\u001b[1m163/163\u001b[0m \u001b[32m━━━━━━━━━━━━━━━━━━━━\u001b[0m\u001b[37m\u001b[0m \u001b[1m1s\u001b[0m 9ms/step - AUC: 0.8732 - accuracy: 0.7489 - loss: 0.6917 - val_AUC: 0.9542 - val_accuracy: 0.8661 - val_loss: 0.5292\n",
      "Epoch 9/100\n",
      "\u001b[1m163/163\u001b[0m \u001b[32m━━━━━━━━━━━━━━━━━━━━\u001b[0m\u001b[37m\u001b[0m \u001b[1m1s\u001b[0m 9ms/step - AUC: 0.8399 - accuracy: 0.6988 - loss: 0.6767 - val_AUC: 0.9751 - val_accuracy: 0.9413 - val_loss: 0.3903\n",
      "Epoch 10/100\n",
      "\u001b[1m163/163\u001b[0m \u001b[32m━━━━━━━━━━━━━━━━━━━━\u001b[0m\u001b[37m\u001b[0m \u001b[1m2s\u001b[0m 10ms/step - AUC: 0.8662 - accuracy: 0.7222 - loss: 0.6114 - val_AUC: 0.9758 - val_accuracy: 0.9462 - val_loss: 0.3278\n",
      "Epoch 11/100\n",
      "\u001b[1m163/163\u001b[0m \u001b[32m━━━━━━━━━━━━━━━━━━━━\u001b[0m\u001b[37m\u001b[0m \u001b[1m1s\u001b[0m 7ms/step - AUC: 0.8937 - accuracy: 0.7471 - loss: 0.5753 - val_AUC: 0.9718 - val_accuracy: 0.9057 - val_loss: 0.3827\n",
      "Epoch 12/100\n",
      "\u001b[1m163/163\u001b[0m \u001b[32m━━━━━━━━━━━━━━━━━━━━\u001b[0m\u001b[37m\u001b[0m \u001b[1m1s\u001b[0m 9ms/step - AUC: 0.8957 - accuracy: 0.7319 - loss: 0.5519 - val_AUC: 0.8037 - val_accuracy: 0.5878 - val_loss: 0.7643\n",
      "Epoch 13/100\n",
      "\u001b[1m163/163\u001b[0m \u001b[32m━━━━━━━━━━━━━━━━━━━━\u001b[0m\u001b[37m\u001b[0m \u001b[1m1s\u001b[0m 7ms/step - AUC: 0.8582 - accuracy: 0.6791 - loss: 0.5439 - val_AUC: 0.9716 - val_accuracy: 0.9130 - val_loss: 0.3900\n",
      "Epoch 14/100\n",
      "\u001b[1m163/163\u001b[0m \u001b[32m━━━━━━━━━━━━━━━━━━━━\u001b[0m\u001b[37m\u001b[0m \u001b[1m1s\u001b[0m 9ms/step - AUC: 0.8784 - accuracy: 0.7254 - loss: 0.5893 - val_AUC: 0.9708 - val_accuracy: 0.9021 - val_loss: 0.4028\n",
      "Epoch 15/100\n",
      "\u001b[1m163/163\u001b[0m \u001b[32m━━━━━━━━━━━━━━━━━━━━\u001b[0m\u001b[37m\u001b[0m \u001b[1m2s\u001b[0m 10ms/step - AUC: 0.8856 - accuracy: 0.7200 - loss: 0.5372 - val_AUC: 0.9723 - val_accuracy: 0.9045 - val_loss: 0.3686\n",
      "Epoch 16/100\n",
      "\u001b[1m163/163\u001b[0m \u001b[32m━━━━━━━━━━━━━━━━━━━━\u001b[0m\u001b[37m\u001b[0m \u001b[1m1s\u001b[0m 7ms/step - AUC: 0.9113 - accuracy: 0.7529 - loss: 0.4624 - val_AUC: 0.9518 - val_accuracy: 0.8265 - val_loss: 0.4829\n",
      "Epoch 17/100\n",
      "\u001b[1m163/163\u001b[0m \u001b[32m━━━━━━━━━━━━━━━━━━━━\u001b[0m\u001b[37m\u001b[0m \u001b[1m1s\u001b[0m 9ms/step - AUC: 0.9009 - accuracy: 0.7380 - loss: 0.4850 - val_AUC: 0.9724 - val_accuracy: 0.9070 - val_loss: 0.3493\n",
      "Epoch 18/100\n",
      "\u001b[1m163/163\u001b[0m \u001b[32m━━━━━━━━━━━━━━━━━━━━\u001b[0m\u001b[37m\u001b[0m \u001b[1m1s\u001b[0m 8ms/step - AUC: 0.9205 - accuracy: 0.7623 - loss: 0.4692 - val_AUC: 0.9758 - val_accuracy: 0.9146 - val_loss: 0.3424\n",
      "Epoch 19/100\n",
      "\u001b[1m163/163\u001b[0m \u001b[32m━━━━━━━━━━━━━━━━━━━━\u001b[0m\u001b[37m\u001b[0m \u001b[1m2s\u001b[0m 11ms/step - AUC: 0.9121 - accuracy: 0.7433 - loss: 0.4817 - val_AUC: 0.9735 - val_accuracy: 0.9086 - val_loss: 0.3470\n",
      "Epoch 20/100\n",
      "\u001b[1m163/163\u001b[0m \u001b[32m━━━━━━━━━━━━━━━━━━━━\u001b[0m\u001b[37m\u001b[0m \u001b[1m2s\u001b[0m 9ms/step - AUC: 0.9192 - accuracy: 0.7446 - loss: 0.4202 - val_AUC: 0.9686 - val_accuracy: 0.9138 - val_loss: 0.4471\n",
      "Epoch 21/100\n",
      "\u001b[1m163/163\u001b[0m \u001b[32m━━━━━━━━━━━━━━━━━━━━\u001b[0m\u001b[37m\u001b[0m \u001b[1m1s\u001b[0m 9ms/step - AUC: 0.9185 - accuracy: 0.7438 - loss: 0.4241 - val_AUC: 0.9706 - val_accuracy: 0.8948 - val_loss: 0.3861\n",
      "Epoch 22/100\n",
      "\u001b[1m163/163\u001b[0m \u001b[32m━━━━━━━━━━━━━━━━━━━━\u001b[0m\u001b[37m\u001b[0m \u001b[1m1s\u001b[0m 9ms/step - AUC: 0.9354 - accuracy: 0.7780 - loss: 0.3672 - val_AUC: 0.9624 - val_accuracy: 0.8580 - val_loss: 0.4364\n",
      "Epoch 23/100\n",
      "\u001b[1m163/163\u001b[0m \u001b[32m━━━━━━━━━━━━━━━━━━━━\u001b[0m\u001b[37m\u001b[0m \u001b[1m1s\u001b[0m 8ms/step - AUC: 0.9262 - accuracy: 0.7485 - loss: 0.3434 - val_AUC: 0.9719 - val_accuracy: 0.9114 - val_loss: 0.4147\n",
      "Epoch 24/100\n",
      "\u001b[1m163/163\u001b[0m \u001b[32m━━━━━━━━━━━━━━━━━━━━\u001b[0m\u001b[37m\u001b[0m \u001b[1m2s\u001b[0m 9ms/step - AUC: 0.9340 - accuracy: 0.7706 - loss: 0.3582 - val_AUC: 0.8928 - val_accuracy: 0.6897 - val_loss: 0.6634\n",
      "Epoch 25/100\n",
      "\u001b[1m163/163\u001b[0m \u001b[32m━━━━━━━━━━━━━━━━━━━━\u001b[0m\u001b[37m\u001b[0m \u001b[1m1s\u001b[0m 8ms/step - AUC: 0.9318 - accuracy: 0.7584 - loss: 0.3415 - val_AUC: 0.9721 - val_accuracy: 0.9199 - val_loss: 0.3935\n",
      "Epoch 26/100\n",
      "\u001b[1m163/163\u001b[0m \u001b[32m━━━━━━━━━━━━━━━━━━━━\u001b[0m\u001b[37m\u001b[0m \u001b[1m2s\u001b[0m 11ms/step - AUC: 0.9336 - accuracy: 0.7750 - loss: 0.3854 - val_AUC: 0.9683 - val_accuracy: 0.8847 - val_loss: 0.4184\n",
      "Epoch 27/100\n",
      "\u001b[1m163/163\u001b[0m \u001b[32m━━━━━━━━━━━━━━━━━━━━\u001b[0m\u001b[37m\u001b[0m \u001b[1m2s\u001b[0m 9ms/step - AUC: 0.9347 - accuracy: 0.7679 - loss: 0.3646 - val_AUC: 0.9125 - val_accuracy: 0.7540 - val_loss: 0.7147\n",
      "Epoch 28/100\n",
      "\u001b[1m163/163\u001b[0m \u001b[32m━━━━━━━━━━━━━━━━━━━━\u001b[0m\u001b[37m\u001b[0m \u001b[1m1s\u001b[0m 8ms/step - AUC: 0.9473 - accuracy: 0.7983 - loss: 0.3367 - val_AUC: 0.9703 - val_accuracy: 0.9025 - val_loss: 0.3645\n",
      "Epoch 29/100\n",
      "\u001b[1m163/163\u001b[0m \u001b[32m━━━━━━━━━━━━━━━━━━━━\u001b[0m\u001b[37m\u001b[0m \u001b[1m1s\u001b[0m 8ms/step - AUC: 0.9393 - accuracy: 0.7769 - loss: 0.3489 - val_AUC: 0.9709 - val_accuracy: 0.9183 - val_loss: 0.4136\n",
      "Epoch 30/100\n",
      "\u001b[1m163/163\u001b[0m \u001b[32m━━━━━━━━━━━━━━━━━━━━\u001b[0m\u001b[37m\u001b[0m \u001b[1m1s\u001b[0m 8ms/step - AUC: 0.9572 - accuracy: 0.8186 - loss: 0.3041 - val_AUC: 0.9644 - val_accuracy: 0.8790 - val_loss: 0.4670\n",
      "Epoch 31/100\n",
      "\u001b[1m163/163\u001b[0m \u001b[32m━━━━━━━━━━━━━━━━━━━━\u001b[0m\u001b[37m\u001b[0m \u001b[1m2s\u001b[0m 10ms/step - AUC: 0.9572 - accuracy: 0.8135 - loss: 0.2930 - val_AUC: 0.9699 - val_accuracy: 0.9146 - val_loss: 0.4678\n",
      "Epoch 32/100\n",
      "\u001b[1m163/163\u001b[0m \u001b[32m━━━━━━━━━━━━━━━━━━━━\u001b[0m\u001b[37m\u001b[0m \u001b[1m2s\u001b[0m 12ms/step - AUC: 0.9590 - accuracy: 0.8228 - loss: 0.2932 - val_AUC: 0.9537 - val_accuracy: 0.8548 - val_loss: 0.4621\n",
      "Epoch 33/100\n",
      "\u001b[1m163/163\u001b[0m \u001b[32m━━━━━━━━━━━━━━━━━━━━\u001b[0m\u001b[37m\u001b[0m \u001b[1m2s\u001b[0m 14ms/step - AUC: 0.9460 - accuracy: 0.7919 - loss: 0.3221 - val_AUC: 0.9571 - val_accuracy: 0.8523 - val_loss: 0.4734\n",
      "Epoch 34/100\n",
      "\u001b[1m163/163\u001b[0m \u001b[32m━━━━━━━━━━━━━━━━━━━━\u001b[0m\u001b[37m\u001b[0m \u001b[1m5s\u001b[0m 27ms/step - AUC: 0.9676 - accuracy: 0.8476 - loss: 0.2277 - val_AUC: 0.9708 - val_accuracy: 0.8989 - val_loss: 0.4203\n",
      "Epoch 35/100\n",
      "\u001b[1m163/163\u001b[0m \u001b[32m━━━━━━━━━━━━━━━━━━━━\u001b[0m\u001b[37m\u001b[0m \u001b[1m2s\u001b[0m 9ms/step - AUC: 0.9682 - accuracy: 0.8415 - loss: 0.2326 - val_AUC: 0.9692 - val_accuracy: 0.8879 - val_loss: 0.4240\n",
      "Epoch 36/100\n",
      "\u001b[1m163/163\u001b[0m \u001b[32m━━━━━━━━━━━━━━━━━━━━\u001b[0m\u001b[37m\u001b[0m \u001b[1m2s\u001b[0m 9ms/step - AUC: 0.9743 - accuracy: 0.8563 - loss: 0.2015 - val_AUC: 0.9488 - val_accuracy: 0.8256 - val_loss: 0.5167\n",
      "Epoch 37/100\n",
      "\u001b[1m163/163\u001b[0m \u001b[32m━━━━━━━━━━━━━━━━━━━━\u001b[0m\u001b[37m\u001b[0m \u001b[1m1s\u001b[0m 8ms/step - AUC: 0.9652 - accuracy: 0.8311 - loss: 0.2420 - val_AUC: 0.9711 - val_accuracy: 0.9268 - val_loss: 0.5617\n",
      "Epoch 38/100\n",
      "\u001b[1m163/163\u001b[0m \u001b[32m━━━━━━━━━━━━━━━━━━━━\u001b[0m\u001b[37m\u001b[0m \u001b[1m1s\u001b[0m 9ms/step - AUC: 0.9716 - accuracy: 0.8470 - loss: 0.2121 - val_AUC: 0.9689 - val_accuracy: 0.8900 - val_loss: 0.4647\n",
      "Epoch 39/100\n",
      "\u001b[1m163/163\u001b[0m \u001b[32m━━━━━━━━━━━━━━━━━━━━\u001b[0m\u001b[37m\u001b[0m \u001b[1m1s\u001b[0m 8ms/step - AUC: 0.9721 - accuracy: 0.8526 - loss: 0.2454 - val_AUC: 0.9504 - val_accuracy: 0.8252 - val_loss: 0.5625\n",
      "Epoch 40/100\n",
      "\u001b[1m163/163\u001b[0m \u001b[32m━━━━━━━━━━━━━━━━━━━━\u001b[0m\u001b[37m\u001b[0m \u001b[1m2s\u001b[0m 10ms/step - AUC: 0.9719 - accuracy: 0.8471 - loss: 0.2026 - val_AUC: 0.9712 - val_accuracy: 0.9312 - val_loss: 0.5364\n",
      "Epoch 41/100\n",
      "\u001b[1m163/163\u001b[0m \u001b[32m━━━━━━━━━━━━━━━━━━━━\u001b[0m\u001b[37m\u001b[0m \u001b[1m2s\u001b[0m 11ms/step - AUC: 0.9838 - accuracy: 0.8774 - loss: 0.1538 - val_AUC: 0.9689 - val_accuracy: 0.9094 - val_loss: 0.6030\n",
      "Epoch 42/100\n",
      "\u001b[1m163/163\u001b[0m \u001b[32m━━━━━━━━━━━━━━━━━━━━\u001b[0m\u001b[37m\u001b[0m \u001b[1m2s\u001b[0m 10ms/step - AUC: 0.9867 - accuracy: 0.8939 - loss: 0.1357 - val_AUC: 0.9672 - val_accuracy: 0.8839 - val_loss: 0.5775\n",
      "Epoch 43/100\n",
      "\u001b[1m163/163\u001b[0m \u001b[32m━━━━━━━━━━━━━━━━━━━━\u001b[0m\u001b[37m\u001b[0m \u001b[1m2s\u001b[0m 11ms/step - AUC: 0.9799 - accuracy: 0.8730 - loss: 0.1642 - val_AUC: 0.9182 - val_accuracy: 0.7516 - val_loss: 0.7846\n",
      "Epoch 44/100\n",
      "\u001b[1m163/163\u001b[0m \u001b[32m━━━━━━━━━━━━━━━━━━━━\u001b[0m\u001b[37m\u001b[0m \u001b[1m2s\u001b[0m 11ms/step - AUC: 0.9714 - accuracy: 0.8537 - loss: 0.2020 - val_AUC: 0.9658 - val_accuracy: 0.8823 - val_loss: 0.4842\n",
      "Epoch 45/100\n",
      "\u001b[1m163/163\u001b[0m \u001b[32m━━━━━━━━━━━━━━━━━━━━\u001b[0m\u001b[37m\u001b[0m \u001b[1m2s\u001b[0m 12ms/step - AUC: 0.9843 - accuracy: 0.8822 - loss: 0.1578 - val_AUC: 0.9699 - val_accuracy: 0.9324 - val_loss: 0.7312\n",
      "Epoch 46/100\n",
      "\u001b[1m163/163\u001b[0m \u001b[32m━━━━━━━━━━━━━━━━━━━━\u001b[0m\u001b[37m\u001b[0m \u001b[1m2s\u001b[0m 12ms/step - AUC: 0.9886 - accuracy: 0.9015 - loss: 0.1317 - val_AUC: 0.9584 - val_accuracy: 0.8548 - val_loss: 0.6524\n",
      "Epoch 47/100\n",
      "\u001b[1m163/163\u001b[0m \u001b[32m━━━━━━━━━━━━━━━━━━━━\u001b[0m\u001b[37m\u001b[0m \u001b[1m2s\u001b[0m 14ms/step - AUC: 0.9828 - accuracy: 0.8827 - loss: 0.1638 - val_AUC: 0.9704 - val_accuracy: 0.9264 - val_loss: 0.6903\n",
      "Epoch 48/100\n",
      "\u001b[1m163/163\u001b[0m \u001b[32m━━━━━━━━━━━━━━━━━━━━\u001b[0m\u001b[37m\u001b[0m \u001b[1m2s\u001b[0m 9ms/step - AUC: 0.9884 - accuracy: 0.9103 - loss: 0.1339 - val_AUC: 0.9073 - val_accuracy: 0.7722 - val_loss: 1.0945\n",
      "Epoch 49/100\n",
      "\u001b[1m163/163\u001b[0m \u001b[32m━━━━━━━━━━━━━━━━━━━━\u001b[0m\u001b[37m\u001b[0m \u001b[1m1s\u001b[0m 8ms/step - AUC: 0.9514 - accuracy: 0.8042 - loss: 0.3321 - val_AUC: 0.9705 - val_accuracy: 0.9183 - val_loss: 0.5964\n",
      "Epoch 50/100\n",
      "\u001b[1m163/163\u001b[0m \u001b[32m━━━━━━━━━━━━━━━━━━━━\u001b[0m\u001b[37m\u001b[0m \u001b[1m2s\u001b[0m 10ms/step - AUC: 0.9726 - accuracy: 0.8660 - loss: 0.2580 - val_AUC: 0.9667 - val_accuracy: 0.8790 - val_loss: 0.5452\n",
      "Epoch 51/100\n",
      "\u001b[1m163/163\u001b[0m \u001b[32m━━━━━━━━━━━━━━━━━━━━\u001b[0m\u001b[37m\u001b[0m \u001b[1m1s\u001b[0m 9ms/step - AUC: 0.9869 - accuracy: 0.8987 - loss: 0.1356 - val_AUC: 0.9710 - val_accuracy: 0.9361 - val_loss: 0.6896\n",
      "Epoch 52/100\n",
      "\u001b[1m163/163\u001b[0m \u001b[32m━━━━━━━━━━━━━━━━━━━━\u001b[0m\u001b[37m\u001b[0m \u001b[1m1s\u001b[0m 7ms/step - AUC: 0.9896 - accuracy: 0.9123 - loss: 0.1264 - val_AUC: 0.9697 - val_accuracy: 0.9061 - val_loss: 0.5153\n",
      "Epoch 53/100\n",
      "\u001b[1m163/163\u001b[0m \u001b[32m━━━━━━━━━━━━━━━━━━━━\u001b[0m\u001b[37m\u001b[0m \u001b[1m1s\u001b[0m 7ms/step - AUC: 0.9902 - accuracy: 0.9164 - loss: 0.1139 - val_AUC: 0.9690 - val_accuracy: 0.9114 - val_loss: 0.6583\n",
      "Epoch 54/100\n",
      "\u001b[1m163/163\u001b[0m \u001b[32m━━━━━━━━━━━━━━━━━━━━\u001b[0m\u001b[37m\u001b[0m \u001b[1m1s\u001b[0m 7ms/step - AUC: 0.9933 - accuracy: 0.9298 - loss: 0.0924 - val_AUC: 0.9720 - val_accuracy: 0.9320 - val_loss: 0.6296\n",
      "Epoch 55/100\n",
      "\u001b[1m163/163\u001b[0m \u001b[32m━━━━━━━━━━━━━━━━━━━━\u001b[0m\u001b[37m\u001b[0m \u001b[1m1s\u001b[0m 6ms/step - AUC: 0.9903 - accuracy: 0.9211 - loss: 0.1188 - val_AUC: 0.9717 - val_accuracy: 0.9361 - val_loss: 0.7009\n",
      "Epoch 56/100\n",
      "\u001b[1m163/163\u001b[0m \u001b[32m━━━━━━━━━━━━━━━━━━━━\u001b[0m\u001b[37m\u001b[0m \u001b[1m1s\u001b[0m 6ms/step - AUC: 0.9942 - accuracy: 0.9374 - loss: 0.0883 - val_AUC: 0.9697 - val_accuracy: 0.9324 - val_loss: 0.7873\n",
      "Epoch 57/100\n",
      "\u001b[1m163/163\u001b[0m \u001b[32m━━━━━━━━━━━━━━━━━━━━\u001b[0m\u001b[37m\u001b[0m \u001b[1m1s\u001b[0m 7ms/step - AUC: 0.9920 - accuracy: 0.9281 - loss: 0.1087 - val_AUC: 0.9698 - val_accuracy: 0.9159 - val_loss: 0.7252\n",
      "Epoch 58/100\n",
      "\u001b[1m163/163\u001b[0m \u001b[32m━━━━━━━━━━━━━━━━━━━━\u001b[0m\u001b[37m\u001b[0m \u001b[1m1s\u001b[0m 6ms/step - AUC: 0.9902 - accuracy: 0.9190 - loss: 0.1309 - val_AUC: 0.9703 - val_accuracy: 0.9373 - val_loss: 0.9463\n",
      "Epoch 59/100\n",
      "\u001b[1m163/163\u001b[0m \u001b[32m━━━━━━━━━━━━━━━━━━━━\u001b[0m\u001b[37m\u001b[0m \u001b[1m1s\u001b[0m 6ms/step - AUC: 0.9969 - accuracy: 0.9571 - loss: 0.0571 - val_AUC: 0.9694 - val_accuracy: 0.9442 - val_loss: 1.0695\n",
      "Epoch 60/100\n",
      "\u001b[1m163/163\u001b[0m \u001b[32m━━━━━━━━━━━━━━━━━━━━\u001b[0m\u001b[37m\u001b[0m \u001b[1m1s\u001b[0m 6ms/step - AUC: 0.9922 - accuracy: 0.9447 - loss: 0.0801 - val_AUC: 0.9692 - val_accuracy: 0.9482 - val_loss: 1.2828\n",
      "Epoch 61/100\n",
      "\u001b[1m163/163\u001b[0m \u001b[32m━━━━━━━━━━━━━━━━━━━━\u001b[0m\u001b[37m\u001b[0m \u001b[1m1s\u001b[0m 6ms/step - AUC: 0.9974 - accuracy: 0.9635 - loss: 0.0481 - val_AUC: 0.9677 - val_accuracy: 0.9502 - val_loss: 1.5512\n",
      "Epoch 62/100\n",
      "\u001b[1m163/163\u001b[0m \u001b[32m━━━━━━━━━━━━━━━━━━━━\u001b[0m\u001b[37m\u001b[0m \u001b[1m1s\u001b[0m 5ms/step - AUC: 0.9981 - accuracy: 0.9701 - loss: 0.0391 - val_AUC: 0.9675 - val_accuracy: 0.9381 - val_loss: 1.1329\n",
      "Epoch 63/100\n",
      "\u001b[1m163/163\u001b[0m \u001b[32m━━━━━━━━━━━━━━━━━━━━\u001b[0m\u001b[37m\u001b[0m \u001b[1m1s\u001b[0m 5ms/step - AUC: 0.9940 - accuracy: 0.9508 - loss: 0.0871 - val_AUC: 0.9629 - val_accuracy: 0.9280 - val_loss: 0.9436\n",
      "Epoch 64/100\n",
      "\u001b[1m163/163\u001b[0m \u001b[32m━━━━━━━━━━━━━━━━━━━━\u001b[0m\u001b[37m\u001b[0m \u001b[1m1s\u001b[0m 5ms/step - AUC: 0.8683 - accuracy: 0.6902 - loss: 1.3862 - val_AUC: 0.9607 - val_accuracy: 0.8734 - val_loss: 0.4513\n",
      "Epoch 65/100\n",
      "\u001b[1m163/163\u001b[0m \u001b[32m━━━━━━━━━━━━━━━━━━━━\u001b[0m\u001b[37m\u001b[0m \u001b[1m1s\u001b[0m 5ms/step - AUC: 0.9687 - accuracy: 0.8482 - loss: 0.2551 - val_AUC: 0.9710 - val_accuracy: 0.9296 - val_loss: 0.5405\n",
      "Epoch 66/100\n",
      "\u001b[1m163/163\u001b[0m \u001b[32m━━━━━━━━━━━━━━━━━━━━\u001b[0m\u001b[37m\u001b[0m \u001b[1m1s\u001b[0m 6ms/step - AUC: 0.9915 - accuracy: 0.9253 - loss: 0.1244 - val_AUC: 0.9691 - val_accuracy: 0.9422 - val_loss: 0.8368\n",
      "Epoch 67/100\n",
      "\u001b[1m163/163\u001b[0m \u001b[32m━━━━━━━━━━━━━━━━━━━━\u001b[0m\u001b[37m\u001b[0m \u001b[1m1s\u001b[0m 6ms/step - AUC: 0.9939 - accuracy: 0.9378 - loss: 0.0973 - val_AUC: 0.9682 - val_accuracy: 0.9304 - val_loss: 0.9352\n",
      "Epoch 68/100\n",
      "\u001b[1m163/163\u001b[0m \u001b[32m━━━━━━━━━━━━━━━━━━━━\u001b[0m\u001b[37m\u001b[0m \u001b[1m1s\u001b[0m 5ms/step - AUC: 0.9952 - accuracy: 0.9433 - loss: 0.0760 - val_AUC: 0.9687 - val_accuracy: 0.9470 - val_loss: 1.1789\n",
      "Epoch 69/100\n",
      "\u001b[1m163/163\u001b[0m \u001b[32m━━━━━━━━━━━━━━━━━━━━\u001b[0m\u001b[37m\u001b[0m \u001b[1m1s\u001b[0m 6ms/step - AUC: 0.9961 - accuracy: 0.9544 - loss: 0.0657 - val_AUC: 0.9683 - val_accuracy: 0.9397 - val_loss: 1.1350\n",
      "Epoch 70/100\n",
      "\u001b[1m163/163\u001b[0m \u001b[32m━━━━━━━━━━━━━━━━━━━━\u001b[0m\u001b[37m\u001b[0m \u001b[1m1s\u001b[0m 6ms/step - AUC: 0.9974 - accuracy: 0.9693 - loss: 0.0465 - val_AUC: 0.9683 - val_accuracy: 0.9426 - val_loss: 1.2787\n",
      "Epoch 71/100\n",
      "\u001b[1m163/163\u001b[0m \u001b[32m━━━━━━━━━━━━━━━━━━━━\u001b[0m\u001b[37m\u001b[0m \u001b[1m1s\u001b[0m 5ms/step - AUC: 0.9971 - accuracy: 0.9618 - loss: 0.0509 - val_AUC: 0.9577 - val_accuracy: 0.9118 - val_loss: 1.2530\n",
      "Epoch 72/100\n",
      "\u001b[1m163/163\u001b[0m \u001b[32m━━━━━━━━━━━━━━━━━━━━\u001b[0m\u001b[37m\u001b[0m \u001b[1m1s\u001b[0m 5ms/step - AUC: 0.9935 - accuracy: 0.9424 - loss: 0.0864 - val_AUC: 0.9689 - val_accuracy: 0.9438 - val_loss: 1.0453\n",
      "Epoch 73/100\n",
      "\u001b[1m163/163\u001b[0m \u001b[32m━━━━━━━━━━━━━━━━━━━━\u001b[0m\u001b[37m\u001b[0m \u001b[1m1s\u001b[0m 5ms/step - AUC: 0.9939 - accuracy: 0.9431 - loss: 0.0832 - val_AUC: 0.9696 - val_accuracy: 0.9422 - val_loss: 0.7633\n",
      "Epoch 74/100\n",
      "\u001b[1m163/163\u001b[0m \u001b[32m━━━━━━━━━━━━━━━━━━━━\u001b[0m\u001b[37m\u001b[0m \u001b[1m1s\u001b[0m 5ms/step - AUC: 0.9986 - accuracy: 0.9738 - loss: 0.0379 - val_AUC: 0.9676 - val_accuracy: 0.9474 - val_loss: 1.1646\n",
      "Epoch 75/100\n",
      "\u001b[1m163/163\u001b[0m \u001b[32m━━━━━━━━━━━━━━━━━━━━\u001b[0m\u001b[37m\u001b[0m \u001b[1m1s\u001b[0m 5ms/step - AUC: 0.9984 - accuracy: 0.9747 - loss: 0.0387 - val_AUC: 0.9681 - val_accuracy: 0.9288 - val_loss: 0.6930\n",
      "Epoch 76/100\n",
      "\u001b[1m163/163\u001b[0m \u001b[32m━━━━━━━━━━━━━━━━━━━━\u001b[0m\u001b[37m\u001b[0m \u001b[1m1s\u001b[0m 5ms/step - AUC: 0.9906 - accuracy: 0.9295 - loss: 0.1594 - val_AUC: 0.9675 - val_accuracy: 0.9276 - val_loss: 0.6985\n",
      "Epoch 77/100\n",
      "\u001b[1m163/163\u001b[0m \u001b[32m━━━━━━━━━━━━━━━━━━━━\u001b[0m\u001b[37m\u001b[0m \u001b[1m1s\u001b[0m 5ms/step - AUC: 0.9942 - accuracy: 0.9465 - loss: 0.0871 - val_AUC: 0.9685 - val_accuracy: 0.9377 - val_loss: 0.9043\n",
      "Epoch 78/100\n",
      "\u001b[1m163/163\u001b[0m \u001b[32m━━━━━━━━━━━━━━━━━━━━\u001b[0m\u001b[37m\u001b[0m \u001b[1m1s\u001b[0m 5ms/step - AUC: 0.9952 - accuracy: 0.9501 - loss: 0.1134 - val_AUC: 0.9662 - val_accuracy: 0.9223 - val_loss: 0.8860\n",
      "Epoch 79/100\n",
      "\u001b[1m163/163\u001b[0m \u001b[32m━━━━━━━━━━━━━━━━━━━━\u001b[0m\u001b[37m\u001b[0m \u001b[1m1s\u001b[0m 7ms/step - AUC: 0.9973 - accuracy: 0.9669 - loss: 0.0512 - val_AUC: 0.9688 - val_accuracy: 0.9401 - val_loss: 0.8853\n",
      "Epoch 80/100\n",
      "\u001b[1m163/163\u001b[0m \u001b[32m━━━━━━━━━━━━━━━━━━━━\u001b[0m\u001b[37m\u001b[0m \u001b[1m1s\u001b[0m 6ms/step - AUC: 0.9961 - accuracy: 0.9605 - loss: 0.0894 - val_AUC: 0.9668 - val_accuracy: 0.9167 - val_loss: 0.6890\n",
      "Epoch 81/100\n",
      "\u001b[1m163/163\u001b[0m \u001b[32m━━━━━━━━━━━━━━━━━━━━\u001b[0m\u001b[37m\u001b[0m \u001b[1m1s\u001b[0m 5ms/step - AUC: 0.9954 - accuracy: 0.9478 - loss: 0.0738 - val_AUC: 0.9678 - val_accuracy: 0.9385 - val_loss: 0.8037\n",
      "Epoch 82/100\n",
      "\u001b[1m163/163\u001b[0m \u001b[32m━━━━━━━━━━━━━━━━━━━━\u001b[0m\u001b[37m\u001b[0m \u001b[1m1s\u001b[0m 6ms/step - AUC: 0.9985 - accuracy: 0.9782 - loss: 0.0308 - val_AUC: 0.9653 - val_accuracy: 0.9292 - val_loss: 0.8636\n",
      "Epoch 83/100\n",
      "\u001b[1m163/163\u001b[0m \u001b[32m━━━━━━━━━━━━━━━━━━━━\u001b[0m\u001b[37m\u001b[0m \u001b[1m1s\u001b[0m 6ms/step - AUC: 0.9986 - accuracy: 0.9772 - loss: 0.0299 - val_AUC: 0.9661 - val_accuracy: 0.9478 - val_loss: 1.0919\n",
      "Epoch 84/100\n",
      "\u001b[1m163/163\u001b[0m \u001b[32m━━━━━━━━━━━━━━━━━━━━\u001b[0m\u001b[37m\u001b[0m \u001b[1m1s\u001b[0m 5ms/step - AUC: 0.9994 - accuracy: 0.9886 - loss: 0.0181 - val_AUC: 0.9675 - val_accuracy: 0.9498 - val_loss: 1.2389\n",
      "Epoch 85/100\n",
      "\u001b[1m163/163\u001b[0m \u001b[32m━━━━━━━━━━━━━━━━━━━━\u001b[0m\u001b[37m\u001b[0m \u001b[1m1s\u001b[0m 5ms/step - AUC: 0.9997 - accuracy: 0.9873 - loss: 0.0157 - val_AUC: 0.9666 - val_accuracy: 0.9511 - val_loss: 1.4182\n",
      "Epoch 86/100\n",
      "\u001b[1m163/163\u001b[0m \u001b[32m━━━━━━━━━━━━━━━━━━━━\u001b[0m\u001b[37m\u001b[0m \u001b[1m1s\u001b[0m 6ms/step - AUC: 0.9996 - accuracy: 0.9937 - loss: 0.0138 - val_AUC: 0.9654 - val_accuracy: 0.9450 - val_loss: 1.3911\n",
      "Epoch 87/100\n",
      "\u001b[1m163/163\u001b[0m \u001b[32m━━━━━━━━━━━━━━━━━━━━\u001b[0m\u001b[37m\u001b[0m \u001b[1m1s\u001b[0m 7ms/step - AUC: 0.9998 - accuracy: 0.9929 - loss: 0.0097 - val_AUC: 0.9651 - val_accuracy: 0.9486 - val_loss: 1.5683\n",
      "Epoch 88/100\n",
      "\u001b[1m163/163\u001b[0m \u001b[32m━━━━━━━━━━━━━━━━━━━━\u001b[0m\u001b[37m\u001b[0m \u001b[1m1s\u001b[0m 6ms/step - AUC: 0.9997 - accuracy: 0.9919 - loss: 0.0095 - val_AUC: 0.9658 - val_accuracy: 0.9434 - val_loss: 1.6571\n",
      "Epoch 89/100\n",
      "\u001b[1m163/163\u001b[0m \u001b[32m━━━━━━━━━━━━━━━━━━━━\u001b[0m\u001b[37m\u001b[0m \u001b[1m1s\u001b[0m 6ms/step - AUC: 0.9996 - accuracy: 0.9962 - loss: 0.0070 - val_AUC: 0.9664 - val_accuracy: 0.9401 - val_loss: 1.3835\n",
      "Epoch 90/100\n",
      "\u001b[1m163/163\u001b[0m \u001b[32m━━━━━━━━━━━━━━━━━━━━\u001b[0m\u001b[37m\u001b[0m \u001b[1m1s\u001b[0m 5ms/step - AUC: 0.9941 - accuracy: 0.9570 - loss: 0.0703 - val_AUC: 0.9694 - val_accuracy: 0.9341 - val_loss: 0.6571\n",
      "Epoch 91/100\n",
      "\u001b[1m163/163\u001b[0m \u001b[32m━━━━━━━━━━━━━━━━━━━━\u001b[0m\u001b[37m\u001b[0m \u001b[1m1s\u001b[0m 6ms/step - AUC: 0.9928 - accuracy: 0.9403 - loss: 0.0904 - val_AUC: 0.9684 - val_accuracy: 0.9345 - val_loss: 0.6739\n",
      "Epoch 92/100\n",
      "\u001b[1m163/163\u001b[0m \u001b[32m━━━━━━━━━━━━━━━━━━━━\u001b[0m\u001b[37m\u001b[0m \u001b[1m1s\u001b[0m 5ms/step - AUC: 0.9938 - accuracy: 0.9474 - loss: 0.0953 - val_AUC: 0.9669 - val_accuracy: 0.9430 - val_loss: 0.8422\n",
      "Epoch 93/100\n",
      "\u001b[1m163/163\u001b[0m \u001b[32m━━━━━━━━━━━━━━━━━━━━\u001b[0m\u001b[37m\u001b[0m \u001b[1m1s\u001b[0m 5ms/step - AUC: 0.9946 - accuracy: 0.9613 - loss: 0.0794 - val_AUC: 0.9672 - val_accuracy: 0.9494 - val_loss: 1.0393\n",
      "Epoch 94/100\n",
      "\u001b[1m163/163\u001b[0m \u001b[32m━━━━━━━━━━━━━━━━━━━━\u001b[0m\u001b[37m\u001b[0m \u001b[1m1s\u001b[0m 6ms/step - AUC: 0.9985 - accuracy: 0.9754 - loss: 0.0383 - val_AUC: 0.9673 - val_accuracy: 0.9231 - val_loss: 0.8336\n",
      "Epoch 95/100\n",
      "\u001b[1m163/163\u001b[0m \u001b[32m━━━━━━━━━━━━━━━━━━━━\u001b[0m\u001b[37m\u001b[0m \u001b[1m1s\u001b[0m 5ms/step - AUC: 0.9971 - accuracy: 0.9627 - loss: 0.0744 - val_AUC: 0.9665 - val_accuracy: 0.9296 - val_loss: 0.9353\n",
      "Epoch 96/100\n",
      "\u001b[1m163/163\u001b[0m \u001b[32m━━━━━━━━━━━━━━━━━━━━\u001b[0m\u001b[37m\u001b[0m \u001b[1m1s\u001b[0m 6ms/step - AUC: 0.9996 - accuracy: 0.9808 - loss: 0.0211 - val_AUC: 0.9660 - val_accuracy: 0.9490 - val_loss: 1.2586\n",
      "Epoch 97/100\n",
      "\u001b[1m163/163\u001b[0m \u001b[32m━━━━━━━━━━━━━━━━━━━━\u001b[0m\u001b[37m\u001b[0m \u001b[1m1s\u001b[0m 6ms/step - AUC: 0.9998 - accuracy: 0.9930 - loss: 0.0113 - val_AUC: 0.9657 - val_accuracy: 0.9482 - val_loss: 1.2712\n",
      "Epoch 98/100\n",
      "\u001b[1m163/163\u001b[0m \u001b[32m━━━━━━━━━━━━━━━━━━━━\u001b[0m\u001b[37m\u001b[0m \u001b[1m1s\u001b[0m 6ms/step - AUC: 0.9998 - accuracy: 0.9962 - loss: 0.0091 - val_AUC: 0.9658 - val_accuracy: 0.9478 - val_loss: 1.3916\n",
      "Epoch 99/100\n",
      "\u001b[1m163/163\u001b[0m \u001b[32m━━━━━━━━━━━━━━━━━━━━\u001b[0m\u001b[37m\u001b[0m \u001b[1m1s\u001b[0m 6ms/step - AUC: 0.9997 - accuracy: 0.9976 - loss: 0.0059 - val_AUC: 0.9656 - val_accuracy: 0.9486 - val_loss: 1.5340\n",
      "Epoch 100/100\n",
      "\u001b[1m163/163\u001b[0m \u001b[32m━━━━━━━━━━━━━━━━━━━━\u001b[0m\u001b[37m\u001b[0m \u001b[1m1s\u001b[0m 7ms/step - AUC: 1.0000 - accuracy: 0.9969 - loss: 0.0047 - val_AUC: 0.9659 - val_accuracy: 0.9506 - val_loss: 1.6320\n"
     ]
    },
    {
     "data": {
      "text/plain": [
       "<keras.src.callbacks.history.History at 0x1df852d9990>"
      ]
     },
     "execution_count": 15,
     "metadata": {},
     "output_type": "execute_result"
    }
   ],
   "source": [
    "# Construir el modelo CNN-LSTM\n",
    "model = Sequential()\n",
    "model.add(Conv1D(32, 3, activation='relu', input_shape=(timesteps, X_train_scaled.shape[1])))\n",
    "model.add(MaxPooling1D(2))\n",
    "#model.add(LSTM(128, activation='relu', return_sequences=True))\n",
    "model.add(LSTM(64, activation='relu'))\n",
    "model.add(Dense(32, activation='relu'))\n",
    "model.add(Dense(3, activation='softmax'))\n",
    "\n",
    "# Compilar el modelo\n",
    "model.compile(optimizer='adam', loss='categorical_crossentropy', metrics=['accuracy', 'AUC'])\n",
    "\n",
    "# Entrenar el modelo\n",
    "model.fit(X_train_reshaped, y_train_categorical, epochs=100, batch_size=24,\n",
    "          validation_data=(X_test_reshaped, y_test_categorical), class_weight=class_weights_dict)\n",
    "\n"
   ]
  },
  {
   "cell_type": "code",
   "execution_count": 11,
   "metadata": {
    "colab": {
     "base_uri": "https://localhost:8080/"
    },
    "id": "Hq-cWmEVxsKB",
    "outputId": "da098090-b3eb-42be-e96f-728e1712343b"
   },
   "outputs": [
    {
     "name": "stdout",
     "output_type": "stream",
     "text": [
      "\u001b[1m78/78\u001b[0m \u001b[32m━━━━━━━━━━━━━━━━━━━━\u001b[0m\u001b[37m\u001b[0m \u001b[1m1s\u001b[0m 6ms/step\n",
      "{0: 2362, 1: 94, 2: 16}\n",
      "{0: 2424, 1: 47, 2: 1}\n"
     ]
    }
   ],
   "source": [
    "# Predecir las etiquetas para el conjunto de prueba\n",
    "y_pred_proba = model.predict(X_test_reshaped)\n",
    "y_pred = np.argmax(y_pred_proba, axis=1)\n",
    "# Contamos las ocurrencias de cada nivel de estrés\n",
    "valores_unicos, conteos = np.unique(y_test, return_counts=True)\n",
    "valores_unicos1, conteos1 = np.unique(y_pred, return_counts=True)\n",
    "# Combina los valores únicos y sus conteos en un diccionario para facilitar la visualización\n",
    "ocurrencias = dict(zip(valores_unicos, conteos))\n",
    "ocurrenciaspre = dict(zip(valores_unicos1, conteos1))\n",
    "# Mostramos el resultado\n",
    "#print(conteo_nivel_estres)\n",
    "print(ocurrencias)\n",
    "print(ocurrenciaspre)"
   ]
  },
  {
   "cell_type": "markdown",
   "metadata": {
    "id": "r_WwX96g31SC"
   },
   "source": [
    "# EVALUACION DEL ALGORITMO"
   ]
  },
  {
   "cell_type": "code",
   "execution_count": 12,
   "metadata": {},
   "outputs": [
    {
     "name": "stdout",
     "output_type": "stream",
     "text": [
      "\u001b[1m78/78\u001b[0m \u001b[32m━━━━━━━━━━━━━━━━━━━━\u001b[0m\u001b[37m\u001b[0m \u001b[1m1s\u001b[0m 5ms/step - AUC: 0.9812 - accuracy: 0.9616 - loss: 0.6236\n",
      "Acuracy: 0.9381067752838135\n",
      "AUC en prueba: 0.9680998921394348\n"
     ]
    }
   ],
   "source": [
    "test_loss,test_acuracy , test_auc = model.evaluate(X_test_reshaped, y_test_categorical)\n",
    "print(f\"Acuracy: {test_acuracy}\")\n",
    "print(f\"AUC en prueba: {test_auc}\")"
   ]
  },
  {
   "cell_type": "code",
   "execution_count": 13,
   "metadata": {
    "colab": {
     "base_uri": "https://localhost:8080/"
    },
    "id": "OWISIj2Nx4KC",
    "outputId": "69dc4ea4-2114-458b-9b9b-093076faaf3e"
   },
   "outputs": [
    {
     "name": "stdout",
     "output_type": "stream",
     "text": [
      "Accuracy: 0.9381067961165048\n",
      "Precision: 0.9149420706633771\n",
      "Recall: 0.9381067961165048\n",
      "F1 Score: 0.9262343061906106\n",
      "ROC AUC: 0.5900283082868768\n"
     ]
    }
   ],
   "source": [
    "# EVALUACION DEL MODELO\n",
    "from sklearn.preprocessing import label_binarize\n",
    "y_pred2 = label_binarize(y_pred, classes=[0, 1, 2])\n",
    "# Calcular las métricas de evaluación\n",
    "accuracy = accuracy_score(y_test, y_pred)\n",
    "precision = precision_score(y_test, y_pred, average='weighted')\n",
    "recall = recall_score(y_test, y_pred, average='weighted')\n",
    "f1 = f1_score(y_test, y_pred, average='weighted')\n",
    "# Calcular el AUC\n",
    "roc_auc = roc_auc_score(y_test_categorical, y_pred_proba, multi_class='ovo')\n",
    "\n",
    "# Mostrar métricas\n",
    "print(\"Accuracy:\", accuracy)\n",
    "print(\"Precision:\", precision)\n",
    "print(\"Recall:\", recall)\n",
    "print(\"F1 Score:\", f1)\n",
    "print(\"ROC AUC:\", roc_auc)"
   ]
  },
  {
   "cell_type": "code",
   "execution_count": 14,
   "metadata": {},
   "outputs": [
    {
     "data": {
      "image/png": "[encoded data removed]",
      "text/plain": [
       "<Figure size 640x480 with 1 Axes>"
      ]
     },
     "metadata": {},
     "output_type": "display_data"
    }
   ],
   "source": [
    "fpr = {}\n",
    "tpr = {}\n",
    "roc_auc = {}\n",
    "\n",
    "for i in range(3):\n",
    "    fpr[i], tpr[i], _ = roc_curve(y_test_categorical[:, i], y_pred_proba[:, i])\n",
    "    roc_auc[i] = auc(fpr[i], tpr[i])\n",
    "\n",
    "# Graficar las curvas ROC\n",
    "plt.figure()\n",
    "for i in range(3):\n",
    "    plt.plot(fpr[i], tpr[i], label=f'Clase {i} (AUC = {roc_auc[i]:.2f})')\n",
    "\n",
    "# Extraer los valores\n",
    "values = roc_auc.values()\n",
    "# Calcular la media\n",
    "mean_auc = sum(values) / len(values)\n",
    "\n",
    "plt.plot([0, 1], [0, 1], 'b--', label=f\"Mean AUC = {mean_auc:.2f}\", alpha=0.5)\n",
    "plt.xlim([0.0, 1.0])\n",
    "plt.ylim([0.0, 1.05])\n",
    "plt.xlabel('Tasa de Falsos Positivos')\n",
    "plt.ylabel('Tasa de Verdaderos Positivos')\n",
    "plt.title('Curva ROC Multiclase')\n",
    "plt.legend(loc='lower right')\n",
    "#plt.savefig(f'../Curva_Roc/{nombre_csv}_roc_LSTM.png', format='png', dpi=300)\n",
    "plt.show()"
   ]
  }
 ],
 "metadata": {
  "colab": {
   "provenance": []
  },
  "kernelspec": {
   "display_name": "Python 3",
   "name": "python3"
  },
  "language_info": {
   "codemirror_mode": {
    "name": "ipython",
    "version": 3
   },
   "file_extension": ".py",
   "mimetype": "text/x-python",
   "name": "python",
   "nbconvert_exporter": "python",
   "pygments_lexer": "ipython3",
   "version": "3.11.0"
  }
 },
 "nbformat": 4,
 "nbformat_minor": 0
}
