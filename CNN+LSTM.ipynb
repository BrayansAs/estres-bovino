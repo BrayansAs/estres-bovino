{
 "cells": [
  {
   "cell_type": "markdown",
   "metadata": {
    "id": "VaDJ6NbM4R4c"
   },
   "source": [
    "## Algoritmo LSTM"
   ]
  },
  {
   "cell_type": "code",
   "execution_count": 1,
   "metadata": {
    "id": "s_sVYocgwqjC"
   },
   "outputs": [],
   "source": [
    "# Importar las bibliotecas necesarias\n",
    "import pandas as pd\n",
    "import numpy as np\n",
    "import matplotlib.pyplot as plt\n",
    "#import plotly.graph_objects as go\n",
    "from collections import Counter\n",
    "from sklearn.metrics import accuracy_score, precision_score, recall_score, f1_score, roc_auc_score,roc_auc_score, roc_curve, auc\n",
    "from sklearn.preprocessing import StandardScaler, LabelEncoder\n",
    "from tensorflow.keras.models import Sequential\n",
    "from tensorflow.keras.layers import LSTM, Dense\n",
    "from tensorflow.keras.utils import to_categorical\n",
    "from sklearn.utils.class_weight import compute_class_weight\n",
    "\n",
    "import pandas as pd\n",
    "import numpy as np\n",
    "from sklearn.preprocessing import StandardScaler\n",
    "from sklearn.utils.class_weight import compute_class_weight\n",
    "from tensorflow.keras.utils import to_categorical\n",
    "from tensorflow.keras.models import Sequential\n",
    "from tensorflow.keras.layers import Conv1D, MaxPooling1D, LSTM, Dense, Flatten\n",
    "import tensorflow as tf\n"
   ]
  },
  {
   "cell_type": "code",
   "execution_count": 2,
   "metadata": {
    "collapsed": true,
    "id": "g8WDDqQaxRx4"
   },
   "outputs": [],
   "source": [
    "nombre_csv = 1\n",
    "de = pd.read_csv(f'Datos_entrenamiento/{nombre_csv}_e.csv')\n",
    "dp = pd.read_csv(f'Datos_prueba/{nombre_csv}_p.csv')"
   ]
  },
  {
   "cell_type": "markdown",
   "metadata": {},
   "source": [
    "# Procesamiento"
   ]
  },
  {
   "cell_type": "code",
   "execution_count": 3,
   "metadata": {
    "id": "tNzDx458xTz5"
   },
   "outputs": [
    {
     "name": "stdout",
     "output_type": "stream",
     "text": [
      "Nivel_estres_1\n",
      "normal     3359\n",
      "alerta      387\n",
      "peligro     190\n",
      "Name: count, dtype: int64\n",
      "Nivel_estres_1\n",
      "normal     2105\n",
      "alerta      273\n",
      "peligro     118\n",
      "Name: count, dtype: int64\n"
     ]
    }
   ],
   "source": [
    "# Contamos las ocurrencias de cada nivel de estrés en la nueva columna\n",
    "conteo_nivel_estresde = de['Nivel_estres_1'].value_counts()\n",
    "conteo_nivel_estresdp = dp['Nivel_estres_1'].value_counts()\n",
    "# Mostramos el resultado\n",
    "print(conteo_nivel_estresde)\n",
    "print(conteo_nivel_estresdp)"
   ]
  },
  {
   "cell_type": "code",
   "execution_count": 4,
   "metadata": {
    "id": "Xl9IHQwfxX6R"
   },
   "outputs": [],
   "source": [
    "# Crear un diccionario para mapear cada categoría única en la columna 'nivel_estres' a un número\n",
    "mapping = {'normal': 0, 'alerta': 1, 'peligro': 2}\n",
    "# Mapear las categorías a números utilizando el método map de pandas\n",
    "de['Nivel_estres_1'] = de['Nivel_estres_1'].map(mapping)\n",
    "dp['Nivel_estres_1'] = dp['Nivel_estres_1'].map(mapping)\n",
    "de['Nivel_estres_2'] = de['Nivel_estres_2'].map(mapping)\n",
    "dp['Nivel_estres_2'] = dp['Nivel_estres_2'].map(mapping)"
   ]
  },
  {
   "cell_type": "markdown",
   "metadata": {
    "id": "TVUnOhfZ1Ntc"
   },
   "source": [
    "# ALGORITMO DE CNN+LSTM"
   ]
  },
  {
   "cell_type": "code",
   "execution_count": 5,
   "metadata": {
    "id": "Lvzb3Kfcxe5h"
   },
   "outputs": [],
   "source": [
    "# Separar características y etiquetas del conjunto de entrenamiento\n",
    "X_train = de[['period eating','period other','period resting','period rumination']]\n",
    "y_train = de['Nivel_estres_1']\n",
    "# Separar características y etiquetas del conjunto de prueba\n",
    "X_test = dp[['period eating','period other','period resting','period rumination']]\n",
    "y_test = dp['Nivel_estres_1']"
   ]
  },
  {
   "cell_type": "code",
   "execution_count": 6,
   "metadata": {},
   "outputs": [],
   "source": [
    "# # Separar características y etiquetas del conjunto de entrenamiento\n",
    "# X_train = de[['period eating_count','period other_count','period resting_count','period rumination_count']]\n",
    "# y_train = de['Nivel_estres_2']\n",
    "# # Separar características y etiquetas del conjunto de prueba\n",
    "# X_test = dp[['period eating_count','period other_count','period resting_count','period rumination_count']]\n",
    "# y_test = dp['Nivel_estres_2']"
   ]
  },
  {
   "cell_type": "code",
   "execution_count": 7,
   "metadata": {
    "id": "juQN7hSuxhmY"
   },
   "outputs": [],
   "source": [
    "# Estandarizar las características\n",
    "scaler = StandardScaler()\n",
    "X_train_scaled = scaler.fit_transform(X_train)\n",
    "X_test_scaled = scaler.transform(X_test)\n"
   ]
  },
  {
   "cell_type": "code",
   "execution_count": 8,
   "metadata": {
    "id": "y48rGM_0xlNZ"
   },
   "outputs": [],
   "source": [
    "#Expandir a 24 horas de datos para capturar ciclo diario\n",
    "timesteps = 24\n",
    "X_train_reshaped = np.array([X_train_scaled[i:i + timesteps] for i in range(len(X_train_scaled) - timesteps)])\n",
    "y_train = y_train[timesteps:]\n",
    "X_test_reshaped = np.array([X_test_scaled[i:i + timesteps] for i in range(len(X_test_scaled) - timesteps)])\n",
    "y_test = y_test[timesteps:]"
   ]
  },
  {
   "cell_type": "code",
   "execution_count": 9,
   "metadata": {},
   "outputs": [],
   "source": [
    "#Ajuste de pesos: Calcular pesos de clase para manejar el desbalance\n",
    "class_weights = compute_class_weight(class_weight='balanced', classes=np.unique(y_train), y=y_train)\n",
    "#class_weights_dict = {i: weight for i, weight in enumerate(class_weights)}\n",
    "class_weights_dict = dict(enumerate(class_weights))"
   ]
  },
  {
   "cell_type": "code",
   "execution_count": 10,
   "metadata": {},
   "outputs": [],
   "source": [
    "# Convertir etiquetas a formato categórico\n",
    "y_train_categorical = to_categorical(y_train, num_classes=3)\n",
    "y_test_categorical = to_categorical(y_test, num_classes=3)"
   ]
  },
  {
   "cell_type": "code",
   "execution_count": 11,
   "metadata": {
    "id": "weTv5z_TxnD4"
   },
   "outputs": [
    {
     "name": "stderr",
     "output_type": "stream",
     "text": [
      "C:\\Users\\PC\\AppData\\Roaming\\Python\\Python311\\site-packages\\keras\\src\\layers\\convolutional\\base_conv.py:107: UserWarning: Do not pass an `input_shape`/`input_dim` argument to a layer. When using Sequential models, prefer using an `Input(shape)` object as the first layer in the model instead.\n",
      "  super().__init__(activity_regularizer=activity_regularizer, **kwargs)\n"
     ]
    },
    {
     "name": "stdout",
     "output_type": "stream",
     "text": [
      "Epoch 1/70\n",
      "\u001b[1m163/163\u001b[0m \u001b[32m━━━━━━━━━━━━━━━━━━━━\u001b[0m\u001b[37m\u001b[0m \u001b[1m4s\u001b[0m 8ms/step - AUC: 0.5729 - accuracy: 0.2714 - loss: 1.0941 - val_AUC: 0.8996 - val_accuracy: 0.8224 - val_loss: 0.6870\n",
      "Epoch 2/70\n",
      "\u001b[1m163/163\u001b[0m \u001b[32m━━━━━━━━━━━━━━━━━━━━\u001b[0m\u001b[37m\u001b[0m \u001b[1m1s\u001b[0m 6ms/step - AUC: 0.8017 - accuracy: 0.6653 - loss: 0.9297 - val_AUC: 0.8531 - val_accuracy: 0.6869 - val_loss: 0.8295\n",
      "Epoch 3/70\n",
      "\u001b[1m163/163\u001b[0m \u001b[32m━━━━━━━━━━━━━━━━━━━━\u001b[0m\u001b[37m\u001b[0m \u001b[1m1s\u001b[0m 6ms/step - AUC: 0.7930 - accuracy: 0.6418 - loss: 0.8954 - val_AUC: 0.7264 - val_accuracy: 0.4850 - val_loss: 0.8786\n",
      "Epoch 4/70\n",
      "\u001b[1m163/163\u001b[0m \u001b[32m━━━━━━━━━━━━━━━━━━━━\u001b[0m\u001b[37m\u001b[0m \u001b[1m1s\u001b[0m 7ms/step - AUC: 0.7885 - accuracy: 0.6067 - loss: 0.8418 - val_AUC: 0.9081 - val_accuracy: 0.8402 - val_loss: 0.7187\n",
      "Epoch 5/70\n",
      "\u001b[1m163/163\u001b[0m \u001b[32m━━━━━━━━━━━━━━━━━━━━\u001b[0m\u001b[37m\u001b[0m \u001b[1m1s\u001b[0m 8ms/step - AUC: 0.8537 - accuracy: 0.7222 - loss: 0.7895 - val_AUC: 0.8887 - val_accuracy: 0.7848 - val_loss: 0.8010\n",
      "Epoch 6/70\n",
      "\u001b[1m163/163\u001b[0m \u001b[32m━━━━━━━━━━━━━━━━━━━━\u001b[0m\u001b[37m\u001b[0m \u001b[1m2s\u001b[0m 13ms/step - AUC: 0.8441 - accuracy: 0.7098 - loss: 0.8461 - val_AUC: 0.8241 - val_accuracy: 0.6448 - val_loss: 0.8956\n",
      "Epoch 7/70\n",
      "\u001b[1m163/163\u001b[0m \u001b[32m━━━━━━━━━━━━━━━━━━━━\u001b[0m\u001b[37m\u001b[0m \u001b[1m2s\u001b[0m 15ms/step - AUC: 0.8477 - accuracy: 0.6805 - loss: 0.7799 - val_AUC: 0.8883 - val_accuracy: 0.7880 - val_loss: 0.7191\n",
      "Epoch 8/70\n",
      "\u001b[1m163/163\u001b[0m \u001b[32m━━━━━━━━━━━━━━━━━━━━\u001b[0m\u001b[37m\u001b[0m \u001b[1m3s\u001b[0m 17ms/step - AUC: 0.8720 - accuracy: 0.7267 - loss: 0.7435 - val_AUC: 0.8978 - val_accuracy: 0.7913 - val_loss: 0.7104\n",
      "Epoch 9/70\n",
      "\u001b[1m163/163\u001b[0m \u001b[32m━━━━━━━━━━━━━━━━━━━━\u001b[0m\u001b[37m\u001b[0m \u001b[1m1s\u001b[0m 9ms/step - AUC: 0.8677 - accuracy: 0.7057 - loss: 0.6982 - val_AUC: 0.8479 - val_accuracy: 0.6849 - val_loss: 0.8876\n",
      "Epoch 10/70\n",
      "\u001b[1m163/163\u001b[0m \u001b[32m━━━━━━━━━━━━━━━━━━━━\u001b[0m\u001b[37m\u001b[0m \u001b[1m2s\u001b[0m 9ms/step - AUC: 0.8413 - accuracy: 0.6497 - loss: 0.7280 - val_AUC: 0.9005 - val_accuracy: 0.8062 - val_loss: 0.8959\n",
      "Epoch 11/70\n",
      "\u001b[1m163/163\u001b[0m \u001b[32m━━━━━━━━━━━━━━━━━━━━\u001b[0m\u001b[37m\u001b[0m \u001b[1m1s\u001b[0m 8ms/step - AUC: 0.8882 - accuracy: 0.7256 - loss: 0.6292 - val_AUC: 0.7966 - val_accuracy: 0.6112 - val_loss: 0.9030\n",
      "Epoch 12/70\n",
      "\u001b[1m163/163\u001b[0m \u001b[32m━━━━━━━━━━━━━━━━━━━━\u001b[0m\u001b[37m\u001b[0m \u001b[1m1s\u001b[0m 8ms/step - AUC: 0.8857 - accuracy: 0.7169 - loss: 0.6394 - val_AUC: 0.8872 - val_accuracy: 0.7731 - val_loss: 0.8341\n",
      "Epoch 13/70\n",
      "\u001b[1m163/163\u001b[0m \u001b[32m━━━━━━━━━━━━━━━━━━━━\u001b[0m\u001b[37m\u001b[0m \u001b[1m1s\u001b[0m 7ms/step - AUC: 0.9177 - accuracy: 0.7626 - loss: 0.5815 - val_AUC: 0.6636 - val_accuracy: 0.4126 - val_loss: 1.7073\n",
      "Epoch 14/70\n",
      "\u001b[1m163/163\u001b[0m \u001b[32m━━━━━━━━━━━━━━━━━━━━\u001b[0m\u001b[37m\u001b[0m \u001b[1m1s\u001b[0m 7ms/step - AUC: 0.9056 - accuracy: 0.7293 - loss: 0.5441 - val_AUC: 0.8871 - val_accuracy: 0.7605 - val_loss: 0.8711\n",
      "Epoch 15/70\n",
      "\u001b[1m163/163\u001b[0m \u001b[32m━━━━━━━━━━━━━━━━━━━━\u001b[0m\u001b[37m\u001b[0m \u001b[1m1s\u001b[0m 6ms/step - AUC: 0.9218 - accuracy: 0.7574 - loss: 0.5232 - val_AUC: 0.8665 - val_accuracy: 0.7075 - val_loss: 0.8624\n",
      "Epoch 16/70\n",
      "\u001b[1m163/163\u001b[0m \u001b[32m━━━━━━━━━━━━━━━━━━━━\u001b[0m\u001b[37m\u001b[0m \u001b[1m1s\u001b[0m 7ms/step - AUC: 0.9249 - accuracy: 0.7682 - loss: 0.5194 - val_AUC: 0.8330 - val_accuracy: 0.6509 - val_loss: 1.1042\n",
      "Epoch 17/70\n",
      "\u001b[1m163/163\u001b[0m \u001b[32m━━━━━━━━━━━━━━━━━━━━\u001b[0m\u001b[37m\u001b[0m \u001b[1m1s\u001b[0m 9ms/step - AUC: 0.9302 - accuracy: 0.7694 - loss: 0.4722 - val_AUC: 0.8630 - val_accuracy: 0.7067 - val_loss: 1.0858\n",
      "Epoch 18/70\n",
      "\u001b[1m163/163\u001b[0m \u001b[32m━━━━━━━━━━━━━━━━━━━━\u001b[0m\u001b[37m\u001b[0m \u001b[1m1s\u001b[0m 9ms/step - AUC: 0.9457 - accuracy: 0.7996 - loss: 0.4276 - val_AUC: 0.8510 - val_accuracy: 0.6909 - val_loss: 1.2162\n",
      "Epoch 19/70\n",
      "\u001b[1m163/163\u001b[0m \u001b[32m━━━━━━━━━━━━━━━━━━━━\u001b[0m\u001b[37m\u001b[0m \u001b[1m1s\u001b[0m 7ms/step - AUC: 0.9286 - accuracy: 0.7741 - loss: 0.4611 - val_AUC: 0.8416 - val_accuracy: 0.6748 - val_loss: 1.1682\n",
      "Epoch 20/70\n",
      "\u001b[1m163/163\u001b[0m \u001b[32m━━━━━━━━━━━━━━━━━━━━\u001b[0m\u001b[37m\u001b[0m \u001b[1m1s\u001b[0m 8ms/step - AUC: 0.9474 - accuracy: 0.8008 - loss: 0.4208 - val_AUC: 0.8793 - val_accuracy: 0.7419 - val_loss: 1.0044\n",
      "Epoch 21/70\n",
      "\u001b[1m163/163\u001b[0m \u001b[32m━━━━━━━━━━━━━━━━━━━━\u001b[0m\u001b[37m\u001b[0m \u001b[1m1s\u001b[0m 7ms/step - AUC: 0.9590 - accuracy: 0.8269 - loss: 0.3769 - val_AUC: 0.8225 - val_accuracy: 0.6456 - val_loss: 1.2742\n",
      "Epoch 22/70\n",
      "\u001b[1m163/163\u001b[0m \u001b[32m━━━━━━━━━━━━━━━━━━━━\u001b[0m\u001b[37m\u001b[0m \u001b[1m1s\u001b[0m 6ms/step - AUC: 0.9647 - accuracy: 0.8394 - loss: 0.3295 - val_AUC: 0.8440 - val_accuracy: 0.6776 - val_loss: 1.2275\n",
      "Epoch 23/70\n",
      "\u001b[1m163/163\u001b[0m \u001b[32m━━━━━━━━━━━━━━━━━━━━\u001b[0m\u001b[37m\u001b[0m \u001b[1m1s\u001b[0m 7ms/step - AUC: 0.9660 - accuracy: 0.8474 - loss: 0.3251 - val_AUC: 0.8812 - val_accuracy: 0.7811 - val_loss: 1.4182\n",
      "Epoch 24/70\n",
      "\u001b[1m163/163\u001b[0m \u001b[32m━━━━━━━━━━━━━━━━━━━━\u001b[0m\u001b[37m\u001b[0m \u001b[1m1s\u001b[0m 6ms/step - AUC: 0.9693 - accuracy: 0.8581 - loss: 0.3050 - val_AUC: 0.8659 - val_accuracy: 0.7128 - val_loss: 1.1095\n",
      "Epoch 25/70\n",
      "\u001b[1m163/163\u001b[0m \u001b[32m━━━━━━━━━━━━━━━━━━━━\u001b[0m\u001b[37m\u001b[0m \u001b[1m1s\u001b[0m 6ms/step - AUC: 0.9641 - accuracy: 0.8478 - loss: 0.3001 - val_AUC: 0.8626 - val_accuracy: 0.7193 - val_loss: 1.4350\n",
      "Epoch 26/70\n",
      "\u001b[1m163/163\u001b[0m \u001b[32m━━━━━━━━━━━━━━━━━━━━\u001b[0m\u001b[37m\u001b[0m \u001b[1m1s\u001b[0m 6ms/step - AUC: 0.9701 - accuracy: 0.8577 - loss: 0.2817 - val_AUC: 0.8711 - val_accuracy: 0.7468 - val_loss: 1.3442\n",
      "Epoch 27/70\n",
      "\u001b[1m163/163\u001b[0m \u001b[32m━━━━━━━━━━━━━━━━━━━━\u001b[0m\u001b[37m\u001b[0m \u001b[1m1s\u001b[0m 7ms/step - AUC: 0.9753 - accuracy: 0.8655 - loss: 0.2894 - val_AUC: 0.7926 - val_accuracy: 0.6363 - val_loss: 1.9722\n",
      "Epoch 28/70\n",
      "\u001b[1m163/163\u001b[0m \u001b[32m━━━━━━━━━━━━━━━━━━━━\u001b[0m\u001b[37m\u001b[0m \u001b[1m2s\u001b[0m 9ms/step - AUC: 0.9595 - accuracy: 0.8297 - loss: 0.3287 - val_AUC: 0.8174 - val_accuracy: 0.6428 - val_loss: 1.5497\n",
      "Epoch 29/70\n",
      "\u001b[1m163/163\u001b[0m \u001b[32m━━━━━━━━━━━━━━━━━━━━\u001b[0m\u001b[37m\u001b[0m \u001b[1m1s\u001b[0m 7ms/step - AUC: 0.9747 - accuracy: 0.8685 - loss: 0.2502 - val_AUC: 0.8384 - val_accuracy: 0.6707 - val_loss: 1.5367\n",
      "Epoch 30/70\n",
      "\u001b[1m163/163\u001b[0m \u001b[32m━━━━━━━━━━━━━━━━━━━━\u001b[0m\u001b[37m\u001b[0m \u001b[1m1s\u001b[0m 6ms/step - AUC: 0.9813 - accuracy: 0.8875 - loss: 0.2216 - val_AUC: 0.8621 - val_accuracy: 0.7391 - val_loss: 1.8120\n",
      "Epoch 31/70\n",
      "\u001b[1m163/163\u001b[0m \u001b[32m━━━━━━━━━━━━━━━━━━━━\u001b[0m\u001b[37m\u001b[0m \u001b[1m1s\u001b[0m 6ms/step - AUC: 0.9858 - accuracy: 0.9086 - loss: 0.1975 - val_AUC: 0.8081 - val_accuracy: 0.6392 - val_loss: 2.1701\n",
      "Epoch 32/70\n",
      "\u001b[1m163/163\u001b[0m \u001b[32m━━━━━━━━━━━━━━━━━━━━\u001b[0m\u001b[37m\u001b[0m \u001b[1m1s\u001b[0m 6ms/step - AUC: 0.9775 - accuracy: 0.8811 - loss: 0.2239 - val_AUC: 0.8452 - val_accuracy: 0.7217 - val_loss: 2.3308\n",
      "Epoch 33/70\n",
      "\u001b[1m163/163\u001b[0m \u001b[32m━━━━━━━━━━━━━━━━━━━━\u001b[0m\u001b[37m\u001b[0m \u001b[1m1s\u001b[0m 6ms/step - AUC: 0.9897 - accuracy: 0.9156 - loss: 0.1663 - val_AUC: 0.8240 - val_accuracy: 0.6614 - val_loss: 2.1331\n",
      "Epoch 34/70\n",
      "\u001b[1m163/163\u001b[0m \u001b[32m━━━━━━━━━━━━━━━━━━━━\u001b[0m\u001b[37m\u001b[0m \u001b[1m1s\u001b[0m 6ms/step - AUC: 0.9839 - accuracy: 0.8994 - loss: 0.1988 - val_AUC: 0.8287 - val_accuracy: 0.6675 - val_loss: 2.0989\n",
      "Epoch 35/70\n",
      "\u001b[1m163/163\u001b[0m \u001b[32m━━━━━━━━━━━━━━━━━━━━\u001b[0m\u001b[37m\u001b[0m \u001b[1m1s\u001b[0m 7ms/step - AUC: 0.9858 - accuracy: 0.9156 - loss: 0.1631 - val_AUC: 0.8666 - val_accuracy: 0.7346 - val_loss: 1.9738\n",
      "Epoch 36/70\n",
      "\u001b[1m163/163\u001b[0m \u001b[32m━━━━━━━━━━━━━━━━━━━━\u001b[0m\u001b[37m\u001b[0m \u001b[1m1s\u001b[0m 7ms/step - AUC: 0.9874 - accuracy: 0.9203 - loss: 0.1442 - val_AUC: 0.8799 - val_accuracy: 0.7646 - val_loss: 1.7552\n",
      "Epoch 37/70\n",
      "\u001b[1m163/163\u001b[0m \u001b[32m━━━━━━━━━━━━━━━━━━━━\u001b[0m\u001b[37m\u001b[0m \u001b[1m1s\u001b[0m 6ms/step - AUC: 0.9872 - accuracy: 0.9182 - loss: 0.1748 - val_AUC: 0.8743 - val_accuracy: 0.7557 - val_loss: 1.6768\n",
      "Epoch 38/70\n",
      "\u001b[1m163/163\u001b[0m \u001b[32m━━━━━━━━━━━━━━━━━━━━\u001b[0m\u001b[37m\u001b[0m \u001b[1m1s\u001b[0m 6ms/step - AUC: 0.9819 - accuracy: 0.8891 - loss: 0.1810 - val_AUC: 0.8431 - val_accuracy: 0.6938 - val_loss: 2.2231\n",
      "Epoch 39/70\n",
      "\u001b[1m163/163\u001b[0m \u001b[32m━━━━━━━━━━━━━━━━━━━━\u001b[0m\u001b[37m\u001b[0m \u001b[1m1s\u001b[0m 6ms/step - AUC: 0.9900 - accuracy: 0.9292 - loss: 0.1363 - val_AUC: 0.8842 - val_accuracy: 0.7816 - val_loss: 2.2624\n",
      "Epoch 40/70\n",
      "\u001b[1m163/163\u001b[0m \u001b[32m━━━━━━━━━━━━━━━━━━━━\u001b[0m\u001b[37m\u001b[0m \u001b[1m1s\u001b[0m 6ms/step - AUC: 0.9906 - accuracy: 0.9272 - loss: 0.1745 - val_AUC: 0.8699 - val_accuracy: 0.7476 - val_loss: 2.0326\n",
      "Epoch 41/70\n",
      "\u001b[1m163/163\u001b[0m \u001b[32m━━━━━━━━━━━━━━━━━━━━\u001b[0m\u001b[37m\u001b[0m \u001b[1m1s\u001b[0m 7ms/step - AUC: 0.9926 - accuracy: 0.9383 - loss: 0.1201 - val_AUC: 0.8709 - val_accuracy: 0.7581 - val_loss: 2.5387\n",
      "Epoch 42/70\n",
      "\u001b[1m163/163\u001b[0m \u001b[32m━━━━━━━━━━━━━━━━━━━━\u001b[0m\u001b[37m\u001b[0m \u001b[1m1s\u001b[0m 6ms/step - AUC: 0.9884 - accuracy: 0.9222 - loss: 0.1568 - val_AUC: 0.8854 - val_accuracy: 0.8034 - val_loss: 3.0718\n",
      "Epoch 43/70\n",
      "\u001b[1m163/163\u001b[0m \u001b[32m━━━━━━━━━━━━━━━━━━━━\u001b[0m\u001b[37m\u001b[0m \u001b[1m1s\u001b[0m 7ms/step - AUC: 0.9953 - accuracy: 0.9539 - loss: 0.0842 - val_AUC: 0.8733 - val_accuracy: 0.7536 - val_loss: 2.7025\n",
      "Epoch 44/70\n",
      "\u001b[1m163/163\u001b[0m \u001b[32m━━━━━━━━━━━━━━━━━━━━\u001b[0m\u001b[37m\u001b[0m \u001b[1m1s\u001b[0m 6ms/step - AUC: 0.9947 - accuracy: 0.9435 - loss: 0.0868 - val_AUC: 0.8850 - val_accuracy: 0.7945 - val_loss: 2.9075\n",
      "Epoch 45/70\n",
      "\u001b[1m163/163\u001b[0m \u001b[32m━━━━━━━━━━━━━━━━━━━━\u001b[0m\u001b[37m\u001b[0m \u001b[1m1s\u001b[0m 7ms/step - AUC: 0.9847 - accuracy: 0.9170 - loss: 0.2119 - val_AUC: 0.8488 - val_accuracy: 0.7047 - val_loss: 1.9248\n",
      "Epoch 46/70\n",
      "\u001b[1m163/163\u001b[0m \u001b[32m━━━━━━━━━━━━━━━━━━━━\u001b[0m\u001b[37m\u001b[0m \u001b[1m1s\u001b[0m 6ms/step - AUC: 0.9947 - accuracy: 0.9508 - loss: 0.0955 - val_AUC: 0.8509 - val_accuracy: 0.7184 - val_loss: 2.3952\n",
      "Epoch 47/70\n",
      "\u001b[1m163/163\u001b[0m \u001b[32m━━━━━━━━━━━━━━━━━━━━\u001b[0m\u001b[37m\u001b[0m \u001b[1m1s\u001b[0m 7ms/step - AUC: 0.9959 - accuracy: 0.9505 - loss: 0.0711 - val_AUC: 0.8787 - val_accuracy: 0.7807 - val_loss: 2.9178\n",
      "Epoch 48/70\n",
      "\u001b[1m163/163\u001b[0m \u001b[32m━━━━━━━━━━━━━━━━━━━━\u001b[0m\u001b[37m\u001b[0m \u001b[1m1s\u001b[0m 6ms/step - AUC: 0.9973 - accuracy: 0.9670 - loss: 0.0543 - val_AUC: 0.8811 - val_accuracy: 0.7929 - val_loss: 3.2404\n",
      "Epoch 49/70\n",
      "\u001b[1m163/163\u001b[0m \u001b[32m━━━━━━━━━━━━━━━━━━━━\u001b[0m\u001b[37m\u001b[0m \u001b[1m1s\u001b[0m 6ms/step - AUC: 0.9904 - accuracy: 0.9300 - loss: 0.1692 - val_AUC: 0.8745 - val_accuracy: 0.7379 - val_loss: 1.8289\n",
      "Epoch 50/70\n",
      "\u001b[1m163/163\u001b[0m \u001b[32m━━━━━━━━━━━━━━━━━━━━\u001b[0m\u001b[37m\u001b[0m \u001b[1m1s\u001b[0m 6ms/step - AUC: 0.9854 - accuracy: 0.9095 - loss: 0.2125 - val_AUC: 0.8670 - val_accuracy: 0.7480 - val_loss: 2.0145\n",
      "Epoch 51/70\n",
      "\u001b[1m163/163\u001b[0m \u001b[32m━━━━━━━━━━━━━━━━━━━━\u001b[0m\u001b[37m\u001b[0m \u001b[1m1s\u001b[0m 7ms/step - AUC: 0.9975 - accuracy: 0.9679 - loss: 0.0653 - val_AUC: 0.8708 - val_accuracy: 0.7601 - val_loss: 2.7580\n",
      "Epoch 52/70\n",
      "\u001b[1m163/163\u001b[0m \u001b[32m━━━━━━━━━━━━━━━━━━━━\u001b[0m\u001b[37m\u001b[0m \u001b[1m1s\u001b[0m 6ms/step - AUC: 0.9984 - accuracy: 0.9714 - loss: 0.0462 - val_AUC: 0.8771 - val_accuracy: 0.7811 - val_loss: 2.8865\n",
      "Epoch 53/70\n",
      "\u001b[1m163/163\u001b[0m \u001b[32m━━━━━━━━━━━━━━━━━━━━\u001b[0m\u001b[37m\u001b[0m \u001b[1m1s\u001b[0m 6ms/step - AUC: 0.9981 - accuracy: 0.9736 - loss: 0.0539 - val_AUC: 0.8792 - val_accuracy: 0.7856 - val_loss: 2.4442\n",
      "Epoch 54/70\n",
      "\u001b[1m163/163\u001b[0m \u001b[32m━━━━━━━━━━━━━━━━━━━━\u001b[0m\u001b[37m\u001b[0m \u001b[1m1s\u001b[0m 6ms/step - AUC: 0.9876 - accuracy: 0.9194 - loss: 0.1718 - val_AUC: 0.8806 - val_accuracy: 0.7767 - val_loss: 2.3600\n",
      "Epoch 55/70\n",
      "\u001b[1m163/163\u001b[0m \u001b[32m━━━━━━━━━━━━━━━━━━━━\u001b[0m\u001b[37m\u001b[0m \u001b[1m1s\u001b[0m 6ms/step - AUC: 0.9898 - accuracy: 0.9317 - loss: 0.1563 - val_AUC: 0.8791 - val_accuracy: 0.7682 - val_loss: 2.4857\n",
      "Epoch 56/70\n",
      "\u001b[1m163/163\u001b[0m \u001b[32m━━━━━━━━━━━━━━━━━━━━\u001b[0m\u001b[37m\u001b[0m \u001b[1m1s\u001b[0m 6ms/step - AUC: 0.9980 - accuracy: 0.9704 - loss: 0.0574 - val_AUC: 0.8732 - val_accuracy: 0.7755 - val_loss: 2.9611\n",
      "Epoch 57/70\n",
      "\u001b[1m163/163\u001b[0m \u001b[32m━━━━━━━━━━━━━━━━━━━━\u001b[0m\u001b[37m\u001b[0m \u001b[1m1s\u001b[0m 6ms/step - AUC: 0.9994 - accuracy: 0.9832 - loss: 0.0282 - val_AUC: 0.8650 - val_accuracy: 0.7658 - val_loss: 3.3821\n",
      "Epoch 58/70\n",
      "\u001b[1m163/163\u001b[0m \u001b[32m━━━━━━━━━━━━━━━━━━━━\u001b[0m\u001b[37m\u001b[0m \u001b[1m1s\u001b[0m 6ms/step - AUC: 0.9989 - accuracy: 0.9824 - loss: 0.0322 - val_AUC: 0.8716 - val_accuracy: 0.7747 - val_loss: 3.3386\n",
      "Epoch 59/70\n",
      "\u001b[1m163/163\u001b[0m \u001b[32m━━━━━━━━━━━━━━━━━━━━\u001b[0m\u001b[37m\u001b[0m \u001b[1m1s\u001b[0m 6ms/step - AUC: 0.9997 - accuracy: 0.9915 - loss: 0.0166 - val_AUC: 0.8750 - val_accuracy: 0.8002 - val_loss: 3.8900\n",
      "Epoch 60/70\n",
      "\u001b[1m163/163\u001b[0m \u001b[32m━━━━━━━━━━━━━━━━━━━━\u001b[0m\u001b[37m\u001b[0m \u001b[1m1s\u001b[0m 6ms/step - AUC: 0.9993 - accuracy: 0.9920 - loss: 0.0186 - val_AUC: 0.8668 - val_accuracy: 0.7884 - val_loss: 4.2309\n",
      "Epoch 61/70\n",
      "\u001b[1m163/163\u001b[0m \u001b[32m━━━━━━━━━━━━━━━━━━━━\u001b[0m\u001b[37m\u001b[0m \u001b[1m1s\u001b[0m 6ms/step - AUC: 0.9999 - accuracy: 0.9938 - loss: 0.0112 - val_AUC: 0.8663 - val_accuracy: 0.7763 - val_loss: 3.8918\n",
      "Epoch 62/70\n",
      "\u001b[1m163/163\u001b[0m \u001b[32m━━━━━━━━━━━━━━━━━━━━\u001b[0m\u001b[37m\u001b[0m \u001b[1m1s\u001b[0m 6ms/step - AUC: 0.9880 - accuracy: 0.9182 - loss: 0.1895 - val_AUC: 0.7895 - val_accuracy: 0.6343 - val_loss: 3.2234\n",
      "Epoch 63/70\n",
      "\u001b[1m163/163\u001b[0m \u001b[32m━━━━━━━━━━━━━━━━━━━━\u001b[0m\u001b[37m\u001b[0m \u001b[1m1s\u001b[0m 6ms/step - AUC: 0.9966 - accuracy: 0.9607 - loss: 0.0908 - val_AUC: 0.8405 - val_accuracy: 0.7031 - val_loss: 3.1003\n",
      "Epoch 64/70\n",
      "\u001b[1m163/163\u001b[0m \u001b[32m━━━━━━━━━━━━━━━━━━━━\u001b[0m\u001b[37m\u001b[0m \u001b[1m1s\u001b[0m 6ms/step - AUC: 0.9953 - accuracy: 0.9582 - loss: 0.0817 - val_AUC: 0.8804 - val_accuracy: 0.8014 - val_loss: 2.8035\n",
      "Epoch 65/70\n",
      "\u001b[1m163/163\u001b[0m \u001b[32m━━━━━━━━━━━━━━━━━━━━\u001b[0m\u001b[37m\u001b[0m \u001b[1m1s\u001b[0m 6ms/step - AUC: 0.9994 - accuracy: 0.9807 - loss: 0.0264 - val_AUC: 0.8691 - val_accuracy: 0.7731 - val_loss: 3.1669\n",
      "Epoch 66/70\n",
      "\u001b[1m163/163\u001b[0m \u001b[32m━━━━━━━━━━━━━━━━━━━━\u001b[0m\u001b[37m\u001b[0m \u001b[1m1s\u001b[0m 6ms/step - AUC: 0.9992 - accuracy: 0.9876 - loss: 0.0346 - val_AUC: 0.8766 - val_accuracy: 0.7763 - val_loss: 3.0416\n",
      "Epoch 67/70\n",
      "\u001b[1m163/163\u001b[0m \u001b[32m━━━━━━━━━━━━━━━━━━━━\u001b[0m\u001b[37m\u001b[0m \u001b[1m1s\u001b[0m 6ms/step - AUC: 0.9903 - accuracy: 0.9363 - loss: 0.1655 - val_AUC: 0.8682 - val_accuracy: 0.7282 - val_loss: 1.9381\n",
      "Epoch 68/70\n",
      "\u001b[1m163/163\u001b[0m \u001b[32m━━━━━━━━━━━━━━━━━━━━\u001b[0m\u001b[37m\u001b[0m \u001b[1m1s\u001b[0m 6ms/step - AUC: 0.9971 - accuracy: 0.9621 - loss: 0.0812 - val_AUC: 0.8708 - val_accuracy: 0.7597 - val_loss: 2.3993\n",
      "Epoch 69/70\n",
      "\u001b[1m163/163\u001b[0m \u001b[32m━━━━━━━━━━━━━━━━━━━━\u001b[0m\u001b[37m\u001b[0m \u001b[1m1s\u001b[0m 7ms/step - AUC: 0.9970 - accuracy: 0.9661 - loss: 0.0623 - val_AUC: 0.8625 - val_accuracy: 0.7516 - val_loss: 2.5229\n",
      "Epoch 70/70\n",
      "\u001b[1m163/163\u001b[0m \u001b[32m━━━━━━━━━━━━━━━━━━━━\u001b[0m\u001b[37m\u001b[0m \u001b[1m1s\u001b[0m 6ms/step - AUC: 0.9994 - accuracy: 0.9839 - loss: 0.0286 - val_AUC: 0.8680 - val_accuracy: 0.7816 - val_loss: 3.2003\n"
     ]
    },
    {
     "data": {
      "text/plain": [
       "<keras.src.callbacks.history.History at 0x20bcd1036d0>"
      ]
     },
     "execution_count": 11,
     "metadata": {},
     "output_type": "execute_result"
    }
   ],
   "source": [
    "# Construir el modelo CNN-LSTM\n",
    "model = Sequential()\n",
    "model.add(Conv1D(32, 3, activation='relu', input_shape=(timesteps, X_train_scaled.shape[1])))\n",
    "model.add(MaxPooling1D(2))\n",
    "#model.add(LSTM(128, activation='relu', return_sequences=True))\n",
    "model.add(LSTM(64, activation='relu'))\n",
    "model.add(Dense(32, activation='relu'))\n",
    "model.add(Dense(3, activation='softmax'))\n",
    "\n",
    "# Compilar el modelo\n",
    "model.compile(optimizer='adam', loss='categorical_crossentropy', metrics=['accuracy', 'AUC'])\n",
    "\n",
    "# Entrenar el modelo\n",
    "model.fit(X_train_reshaped, y_train_categorical, epochs=70, batch_size=24,\n",
    "          validation_data=(X_test_reshaped, y_test_categorical), class_weight=class_weights_dict)\n",
    "\n"
   ]
  },
  {
   "cell_type": "code",
   "execution_count": 12,
   "metadata": {
    "colab": {
     "base_uri": "https://localhost:8080/"
    },
    "id": "Hq-cWmEVxsKB",
    "outputId": "da098090-b3eb-42be-e96f-728e1712343b"
   },
   "outputs": [
    {
     "name": "stdout",
     "output_type": "stream",
     "text": [
      "\u001b[1m78/78\u001b[0m \u001b[32m━━━━━━━━━━━━━━━━━━━━\u001b[0m\u001b[37m\u001b[0m \u001b[1m1s\u001b[0m 5ms/step\n",
      "{0: 2090, 1: 264, 2: 118}\n",
      "{0: 2225, 1: 244, 2: 3}\n"
     ]
    }
   ],
   "source": [
    "# Predecir las etiquetas para el conjunto de prueba\n",
    "y_pred_proba = model.predict(X_test_reshaped)\n",
    "y_pred = np.argmax(y_pred_proba, axis=1)\n",
    "# Contamos las ocurrencias de cada nivel de estrés\n",
    "valores_unicos, conteos = np.unique(y_test, return_counts=True)\n",
    "valores_unicos1, conteos1 = np.unique(y_pred, return_counts=True)\n",
    "# Combina los valores únicos y sus conteos en un diccionario para facilitar la visualización\n",
    "ocurrencias = dict(zip(valores_unicos, conteos))\n",
    "ocurrenciaspre = dict(zip(valores_unicos1, conteos1))\n",
    "# Mostramos el resultado\n",
    "#print(conteo_nivel_estres)\n",
    "print(ocurrencias)\n",
    "print(ocurrenciaspre)"
   ]
  },
  {
   "cell_type": "markdown",
   "metadata": {
    "id": "r_WwX96g31SC"
   },
   "source": [
    "# EVALUACION DEL ALGORITMO"
   ]
  },
  {
   "cell_type": "code",
   "execution_count": 13,
   "metadata": {},
   "outputs": [
    {
     "name": "stdout",
     "output_type": "stream",
     "text": [
      "\u001b[1m78/78\u001b[0m \u001b[32m━━━━━━━━━━━━━━━━━━━━\u001b[0m\u001b[37m\u001b[0m \u001b[1m1s\u001b[0m 2ms/step - AUC: 0.8819 - accuracy: 0.7965 - loss: 2.4168\n",
      "Acuracy: 0.7815533876419067\n",
      "AUC en prueba: 0.8679561018943787\n"
     ]
    }
   ],
   "source": [
    "test_loss,test_acuracy , test_auc = model.evaluate(X_test_reshaped, y_test_categorical)\n",
    "print(f\"Acuracy: {test_acuracy}\")\n",
    "print(f\"AUC en prueba: {test_auc}\")"
   ]
  },
  {
   "cell_type": "code",
   "execution_count": 14,
   "metadata": {
    "colab": {
     "base_uri": "https://localhost:8080/"
    },
    "id": "OWISIj2Nx4KC",
    "outputId": "69dc4ea4-2114-458b-9b9b-093076faaf3e"
   },
   "outputs": [
    {
     "name": "stdout",
     "output_type": "stream",
     "text": [
      "Accuracy: 0.7815533980582524\n",
      "Precision: 0.7518575678221735\n",
      "Recall: 0.7815533980582524\n",
      "F1 Score: 0.7585848216004301\n",
      "ROC AUC: 0.5545464046527363\n"
     ]
    }
   ],
   "source": [
    "# EVALUACION DEL MODELO\n",
    "from sklearn.preprocessing import label_binarize\n",
    "y_pred2 = label_binarize(y_pred, classes=[0, 1, 2])\n",
    "# Calcular las métricas de evaluación\n",
    "accuracy = accuracy_score(y_test, y_pred)\n",
    "precision = precision_score(y_test, y_pred, average='weighted')\n",
    "recall = recall_score(y_test, y_pred, average='weighted')\n",
    "f1 = f1_score(y_test, y_pred, average='weighted')\n",
    "# Calcular el AUC\n",
    "roc_auc = roc_auc_score(y_test_categorical, y_pred_proba, multi_class='ovo')\n",
    "\n",
    "# Mostrar métricas\n",
    "print(\"Accuracy:\", accuracy)\n",
    "print(\"Precision:\", precision)\n",
    "print(\"Recall:\", recall)\n",
    "print(\"F1 Score:\", f1)\n",
    "print(\"ROC AUC:\", roc_auc)"
   ]
  },
  {
   "cell_type": "code",
   "execution_count": 15,
   "metadata": {},
   "outputs": [
    {
     "data": {
      "image/png": "[encoded data removed]",
      "text/plain": [
       "<Figure size 640x480 with 1 Axes>"
      ]
     },
     "metadata": {},
     "output_type": "display_data"
    }
   ],
   "source": [
    "fpr = {}\n",
    "tpr = {}\n",
    "roc_auc = {}\n",
    "\n",
    "for i in range(3):\n",
    "    fpr[i], tpr[i], _ = roc_curve(y_test_categorical[:, i], y_pred_proba[:, i])\n",
    "    roc_auc[i] = auc(fpr[i], tpr[i])\n",
    "\n",
    "# Graficar las curvas ROC\n",
    "plt.figure()\n",
    "for i in range(3):\n",
    "    plt.plot(fpr[i], tpr[i], label=f'Clase {i} (AUC = {roc_auc[i]:.2f})')\n",
    "\n",
    "# Extraer los valores\n",
    "values = roc_auc.values()\n",
    "# Calcular la media\n",
    "mean_auc = sum(values) / len(values)\n",
    "\n",
    "plt.plot([0, 1], [0, 1], 'b--', label=f\"Mean AUC = {mean_auc:.2f}\", alpha=0.5)\n",
    "plt.xlim([0.0, 1.0])\n",
    "plt.ylim([0.0, 1.05])\n",
    "plt.xlabel('Tasa de Falsos Positivos')\n",
    "plt.ylabel('Tasa de Verdaderos Positivos')\n",
    "plt.title('Curva ROC Multiclase')\n",
    "plt.legend(loc='lower right')\n",
    "#plt.savefig(f'../Curva_Roc/{nombre_csv}_roc_LSTM.png', format='png', dpi=300)\n",
    "plt.show()"
   ]
  }
 ],
 "metadata": {
  "colab": {
   "provenance": []
  },
  "kernelspec": {
   "display_name": "Python 3",
   "name": "python3"
  },
  "language_info": {
   "codemirror_mode": {
    "name": "ipython",
    "version": 3
   },
   "file_extension": ".py",
   "mimetype": "text/x-python",
   "name": "python",
   "nbconvert_exporter": "python",
   "pygments_lexer": "ipython3",
   "version": "3.11.0"
  }
 },
 "nbformat": 4,
 "nbformat_minor": 0
}
