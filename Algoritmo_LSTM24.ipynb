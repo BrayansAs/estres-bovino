{
 "cells": [
  {
   "cell_type": "markdown",
   "metadata": {
    "id": "VaDJ6NbM4R4c"
   },
   "source": [
    "## Algoritmo LSTM"
   ]
  },
  {
   "cell_type": "code",
   "execution_count": 37,
   "metadata": {
    "id": "s_sVYocgwqjC"
   },
   "outputs": [],
   "source": [
    "# Importar las bibliotecas necesarias\n",
    "import pandas as pd\n",
    "import numpy as np\n",
    "import tensorflow as tf\n",
    "import matplotlib.pyplot as plt\n",
    "from sklearn.metrics import accuracy_score, precision_score, recall_score, f1_score, roc_auc_score,roc_auc_score, roc_curve, auc\n",
    "from sklearn.preprocessing import MinMaxScaler\n",
    "from tensorflow.keras.models import Sequential\n",
    "from tensorflow.keras.layers import LSTM, Dense, Dropout\n",
    "from tensorflow.keras.utils import to_categorical\n",
    "from tensorflow.keras.callbacks import EarlyStopping\n",
    "from sklearn.utils.class_weight import compute_class_weight\n",
    "import random\n",
    "import joblib"
   ]
  },
  {
   "cell_type": "code",
   "execution_count": 38,
   "metadata": {},
   "outputs": [],
   "source": [
    "# Establecer una semilla aleatoria\n",
    "seed_value = 24\n",
    "np.random.seed(seed_value)\n",
    "random.seed(seed_value)\n",
    "tf.random.set_seed(seed_value)"
   ]
  },
  {
   "cell_type": "code",
   "execution_count": 39,
   "metadata": {
    "collapsed": true,
    "id": "g8WDDqQaxRx4"
   },
   "outputs": [],
   "source": [
    "nombre_csv = 4173\n",
    "de = pd.read_csv(f'Datos_entrenamiento2/{nombre_csv}_e.csv')\n",
    "dp = pd.read_csv(f'Datos_prueba2/{nombre_csv}_p.csv')"
   ]
  },
  {
   "cell_type": "markdown",
   "metadata": {},
   "source": [
    "# Procesamiento"
   ]
  },
  {
   "cell_type": "code",
   "execution_count": 40,
   "metadata": {
    "id": "tNzDx458xTz5"
   },
   "outputs": [
    {
     "name": "stdout",
     "output_type": "stream",
     "text": [
      "nivel_estres\n",
      "Normal    4205\n",
      "Leve       500\n",
      "Alto       263\n",
      "Name: count, dtype: int64\n",
      "nivel_estres\n",
      "Normal    1978\n",
      "Leve       218\n",
      "Alto        84\n",
      "Name: count, dtype: int64\n"
     ]
    }
   ],
   "source": [
    "# Contamos las ocurrencias de cada nivel de estrés en la nueva columna\n",
    "conteo_nivel_estresde = de['nivel_estres'].value_counts()\n",
    "conteo_nivel_estresdp = dp['nivel_estres'].value_counts()\n",
    "# Mostramos el resultado\n",
    "print(conteo_nivel_estresde)\n",
    "print(conteo_nivel_estresdp)"
   ]
  },
  {
   "cell_type": "code",
   "execution_count": 41,
   "metadata": {
    "id": "Xl9IHQwfxX6R"
   },
   "outputs": [],
   "source": [
    "# Crear un diccionario para mapear cada categoría única en la columna 'nivel_estres' a un número\n",
    "mapping = {'Normal': 0, 'Leve': 1, 'Alto': 2}\n",
    "# Mapear las categorías a números utilizando el método map de pandas\n",
    "de['nivel_estres'] = de['nivel_estres'].map(mapping)\n",
    "dp['nivel_estres'] = dp['nivel_estres'].map(mapping)"
   ]
  },
  {
   "cell_type": "markdown",
   "metadata": {
    "id": "TVUnOhfZ1Ntc"
   },
   "source": [
    "# ALGORITMO DE LSTM"
   ]
  },
  {
   "cell_type": "code",
   "execution_count": 42,
   "metadata": {
    "id": "Lvzb3Kfcxe5h"
   },
   "outputs": [],
   "source": [
    "# Separar características y etiquetas del conjunto de entrenamiento\n",
    "X_train = de[['period eating','period other','period resting','period rumination']]\n",
    "y_train = de['nivel_estres']\n",
    "# Separar características y etiquetas del conjunto de prueba\n",
    "X_test = dp[['period eating','period other','period resting','period rumination']]\n",
    "y_test = dp['nivel_estres']"
   ]
  },
  {
   "cell_type": "code",
   "execution_count": 43,
   "metadata": {
    "id": "juQN7hSuxhmY"
   },
   "outputs": [],
   "source": [
    "# Estandarizar las características\n",
    "scaler = joblib.load(f'scalers/{nombre_csv}_scaler.pkl')\n",
    "#scaler = MinMaxScaler(feature_range = (0, 1))\n",
    "X_train_scaled = scaler.transform(X_train)\n",
    "X_test_scaled = scaler.transform(X_test)\n"
   ]
  },
  {
   "cell_type": "code",
   "execution_count": 44,
   "metadata": {
    "id": "y48rGM_0xlNZ"
   },
   "outputs": [],
   "source": [
    "#Expandir a 24 horas de datos para capturar ciclo diario\n",
    "timesteps = 24\n",
    "X_train_reshaped = np.array([X_train_scaled[i:i + timesteps] for i in range(len(X_train_scaled) - timesteps)])\n",
    "y_train = y_train[timesteps:]\n",
    "X_test_reshaped = np.array([X_test_scaled[i:i + timesteps] for i in range(len(X_test_scaled) - timesteps)])\n",
    "y_test = y_test[timesteps:]\n"
   ]
  },
  {
   "cell_type": "code",
   "execution_count": 45,
   "metadata": {},
   "outputs": [],
   "source": [
    "# # #Ajuste de pesos: Calcular pesos de clase para manejar el desbalance\n",
    "# class_weights = compute_class_weight(class_weight='balanced', classes=np.unique(y_train), y=y_train)\n",
    "# #class_weights_dict = {i: weight for i, weight in enumerate(class_weights)}\n",
    "# class_weights_dict = dict(enumerate(class_weights))"
   ]
  },
  {
   "cell_type": "code",
   "execution_count": 46,
   "metadata": {},
   "outputs": [],
   "source": [
    "# Convertir etiquetas a formato categórico\n",
    "y_train_categorical = to_categorical(y_train, num_classes=3)\n",
    "y_test_categorical = to_categorical(y_test, num_classes=3)"
   ]
  },
  {
   "cell_type": "code",
   "execution_count": 47,
   "metadata": {
    "id": "weTv5z_TxnD4"
   },
   "outputs": [
    {
     "name": "stderr",
     "output_type": "stream",
     "text": [
      "C:\\Users\\PC\\AppData\\Roaming\\Python\\Python311\\site-packages\\keras\\src\\layers\\rnn\\rnn.py:204: UserWarning: Do not pass an `input_shape`/`input_dim` argument to a layer. When using Sequential models, prefer using an `Input(shape)` object as the first layer in the model instead.\n",
      "  super().__init__(**kwargs)\n"
     ]
    },
    {
     "name": "stdout",
     "output_type": "stream",
     "text": [
      "Epoch 1/100\n",
      "\u001b[1m138/138\u001b[0m \u001b[32m━━━━━━━━━━━━━━━━━━━━\u001b[0m\u001b[37m\u001b[0m \u001b[1m9s\u001b[0m 30ms/step - accuracy: 0.7972 - auc: 0.8629 - loss: 0.6830 - val_accuracy: 0.8661 - val_auc: 0.9170 - val_loss: 0.4793\n",
      "Epoch 2/100\n",
      "\u001b[1m138/138\u001b[0m \u001b[32m━━━━━━━━━━━━━━━━━━━━\u001b[0m\u001b[37m\u001b[0m \u001b[1m3s\u001b[0m 23ms/step - accuracy: 0.8388 - auc: 0.8924 - loss: 0.5500 - val_accuracy: 0.8661 - val_auc: 0.9177 - val_loss: 0.4787\n",
      "Epoch 3/100\n",
      "\u001b[1m138/138\u001b[0m \u001b[32m━━━━━━━━━━━━━━━━━━━━\u001b[0m\u001b[37m\u001b[0m \u001b[1m3s\u001b[0m 18ms/step - accuracy: 0.8388 - auc: 0.8964 - loss: 0.5455 - val_accuracy: 0.8661 - val_auc: 0.9175 - val_loss: 0.4785\n",
      "Epoch 4/100\n",
      "\u001b[1m138/138\u001b[0m \u001b[32m━━━━━━━━━━━━━━━━━━━━\u001b[0m\u001b[37m\u001b[0m \u001b[1m3s\u001b[0m 22ms/step - accuracy: 0.8391 - auc: 0.9001 - loss: 0.5407 - val_accuracy: 0.8661 - val_auc: 0.9186 - val_loss: 0.4781\n",
      "Epoch 5/100\n",
      "\u001b[1m138/138\u001b[0m \u001b[32m━━━━━━━━━━━━━━━━━━━━\u001b[0m\u001b[37m\u001b[0m \u001b[1m4s\u001b[0m 26ms/step - accuracy: 0.8395 - auc: 0.9029 - loss: 0.5364 - val_accuracy: 0.8661 - val_auc: 0.9195 - val_loss: 0.4772\n",
      "Epoch 6/100\n",
      "\u001b[1m138/138\u001b[0m \u001b[32m━━━━━━━━━━━━━━━━━━━━\u001b[0m\u001b[37m\u001b[0m \u001b[1m5s\u001b[0m 37ms/step - accuracy: 0.8395 - auc: 0.9060 - loss: 0.5337 - val_accuracy: 0.8661 - val_auc: 0.9198 - val_loss: 0.4765\n",
      "Epoch 7/100\n",
      "\u001b[1m138/138\u001b[0m \u001b[32m━━━━━━━━━━━━━━━━━━━━\u001b[0m\u001b[37m\u001b[0m \u001b[1m4s\u001b[0m 30ms/step - accuracy: 0.8417 - auc: 0.9090 - loss: 0.5293 - val_accuracy: 0.8661 - val_auc: 0.9190 - val_loss: 0.4777\n",
      "Epoch 8/100\n",
      "\u001b[1m138/138\u001b[0m \u001b[32m━━━━━━━━━━━━━━━━━━━━\u001b[0m\u001b[37m\u001b[0m \u001b[1m5s\u001b[0m 35ms/step - accuracy: 0.8415 - auc: 0.9127 - loss: 0.5243 - val_accuracy: 0.8661 - val_auc: 0.9193 - val_loss: 0.4788\n",
      "Epoch 9/100\n",
      "\u001b[1m138/138\u001b[0m \u001b[32m━━━━━━━━━━━━━━━━━━━━\u001b[0m\u001b[37m\u001b[0m \u001b[1m4s\u001b[0m 30ms/step - accuracy: 0.8391 - auc: 0.9146 - loss: 0.5256 - val_accuracy: 0.8661 - val_auc: 0.9184 - val_loss: 0.4838\n",
      "Epoch 10/100\n",
      "\u001b[1m138/138\u001b[0m \u001b[32m━━━━━━━━━━━━━━━━━━━━\u001b[0m\u001b[37m\u001b[0m \u001b[1m4s\u001b[0m 29ms/step - accuracy: 0.8393 - auc: 0.9198 - loss: 0.5150 - val_accuracy: 0.8661 - val_auc: 0.9186 - val_loss: 0.4875\n",
      "Epoch 11/100\n",
      "\u001b[1m138/138\u001b[0m \u001b[32m━━━━━━━━━━━━━━━━━━━━\u001b[0m\u001b[37m\u001b[0m \u001b[1m4s\u001b[0m 29ms/step - accuracy: 0.8393 - auc: 0.9226 - loss: 0.5081 - val_accuracy: 0.8661 - val_auc: 0.9170 - val_loss: 0.5036\n",
      "Epoch 12/100\n",
      "\u001b[1m138/138\u001b[0m \u001b[32m━━━━━━━━━━━━━━━━━━━━\u001b[0m\u001b[37m\u001b[0m \u001b[1m4s\u001b[0m 30ms/step - accuracy: 0.8419 - auc: 0.9266 - loss: 0.4999 - val_accuracy: 0.8652 - val_auc: 0.9167 - val_loss: 0.5167\n",
      "Epoch 13/100\n",
      "\u001b[1m138/138\u001b[0m \u001b[32m━━━━━━━━━━━━━━━━━━━━\u001b[0m\u001b[37m\u001b[0m \u001b[1m4s\u001b[0m 28ms/step - accuracy: 0.8426 - auc: 0.9313 - loss: 0.4873 - val_accuracy: 0.8639 - val_auc: 0.9174 - val_loss: 0.5324\n",
      "Epoch 14/100\n",
      "\u001b[1m138/138\u001b[0m \u001b[32m━━━━━━━━━━━━━━━━━━━━\u001b[0m\u001b[37m\u001b[0m \u001b[1m5s\u001b[0m 37ms/step - accuracy: 0.8432 - auc: 0.9351 - loss: 0.4759 - val_accuracy: 0.8621 - val_auc: 0.9168 - val_loss: 0.5434\n",
      "Epoch 15/100\n",
      "\u001b[1m138/138\u001b[0m \u001b[32m━━━━━━━━━━━━━━━━━━━━\u001b[0m\u001b[37m\u001b[0m \u001b[1m5s\u001b[0m 38ms/step - accuracy: 0.8461 - auc: 0.9388 - loss: 0.4645 - val_accuracy: 0.8604 - val_auc: 0.9177 - val_loss: 0.5444\n",
      "Epoch 16/100\n",
      "\u001b[1m138/138\u001b[0m \u001b[32m━━━━━━━━━━━━━━━━━━━━\u001b[0m\u001b[37m\u001b[0m \u001b[1m4s\u001b[0m 32ms/step - accuracy: 0.8488 - auc: 0.9411 - loss: 0.4555 - val_accuracy: 0.8613 - val_auc: 0.9170 - val_loss: 0.5535\n",
      "Epoch 17/100\n",
      "\u001b[1m138/138\u001b[0m \u001b[32m━━━━━━━━━━━━━━━━━━━━\u001b[0m\u001b[37m\u001b[0m \u001b[1m5s\u001b[0m 36ms/step - accuracy: 0.8520 - auc: 0.9455 - loss: 0.4392 - val_accuracy: 0.8635 - val_auc: 0.9151 - val_loss: 0.5914\n",
      "Epoch 18/100\n",
      "\u001b[1m138/138\u001b[0m \u001b[32m━━━━━━━━━━━━━━━━━━━━\u001b[0m\u001b[37m\u001b[0m \u001b[1m4s\u001b[0m 31ms/step - accuracy: 0.8532 - auc: 0.9482 - loss: 0.4300 - val_accuracy: 0.8582 - val_auc: 0.9146 - val_loss: 0.5900\n",
      "Epoch 19/100\n",
      "\u001b[1m138/138\u001b[0m \u001b[32m━━━━━━━━━━━━━━━━━━━━\u001b[0m\u001b[37m\u001b[0m \u001b[1m4s\u001b[0m 29ms/step - accuracy: 0.8560 - auc: 0.9502 - loss: 0.4206 - val_accuracy: 0.8577 - val_auc: 0.9134 - val_loss: 0.6220\n",
      "Epoch 20/100\n",
      "\u001b[1m138/138\u001b[0m \u001b[32m━━━━━━━━━━━━━━━━━━━━\u001b[0m\u001b[37m\u001b[0m \u001b[1m4s\u001b[0m 27ms/step - accuracy: 0.8591 - auc: 0.9527 - loss: 0.4095 - val_accuracy: 0.8573 - val_auc: 0.9132 - val_loss: 0.6358\n",
      "Epoch 21/100\n",
      "\u001b[1m138/138\u001b[0m \u001b[32m━━━━━━━━━━━━━━━━━━━━\u001b[0m\u001b[37m\u001b[0m \u001b[1m4s\u001b[0m 29ms/step - accuracy: 0.8627 - auc: 0.9556 - loss: 0.3977 - val_accuracy: 0.8582 - val_auc: 0.9116 - val_loss: 0.6847\n",
      "Epoch 22/100\n",
      "\u001b[1m138/138\u001b[0m \u001b[32m━━━━━━━━━━━━━━━━━━━━\u001b[0m\u001b[37m\u001b[0m \u001b[1m4s\u001b[0m 29ms/step - accuracy: 0.8629 - auc: 0.9580 - loss: 0.3863 - val_accuracy: 0.8546 - val_auc: 0.9123 - val_loss: 0.6511\n",
      "Epoch 23/100\n",
      "\u001b[1m138/138\u001b[0m \u001b[32m━━━━━━━━━━━━━━━━━━━━\u001b[0m\u001b[37m\u001b[0m \u001b[1m4s\u001b[0m 31ms/step - accuracy: 0.8688 - auc: 0.9612 - loss: 0.3714 - val_accuracy: 0.8568 - val_auc: 0.9121 - val_loss: 0.7319\n",
      "Epoch 24/100\n",
      "\u001b[1m138/138\u001b[0m \u001b[32m━━━━━━━━━━━━━━━━━━━━\u001b[0m\u001b[37m\u001b[0m \u001b[1m5s\u001b[0m 37ms/step - accuracy: 0.8703 - auc: 0.9609 - loss: 0.3729 - val_accuracy: 0.8542 - val_auc: 0.9141 - val_loss: 0.6314\n",
      "Epoch 25/100\n",
      "\u001b[1m138/138\u001b[0m \u001b[32m━━━━━━━━━━━━━━━━━━━━\u001b[0m\u001b[37m\u001b[0m \u001b[1m4s\u001b[0m 31ms/step - accuracy: 0.8720 - auc: 0.9647 - loss: 0.3542 - val_accuracy: 0.8511 - val_auc: 0.9141 - val_loss: 0.6211\n",
      "Epoch 26/100\n",
      "\u001b[1m138/138\u001b[0m \u001b[32m━━━━━━━━━━━━━━━━━━━━\u001b[0m\u001b[37m\u001b[0m \u001b[1m4s\u001b[0m 31ms/step - accuracy: 0.8776 - auc: 0.9669 - loss: 0.3446 - val_accuracy: 0.8457 - val_auc: 0.9124 - val_loss: 0.6537\n",
      "Epoch 27/100\n",
      "\u001b[1m138/138\u001b[0m \u001b[32m━━━━━━━━━━━━━━━━━━━━\u001b[0m\u001b[37m\u001b[0m \u001b[1m5s\u001b[0m 32ms/step - accuracy: 0.8831 - auc: 0.9683 - loss: 0.3366 - val_accuracy: 0.8311 - val_auc: 0.9091 - val_loss: 0.7449\n",
      "Epoch 28/100\n",
      "\u001b[1m138/138\u001b[0m \u001b[32m━━━━━━━━━━━━━━━━━━━━\u001b[0m\u001b[37m\u001b[0m \u001b[1m4s\u001b[0m 29ms/step - accuracy: 0.8825 - auc: 0.9708 - loss: 0.3224 - val_accuracy: 0.8360 - val_auc: 0.9106 - val_loss: 0.6950\n",
      "Epoch 29/100\n",
      "\u001b[1m138/138\u001b[0m \u001b[32m━━━━━━━━━━━━━━━━━━━━\u001b[0m\u001b[37m\u001b[0m \u001b[1m4s\u001b[0m 29ms/step - accuracy: 0.8811 - auc: 0.9714 - loss: 0.3201 - val_accuracy: 0.8320 - val_auc: 0.9114 - val_loss: 0.7907\n",
      "Epoch 30/100\n",
      "\u001b[1m138/138\u001b[0m \u001b[32m━━━━━━━━━━━━━━━━━━━━\u001b[0m\u001b[37m\u001b[0m \u001b[1m4s\u001b[0m 30ms/step - accuracy: 0.8889 - auc: 0.9726 - loss: 0.3134 - val_accuracy: 0.8254 - val_auc: 0.9077 - val_loss: 0.7137\n",
      "Epoch 31/100\n",
      "\u001b[1m138/138\u001b[0m \u001b[32m━━━━━━━━━━━━━━━━━━━━\u001b[0m\u001b[37m\u001b[0m \u001b[1m5s\u001b[0m 32ms/step - accuracy: 0.8862 - auc: 0.9736 - loss: 0.3073 - val_accuracy: 0.8316 - val_auc: 0.9125 - val_loss: 0.7174\n",
      "Epoch 32/100\n",
      "\u001b[1m138/138\u001b[0m \u001b[32m━━━━━━━━━━━━━━━━━━━━\u001b[0m\u001b[37m\u001b[0m \u001b[1m4s\u001b[0m 32ms/step - accuracy: 0.8934 - auc: 0.9777 - loss: 0.2820 - val_accuracy: 0.8324 - val_auc: 0.9104 - val_loss: 0.8468\n",
      "Epoch 33/100\n",
      "\u001b[1m138/138\u001b[0m \u001b[32m━━━━━━━━━━━━━━━━━━━━\u001b[0m\u001b[37m\u001b[0m \u001b[1m4s\u001b[0m 32ms/step - accuracy: 0.8979 - auc: 0.9802 - loss: 0.2669 - val_accuracy: 0.8333 - val_auc: 0.9127 - val_loss: 0.8972\n",
      "Epoch 34/100\n",
      "\u001b[1m138/138\u001b[0m \u001b[32m━━━━━━━━━━━━━━━━━━━━\u001b[0m\u001b[37m\u001b[0m \u001b[1m5s\u001b[0m 32ms/step - accuracy: 0.9042 - auc: 0.9814 - loss: 0.2582 - val_accuracy: 0.8324 - val_auc: 0.9122 - val_loss: 0.8931\n",
      "Epoch 35/100\n",
      "\u001b[1m138/138\u001b[0m \u001b[32m━━━━━━━━━━━━━━━━━━━━\u001b[0m\u001b[37m\u001b[0m \u001b[1m5s\u001b[0m 35ms/step - accuracy: 0.9062 - auc: 0.9823 - loss: 0.2512 - val_accuracy: 0.8422 - val_auc: 0.9109 - val_loss: 0.9487\n",
      "Epoch 36/100\n",
      "\u001b[1m138/138\u001b[0m \u001b[32m━━━━━━━━━━━━━━━━━━━━\u001b[0m\u001b[37m\u001b[0m \u001b[1m4s\u001b[0m 32ms/step - accuracy: 0.9050 - auc: 0.9831 - loss: 0.2448 - val_accuracy: 0.8520 - val_auc: 0.9107 - val_loss: 1.0714\n",
      "Epoch 37/100\n",
      "\u001b[1m138/138\u001b[0m \u001b[32m━━━━━━━━━━━━━━━━━━━━\u001b[0m\u001b[37m\u001b[0m \u001b[1m4s\u001b[0m 31ms/step - accuracy: 0.9102 - auc: 0.9830 - loss: 0.2448 - val_accuracy: 0.8453 - val_auc: 0.9103 - val_loss: 1.0325\n",
      "Epoch 38/100\n",
      "\u001b[1m138/138\u001b[0m \u001b[32m━━━━━━━━━━━━━━━━━━━━\u001b[0m\u001b[37m\u001b[0m \u001b[1m4s\u001b[0m 30ms/step - accuracy: 0.9192 - auc: 0.9862 - loss: 0.2170 - val_accuracy: 0.8285 - val_auc: 0.9052 - val_loss: 1.1269\n",
      "Epoch 39/100\n",
      "\u001b[1m138/138\u001b[0m \u001b[32m━━━━━━━━━━━━━━━━━━━━\u001b[0m\u001b[37m\u001b[0m \u001b[1m4s\u001b[0m 30ms/step - accuracy: 0.9183 - auc: 0.9870 - loss: 0.2156 - val_accuracy: 0.8338 - val_auc: 0.9054 - val_loss: 0.8934\n",
      "Epoch 40/100\n",
      "\u001b[1m138/138\u001b[0m \u001b[32m━━━━━━━━━━━━━━━━━━━━\u001b[0m\u001b[37m\u001b[0m \u001b[1m5s\u001b[0m 33ms/step - accuracy: 0.9205 - auc: 0.9864 - loss: 0.2192 - val_accuracy: 0.8245 - val_auc: 0.8999 - val_loss: 1.0707\n",
      "Epoch 41/100\n",
      "\u001b[1m138/138\u001b[0m \u001b[32m━━━━━━━━━━━━━━━━━━━━\u001b[0m\u001b[37m\u001b[0m \u001b[1m4s\u001b[0m 32ms/step - accuracy: 0.9296 - auc: 0.9889 - loss: 0.1949 - val_accuracy: 0.8364 - val_auc: 0.9032 - val_loss: 1.0033\n",
      "Epoch 42/100\n",
      "\u001b[1m138/138\u001b[0m \u001b[32m━━━━━━━━━━━━━━━━━━━━\u001b[0m\u001b[37m\u001b[0m \u001b[1m7s\u001b[0m 49ms/step - accuracy: 0.9229 - auc: 0.9874 - loss: 0.2080 - val_accuracy: 0.8227 - val_auc: 0.9001 - val_loss: 1.0296\n",
      "Epoch 43/100\n",
      "\u001b[1m138/138\u001b[0m \u001b[32m━━━━━━━━━━━━━━━━━━━━\u001b[0m\u001b[37m\u001b[0m \u001b[1m6s\u001b[0m 45ms/step - accuracy: 0.9287 - auc: 0.9889 - loss: 0.2035 - val_accuracy: 0.8262 - val_auc: 0.9020 - val_loss: 1.1178\n",
      "Epoch 44/100\n",
      "\u001b[1m138/138\u001b[0m \u001b[32m━━━━━━━━━━━━━━━━━━━━\u001b[0m\u001b[37m\u001b[0m \u001b[1m6s\u001b[0m 42ms/step - accuracy: 0.9377 - auc: 0.9913 - loss: 0.1708 - val_accuracy: 0.8387 - val_auc: 0.9049 - val_loss: 1.0861\n",
      "Epoch 45/100\n",
      "\u001b[1m138/138\u001b[0m \u001b[32m━━━━━━━━━━━━━━━━━━━━\u001b[0m\u001b[37m\u001b[0m \u001b[1m6s\u001b[0m 41ms/step - accuracy: 0.9307 - auc: 0.9908 - loss: 0.1780 - val_accuracy: 0.8165 - val_auc: 0.8989 - val_loss: 1.3055\n",
      "Epoch 46/100\n",
      "\u001b[1m138/138\u001b[0m \u001b[32m━━━━━━━━━━━━━━━━━━━━\u001b[0m\u001b[37m\u001b[0m \u001b[1m6s\u001b[0m 40ms/step - accuracy: 0.9464 - auc: 0.9934 - loss: 0.1479 - val_accuracy: 0.8223 - val_auc: 0.8998 - val_loss: 1.3258\n",
      "Epoch 47/100\n",
      "\u001b[1m138/138\u001b[0m \u001b[32m━━━━━━━━━━━━━━━━━━━━\u001b[0m\u001b[37m\u001b[0m \u001b[1m6s\u001b[0m 41ms/step - accuracy: 0.9573 - auc: 0.9949 - loss: 0.1284 - val_accuracy: 0.8227 - val_auc: 0.8986 - val_loss: 1.2334\n",
      "Epoch 48/100\n",
      "\u001b[1m138/138\u001b[0m \u001b[32m━━━━━━━━━━━━━━━━━━━━\u001b[0m\u001b[37m\u001b[0m \u001b[1m6s\u001b[0m 45ms/step - accuracy: 0.9517 - auc: 0.9938 - loss: 0.1414 - val_accuracy: 0.8267 - val_auc: 0.8996 - val_loss: 1.3261\n",
      "Epoch 49/100\n",
      "\u001b[1m138/138\u001b[0m \u001b[32m━━━━━━━━━━━━━━━━━━━━\u001b[0m\u001b[37m\u001b[0m \u001b[1m6s\u001b[0m 43ms/step - accuracy: 0.9550 - auc: 0.9951 - loss: 0.1280 - val_accuracy: 0.8267 - val_auc: 0.9004 - val_loss: 1.3732\n",
      "Epoch 50/100\n",
      "\u001b[1m138/138\u001b[0m \u001b[32m━━━━━━━━━━━━━━━━━━━━\u001b[0m\u001b[37m\u001b[0m \u001b[1m6s\u001b[0m 41ms/step - accuracy: 0.9503 - auc: 0.9952 - loss: 0.1301 - val_accuracy: 0.8298 - val_auc: 0.9024 - val_loss: 1.3695\n",
      "Epoch 51/100\n",
      "\u001b[1m138/138\u001b[0m \u001b[32m━━━━━━━━━━━━━━━━━━━━\u001b[0m\u001b[37m\u001b[0m \u001b[1m6s\u001b[0m 41ms/step - accuracy: 0.9635 - auc: 0.9965 - loss: 0.1076 - val_accuracy: 0.8360 - val_auc: 0.9035 - val_loss: 1.5306\n",
      "Epoch 52/100\n",
      "\u001b[1m138/138\u001b[0m \u001b[32m━━━━━━━━━━━━━━━━━━━━\u001b[0m\u001b[37m\u001b[0m \u001b[1m6s\u001b[0m 44ms/step - accuracy: 0.9695 - auc: 0.9967 - loss: 0.1038 - val_accuracy: 0.8271 - val_auc: 0.9005 - val_loss: 1.5259\n",
      "Epoch 53/100\n",
      "\u001b[1m138/138\u001b[0m \u001b[32m━━━━━━━━━━━━━━━━━━━━\u001b[0m\u001b[37m\u001b[0m \u001b[1m6s\u001b[0m 42ms/step - accuracy: 0.9729 - auc: 0.9976 - loss: 0.0850 - val_accuracy: 0.8280 - val_auc: 0.8982 - val_loss: 1.6325\n",
      "Epoch 54/100\n",
      "\u001b[1m138/138\u001b[0m \u001b[32m━━━━━━━━━━━━━━━━━━━━\u001b[0m\u001b[37m\u001b[0m \u001b[1m6s\u001b[0m 41ms/step - accuracy: 0.9732 - auc: 0.9970 - loss: 0.0887 - val_accuracy: 0.8160 - val_auc: 0.8999 - val_loss: 1.6087\n",
      "Epoch 55/100\n",
      "\u001b[1m138/138\u001b[0m \u001b[32m━━━━━━━━━━━━━━━━━━━━\u001b[0m\u001b[37m\u001b[0m \u001b[1m6s\u001b[0m 41ms/step - accuracy: 0.9630 - auc: 0.9956 - loss: 0.1196 - val_accuracy: 0.8152 - val_auc: 0.9002 - val_loss: 1.4716\n",
      "Epoch 56/100\n",
      "\u001b[1m138/138\u001b[0m \u001b[32m━━━━━━━━━━━━━━━━━━━━\u001b[0m\u001b[37m\u001b[0m \u001b[1m6s\u001b[0m 41ms/step - accuracy: 0.9677 - auc: 0.9961 - loss: 0.1075 - val_accuracy: 0.8107 - val_auc: 0.8967 - val_loss: 1.4627\n",
      "Epoch 57/100\n",
      "\u001b[1m138/138\u001b[0m \u001b[32m━━━━━━━━━━━━━━━━━━━━\u001b[0m\u001b[37m\u001b[0m \u001b[1m6s\u001b[0m 41ms/step - accuracy: 0.9723 - auc: 0.9979 - loss: 0.0833 - val_accuracy: 0.8134 - val_auc: 0.8968 - val_loss: 1.5651\n",
      "Epoch 58/100\n",
      "\u001b[1m138/138\u001b[0m \u001b[32m━━━━━━━━━━━━━━━━━━━━\u001b[0m\u001b[37m\u001b[0m \u001b[1m6s\u001b[0m 41ms/step - accuracy: 0.9725 - auc: 0.9980 - loss: 0.0819 - val_accuracy: 0.8169 - val_auc: 0.9002 - val_loss: 1.5969\n",
      "Epoch 59/100\n",
      "\u001b[1m138/138\u001b[0m \u001b[32m━━━━━━━━━━━━━━━━━━━━\u001b[0m\u001b[37m\u001b[0m \u001b[1m6s\u001b[0m 41ms/step - accuracy: 0.9748 - auc: 0.9982 - loss: 0.0763 - val_accuracy: 0.8205 - val_auc: 0.8990 - val_loss: 1.5969\n",
      "Epoch 60/100\n",
      "\u001b[1m138/138\u001b[0m \u001b[32m━━━━━━━━━━━━━━━━━━━━\u001b[0m\u001b[37m\u001b[0m \u001b[1m6s\u001b[0m 41ms/step - accuracy: 0.9758 - auc: 0.9978 - loss: 0.0772 - val_accuracy: 0.8187 - val_auc: 0.8965 - val_loss: 1.6390\n",
      "Epoch 61/100\n",
      "\u001b[1m138/138\u001b[0m \u001b[32m━━━━━━━━━━━━━━━━━━━━\u001b[0m\u001b[37m\u001b[0m \u001b[1m6s\u001b[0m 41ms/step - accuracy: 0.9727 - auc: 0.9969 - loss: 0.0876 - val_accuracy: 0.8196 - val_auc: 0.8973 - val_loss: 1.6775\n",
      "Epoch 62/100\n",
      "\u001b[1m138/138\u001b[0m \u001b[32m━━━━━━━━━━━━━━━━━━━━\u001b[0m\u001b[37m\u001b[0m \u001b[1m6s\u001b[0m 43ms/step - accuracy: 0.9738 - auc: 0.9972 - loss: 0.0858 - val_accuracy: 0.8214 - val_auc: 0.8959 - val_loss: 1.7840\n",
      "Epoch 63/100\n",
      "\u001b[1m138/138\u001b[0m \u001b[32m━━━━━━━━━━━━━━━━━━━━\u001b[0m\u001b[37m\u001b[0m \u001b[1m5s\u001b[0m 39ms/step - accuracy: 0.9734 - auc: 0.9981 - loss: 0.0765 - val_accuracy: 0.8178 - val_auc: 0.8994 - val_loss: 1.6005\n",
      "Epoch 64/100\n",
      "\u001b[1m138/138\u001b[0m \u001b[32m━━━━━━━━━━━━━━━━━━━━\u001b[0m\u001b[37m\u001b[0m \u001b[1m5s\u001b[0m 36ms/step - accuracy: 0.9804 - auc: 0.9985 - loss: 0.0627 - val_accuracy: 0.8152 - val_auc: 0.8955 - val_loss: 1.7050\n",
      "Epoch 65/100\n",
      "\u001b[1m138/138\u001b[0m \u001b[32m━━━━━━━━━━━━━━━━━━━━\u001b[0m\u001b[37m\u001b[0m \u001b[1m5s\u001b[0m 37ms/step - accuracy: 0.9876 - auc: 0.9994 - loss: 0.0448 - val_accuracy: 0.8116 - val_auc: 0.8924 - val_loss: 1.8581\n",
      "Epoch 66/100\n",
      "\u001b[1m138/138\u001b[0m \u001b[32m━━━━━━━━━━━━━━━━━━━━\u001b[0m\u001b[37m\u001b[0m \u001b[1m6s\u001b[0m 40ms/step - accuracy: 0.9848 - auc: 0.9989 - loss: 0.0535 - val_accuracy: 0.8067 - val_auc: 0.8931 - val_loss: 1.7506\n",
      "Epoch 67/100\n",
      "\u001b[1m138/138\u001b[0m \u001b[32m━━━━━━━━━━━━━━━━━━━━\u001b[0m\u001b[37m\u001b[0m \u001b[1m5s\u001b[0m 39ms/step - accuracy: 0.9829 - auc: 0.9993 - loss: 0.0500 - val_accuracy: 0.8160 - val_auc: 0.8979 - val_loss: 1.7962\n",
      "Epoch 68/100\n",
      "\u001b[1m138/138\u001b[0m \u001b[32m━━━━━━━━━━━━━━━━━━━━\u001b[0m\u001b[37m\u001b[0m \u001b[1m5s\u001b[0m 38ms/step - accuracy: 0.9825 - auc: 0.9986 - loss: 0.0580 - val_accuracy: 0.8045 - val_auc: 0.8929 - val_loss: 1.6988\n",
      "Epoch 69/100\n",
      "\u001b[1m138/138\u001b[0m \u001b[32m━━━━━━━━━━━━━━━━━━━━\u001b[0m\u001b[37m\u001b[0m \u001b[1m5s\u001b[0m 36ms/step - accuracy: 0.9851 - auc: 0.9985 - loss: 0.0562 - val_accuracy: 0.8152 - val_auc: 0.8953 - val_loss: 1.8716\n",
      "Epoch 70/100\n",
      "\u001b[1m138/138\u001b[0m \u001b[32m━━━━━━━━━━━━━━━━━━━━\u001b[0m\u001b[37m\u001b[0m \u001b[1m5s\u001b[0m 36ms/step - accuracy: 0.9865 - auc: 0.9992 - loss: 0.0440 - val_accuracy: 0.8200 - val_auc: 0.8978 - val_loss: 1.7790\n",
      "Epoch 71/100\n",
      "\u001b[1m138/138\u001b[0m \u001b[32m━━━━━━━━━━━━━━━━━━━━\u001b[0m\u001b[37m\u001b[0m \u001b[1m5s\u001b[0m 35ms/step - accuracy: 0.9701 - auc: 0.9972 - loss: 0.0842 - val_accuracy: 0.8045 - val_auc: 0.8928 - val_loss: 1.7901\n",
      "Epoch 72/100\n",
      "\u001b[1m138/138\u001b[0m \u001b[32m━━━━━━━━━━━━━━━━━━━━\u001b[0m\u001b[37m\u001b[0m \u001b[1m5s\u001b[0m 39ms/step - accuracy: 0.9786 - auc: 0.9982 - loss: 0.0686 - val_accuracy: 0.7983 - val_auc: 0.8898 - val_loss: 1.7625\n",
      "Epoch 73/100\n",
      "\u001b[1m138/138\u001b[0m \u001b[32m━━━━━━━━━━━━━━━━━━━━\u001b[0m\u001b[37m\u001b[0m \u001b[1m5s\u001b[0m 39ms/step - accuracy: 0.9887 - auc: 0.9995 - loss: 0.0388 - val_accuracy: 0.8019 - val_auc: 0.8896 - val_loss: 1.8256\n",
      "Epoch 74/100\n",
      "\u001b[1m138/138\u001b[0m \u001b[32m━━━━━━━━━━━━━━━━━━━━\u001b[0m\u001b[37m\u001b[0m \u001b[1m5s\u001b[0m 39ms/step - accuracy: 0.9833 - auc: 0.9990 - loss: 0.0491 - val_accuracy: 0.8027 - val_auc: 0.8884 - val_loss: 1.8697\n",
      "Epoch 75/100\n",
      "\u001b[1m138/138\u001b[0m \u001b[32m━━━━━━━━━━━━━━━━━━━━\u001b[0m\u001b[37m\u001b[0m \u001b[1m5s\u001b[0m 35ms/step - accuracy: 0.9885 - auc: 0.9988 - loss: 0.0399 - val_accuracy: 0.7753 - val_auc: 0.8756 - val_loss: 2.0585\n",
      "Epoch 76/100\n",
      "\u001b[1m138/138\u001b[0m \u001b[32m━━━━━━━━━━━━━━━━━━━━\u001b[0m\u001b[37m\u001b[0m \u001b[1m5s\u001b[0m 38ms/step - accuracy: 0.9876 - auc: 0.9997 - loss: 0.0348 - val_accuracy: 0.7992 - val_auc: 0.8912 - val_loss: 1.9544\n",
      "Epoch 77/100\n",
      "\u001b[1m138/138\u001b[0m \u001b[32m━━━━━━━━━━━━━━━━━━━━\u001b[0m\u001b[37m\u001b[0m \u001b[1m5s\u001b[0m 37ms/step - accuracy: 0.9882 - auc: 0.9995 - loss: 0.0324 - val_accuracy: 0.7886 - val_auc: 0.8838 - val_loss: 2.1233\n",
      "Epoch 78/100\n",
      "\u001b[1m138/138\u001b[0m \u001b[32m━━━━━━━━━━━━━━━━━━━━\u001b[0m\u001b[37m\u001b[0m \u001b[1m5s\u001b[0m 37ms/step - accuracy: 0.9839 - auc: 0.9989 - loss: 0.0499 - val_accuracy: 0.8019 - val_auc: 0.8887 - val_loss: 1.9202\n",
      "Epoch 79/100\n",
      "\u001b[1m138/138\u001b[0m \u001b[32m━━━━━━━━━━━━━━━━━━━━\u001b[0m\u001b[37m\u001b[0m \u001b[1m5s\u001b[0m 36ms/step - accuracy: 0.9845 - auc: 0.9993 - loss: 0.0449 - val_accuracy: 0.8041 - val_auc: 0.8864 - val_loss: 2.0333\n",
      "Epoch 80/100\n",
      "\u001b[1m138/138\u001b[0m \u001b[32m━━━━━━━━━━━━━━━━━━━━\u001b[0m\u001b[37m\u001b[0m \u001b[1m6s\u001b[0m 41ms/step - accuracy: 0.9946 - auc: 0.9996 - loss: 0.0264 - val_accuracy: 0.7881 - val_auc: 0.8784 - val_loss: 2.0969\n",
      "Epoch 81/100\n",
      "\u001b[1m138/138\u001b[0m \u001b[32m━━━━━━━━━━━━━━━━━━━━\u001b[0m\u001b[37m\u001b[0m \u001b[1m6s\u001b[0m 42ms/step - accuracy: 0.9928 - auc: 0.9990 - loss: 0.0263 - val_accuracy: 0.7899 - val_auc: 0.8797 - val_loss: 2.1166\n",
      "Epoch 82/100\n",
      "\u001b[1m138/138\u001b[0m \u001b[32m━━━━━━━━━━━━━━━━━━━━\u001b[0m\u001b[37m\u001b[0m \u001b[1m6s\u001b[0m 42ms/step - accuracy: 0.9915 - auc: 0.9995 - loss: 0.0262 - val_accuracy: 0.7872 - val_auc: 0.8784 - val_loss: 2.2699\n",
      "Epoch 83/100\n",
      "\u001b[1m138/138\u001b[0m \u001b[32m━━━━━━━━━━━━━━━━━━━━\u001b[0m\u001b[37m\u001b[0m \u001b[1m6s\u001b[0m 43ms/step - accuracy: 0.9915 - auc: 0.9997 - loss: 0.0236 - val_accuracy: 0.7859 - val_auc: 0.8774 - val_loss: 2.3086\n",
      "Epoch 84/100\n",
      "\u001b[1m138/138\u001b[0m \u001b[32m━━━━━━━━━━━━━━━━━━━━\u001b[0m\u001b[37m\u001b[0m \u001b[1m5s\u001b[0m 39ms/step - accuracy: 0.9798 - auc: 0.9969 - loss: 0.0773 - val_accuracy: 0.8156 - val_auc: 0.8954 - val_loss: 1.5354\n",
      "Epoch 85/100\n",
      "\u001b[1m138/138\u001b[0m \u001b[32m━━━━━━━━━━━━━━━━━━━━\u001b[0m\u001b[37m\u001b[0m \u001b[1m5s\u001b[0m 37ms/step - accuracy: 0.9830 - auc: 0.9985 - loss: 0.0714 - val_accuracy: 0.7996 - val_auc: 0.8872 - val_loss: 1.8289\n",
      "Epoch 86/100\n",
      "\u001b[1m138/138\u001b[0m \u001b[32m━━━━━━━━━━━━━━━━━━━━\u001b[0m\u001b[37m\u001b[0m \u001b[1m5s\u001b[0m 36ms/step - accuracy: 0.9932 - auc: 0.9999 - loss: 0.0222 - val_accuracy: 0.7886 - val_auc: 0.8825 - val_loss: 1.9869\n",
      "Epoch 87/100\n",
      "\u001b[1m138/138\u001b[0m \u001b[32m━━━━━━━━━━━━━━━━━━━━\u001b[0m\u001b[37m\u001b[0m \u001b[1m5s\u001b[0m 37ms/step - accuracy: 0.9964 - auc: 0.9999 - loss: 0.0152 - val_accuracy: 0.7850 - val_auc: 0.8785 - val_loss: 2.0224\n",
      "Epoch 88/100\n",
      "\u001b[1m138/138\u001b[0m \u001b[32m━━━━━━━━━━━━━━━━━━━━\u001b[0m\u001b[37m\u001b[0m \u001b[1m5s\u001b[0m 39ms/step - accuracy: 0.9954 - auc: 0.9999 - loss: 0.0204 - val_accuracy: 0.7881 - val_auc: 0.8801 - val_loss: 2.2319\n",
      "Epoch 89/100\n",
      "\u001b[1m138/138\u001b[0m \u001b[32m━━━━━━━━━━━━━━━━━━━━\u001b[0m\u001b[37m\u001b[0m \u001b[1m5s\u001b[0m 39ms/step - accuracy: 0.9914 - auc: 0.9995 - loss: 0.0294 - val_accuracy: 0.7957 - val_auc: 0.8864 - val_loss: 2.1962\n",
      "Epoch 90/100\n",
      "\u001b[1m138/138\u001b[0m \u001b[32m━━━━━━━━━━━━━━━━━━━━\u001b[0m\u001b[37m\u001b[0m \u001b[1m5s\u001b[0m 39ms/step - accuracy: 0.9853 - auc: 0.9983 - loss: 0.0411 - val_accuracy: 0.7793 - val_auc: 0.8746 - val_loss: 2.1058\n",
      "Epoch 91/100\n",
      "\u001b[1m138/138\u001b[0m \u001b[32m━━━━━━━━━━━━━━━━━━━━\u001b[0m\u001b[37m\u001b[0m \u001b[1m6s\u001b[0m 39ms/step - accuracy: 0.9916 - auc: 0.9996 - loss: 0.0262 - val_accuracy: 0.8143 - val_auc: 0.8918 - val_loss: 2.1725\n",
      "Epoch 92/100\n",
      "\u001b[1m138/138\u001b[0m \u001b[32m━━━━━━━━━━━━━━━━━━━━\u001b[0m\u001b[37m\u001b[0m \u001b[1m5s\u001b[0m 36ms/step - accuracy: 0.9852 - auc: 0.9981 - loss: 0.0487 - val_accuracy: 0.7996 - val_auc: 0.8863 - val_loss: 1.9622\n",
      "Epoch 93/100\n",
      "\u001b[1m138/138\u001b[0m \u001b[32m━━━━━━━━━━━━━━━━━━━━\u001b[0m\u001b[37m\u001b[0m \u001b[1m5s\u001b[0m 36ms/step - accuracy: 0.9945 - auc: 0.9995 - loss: 0.0236 - val_accuracy: 0.7983 - val_auc: 0.8833 - val_loss: 1.9287\n",
      "Epoch 94/100\n",
      "\u001b[1m138/138\u001b[0m \u001b[32m━━━━━━━━━━━━━━━━━━━━\u001b[0m\u001b[37m\u001b[0m \u001b[1m5s\u001b[0m 35ms/step - accuracy: 0.9912 - auc: 0.9993 - loss: 0.0337 - val_accuracy: 0.7943 - val_auc: 0.8827 - val_loss: 2.2070\n",
      "Epoch 95/100\n",
      "\u001b[1m138/138\u001b[0m \u001b[32m━━━━━━━━━━━━━━━━━━━━\u001b[0m\u001b[37m\u001b[0m \u001b[1m4s\u001b[0m 29ms/step - accuracy: 0.9905 - auc: 0.9990 - loss: 0.0332 - val_accuracy: 0.7779 - val_auc: 0.8767 - val_loss: 2.0867\n",
      "Epoch 96/100\n",
      "\u001b[1m138/138\u001b[0m \u001b[32m━━━━━━━━━━━━━━━━━━━━\u001b[0m\u001b[37m\u001b[0m \u001b[1m4s\u001b[0m 29ms/step - accuracy: 0.9940 - auc: 0.9999 - loss: 0.0161 - val_accuracy: 0.7948 - val_auc: 0.8825 - val_loss: 2.3188\n",
      "Epoch 97/100\n",
      "\u001b[1m138/138\u001b[0m \u001b[32m━━━━━━━━━━━━━━━━━━━━\u001b[0m\u001b[37m\u001b[0m \u001b[1m4s\u001b[0m 30ms/step - accuracy: 0.9930 - auc: 0.9990 - loss: 0.0325 - val_accuracy: 0.7673 - val_auc: 0.8762 - val_loss: 2.0637\n",
      "Epoch 98/100\n",
      "\u001b[1m138/138\u001b[0m \u001b[32m━━━━━━━━━━━━━━━━━━━━\u001b[0m\u001b[37m\u001b[0m \u001b[1m5s\u001b[0m 34ms/step - accuracy: 0.9927 - auc: 0.9993 - loss: 0.0306 - val_accuracy: 0.7912 - val_auc: 0.8820 - val_loss: 1.8742\n",
      "Epoch 99/100\n",
      "\u001b[1m138/138\u001b[0m \u001b[32m━━━━━━━━━━━━━━━━━━━━\u001b[0m\u001b[37m\u001b[0m \u001b[1m4s\u001b[0m 30ms/step - accuracy: 0.9937 - auc: 0.9999 - loss: 0.0229 - val_accuracy: 0.8045 - val_auc: 0.8876 - val_loss: 2.1039\n",
      "Epoch 100/100\n",
      "\u001b[1m138/138\u001b[0m \u001b[32m━━━━━━━━━━━━━━━━━━━━\u001b[0m\u001b[37m\u001b[0m \u001b[1m4s\u001b[0m 30ms/step - accuracy: 0.9979 - auc: 1.0000 - loss: 0.0106 - val_accuracy: 0.8005 - val_auc: 0.8864 - val_loss: 2.3242\n"
     ]
    },
    {
     "data": {
      "text/plain": [
       "<keras.src.callbacks.history.History at 0x2712cd85890>"
      ]
     },
     "execution_count": 47,
     "metadata": {},
     "output_type": "execute_result"
    }
   ],
   "source": [
    "# Construir el modelo LSTM\n",
    "model = Sequential()\n",
    "model.add(LSTM(144, activation='relu', input_shape=(timesteps, X_train.shape[1])))#, return_sequences=True))\n",
    "#model.add(LSTM(288, activation='relu'))\n",
    "model.add(Dense(72, activation='relu'))\n",
    "#model.add(Dense(72, activation='relu'))\n",
    "model.add(Dense(3, activation='softmax'))\n",
    "# Compilar el modelo\n",
    "model.compile(optimizer='adam', loss='categorical_crossentropy', metrics=['accuracy','auc'])\n",
    "\n",
    "# Entrenar el modelo\n",
    "model.fit(X_train_reshaped, y_train_categorical, epochs=100, batch_size=36,\n",
    "          validation_data=(X_test_reshaped, y_test_categorical))#, class_weight=class_weights_dict)\n"
   ]
  },
  {
   "cell_type": "code",
   "execution_count": 48,
   "metadata": {},
   "outputs": [
    {
     "name": "stderr",
     "output_type": "stream",
     "text": [
      "WARNING:absl:You are saving your model as an HDF5 file via `model.save()` or `keras.saving.save_model(model)`. This file format is considered legacy. We recommend using instead the native Keras format, e.g. `model.save('my_model.keras')` or `keras.saving.save_model(model, 'my_model.keras')`. \n"
     ]
    }
   ],
   "source": [
    "# Guardar el modelo completo\n",
    "model.save(f'entrenamientos/{nombre_csv}_modelo_entrenado.h5')\n"
   ]
  },
  {
   "cell_type": "code",
   "execution_count": 49,
   "metadata": {
    "colab": {
     "base_uri": "https://localhost:8080/"
    },
    "id": "Hq-cWmEVxsKB",
    "outputId": "da098090-b3eb-42be-e96f-728e1712343b"
   },
   "outputs": [
    {
     "name": "stdout",
     "output_type": "stream",
     "text": [
      "\u001b[1m71/71\u001b[0m \u001b[32m━━━━━━━━━━━━━━━━━━━━\u001b[0m\u001b[37m\u001b[0m \u001b[1m2s\u001b[0m 20ms/step\n",
      "{0: 1954, 1: 218, 2: 84}\n",
      "{0: 2072, 1: 143, 2: 41}\n"
     ]
    }
   ],
   "source": [
    "# Predecir las etiquetas para el conjunto de prueba\n",
    "y_pred_proba = model.predict(X_test_reshaped)\n",
    "y_pred = np.argmax(y_pred_proba, axis=1)\n",
    "# Contamos las ocurrencias de cada nivel de estrés\n",
    "valores_unicos, conteos = np.unique(y_test, return_counts=True)\n",
    "valores_unicos1, conteos1 = np.unique(y_pred, return_counts=True)\n",
    "# Combina los valores únicos y sus conteos en un diccionario para facilitar la visualización\n",
    "ocurrencias = dict(zip(valores_unicos, conteos))\n",
    "ocurrenciaspre = dict(zip(valores_unicos1, conteos1))\n",
    "# Mostramos el resultado\n",
    "#print(conteo_nivel_estres)\n",
    "print(ocurrencias)\n",
    "print(ocurrenciaspre)"
   ]
  },
  {
   "cell_type": "code",
   "execution_count": 50,
   "metadata": {},
   "outputs": [
    {
     "name": "stdout",
     "output_type": "stream",
     "text": [
      "Cantidad de coincidencias: 1806\n"
     ]
    }
   ],
   "source": [
    "# Comparar elemento por elemento\n",
    "resultado = y_test==y_pred\n",
    "conteo = np.sum(resultado)\n",
    "print(\"Cantidad de coincidencias:\", conteo)"
   ]
  },
  {
   "cell_type": "code",
   "execution_count": 51,
   "metadata": {},
   "outputs": [
    {
     "data": {
      "text/html": [
       "<div>\n",
       "<style scoped>\n",
       "    .dataframe tbody tr th:only-of-type {\n",
       "        vertical-align: middle;\n",
       "    }\n",
       "\n",
       "    .dataframe tbody tr th {\n",
       "        vertical-align: top;\n",
       "    }\n",
       "\n",
       "    .dataframe thead th {\n",
       "        text-align: right;\n",
       "    }\n",
       "</style>\n",
       "<table border=\"1\" class=\"dataframe\">\n",
       "  <thead>\n",
       "    <tr style=\"text-align: right;\">\n",
       "      <th></th>\n",
       "      <th>reales</th>\n",
       "      <th>predichos</th>\n",
       "      <th>T/F</th>\n",
       "    </tr>\n",
       "  </thead>\n",
       "  <tbody>\n",
       "    <tr>\n",
       "      <th>24</th>\n",
       "      <td>0</td>\n",
       "      <td>0</td>\n",
       "      <td>True</td>\n",
       "    </tr>\n",
       "    <tr>\n",
       "      <th>25</th>\n",
       "      <td>0</td>\n",
       "      <td>0</td>\n",
       "      <td>True</td>\n",
       "    </tr>\n",
       "    <tr>\n",
       "      <th>26</th>\n",
       "      <td>0</td>\n",
       "      <td>0</td>\n",
       "      <td>True</td>\n",
       "    </tr>\n",
       "    <tr>\n",
       "      <th>27</th>\n",
       "      <td>0</td>\n",
       "      <td>0</td>\n",
       "      <td>True</td>\n",
       "    </tr>\n",
       "    <tr>\n",
       "      <th>28</th>\n",
       "      <td>0</td>\n",
       "      <td>0</td>\n",
       "      <td>True</td>\n",
       "    </tr>\n",
       "    <tr>\n",
       "      <th>...</th>\n",
       "      <td>...</td>\n",
       "      <td>...</td>\n",
       "      <td>...</td>\n",
       "    </tr>\n",
       "    <tr>\n",
       "      <th>2275</th>\n",
       "      <td>0</td>\n",
       "      <td>2</td>\n",
       "      <td>False</td>\n",
       "    </tr>\n",
       "    <tr>\n",
       "      <th>2276</th>\n",
       "      <td>0</td>\n",
       "      <td>2</td>\n",
       "      <td>False</td>\n",
       "    </tr>\n",
       "    <tr>\n",
       "      <th>2277</th>\n",
       "      <td>0</td>\n",
       "      <td>2</td>\n",
       "      <td>False</td>\n",
       "    </tr>\n",
       "    <tr>\n",
       "      <th>2278</th>\n",
       "      <td>0</td>\n",
       "      <td>0</td>\n",
       "      <td>True</td>\n",
       "    </tr>\n",
       "    <tr>\n",
       "      <th>2279</th>\n",
       "      <td>0</td>\n",
       "      <td>0</td>\n",
       "      <td>True</td>\n",
       "    </tr>\n",
       "  </tbody>\n",
       "</table>\n",
       "<p>2256 rows × 3 columns</p>\n",
       "</div>"
      ],
      "text/plain": [
       "      reales  predichos    T/F\n",
       "24         0          0   True\n",
       "25         0          0   True\n",
       "26         0          0   True\n",
       "27         0          0   True\n",
       "28         0          0   True\n",
       "...      ...        ...    ...\n",
       "2275       0          2  False\n",
       "2276       0          2  False\n",
       "2277       0          2  False\n",
       "2278       0          0   True\n",
       "2279       0          0   True\n",
       "\n",
       "[2256 rows x 3 columns]"
      ]
     },
     "execution_count": 51,
     "metadata": {},
     "output_type": "execute_result"
    }
   ],
   "source": [
    "comparacion = pd.DataFrame({'reales':y_test,'predichos':y_pred,'T/F':resultado})\n",
    "comparacion"
   ]
  },
  {
   "cell_type": "markdown",
   "metadata": {
    "id": "r_WwX96g31SC"
   },
   "source": [
    "# EVALUACION DEL ALGORITMO"
   ]
  },
  {
   "cell_type": "code",
   "execution_count": 52,
   "metadata": {},
   "outputs": [
    {
     "name": "stdout",
     "output_type": "stream",
     "text": [
      "\u001b[1m71/71\u001b[0m \u001b[32m━━━━━━━━━━━━━━━━━━━━\u001b[0m\u001b[37m\u001b[0m \u001b[1m1s\u001b[0m 14ms/step - accuracy: 0.8287 - auc: 0.8994 - loss: 1.9848\n",
      "Acuracy: 0.8005319237709045\n",
      "AUC en prueba: 0.8863893151283264\n"
     ]
    }
   ],
   "source": [
    "test_loss,test_acuracy, test_auc = model.evaluate(X_test_reshaped, y_test_categorical)\n",
    "print(f\"Acuracy: {test_acuracy}\")\n",
    "print(f\"AUC en prueba: {test_auc}\")"
   ]
  },
  {
   "cell_type": "code",
   "execution_count": 53,
   "metadata": {
    "colab": {
     "base_uri": "https://localhost:8080/"
    },
    "id": "OWISIj2Nx4KC",
    "outputId": "69dc4ea4-2114-458b-9b9b-093076faaf3e"
   },
   "outputs": [
    {
     "name": "stdout",
     "output_type": "stream",
     "text": [
      "Accuracy: 0.800531914893617\n",
      "Precision: 0.7590147221698856\n",
      "Recall: 0.800531914893617\n",
      "F1 Score: 0.7786606700852232\n",
      "ROC AUC: 0.5295486090083957\n"
     ]
    }
   ],
   "source": [
    "# EVALUACION DEL MODELO\n",
    "from sklearn.preprocessing import label_binarize\n",
    "y_pred2 = label_binarize(y_pred, classes=[0, 1, 2])\n",
    "# Calcular las métricas de evaluación\n",
    "accuracy = accuracy_score(y_test, y_pred)\n",
    "precision = precision_score(y_test, y_pred, average='weighted')\n",
    "recall = recall_score(y_test, y_pred, average='weighted')\n",
    "f1 = f1_score(y_test, y_pred, average='weighted')\n",
    "# Calcular el AUC\n",
    "roc_auc = roc_auc_score(y_test_categorical, y_pred_proba, multi_class='ovr')\n",
    "\n",
    "# Mostrar métricas\n",
    "print(\"Accuracy:\", accuracy)\n",
    "print(\"Precision:\", precision)\n",
    "print(\"Recall:\", recall)\n",
    "print(\"F1 Score:\", f1)\n",
    "print(\"ROC AUC:\", roc_auc)"
   ]
  },
  {
   "cell_type": "code",
   "execution_count": 54,
   "metadata": {},
   "outputs": [
    {
     "data": {
      "image/png": "[encoded data removed]",
      "text/plain": [
       "<Figure size 640x480 with 1 Axes>"
      ]
     },
     "metadata": {},
     "output_type": "display_data"
    }
   ],
   "source": [
    "fpr = {}\n",
    "tpr = {}\n",
    "roc_auc = {}\n",
    "\n",
    "for i in range(3):\n",
    "    fpr[i], tpr[i], _ = roc_curve(y_test_categorical[:, i], y_pred_proba[:, i])\n",
    "    roc_auc[i] = auc(fpr[i], tpr[i])\n",
    "\n",
    "# Graficar las curvas ROC\n",
    "plt.figure()\n",
    "for i in range(3):\n",
    "    plt.plot(fpr[i], tpr[i], label=f'Clase {i} (AUC = {roc_auc[i]:.2f})')\n",
    "\n",
    "# Extraer los valores\n",
    "values = roc_auc.values()\n",
    "# Calcular la media\n",
    "mean_auc = sum(values) / len(values)\n",
    "\n",
    "plt.plot([0, 1], [0, 1], 'b--', label=f\"Mean AUC = {mean_auc:.2f}\", alpha=0.5)\n",
    "plt.xlim([0.0, 1.0])\n",
    "plt.ylim([0.0, 1.05])\n",
    "plt.xlabel('Tasa de Falsos Positivos')\n",
    "plt.ylabel('Tasa de Verdaderos Positivos')\n",
    "plt.title('Curva ROC Multiclase')\n",
    "plt.legend(loc='lower right')\n",
    "plt.show()"
   ]
  }
 ],
 "metadata": {
  "colab": {
   "provenance": []
  },
  "kernelspec": {
   "display_name": "Python 3",
   "name": "python3"
  },
  "language_info": {
   "codemirror_mode": {
    "name": "ipython",
    "version": 3
   },
   "file_extension": ".py",
   "mimetype": "text/x-python",
   "name": "python",
   "nbconvert_exporter": "python",
   "pygments_lexer": "ipython3",
   "version": "3.11.0"
  }
 },
 "nbformat": 4,
 "nbformat_minor": 0
}
