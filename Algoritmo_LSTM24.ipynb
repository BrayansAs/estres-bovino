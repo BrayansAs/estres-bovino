{
 "cells": [
  {
   "cell_type": "markdown",
   "metadata": {
    "id": "VaDJ6NbM4R4c"
   },
   "source": [
    "## Algoritmo LSTM"
   ]
  },
  {
   "cell_type": "code",
   "execution_count": 1,
   "metadata": {
    "id": "s_sVYocgwqjC"
   },
   "outputs": [],
   "source": [
    "# Importar las bibliotecas necesarias\n",
    "import pandas as pd\n",
    "import numpy as np\n",
    "import tensorflow as tf\n",
    "import matplotlib.pyplot as plt\n",
    "from sklearn.metrics import accuracy_score, precision_score, recall_score, f1_score, roc_auc_score,roc_auc_score, roc_curve, auc\n",
    "from sklearn.preprocessing import StandardScaler\n",
    "from tensorflow.keras.models import Sequential\n",
    "from tensorflow.keras.layers import LSTM, Dense\n",
    "from tensorflow.keras.utils import to_categorical\n",
    "from sklearn.utils.class_weight import compute_class_weight\n",
    "import random\n",
    "import joblib"
   ]
  },
  {
   "cell_type": "code",
   "execution_count": 2,
   "metadata": {},
   "outputs": [],
   "source": [
    "# Establecer una semilla aleatoria\n",
    "seed_value = 24\n",
    "np.random.seed(seed_value)\n",
    "random.seed(seed_value)\n",
    "tf.random.set_seed(48)"
   ]
  },
  {
   "cell_type": "code",
   "execution_count": 3,
   "metadata": {
    "collapsed": true,
    "id": "g8WDDqQaxRx4"
   },
   "outputs": [],
   "source": [
    "nombre_csv = 4003\n",
    "de = pd.read_csv(f'Datos_entrenamiento2/{nombre_csv}_e.csv')\n",
    "dp = pd.read_csv(f'Datos_prueba2/{nombre_csv}_p.csv')"
   ]
  },
  {
   "cell_type": "markdown",
   "metadata": {},
   "source": [
    "# Procesamiento"
   ]
  },
  {
   "cell_type": "code",
   "execution_count": 4,
   "metadata": {
    "id": "tNzDx458xTz5"
   },
   "outputs": [
    {
     "name": "stdout",
     "output_type": "stream",
     "text": [
      "nivel_estres\n",
      "Normal    2817\n",
      "Leve       376\n",
      "Alto       215\n",
      "Name: count, dtype: int64\n",
      "nivel_estres\n",
      "Normal    2419\n",
      "Leve       218\n",
      "Alto        75\n",
      "Name: count, dtype: int64\n"
     ]
    }
   ],
   "source": [
    "# Contamos las ocurrencias de cada nivel de estrés en la nueva columna\n",
    "conteo_nivel_estresde = de['nivel_estres'].value_counts()\n",
    "conteo_nivel_estresdp = dp['nivel_estres'].value_counts()\n",
    "# Mostramos el resultado\n",
    "print(conteo_nivel_estresde)\n",
    "print(conteo_nivel_estresdp)"
   ]
  },
  {
   "cell_type": "code",
   "execution_count": 5,
   "metadata": {
    "id": "Xl9IHQwfxX6R"
   },
   "outputs": [],
   "source": [
    "# Crear un diccionario para mapear cada categoría única en la columna 'nivel_estres' a un número\n",
    "mapping = {'Normal': 0, 'Leve': 1, 'Alto': 2}\n",
    "# Mapear las categorías a números utilizando el método map de pandas\n",
    "de['nivel_estres'] = de['nivel_estres'].map(mapping)\n",
    "dp['nivel_estres'] = dp['nivel_estres'].map(mapping)"
   ]
  },
  {
   "cell_type": "markdown",
   "metadata": {
    "id": "TVUnOhfZ1Ntc"
   },
   "source": [
    "# ALGORITMO DE LSTM"
   ]
  },
  {
   "cell_type": "code",
   "execution_count": 6,
   "metadata": {
    "id": "Lvzb3Kfcxe5h"
   },
   "outputs": [],
   "source": [
    "# Separar características y etiquetas del conjunto de entrenamiento\n",
    "X_train = de[['period eating','period other','period resting','period rumination']]\n",
    "y_train = de['nivel_estres']\n",
    "# Separar características y etiquetas del conjunto de prueba\n",
    "X_test = dp[['period eating','period other','period resting','period rumination']]\n",
    "y_test = dp['nivel_estres']"
   ]
  },
  {
   "cell_type": "code",
   "execution_count": 20,
   "metadata": {},
   "outputs": [
    {
     "data": {
      "text/plain": [
       "24      0\n",
       "25      0\n",
       "26      0\n",
       "27      0\n",
       "28      0\n",
       "       ..\n",
       "3403    1\n",
       "3404    0\n",
       "3405    0\n",
       "3406    0\n",
       "3407    0\n",
       "Name: nivel_estres, Length: 3384, dtype: int64"
      ]
     },
     "execution_count": 20,
     "metadata": {},
     "output_type": "execute_result"
    }
   ],
   "source": [
    "y_train"
   ]
  },
  {
   "cell_type": "code",
   "execution_count": 7,
   "metadata": {
    "id": "juQN7hSuxhmY"
   },
   "outputs": [],
   "source": [
    "# # Estandarizar las características\n",
    "# scaler = joblib.load(f'scalers/{nombre_csv}_scaler.pkl')\n",
    "# X_train_scaled = scaler.fit_transform(X_train)\n",
    "# X_test_scaled = scaler.transform(X_test)\n"
   ]
  },
  {
   "cell_type": "code",
   "execution_count": 8,
   "metadata": {
    "id": "y48rGM_0xlNZ"
   },
   "outputs": [],
   "source": [
    "#Expandir a 24 horas de datos para capturar ciclo diario\n",
    "timesteps = 24\n",
    "\n",
    "# X_train_reshaped = np.array([X_train_scaled[i:i + timesteps] for i in range(len(X_train_scaled) - timesteps)])\n",
    "# y_train = y_train[timesteps:]\n",
    "# X_test_reshaped = np.array([X_test_scaled[i:i + timesteps] for i in range(len(X_test_scaled) - timesteps)])\n",
    "# y_test = y_test[timesteps:]\n",
    "\n",
    "X_train_reshaped = np.array([X_train[i:i + timesteps] for i in range(len(X_train) - timesteps)])\n",
    "y_train = y_train[timesteps:]\n",
    "X_test_reshaped = np.array([X_test[i:i + timesteps] for i in range(len(X_test) - timesteps)])\n",
    "y_test = y_test[timesteps:]\n"
   ]
  },
  {
   "cell_type": "code",
   "execution_count": null,
   "metadata": {},
   "outputs": [],
   "source": [
    "X_test_reshaped"
   ]
  },
  {
   "cell_type": "code",
   "execution_count": 9,
   "metadata": {},
   "outputs": [],
   "source": [
    "# #Ajuste de pesos: Calcular pesos de clase para manejar el desbalance\n",
    "class_weights = compute_class_weight(class_weight='balanced', classes=np.unique(y_train), y=y_train)\n",
    "#class_weights_dict = {i: weight for i, weight in enumerate(class_weights)}\n",
    "class_weights_dict = dict(enumerate(class_weights))"
   ]
  },
  {
   "cell_type": "code",
   "execution_count": 10,
   "metadata": {},
   "outputs": [],
   "source": [
    "# Convertir etiquetas a formato categórico\n",
    "y_train_categorical = to_categorical(y_train, num_classes=3)\n",
    "y_test_categorical = to_categorical(y_test, num_classes=3)"
   ]
  },
  {
   "cell_type": "code",
   "execution_count": null,
   "metadata": {},
   "outputs": [],
   "source": [
    "y_train_categorical"
   ]
  },
  {
   "cell_type": "code",
   "execution_count": 11,
   "metadata": {
    "id": "weTv5z_TxnD4"
   },
   "outputs": [
    {
     "name": "stderr",
     "output_type": "stream",
     "text": [
      "C:\\Users\\PC\\AppData\\Roaming\\Python\\Python311\\site-packages\\keras\\src\\layers\\rnn\\rnn.py:204: UserWarning: Do not pass an `input_shape`/`input_dim` argument to a layer. When using Sequential models, prefer using an `Input(shape)` object as the first layer in the model instead.\n",
      "  super().__init__(**kwargs)\n"
     ]
    },
    {
     "name": "stdout",
     "output_type": "stream",
     "text": [
      "Epoch 1/100\n",
      "\u001b[1m71/71\u001b[0m \u001b[32m━━━━━━━━━━━━━━━━━━━━\u001b[0m\u001b[37m\u001b[0m \u001b[1m7s\u001b[0m 26ms/step - accuracy: 0.8110 - auc: 0.8610 - loss: 0.7886 - val_accuracy: 0.8910 - val_auc: 0.9311 - val_loss: 0.4418\n",
      "Epoch 2/100\n",
      "\u001b[1m71/71\u001b[0m \u001b[32m━━━━━━━━━━━━━━━━━━━━\u001b[0m\u001b[37m\u001b[0m \u001b[1m1s\u001b[0m 17ms/step - accuracy: 0.8110 - auc: 0.8788 - loss: 0.6043 - val_accuracy: 0.8910 - val_auc: 0.9329 - val_loss: 0.4459\n",
      "Epoch 3/100\n",
      "\u001b[1m71/71\u001b[0m \u001b[32m━━━━━━━━━━━━━━━━━━━━\u001b[0m\u001b[37m\u001b[0m \u001b[1m1s\u001b[0m 19ms/step - accuracy: 0.8110 - auc: 0.8805 - loss: 0.6029 - val_accuracy: 0.8910 - val_auc: 0.9336 - val_loss: 0.4472\n",
      "Epoch 4/100\n",
      "\u001b[1m71/71\u001b[0m \u001b[32m━━━━━━━━━━━━━━━━━━━━\u001b[0m\u001b[37m\u001b[0m \u001b[1m1s\u001b[0m 17ms/step - accuracy: 0.8110 - auc: 0.8812 - loss: 0.6018 - val_accuracy: 0.8910 - val_auc: 0.9343 - val_loss: 0.4432\n",
      "Epoch 5/100\n",
      "\u001b[1m71/71\u001b[0m \u001b[32m━━━━━━━━━━━━━━━━━━━━\u001b[0m\u001b[37m\u001b[0m \u001b[1m1s\u001b[0m 16ms/step - accuracy: 0.8110 - auc: 0.8819 - loss: 0.6011 - val_accuracy: 0.8910 - val_auc: 0.9345 - val_loss: 0.4431\n",
      "Epoch 6/100\n",
      "\u001b[1m71/71\u001b[0m \u001b[32m━━━━━━━━━━━━━━━━━━━━\u001b[0m\u001b[37m\u001b[0m \u001b[1m1s\u001b[0m 16ms/step - accuracy: 0.8110 - auc: 0.8826 - loss: 0.6004 - val_accuracy: 0.8910 - val_auc: 0.9343 - val_loss: 0.4418\n",
      "Epoch 7/100\n",
      "\u001b[1m71/71\u001b[0m \u001b[32m━━━━━━━━━━━━━━━━━━━━\u001b[0m\u001b[37m\u001b[0m \u001b[1m1s\u001b[0m 15ms/step - accuracy: 0.8110 - auc: 0.8832 - loss: 0.6000 - val_accuracy: 0.8910 - val_auc: 0.9341 - val_loss: 0.4403\n",
      "Epoch 8/100\n",
      "\u001b[1m71/71\u001b[0m \u001b[32m━━━━━━━━━━━━━━━━━━━━\u001b[0m\u001b[37m\u001b[0m \u001b[1m1s\u001b[0m 15ms/step - accuracy: 0.8110 - auc: 0.8838 - loss: 0.5989 - val_accuracy: 0.8910 - val_auc: 0.9333 - val_loss: 0.4368\n",
      "Epoch 9/100\n",
      "\u001b[1m71/71\u001b[0m \u001b[32m━━━━━━━━━━━━━━━━━━━━\u001b[0m\u001b[37m\u001b[0m \u001b[1m1s\u001b[0m 18ms/step - accuracy: 0.8110 - auc: 0.8857 - loss: 0.5959 - val_accuracy: 0.8910 - val_auc: 0.9330 - val_loss: 0.4296\n",
      "Epoch 10/100\n",
      "\u001b[1m71/71\u001b[0m \u001b[32m━━━━━━━━━━━━━━━━━━━━\u001b[0m\u001b[37m\u001b[0m \u001b[1m1s\u001b[0m 15ms/step - accuracy: 0.8113 - auc: 0.8872 - loss: 0.5932 - val_accuracy: 0.8910 - val_auc: 0.9319 - val_loss: 0.4227\n",
      "Epoch 11/100\n",
      "\u001b[1m71/71\u001b[0m \u001b[32m━━━━━━━━━━━━━━━━━━━━\u001b[0m\u001b[37m\u001b[0m \u001b[1m1s\u001b[0m 16ms/step - accuracy: 0.8111 - auc: 0.8889 - loss: 0.5896 - val_accuracy: 0.8910 - val_auc: 0.9296 - val_loss: 0.4205\n",
      "Epoch 12/100\n",
      "\u001b[1m71/71\u001b[0m \u001b[32m━━━━━━━━━━━━━━━━━━━━\u001b[0m\u001b[37m\u001b[0m \u001b[1m1s\u001b[0m 16ms/step - accuracy: 0.8110 - auc: 0.8908 - loss: 0.5864 - val_accuracy: 0.8910 - val_auc: 0.9280 - val_loss: 0.4243\n",
      "Epoch 13/100\n",
      "\u001b[1m71/71\u001b[0m \u001b[32m━━━━━━━━━━━━━━━━━━━━\u001b[0m\u001b[37m\u001b[0m \u001b[1m1s\u001b[0m 15ms/step - accuracy: 0.8118 - auc: 0.8924 - loss: 0.5835 - val_accuracy: 0.8910 - val_auc: 0.9263 - val_loss: 0.4224\n",
      "Epoch 14/100\n",
      "\u001b[1m71/71\u001b[0m \u001b[32m━━━━━━━━━━━━━━━━━━━━\u001b[0m\u001b[37m\u001b[0m \u001b[1m1s\u001b[0m 16ms/step - accuracy: 0.8119 - auc: 0.8947 - loss: 0.5810 - val_accuracy: 0.8910 - val_auc: 0.9254 - val_loss: 0.4219\n",
      "Epoch 15/100\n",
      "\u001b[1m71/71\u001b[0m \u001b[32m━━━━━━━━━━━━━━━━━━━━\u001b[0m\u001b[37m\u001b[0m \u001b[1m1s\u001b[0m 15ms/step - accuracy: 0.8129 - auc: 0.8960 - loss: 0.5789 - val_accuracy: 0.8910 - val_auc: 0.9264 - val_loss: 0.4212\n",
      "Epoch 16/100\n",
      "\u001b[1m71/71\u001b[0m \u001b[32m━━━━━━━━━━━━━━━━━━━━\u001b[0m\u001b[37m\u001b[0m \u001b[1m1s\u001b[0m 16ms/step - accuracy: 0.8153 - auc: 0.8976 - loss: 0.5765 - val_accuracy: 0.8910 - val_auc: 0.9265 - val_loss: 0.4236\n",
      "Epoch 17/100\n",
      "\u001b[1m71/71\u001b[0m \u001b[32m━━━━━━━━━━━━━━━━━━━━\u001b[0m\u001b[37m\u001b[0m \u001b[1m1s\u001b[0m 21ms/step - accuracy: 0.8162 - auc: 0.8981 - loss: 0.5756 - val_accuracy: 0.8910 - val_auc: 0.9257 - val_loss: 0.4338\n",
      "Epoch 18/100\n",
      "\u001b[1m71/71\u001b[0m \u001b[32m━━━━━━━━━━━━━━━━━━━━\u001b[0m\u001b[37m\u001b[0m \u001b[1m1s\u001b[0m 16ms/step - accuracy: 0.8156 - auc: 0.8991 - loss: 0.5729 - val_accuracy: 0.8910 - val_auc: 0.9254 - val_loss: 0.4378\n",
      "Epoch 19/100\n",
      "\u001b[1m71/71\u001b[0m \u001b[32m━━━━━━━━━━━━━━━━━━━━\u001b[0m\u001b[37m\u001b[0m \u001b[1m1s\u001b[0m 17ms/step - accuracy: 0.8150 - auc: 0.8996 - loss: 0.5735 - val_accuracy: 0.8906 - val_auc: 0.9254 - val_loss: 0.4431\n",
      "Epoch 20/100\n",
      "\u001b[1m71/71\u001b[0m \u001b[32m━━━━━━━━━━━━━━━━━━━━\u001b[0m\u001b[37m\u001b[0m \u001b[1m1s\u001b[0m 16ms/step - accuracy: 0.8163 - auc: 0.9025 - loss: 0.5672 - val_accuracy: 0.8906 - val_auc: 0.9266 - val_loss: 0.4315\n",
      "Epoch 21/100\n",
      "\u001b[1m71/71\u001b[0m \u001b[32m━━━━━━━━━━━━━━━━━━━━\u001b[0m\u001b[37m\u001b[0m \u001b[1m1s\u001b[0m 16ms/step - accuracy: 0.8168 - auc: 0.9039 - loss: 0.5653 - val_accuracy: 0.8895 - val_auc: 0.9238 - val_loss: 0.4480\n",
      "Epoch 22/100\n",
      "\u001b[1m71/71\u001b[0m \u001b[32m━━━━━━━━━━━━━━━━━━━━\u001b[0m\u001b[37m\u001b[0m \u001b[1m1s\u001b[0m 18ms/step - accuracy: 0.8203 - auc: 0.9053 - loss: 0.5619 - val_accuracy: 0.8899 - val_auc: 0.9254 - val_loss: 0.4448\n",
      "Epoch 23/100\n",
      "\u001b[1m71/71\u001b[0m \u001b[32m━━━━━━━━━━━━━━━━━━━━\u001b[0m\u001b[37m\u001b[0m \u001b[1m1s\u001b[0m 16ms/step - accuracy: 0.8182 - auc: 0.9068 - loss: 0.5590 - val_accuracy: 0.8888 - val_auc: 0.9258 - val_loss: 0.4440\n",
      "Epoch 24/100\n",
      "\u001b[1m71/71\u001b[0m \u001b[32m━━━━━━━━━━━━━━━━━━━━\u001b[0m\u001b[37m\u001b[0m \u001b[1m1s\u001b[0m 17ms/step - accuracy: 0.8176 - auc: 0.9086 - loss: 0.5555 - val_accuracy: 0.8888 - val_auc: 0.9266 - val_loss: 0.4442\n",
      "Epoch 25/100\n",
      "\u001b[1m71/71\u001b[0m \u001b[32m━━━━━━━━━━━━━━━━━━━━\u001b[0m\u001b[37m\u001b[0m \u001b[1m1s\u001b[0m 17ms/step - accuracy: 0.8183 - auc: 0.9111 - loss: 0.5504 - val_accuracy: 0.8884 - val_auc: 0.9263 - val_loss: 0.4411\n",
      "Epoch 26/100\n",
      "\u001b[1m71/71\u001b[0m \u001b[32m━━━━━━━━━━━━━━━━━━━━\u001b[0m\u001b[37m\u001b[0m \u001b[1m1s\u001b[0m 15ms/step - accuracy: 0.8185 - auc: 0.9129 - loss: 0.5466 - val_accuracy: 0.8865 - val_auc: 0.9268 - val_loss: 0.4476\n",
      "Epoch 27/100\n",
      "\u001b[1m71/71\u001b[0m \u001b[32m━━━━━━━━━━━━━━━━━━━━\u001b[0m\u001b[37m\u001b[0m \u001b[1m1s\u001b[0m 17ms/step - accuracy: 0.8184 - auc: 0.9136 - loss: 0.5442 - val_accuracy: 0.8843 - val_auc: 0.9262 - val_loss: 0.4545\n",
      "Epoch 28/100\n",
      "\u001b[1m71/71\u001b[0m \u001b[32m━━━━━━━━━━━━━━━━━━━━\u001b[0m\u001b[37m\u001b[0m \u001b[1m1s\u001b[0m 14ms/step - accuracy: 0.8180 - auc: 0.9143 - loss: 0.5410 - val_accuracy: 0.8832 - val_auc: 0.9261 - val_loss: 0.4580\n",
      "Epoch 29/100\n",
      "\u001b[1m71/71\u001b[0m \u001b[32m━━━━━━━━━━━━━━━━━━━━\u001b[0m\u001b[37m\u001b[0m \u001b[1m1s\u001b[0m 14ms/step - accuracy: 0.8189 - auc: 0.9148 - loss: 0.5386 - val_accuracy: 0.8847 - val_auc: 0.9257 - val_loss: 0.4623\n",
      "Epoch 30/100\n",
      "\u001b[1m71/71\u001b[0m \u001b[32m━━━━━━━━━━━━━━━━━━━━\u001b[0m\u001b[37m\u001b[0m \u001b[1m1s\u001b[0m 15ms/step - accuracy: 0.8180 - auc: 0.9154 - loss: 0.5367 - val_accuracy: 0.8858 - val_auc: 0.9267 - val_loss: 0.4564\n",
      "Epoch 31/100\n",
      "\u001b[1m71/71\u001b[0m \u001b[32m━━━━━━━━━━━━━━━━━━━━\u001b[0m\u001b[37m\u001b[0m \u001b[1m1s\u001b[0m 16ms/step - accuracy: 0.8221 - auc: 0.9165 - loss: 0.5321 - val_accuracy: 0.8854 - val_auc: 0.9275 - val_loss: 0.4557\n",
      "Epoch 32/100\n",
      "\u001b[1m71/71\u001b[0m \u001b[32m━━━━━━━━━━━━━━━━━━━━\u001b[0m\u001b[37m\u001b[0m \u001b[1m1s\u001b[0m 19ms/step - accuracy: 0.8209 - auc: 0.9182 - loss: 0.5269 - val_accuracy: 0.8836 - val_auc: 0.9280 - val_loss: 0.4591\n",
      "Epoch 33/100\n",
      "\u001b[1m71/71\u001b[0m \u001b[32m━━━━━━━━━━━━━━━━━━━━\u001b[0m\u001b[37m\u001b[0m \u001b[1m1s\u001b[0m 15ms/step - accuracy: 0.8215 - auc: 0.9201 - loss: 0.5214 - val_accuracy: 0.8843 - val_auc: 0.9281 - val_loss: 0.4686\n",
      "Epoch 34/100\n",
      "\u001b[1m71/71\u001b[0m \u001b[32m━━━━━━━━━━━━━━━━━━━━\u001b[0m\u001b[37m\u001b[0m \u001b[1m1s\u001b[0m 14ms/step - accuracy: 0.8249 - auc: 0.9221 - loss: 0.5171 - val_accuracy: 0.8839 - val_auc: 0.9287 - val_loss: 0.4524\n",
      "Epoch 35/100\n",
      "\u001b[1m71/71\u001b[0m \u001b[32m━━━━━━━━━━━━━━━━━━━━\u001b[0m\u001b[37m\u001b[0m \u001b[1m1s\u001b[0m 14ms/step - accuracy: 0.8245 - auc: 0.9231 - loss: 0.5156 - val_accuracy: 0.8724 - val_auc: 0.9257 - val_loss: 0.4807\n",
      "Epoch 36/100\n",
      "\u001b[1m71/71\u001b[0m \u001b[32m━━━━━━━━━━━━━━━━━━━━\u001b[0m\u001b[37m\u001b[0m \u001b[1m1s\u001b[0m 14ms/step - accuracy: 0.8231 - auc: 0.9217 - loss: 0.5199 - val_accuracy: 0.8813 - val_auc: 0.9283 - val_loss: 0.4621\n",
      "Epoch 37/100\n",
      "\u001b[1m71/71\u001b[0m \u001b[32m━━━━━━━━━━━━━━━━━━━━\u001b[0m\u001b[37m\u001b[0m \u001b[1m1s\u001b[0m 16ms/step - accuracy: 0.8289 - auc: 0.9240 - loss: 0.5101 - val_accuracy: 0.8780 - val_auc: 0.9284 - val_loss: 0.4657\n",
      "Epoch 38/100\n",
      "\u001b[1m71/71\u001b[0m \u001b[32m━━━━━━━━━━━━━━━━━━━━\u001b[0m\u001b[37m\u001b[0m \u001b[1m1s\u001b[0m 14ms/step - accuracy: 0.8281 - auc: 0.9232 - loss: 0.5138 - val_accuracy: 0.8824 - val_auc: 0.9284 - val_loss: 0.4570\n",
      "Epoch 39/100\n",
      "\u001b[1m71/71\u001b[0m \u001b[32m━━━━━━━━━━━━━━━━━━━━\u001b[0m\u001b[37m\u001b[0m \u001b[1m2s\u001b[0m 22ms/step - accuracy: 0.8278 - auc: 0.9239 - loss: 0.5101 - val_accuracy: 0.8843 - val_auc: 0.9295 - val_loss: 0.4551\n",
      "Epoch 40/100\n",
      "\u001b[1m71/71\u001b[0m \u001b[32m━━━━━━━━━━━━━━━━━━━━\u001b[0m\u001b[37m\u001b[0m \u001b[1m1s\u001b[0m 19ms/step - accuracy: 0.8299 - auc: 0.9275 - loss: 0.4994 - val_accuracy: 0.8828 - val_auc: 0.9286 - val_loss: 0.4566\n",
      "Epoch 41/100\n",
      "\u001b[1m71/71\u001b[0m \u001b[32m━━━━━━━━━━━━━━━━━━━━\u001b[0m\u001b[37m\u001b[0m \u001b[1m2s\u001b[0m 21ms/step - accuracy: 0.8316 - auc: 0.9282 - loss: 0.4960 - val_accuracy: 0.8865 - val_auc: 0.9303 - val_loss: 0.4450\n",
      "Epoch 42/100\n",
      "\u001b[1m71/71\u001b[0m \u001b[32m━━━━━━━━━━━━━━━━━━━━\u001b[0m\u001b[37m\u001b[0m \u001b[1m2s\u001b[0m 24ms/step - accuracy: 0.8332 - auc: 0.9309 - loss: 0.4893 - val_accuracy: 0.8836 - val_auc: 0.9285 - val_loss: 0.4890\n",
      "Epoch 43/100\n",
      "\u001b[1m71/71\u001b[0m \u001b[32m━━━━━━━━━━━━━━━━━━━━\u001b[0m\u001b[37m\u001b[0m \u001b[1m1s\u001b[0m 19ms/step - accuracy: 0.8356 - auc: 0.9334 - loss: 0.4827 - val_accuracy: 0.8880 - val_auc: 0.9288 - val_loss: 0.5106\n",
      "Epoch 44/100\n",
      "\u001b[1m71/71\u001b[0m \u001b[32m━━━━━━━━━━━━━━━━━━━━\u001b[0m\u001b[37m\u001b[0m \u001b[1m1s\u001b[0m 16ms/step - accuracy: 0.8346 - auc: 0.9350 - loss: 0.4790 - val_accuracy: 0.8836 - val_auc: 0.9291 - val_loss: 0.4536\n",
      "Epoch 45/100\n",
      "\u001b[1m71/71\u001b[0m \u001b[32m━━━━━━━━━━━━━━━━━━━━\u001b[0m\u001b[37m\u001b[0m \u001b[1m1s\u001b[0m 18ms/step - accuracy: 0.8286 - auc: 0.9318 - loss: 0.4913 - val_accuracy: 0.8761 - val_auc: 0.9263 - val_loss: 0.5341\n",
      "Epoch 46/100\n",
      "\u001b[1m71/71\u001b[0m \u001b[32m━━━━━━━━━━━━━━━━━━━━\u001b[0m\u001b[37m\u001b[0m \u001b[1m1s\u001b[0m 19ms/step - accuracy: 0.8325 - auc: 0.9336 - loss: 0.4844 - val_accuracy: 0.8467 - val_auc: 0.9209 - val_loss: 0.5246\n",
      "Epoch 47/100\n",
      "\u001b[1m71/71\u001b[0m \u001b[32m━━━━━━━━━━━━━━━━━━━━\u001b[0m\u001b[37m\u001b[0m \u001b[1m1s\u001b[0m 17ms/step - accuracy: 0.8244 - auc: 0.9331 - loss: 0.4851 - val_accuracy: 0.8467 - val_auc: 0.9205 - val_loss: 0.5268\n",
      "Epoch 48/100\n",
      "\u001b[1m71/71\u001b[0m \u001b[32m━━━━━━━━━━━━━━━━━━━━\u001b[0m\u001b[37m\u001b[0m \u001b[1m2s\u001b[0m 21ms/step - accuracy: 0.8298 - auc: 0.9367 - loss: 0.4733 - val_accuracy: 0.8646 - val_auc: 0.9245 - val_loss: 0.5104\n",
      "Epoch 49/100\n",
      "\u001b[1m71/71\u001b[0m \u001b[32m━━━━━━━━━━━━━━━━━━━━\u001b[0m\u001b[37m\u001b[0m \u001b[1m2s\u001b[0m 21ms/step - accuracy: 0.8346 - auc: 0.9380 - loss: 0.4673 - val_accuracy: 0.8359 - val_auc: 0.9178 - val_loss: 0.5312\n",
      "Epoch 50/100\n",
      "\u001b[1m71/71\u001b[0m \u001b[32m━━━━━━━━━━━━━━━━━━━━\u001b[0m\u001b[37m\u001b[0m \u001b[1m1s\u001b[0m 17ms/step - accuracy: 0.8287 - auc: 0.9291 - loss: 0.4967 - val_accuracy: 0.8627 - val_auc: 0.9230 - val_loss: 0.5079\n",
      "Epoch 51/100\n",
      "\u001b[1m71/71\u001b[0m \u001b[32m━━━━━━━━━━━━━━━━━━━━\u001b[0m\u001b[37m\u001b[0m \u001b[1m1s\u001b[0m 18ms/step - accuracy: 0.8394 - auc: 0.9338 - loss: 0.4770 - val_accuracy: 0.8739 - val_auc: 0.9262 - val_loss: 0.5077\n",
      "Epoch 52/100\n",
      "\u001b[1m71/71\u001b[0m \u001b[32m━━━━━━━━━━━━━━━━━━━━\u001b[0m\u001b[37m\u001b[0m \u001b[1m1s\u001b[0m 18ms/step - accuracy: 0.8419 - auc: 0.9363 - loss: 0.4664 - val_accuracy: 0.8638 - val_auc: 0.9256 - val_loss: 0.5316\n",
      "Epoch 53/100\n",
      "\u001b[1m71/71\u001b[0m \u001b[32m━━━━━━━━━━━━━━━━━━━━\u001b[0m\u001b[37m\u001b[0m \u001b[1m1s\u001b[0m 18ms/step - accuracy: 0.8502 - auc: 0.9412 - loss: 0.4498 - val_accuracy: 0.8731 - val_auc: 0.9271 - val_loss: 0.4774\n",
      "Epoch 54/100\n",
      "\u001b[1m71/71\u001b[0m \u001b[32m━━━━━━━━━━━━━━━━━━━━\u001b[0m\u001b[37m\u001b[0m \u001b[1m1s\u001b[0m 19ms/step - accuracy: 0.8399 - auc: 0.9369 - loss: 0.4672 - val_accuracy: 0.8854 - val_auc: 0.9272 - val_loss: 0.4566\n",
      "Epoch 55/100\n",
      "\u001b[1m71/71\u001b[0m \u001b[32m━━━━━━━━━━━━━━━━━━━━\u001b[0m\u001b[37m\u001b[0m \u001b[1m1s\u001b[0m 19ms/step - accuracy: 0.8275 - auc: 0.9162 - loss: 0.5324 - val_accuracy: 0.8705 - val_auc: 0.9265 - val_loss: 0.4739\n",
      "Epoch 56/100\n",
      "\u001b[1m71/71\u001b[0m \u001b[32m━━━━━━━━━━━━━━━━━━━━\u001b[0m\u001b[37m\u001b[0m \u001b[1m2s\u001b[0m 26ms/step - accuracy: 0.8266 - auc: 0.9251 - loss: 0.5084 - val_accuracy: 0.8557 - val_auc: 0.9232 - val_loss: 0.5324\n",
      "Epoch 57/100\n",
      "\u001b[1m71/71\u001b[0m \u001b[32m━━━━━━━━━━━━━━━━━━━━\u001b[0m\u001b[37m\u001b[0m \u001b[1m2s\u001b[0m 23ms/step - accuracy: 0.8267 - auc: 0.9276 - loss: 0.5046 - val_accuracy: 0.8713 - val_auc: 0.9281 - val_loss: 0.5041\n",
      "Epoch 58/100\n",
      "\u001b[1m71/71\u001b[0m \u001b[32m━━━━━━━━━━━━━━━━━━━━\u001b[0m\u001b[37m\u001b[0m \u001b[1m1s\u001b[0m 18ms/step - accuracy: 0.8356 - auc: 0.9373 - loss: 0.4684 - val_accuracy: 0.8605 - val_auc: 0.9258 - val_loss: 0.5083\n",
      "Epoch 59/100\n",
      "\u001b[1m71/71\u001b[0m \u001b[32m━━━━━━━━━━━━━━━━━━━━\u001b[0m\u001b[37m\u001b[0m \u001b[1m1s\u001b[0m 19ms/step - accuracy: 0.8433 - auc: 0.9404 - loss: 0.4551 - val_accuracy: 0.8616 - val_auc: 0.9253 - val_loss: 0.5063\n",
      "Epoch 60/100\n",
      "\u001b[1m71/71\u001b[0m \u001b[32m━━━━━━━━━━━━━━━━━━━━\u001b[0m\u001b[37m\u001b[0m \u001b[1m1s\u001b[0m 17ms/step - accuracy: 0.8456 - auc: 0.9423 - loss: 0.4472 - val_accuracy: 0.8597 - val_auc: 0.9251 - val_loss: 0.5067\n",
      "Epoch 61/100\n",
      "\u001b[1m71/71\u001b[0m \u001b[32m━━━━━━━━━━━━━━━━━━━━\u001b[0m\u001b[37m\u001b[0m \u001b[1m1s\u001b[0m 18ms/step - accuracy: 0.8458 - auc: 0.9431 - loss: 0.4463 - val_accuracy: 0.8523 - val_auc: 0.9244 - val_loss: 0.5174\n",
      "Epoch 62/100\n",
      "\u001b[1m71/71\u001b[0m \u001b[32m━━━━━━━━━━━━━━━━━━━━\u001b[0m\u001b[37m\u001b[0m \u001b[1m1s\u001b[0m 17ms/step - accuracy: 0.8436 - auc: 0.9455 - loss: 0.4376 - val_accuracy: 0.8571 - val_auc: 0.9255 - val_loss: 0.4978\n",
      "Epoch 63/100\n",
      "\u001b[1m71/71\u001b[0m \u001b[32m━━━━━━━━━━━━━━━━━━━━\u001b[0m\u001b[37m\u001b[0m \u001b[1m1s\u001b[0m 17ms/step - accuracy: 0.8395 - auc: 0.9412 - loss: 0.4553 - val_accuracy: 0.8642 - val_auc: 0.9263 - val_loss: 0.5112\n",
      "Epoch 64/100\n",
      "\u001b[1m71/71\u001b[0m \u001b[32m━━━━━━━━━━━━━━━━━━━━\u001b[0m\u001b[37m\u001b[0m \u001b[1m1s\u001b[0m 17ms/step - accuracy: 0.8530 - auc: 0.9464 - loss: 0.4330 - val_accuracy: 0.8635 - val_auc: 0.9267 - val_loss: 0.5167\n",
      "Epoch 65/100\n",
      "\u001b[1m71/71\u001b[0m \u001b[32m━━━━━━━━━━━━━━━━━━━━\u001b[0m\u001b[37m\u001b[0m \u001b[1m1s\u001b[0m 16ms/step - accuracy: 0.8504 - auc: 0.9483 - loss: 0.4271 - val_accuracy: 0.8575 - val_auc: 0.9258 - val_loss: 0.5394\n",
      "Epoch 66/100\n",
      "\u001b[1m71/71\u001b[0m \u001b[32m━━━━━━━━━━━━━━━━━━━━\u001b[0m\u001b[37m\u001b[0m \u001b[1m1s\u001b[0m 16ms/step - accuracy: 0.8587 - auc: 0.9524 - loss: 0.4094 - val_accuracy: 0.8612 - val_auc: 0.9266 - val_loss: 0.5353\n",
      "Epoch 67/100\n",
      "\u001b[1m71/71\u001b[0m \u001b[32m━━━━━━━━━━━━━━━━━━━━\u001b[0m\u001b[37m\u001b[0m \u001b[1m1s\u001b[0m 16ms/step - accuracy: 0.8597 - auc: 0.9548 - loss: 0.3999 - val_accuracy: 0.8512 - val_auc: 0.9251 - val_loss: 0.5634\n",
      "Epoch 68/100\n",
      "\u001b[1m71/71\u001b[0m \u001b[32m━━━━━━━━━━━━━━━━━━━━\u001b[0m\u001b[37m\u001b[0m \u001b[1m1s\u001b[0m 15ms/step - accuracy: 0.8588 - auc: 0.9531 - loss: 0.4063 - val_accuracy: 0.8430 - val_auc: 0.9234 - val_loss: 0.5769\n",
      "Epoch 69/100\n",
      "\u001b[1m71/71\u001b[0m \u001b[32m━━━━━━━━━━━━━━━━━━━━\u001b[0m\u001b[37m\u001b[0m \u001b[1m1s\u001b[0m 16ms/step - accuracy: 0.8550 - auc: 0.9537 - loss: 0.4042 - val_accuracy: 0.8318 - val_auc: 0.9180 - val_loss: 0.6493\n",
      "Epoch 70/100\n",
      "\u001b[1m71/71\u001b[0m \u001b[32m━━━━━━━━━━━━━━━━━━━━\u001b[0m\u001b[37m\u001b[0m \u001b[1m1s\u001b[0m 15ms/step - accuracy: 0.8425 - auc: 0.9485 - loss: 0.4307 - val_accuracy: 0.8635 - val_auc: 0.9255 - val_loss: 0.8183\n",
      "Epoch 71/100\n",
      "\u001b[1m71/71\u001b[0m \u001b[32m━━━━━━━━━━━━━━━━━━━━\u001b[0m\u001b[37m\u001b[0m \u001b[1m1s\u001b[0m 20ms/step - accuracy: 0.8628 - auc: 0.9563 - loss: 0.3945 - val_accuracy: 0.8568 - val_auc: 0.9250 - val_loss: 0.6301\n",
      "Epoch 72/100\n",
      "\u001b[1m71/71\u001b[0m \u001b[32m━━━━━━━━━━━━━━━━━━━━\u001b[0m\u001b[37m\u001b[0m \u001b[1m1s\u001b[0m 16ms/step - accuracy: 0.8569 - auc: 0.9581 - loss: 0.3866 - val_accuracy: 0.8668 - val_auc: 0.9268 - val_loss: 0.6729\n",
      "Epoch 73/100\n",
      "\u001b[1m71/71\u001b[0m \u001b[32m━━━━━━━━━━━━━━━━━━━━\u001b[0m\u001b[37m\u001b[0m \u001b[1m1s\u001b[0m 16ms/step - accuracy: 0.8667 - auc: 0.9586 - loss: 0.3839 - val_accuracy: 0.8620 - val_auc: 0.9250 - val_loss: 0.6479\n",
      "Epoch 74/100\n",
      "\u001b[1m71/71\u001b[0m \u001b[32m━━━━━━━━━━━━━━━━━━━━\u001b[0m\u001b[37m\u001b[0m \u001b[1m1s\u001b[0m 17ms/step - accuracy: 0.8564 - auc: 0.9585 - loss: 0.3896 - val_accuracy: 0.8650 - val_auc: 0.9245 - val_loss: 0.5929\n",
      "Epoch 75/100\n",
      "\u001b[1m71/71\u001b[0m \u001b[32m━━━━━━━━━━━━━━━━━━━━\u001b[0m\u001b[37m\u001b[0m \u001b[1m1s\u001b[0m 16ms/step - accuracy: 0.8651 - auc: 0.9630 - loss: 0.3656 - val_accuracy: 0.8523 - val_auc: 0.9241 - val_loss: 0.5649\n",
      "Epoch 76/100\n",
      "\u001b[1m71/71\u001b[0m \u001b[32m━━━━━━━━━━━━━━━━━━━━\u001b[0m\u001b[37m\u001b[0m \u001b[1m1s\u001b[0m 17ms/step - accuracy: 0.8692 - auc: 0.9629 - loss: 0.3653 - val_accuracy: 0.8627 - val_auc: 0.9256 - val_loss: 0.6497\n",
      "Epoch 77/100\n",
      "\u001b[1m71/71\u001b[0m \u001b[32m━━━━━━━━━━━━━━━━━━━━\u001b[0m\u001b[37m\u001b[0m \u001b[1m1s\u001b[0m 17ms/step - accuracy: 0.8692 - auc: 0.9644 - loss: 0.3574 - val_accuracy: 0.8653 - val_auc: 0.9260 - val_loss: 0.5974\n",
      "Epoch 78/100\n",
      "\u001b[1m71/71\u001b[0m \u001b[32m━━━━━━━━━━━━━━━━━━━━\u001b[0m\u001b[37m\u001b[0m \u001b[1m1s\u001b[0m 16ms/step - accuracy: 0.8726 - auc: 0.9654 - loss: 0.3522 - val_accuracy: 0.8765 - val_auc: 0.9269 - val_loss: 0.6419\n",
      "Epoch 79/100\n",
      "\u001b[1m71/71\u001b[0m \u001b[32m━━━━━━━━━━━━━━━━━━━━\u001b[0m\u001b[37m\u001b[0m \u001b[1m1s\u001b[0m 18ms/step - accuracy: 0.8690 - auc: 0.9631 - loss: 0.3638 - val_accuracy: 0.8583 - val_auc: 0.9245 - val_loss: 0.6444\n",
      "Epoch 80/100\n",
      "\u001b[1m71/71\u001b[0m \u001b[32m━━━━━━━━━━━━━━━━━━━━\u001b[0m\u001b[37m\u001b[0m \u001b[1m1s\u001b[0m 15ms/step - accuracy: 0.8758 - auc: 0.9681 - loss: 0.3387 - val_accuracy: 0.8568 - val_auc: 0.9223 - val_loss: 0.7428\n",
      "Epoch 81/100\n",
      "\u001b[1m71/71\u001b[0m \u001b[32m━━━━━━━━━━━━━━━━━━━━\u001b[0m\u001b[37m\u001b[0m \u001b[1m1s\u001b[0m 17ms/step - accuracy: 0.8694 - auc: 0.9663 - loss: 0.3474 - val_accuracy: 0.8597 - val_auc: 0.9241 - val_loss: 0.7295\n",
      "Epoch 82/100\n",
      "\u001b[1m71/71\u001b[0m \u001b[32m━━━━━━━━━━━━━━━━━━━━\u001b[0m\u001b[37m\u001b[0m \u001b[1m1s\u001b[0m 14ms/step - accuracy: 0.8742 - auc: 0.9666 - loss: 0.3471 - val_accuracy: 0.8672 - val_auc: 0.9238 - val_loss: 0.6398\n",
      "Epoch 83/100\n",
      "\u001b[1m71/71\u001b[0m \u001b[32m━━━━━━━━━━━━━━━━━━━━\u001b[0m\u001b[37m\u001b[0m \u001b[1m1s\u001b[0m 16ms/step - accuracy: 0.8648 - auc: 0.9638 - loss: 0.3602 - val_accuracy: 0.8661 - val_auc: 0.9265 - val_loss: 0.6503\n",
      "Epoch 84/100\n",
      "\u001b[1m71/71\u001b[0m \u001b[32m━━━━━━━━━━━━━━━━━━━━\u001b[0m\u001b[37m\u001b[0m \u001b[1m1s\u001b[0m 19ms/step - accuracy: 0.8688 - auc: 0.9648 - loss: 0.3547 - val_accuracy: 0.8527 - val_auc: 0.9242 - val_loss: 0.6322\n",
      "Epoch 85/100\n",
      "\u001b[1m71/71\u001b[0m \u001b[32m━━━━━━━━━━━━━━━━━━━━\u001b[0m\u001b[37m\u001b[0m \u001b[1m1s\u001b[0m 19ms/step - accuracy: 0.8734 - auc: 0.9656 - loss: 0.3506 - val_accuracy: 0.8534 - val_auc: 0.9243 - val_loss: 0.6168\n",
      "Epoch 86/100\n",
      "\u001b[1m71/71\u001b[0m \u001b[32m━━━━━━━━━━━━━━━━━━━━\u001b[0m\u001b[37m\u001b[0m \u001b[1m1s\u001b[0m 17ms/step - accuracy: 0.8746 - auc: 0.9685 - loss: 0.3364 - val_accuracy: 0.8501 - val_auc: 0.9238 - val_loss: 0.6412\n",
      "Epoch 87/100\n",
      "\u001b[1m71/71\u001b[0m \u001b[32m━━━━━━━━━━━━━━━━━━━━\u001b[0m\u001b[37m\u001b[0m \u001b[1m1s\u001b[0m 17ms/step - accuracy: 0.8793 - auc: 0.9697 - loss: 0.3291 - val_accuracy: 0.8516 - val_auc: 0.9220 - val_loss: 0.6498\n",
      "Epoch 88/100\n",
      "\u001b[1m71/71\u001b[0m \u001b[32m━━━━━━━━━━━━━━━━━━━━\u001b[0m\u001b[37m\u001b[0m \u001b[1m1s\u001b[0m 18ms/step - accuracy: 0.8822 - auc: 0.9680 - loss: 0.3366 - val_accuracy: 0.8318 - val_auc: 0.9175 - val_loss: 0.6760\n",
      "Epoch 89/100\n",
      "\u001b[1m71/71\u001b[0m \u001b[32m━━━━━━━━━━━━━━━━━━━━\u001b[0m\u001b[37m\u001b[0m \u001b[1m1s\u001b[0m 16ms/step - accuracy: 0.8747 - auc: 0.9695 - loss: 0.3302 - val_accuracy: 0.8523 - val_auc: 0.9229 - val_loss: 0.6456\n",
      "Epoch 90/100\n",
      "\u001b[1m71/71\u001b[0m \u001b[32m━━━━━━━━━━━━━━━━━━━━\u001b[0m\u001b[37m\u001b[0m \u001b[1m1s\u001b[0m 18ms/step - accuracy: 0.8674 - auc: 0.9606 - loss: 0.3746 - val_accuracy: 0.8601 - val_auc: 0.9261 - val_loss: 0.5235\n",
      "Epoch 91/100\n",
      "\u001b[1m71/71\u001b[0m \u001b[32m━━━━━━━━━━━━━━━━━━━━\u001b[0m\u001b[37m\u001b[0m \u001b[1m1s\u001b[0m 16ms/step - accuracy: 0.8647 - auc: 0.9611 - loss: 0.3717 - val_accuracy: 0.8322 - val_auc: 0.9166 - val_loss: 0.6282\n",
      "Epoch 92/100\n",
      "\u001b[1m71/71\u001b[0m \u001b[32m━━━━━━━━━━━━━━━━━━━━\u001b[0m\u001b[37m\u001b[0m \u001b[1m1s\u001b[0m 16ms/step - accuracy: 0.8840 - auc: 0.9686 - loss: 0.3325 - val_accuracy: 0.8337 - val_auc: 0.9173 - val_loss: 0.6579\n",
      "Epoch 93/100\n",
      "\u001b[1m71/71\u001b[0m \u001b[32m━━━━━━━━━━━━━━━━━━━━\u001b[0m\u001b[37m\u001b[0m \u001b[1m1s\u001b[0m 19ms/step - accuracy: 0.8904 - auc: 0.9720 - loss: 0.3118 - val_accuracy: 0.8333 - val_auc: 0.9172 - val_loss: 0.6734\n",
      "Epoch 94/100\n",
      "\u001b[1m71/71\u001b[0m \u001b[32m━━━━━━━━━━━━━━━━━━━━\u001b[0m\u001b[37m\u001b[0m \u001b[1m1s\u001b[0m 17ms/step - accuracy: 0.8899 - auc: 0.9718 - loss: 0.3151 - val_accuracy: 0.8385 - val_auc: 0.9179 - val_loss: 0.6895\n",
      "Epoch 95/100\n",
      "\u001b[1m71/71\u001b[0m \u001b[32m━━━━━━━━━━━━━━━━━━━━\u001b[0m\u001b[37m\u001b[0m \u001b[1m1s\u001b[0m 17ms/step - accuracy: 0.8824 - auc: 0.9717 - loss: 0.3165 - val_accuracy: 0.8315 - val_auc: 0.9157 - val_loss: 0.7466\n",
      "Epoch 96/100\n",
      "\u001b[1m71/71\u001b[0m \u001b[32m━━━━━━━━━━━━━━━━━━━━\u001b[0m\u001b[37m\u001b[0m \u001b[1m1s\u001b[0m 16ms/step - accuracy: 0.8865 - auc: 0.9741 - loss: 0.3035 - val_accuracy: 0.8062 - val_auc: 0.9068 - val_loss: 0.7515\n",
      "Epoch 97/100\n",
      "\u001b[1m71/71\u001b[0m \u001b[32m━━━━━━━━━━━━━━━━━━━━\u001b[0m\u001b[37m\u001b[0m \u001b[1m1s\u001b[0m 16ms/step - accuracy: 0.8852 - auc: 0.9733 - loss: 0.3059 - val_accuracy: 0.8251 - val_auc: 0.9119 - val_loss: 0.7970\n",
      "Epoch 98/100\n",
      "\u001b[1m71/71\u001b[0m \u001b[32m━━━━━━━━━━━━━━━━━━━━\u001b[0m\u001b[37m\u001b[0m \u001b[1m1s\u001b[0m 17ms/step - accuracy: 0.8849 - auc: 0.9731 - loss: 0.3080 - val_accuracy: 0.8263 - val_auc: 0.9101 - val_loss: 0.8287\n",
      "Epoch 99/100\n",
      "\u001b[1m71/71\u001b[0m \u001b[32m━━━━━━━━━━━━━━━━━━━━\u001b[0m\u001b[37m\u001b[0m \u001b[1m1s\u001b[0m 18ms/step - accuracy: 0.8923 - auc: 0.9766 - loss: 0.2880 - val_accuracy: 0.8170 - val_auc: 0.9073 - val_loss: 0.9429\n",
      "Epoch 100/100\n",
      "\u001b[1m71/71\u001b[0m \u001b[32m━━━━━━━━━━━━━━━━━━━━\u001b[0m\u001b[37m\u001b[0m \u001b[1m1s\u001b[0m 18ms/step - accuracy: 0.8922 - auc: 0.9756 - loss: 0.2939 - val_accuracy: 0.8304 - val_auc: 0.9143 - val_loss: 0.9426\n"
     ]
    },
    {
     "data": {
      "text/plain": [
       "<keras.src.callbacks.history.History at 0x1bcaedfdc10>"
      ]
     },
     "execution_count": 11,
     "metadata": {},
     "output_type": "execute_result"
    }
   ],
   "source": [
    "# Construir el modelo LSTM\n",
    "model = Sequential()\n",
    "model.add(LSTM(72, activation='relu', input_shape=(timesteps, X_train.shape[1])),LSTM(576, activation='relu'))\n",
    "model.add(Dense(144, activation='relu'))\n",
    "model.add(Dense(36, activation='relu'))\n",
    "# model.add(Dense(36, activation='relu'))\n",
    "model.add(Dense(3, activation='softmax'))\n",
    "# Compilar el modelo\n",
    "model.compile(optimizer='adam', loss='categorical_crossentropy', metrics=['accuracy','auc'])\n",
    "\n",
    "# Entrenar el modelo\n",
    "model.fit(X_train_reshaped, y_train_categorical, epochs=100, batch_size=48,\n",
    "          validation_data=(X_test_reshaped, y_test_categorical))#, class_weight=class_weights_dict)\n"
   ]
  },
  {
   "cell_type": "code",
   "execution_count": 12,
   "metadata": {},
   "outputs": [],
   "source": [
    "# Guardar el modelo completo\n",
    "#model.save(f'entrenamientos/{nombre_csv}_modelo_entrenado.h5')\n"
   ]
  },
  {
   "cell_type": "code",
   "execution_count": 13,
   "metadata": {
    "colab": {
     "base_uri": "https://localhost:8080/"
    },
    "id": "Hq-cWmEVxsKB",
    "outputId": "da098090-b3eb-42be-e96f-728e1712343b"
   },
   "outputs": [
    {
     "name": "stdout",
     "output_type": "stream",
     "text": [
      "\u001b[1m84/84\u001b[0m \u001b[32m━━━━━━━━━━━━━━━━━━━━\u001b[0m\u001b[37m\u001b[0m \u001b[1m1s\u001b[0m 4ms/step\n",
      "{0: 2395, 1: 218, 2: 75}\n",
      "{0: 2478, 1: 122, 2: 88}\n"
     ]
    }
   ],
   "source": [
    "# Predecir las etiquetas para el conjunto de prueba\n",
    "y_pred_proba = model.predict(X_test_reshaped)\n",
    "y_pred = np.argmax(y_pred_proba, axis=1)\n",
    "# Contamos las ocurrencias de cada nivel de estrés\n",
    "valores_unicos, conteos = np.unique(y_test, return_counts=True)\n",
    "valores_unicos1, conteos1 = np.unique(y_pred, return_counts=True)\n",
    "# Combina los valores únicos y sus conteos en un diccionario para facilitar la visualización\n",
    "ocurrencias = dict(zip(valores_unicos, conteos))\n",
    "ocurrenciaspre = dict(zip(valores_unicos1, conteos1))\n",
    "# Mostramos el resultado\n",
    "#print(conteo_nivel_estres)\n",
    "print(ocurrencias)\n",
    "print(ocurrenciaspre)"
   ]
  },
  {
   "cell_type": "code",
   "execution_count": 14,
   "metadata": {},
   "outputs": [
    {
     "name": "stdout",
     "output_type": "stream",
     "text": [
      "Cantidad de coincidencias: 2232\n"
     ]
    }
   ],
   "source": [
    "# Comparar elemento por elemento\n",
    "resultado = y_test==y_pred\n",
    "conteo = np.sum(resultado)\n",
    "print(\"Cantidad de coincidencias:\", conteo)"
   ]
  },
  {
   "cell_type": "code",
   "execution_count": 15,
   "metadata": {},
   "outputs": [
    {
     "data": {
      "text/html": [
       "<div>\n",
       "<style scoped>\n",
       "    .dataframe tbody tr th:only-of-type {\n",
       "        vertical-align: middle;\n",
       "    }\n",
       "\n",
       "    .dataframe tbody tr th {\n",
       "        vertical-align: top;\n",
       "    }\n",
       "\n",
       "    .dataframe thead th {\n",
       "        text-align: right;\n",
       "    }\n",
       "</style>\n",
       "<table border=\"1\" class=\"dataframe\">\n",
       "  <thead>\n",
       "    <tr style=\"text-align: right;\">\n",
       "      <th></th>\n",
       "      <th>reales</th>\n",
       "      <th>predichos</th>\n",
       "      <th>T/F</th>\n",
       "    </tr>\n",
       "  </thead>\n",
       "  <tbody>\n",
       "    <tr>\n",
       "      <th>24</th>\n",
       "      <td>1</td>\n",
       "      <td>0</td>\n",
       "      <td>False</td>\n",
       "    </tr>\n",
       "    <tr>\n",
       "      <th>25</th>\n",
       "      <td>0</td>\n",
       "      <td>0</td>\n",
       "      <td>True</td>\n",
       "    </tr>\n",
       "    <tr>\n",
       "      <th>26</th>\n",
       "      <td>0</td>\n",
       "      <td>0</td>\n",
       "      <td>True</td>\n",
       "    </tr>\n",
       "    <tr>\n",
       "      <th>27</th>\n",
       "      <td>0</td>\n",
       "      <td>0</td>\n",
       "      <td>True</td>\n",
       "    </tr>\n",
       "    <tr>\n",
       "      <th>28</th>\n",
       "      <td>0</td>\n",
       "      <td>0</td>\n",
       "      <td>True</td>\n",
       "    </tr>\n",
       "    <tr>\n",
       "      <th>...</th>\n",
       "      <td>...</td>\n",
       "      <td>...</td>\n",
       "      <td>...</td>\n",
       "    </tr>\n",
       "    <tr>\n",
       "      <th>2707</th>\n",
       "      <td>0</td>\n",
       "      <td>0</td>\n",
       "      <td>True</td>\n",
       "    </tr>\n",
       "    <tr>\n",
       "      <th>2708</th>\n",
       "      <td>0</td>\n",
       "      <td>0</td>\n",
       "      <td>True</td>\n",
       "    </tr>\n",
       "    <tr>\n",
       "      <th>2709</th>\n",
       "      <td>0</td>\n",
       "      <td>0</td>\n",
       "      <td>True</td>\n",
       "    </tr>\n",
       "    <tr>\n",
       "      <th>2710</th>\n",
       "      <td>0</td>\n",
       "      <td>0</td>\n",
       "      <td>True</td>\n",
       "    </tr>\n",
       "    <tr>\n",
       "      <th>2711</th>\n",
       "      <td>0</td>\n",
       "      <td>0</td>\n",
       "      <td>True</td>\n",
       "    </tr>\n",
       "  </tbody>\n",
       "</table>\n",
       "<p>2688 rows × 3 columns</p>\n",
       "</div>"
      ],
      "text/plain": [
       "      reales  predichos    T/F\n",
       "24         1          0  False\n",
       "25         0          0   True\n",
       "26         0          0   True\n",
       "27         0          0   True\n",
       "28         0          0   True\n",
       "...      ...        ...    ...\n",
       "2707       0          0   True\n",
       "2708       0          0   True\n",
       "2709       0          0   True\n",
       "2710       0          0   True\n",
       "2711       0          0   True\n",
       "\n",
       "[2688 rows x 3 columns]"
      ]
     },
     "execution_count": 15,
     "metadata": {},
     "output_type": "execute_result"
    }
   ],
   "source": [
    "comparacion = pd.DataFrame({'reales':y_test,'predichos':y_pred,'T/F':resultado})\n",
    "comparacion"
   ]
  },
  {
   "cell_type": "markdown",
   "metadata": {
    "id": "r_WwX96g31SC"
   },
   "source": [
    "# EVALUACION DEL ALGORITMO"
   ]
  },
  {
   "cell_type": "code",
   "execution_count": 16,
   "metadata": {},
   "outputs": [
    {
     "name": "stdout",
     "output_type": "stream",
     "text": [
      "\u001b[1m84/84\u001b[0m \u001b[32m━━━━━━━━━━━━━━━━━━━━\u001b[0m\u001b[37m\u001b[0m \u001b[1m1s\u001b[0m 4ms/step - accuracy: 0.7956 - auc: 0.8860 - loss: 1.2596\n",
      "Acuracy: 0.8303571343421936\n",
      "AUC en prueba: 0.9142639636993408\n"
     ]
    }
   ],
   "source": [
    "test_loss,test_acuracy, test_auc = model.evaluate(X_test_reshaped, y_test_categorical)\n",
    "print(f\"Acuracy: {test_acuracy}\")\n",
    "print(f\"AUC en prueba: {test_auc}\")"
   ]
  },
  {
   "cell_type": "code",
   "execution_count": 17,
   "metadata": {
    "colab": {
     "base_uri": "https://localhost:8080/"
    },
    "id": "OWISIj2Nx4KC",
    "outputId": "69dc4ea4-2114-458b-9b9b-093076faaf3e"
   },
   "outputs": [
    {
     "name": "stdout",
     "output_type": "stream",
     "text": [
      "Accuracy: 0.8303571428571429\n",
      "Precision: 0.8073427546134962\n",
      "Recall: 0.8303571428571429\n",
      "F1 Score: 0.8179493667253972\n",
      "ROC AUC: 0.5287606895290432\n"
     ]
    }
   ],
   "source": [
    "# EVALUACION DEL MODELO\n",
    "from sklearn.preprocessing import label_binarize\n",
    "y_pred2 = label_binarize(y_pred, classes=[0, 1, 2])\n",
    "# Calcular las métricas de evaluación\n",
    "accuracy = accuracy_score(y_test, y_pred)\n",
    "precision = precision_score(y_test, y_pred, average='weighted')\n",
    "recall = recall_score(y_test, y_pred, average='weighted')\n",
    "f1 = f1_score(y_test, y_pred, average='weighted')\n",
    "# Calcular el AUC\n",
    "roc_auc = roc_auc_score(y_test_categorical, y_pred_proba, multi_class='ovr')\n",
    "\n",
    "# Mostrar métricas\n",
    "print(\"Accuracy:\", accuracy)\n",
    "print(\"Precision:\", precision)\n",
    "print(\"Recall:\", recall)\n",
    "print(\"F1 Score:\", f1)\n",
    "print(\"ROC AUC:\", roc_auc)"
   ]
  },
  {
   "cell_type": "code",
   "execution_count": 18,
   "metadata": {},
   "outputs": [
    {
     "data": {
      "image/png": "[encoded data removed]",
      "text/plain": [
       "<Figure size 640x480 with 1 Axes>"
      ]
     },
     "metadata": {},
     "output_type": "display_data"
    }
   ],
   "source": [
    "fpr = {}\n",
    "tpr = {}\n",
    "roc_auc = {}\n",
    "\n",
    "for i in range(3):\n",
    "    fpr[i], tpr[i], _ = roc_curve(y_test_categorical[:, i], y_pred_proba[:, i])\n",
    "    roc_auc[i] = auc(fpr[i], tpr[i])\n",
    "\n",
    "# Graficar las curvas ROC\n",
    "plt.figure()\n",
    "for i in range(3):\n",
    "    plt.plot(fpr[i], tpr[i], label=f'Clase {i} (AUC = {roc_auc[i]:.2f})')\n",
    "\n",
    "# Extraer los valores\n",
    "values = roc_auc.values()\n",
    "# Calcular la media\n",
    "mean_auc = sum(values) / len(values)\n",
    "\n",
    "plt.plot([0, 1], [0, 1], 'b--', label=f\"Mean AUC = {mean_auc:.2f}\", alpha=0.5)\n",
    "plt.xlim([0.0, 1.0])\n",
    "plt.ylim([0.0, 1.05])\n",
    "plt.xlabel('Tasa de Falsos Positivos')\n",
    "plt.ylabel('Tasa de Verdaderos Positivos')\n",
    "plt.title('Curva ROC Multiclase')\n",
    "plt.legend(loc='lower right')\n",
    "plt.show()"
   ]
  }
 ],
 "metadata": {
  "colab": {
   "provenance": []
  },
  "kernelspec": {
   "display_name": "Python 3",
   "name": "python3"
  },
  "language_info": {
   "codemirror_mode": {
    "name": "ipython",
    "version": 3
   },
   "file_extension": ".py",
   "mimetype": "text/x-python",
   "name": "python",
   "nbconvert_exporter": "python",
   "pygments_lexer": "ipython3",
   "version": "3.11.0"
  }
 },
 "nbformat": 4,
 "nbformat_minor": 0
}
