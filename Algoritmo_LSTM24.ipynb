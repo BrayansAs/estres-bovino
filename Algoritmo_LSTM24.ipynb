{
 "cells": [
  {
   "cell_type": "markdown",
   "metadata": {
    "id": "VaDJ6NbM4R4c"
   },
   "source": [
    "## Algoritmo LSTM"
   ]
  },
  {
   "cell_type": "code",
   "execution_count": null,
   "metadata": {
    "id": "s_sVYocgwqjC"
   },
   "outputs": [],
   "source": [
    "# Importar las bibliotecas necesarias\n",
    "import pandas as pd\n",
    "import numpy as np\n",
    "import tensorflow as tf\n",
    "import matplotlib.pyplot as plt\n",
    "from sklearn.metrics import accuracy_score, precision_score, recall_score, f1_score, roc_auc_score,roc_auc_score, roc_curve, auc\n",
    "from sklearn.preprocessing import StandardScaler\n",
    "from tensorflow.keras.models import Sequential\n",
    "from tensorflow.keras.layers import LSTM, Dense\n",
    "from tensorflow.keras.utils import to_categorical\n",
    "from sklearn.utils.class_weight import compute_class_weight\n",
    "import random"
   ]
  },
  {
   "cell_type": "code",
   "execution_count": 2,
   "metadata": {},
   "outputs": [],
   "source": [
    "# Establecer una semilla aleatoria\n",
    "seed_value = 24\n",
    "np.random.seed(seed_value)\n",
    "random.seed(seed_value)\n",
    "tf.random.set_seed(48)"
   ]
  },
  {
   "cell_type": "code",
   "execution_count": 3,
   "metadata": {
    "collapsed": true,
    "id": "g8WDDqQaxRx4"
   },
   "outputs": [],
   "source": [
    "nombre_csv = 4160\n",
    "de = pd.read_csv(f'Datos_entrenamiento2/{nombre_csv}_e.csv')\n",
    "dp = pd.read_csv(f'Datos_prueba2/{nombre_csv}_p.csv')"
   ]
  },
  {
   "cell_type": "code",
   "execution_count": 26,
   "metadata": {},
   "outputs": [
    {
     "data": {
      "text/html": [
       "<div>\n",
       "<style scoped>\n",
       "    .dataframe tbody tr th:only-of-type {\n",
       "        vertical-align: middle;\n",
       "    }\n",
       "\n",
       "    .dataframe tbody tr th {\n",
       "        vertical-align: top;\n",
       "    }\n",
       "\n",
       "    .dataframe thead th {\n",
       "        text-align: right;\n",
       "    }\n",
       "</style>\n",
       "<table border=\"1\" class=\"dataframe\">\n",
       "  <thead>\n",
       "    <tr style=\"text-align: right;\">\n",
       "      <th></th>\n",
       "      <th>Fecha</th>\n",
       "      <th>Hora</th>\n",
       "      <th>period eating</th>\n",
       "      <th>period other</th>\n",
       "      <th>period resting</th>\n",
       "      <th>period rumination</th>\n",
       "      <th>period eating_count</th>\n",
       "      <th>period other_count</th>\n",
       "      <th>period resting_count</th>\n",
       "      <th>period rumination_count</th>\n",
       "      <th>nivel_actividad</th>\n",
       "      <th>distancia</th>\n",
       "      <th>nivel_estres</th>\n",
       "    </tr>\n",
       "  </thead>\n",
       "  <tbody>\n",
       "    <tr>\n",
       "      <th>0</th>\n",
       "      <td>2024-07-02</td>\n",
       "      <td>0</td>\n",
       "      <td>0.079</td>\n",
       "      <td>0.0</td>\n",
       "      <td>0.511</td>\n",
       "      <td>0.410</td>\n",
       "      <td>1.0</td>\n",
       "      <td>0.0</td>\n",
       "      <td>2.0</td>\n",
       "      <td>1.0</td>\n",
       "      <td>-0.249625</td>\n",
       "      <td>0.117183</td>\n",
       "      <td>0</td>\n",
       "    </tr>\n",
       "    <tr>\n",
       "      <th>1</th>\n",
       "      <td>2024-07-02</td>\n",
       "      <td>1</td>\n",
       "      <td>0.000</td>\n",
       "      <td>0.0</td>\n",
       "      <td>0.426</td>\n",
       "      <td>0.574</td>\n",
       "      <td>0.0</td>\n",
       "      <td>0.0</td>\n",
       "      <td>1.0</td>\n",
       "      <td>1.0</td>\n",
       "      <td>-0.297680</td>\n",
       "      <td>0.105690</td>\n",
       "      <td>0</td>\n",
       "    </tr>\n",
       "    <tr>\n",
       "      <th>2</th>\n",
       "      <td>2024-07-02</td>\n",
       "      <td>2</td>\n",
       "      <td>0.000</td>\n",
       "      <td>0.0</td>\n",
       "      <td>0.489</td>\n",
       "      <td>0.511</td>\n",
       "      <td>0.0</td>\n",
       "      <td>0.0</td>\n",
       "      <td>2.0</td>\n",
       "      <td>1.0</td>\n",
       "      <td>-0.287678</td>\n",
       "      <td>0.097722</td>\n",
       "      <td>0</td>\n",
       "    </tr>\n",
       "    <tr>\n",
       "      <th>3</th>\n",
       "      <td>2024-07-02</td>\n",
       "      <td>3</td>\n",
       "      <td>0.000</td>\n",
       "      <td>0.0</td>\n",
       "      <td>0.934</td>\n",
       "      <td>0.066</td>\n",
       "      <td>0.0</td>\n",
       "      <td>0.0</td>\n",
       "      <td>1.0</td>\n",
       "      <td>1.0</td>\n",
       "      <td>-0.217033</td>\n",
       "      <td>0.134944</td>\n",
       "      <td>0</td>\n",
       "    </tr>\n",
       "    <tr>\n",
       "      <th>4</th>\n",
       "      <td>2024-07-02</td>\n",
       "      <td>4</td>\n",
       "      <td>0.043</td>\n",
       "      <td>0.0</td>\n",
       "      <td>0.748</td>\n",
       "      <td>0.210</td>\n",
       "      <td>1.0</td>\n",
       "      <td>0.0</td>\n",
       "      <td>2.0</td>\n",
       "      <td>2.0</td>\n",
       "      <td>-0.228115</td>\n",
       "      <td>0.118325</td>\n",
       "      <td>0</td>\n",
       "    </tr>\n",
       "    <tr>\n",
       "      <th>...</th>\n",
       "      <td>...</td>\n",
       "      <td>...</td>\n",
       "      <td>...</td>\n",
       "      <td>...</td>\n",
       "      <td>...</td>\n",
       "      <td>...</td>\n",
       "      <td>...</td>\n",
       "      <td>...</td>\n",
       "      <td>...</td>\n",
       "      <td>...</td>\n",
       "      <td>...</td>\n",
       "      <td>...</td>\n",
       "      <td>...</td>\n",
       "    </tr>\n",
       "    <tr>\n",
       "      <th>2515</th>\n",
       "      <td>2024-11-22</td>\n",
       "      <td>19</td>\n",
       "      <td>0.000</td>\n",
       "      <td>0.0</td>\n",
       "      <td>0.354</td>\n",
       "      <td>0.646</td>\n",
       "      <td>0.0</td>\n",
       "      <td>0.0</td>\n",
       "      <td>1.0</td>\n",
       "      <td>2.0</td>\n",
       "      <td>-0.309110</td>\n",
       "      <td>0.052213</td>\n",
       "      <td>0</td>\n",
       "    </tr>\n",
       "    <tr>\n",
       "      <th>2516</th>\n",
       "      <td>2024-11-22</td>\n",
       "      <td>20</td>\n",
       "      <td>0.118</td>\n",
       "      <td>0.0</td>\n",
       "      <td>0.462</td>\n",
       "      <td>0.420</td>\n",
       "      <td>1.0</td>\n",
       "      <td>0.0</td>\n",
       "      <td>1.0</td>\n",
       "      <td>1.0</td>\n",
       "      <td>-0.240343</td>\n",
       "      <td>0.063239</td>\n",
       "      <td>0</td>\n",
       "    </tr>\n",
       "    <tr>\n",
       "      <th>2517</th>\n",
       "      <td>2024-11-22</td>\n",
       "      <td>21</td>\n",
       "      <td>0.354</td>\n",
       "      <td>0.0</td>\n",
       "      <td>0.207</td>\n",
       "      <td>0.439</td>\n",
       "      <td>1.0</td>\n",
       "      <td>0.0</td>\n",
       "      <td>2.0</td>\n",
       "      <td>3.0</td>\n",
       "      <td>-0.177580</td>\n",
       "      <td>0.076083</td>\n",
       "      <td>0</td>\n",
       "    </tr>\n",
       "    <tr>\n",
       "      <th>2518</th>\n",
       "      <td>2024-11-22</td>\n",
       "      <td>22</td>\n",
       "      <td>0.433</td>\n",
       "      <td>0.0</td>\n",
       "      <td>0.220</td>\n",
       "      <td>0.348</td>\n",
       "      <td>1.0</td>\n",
       "      <td>0.0</td>\n",
       "      <td>2.0</td>\n",
       "      <td>1.0</td>\n",
       "      <td>-0.141321</td>\n",
       "      <td>0.093184</td>\n",
       "      <td>0</td>\n",
       "    </tr>\n",
       "    <tr>\n",
       "      <th>2519</th>\n",
       "      <td>2024-11-22</td>\n",
       "      <td>23</td>\n",
       "      <td>0.000</td>\n",
       "      <td>0.0</td>\n",
       "      <td>0.449</td>\n",
       "      <td>0.551</td>\n",
       "      <td>0.0</td>\n",
       "      <td>0.0</td>\n",
       "      <td>2.0</td>\n",
       "      <td>2.0</td>\n",
       "      <td>-0.294029</td>\n",
       "      <td>0.049492</td>\n",
       "      <td>0</td>\n",
       "    </tr>\n",
       "  </tbody>\n",
       "</table>\n",
       "<p>2520 rows × 13 columns</p>\n",
       "</div>"
      ],
      "text/plain": [
       "           Fecha  Hora  period eating  period other  period resting  \\\n",
       "0     2024-07-02     0          0.079           0.0           0.511   \n",
       "1     2024-07-02     1          0.000           0.0           0.426   \n",
       "2     2024-07-02     2          0.000           0.0           0.489   \n",
       "3     2024-07-02     3          0.000           0.0           0.934   \n",
       "4     2024-07-02     4          0.043           0.0           0.748   \n",
       "...          ...   ...            ...           ...             ...   \n",
       "2515  2024-11-22    19          0.000           0.0           0.354   \n",
       "2516  2024-11-22    20          0.118           0.0           0.462   \n",
       "2517  2024-11-22    21          0.354           0.0           0.207   \n",
       "2518  2024-11-22    22          0.433           0.0           0.220   \n",
       "2519  2024-11-22    23          0.000           0.0           0.449   \n",
       "\n",
       "      period rumination  period eating_count  period other_count  \\\n",
       "0                 0.410                  1.0                 0.0   \n",
       "1                 0.574                  0.0                 0.0   \n",
       "2                 0.511                  0.0                 0.0   \n",
       "3                 0.066                  0.0                 0.0   \n",
       "4                 0.210                  1.0                 0.0   \n",
       "...                 ...                  ...                 ...   \n",
       "2515              0.646                  0.0                 0.0   \n",
       "2516              0.420                  1.0                 0.0   \n",
       "2517              0.439                  1.0                 0.0   \n",
       "2518              0.348                  1.0                 0.0   \n",
       "2519              0.551                  0.0                 0.0   \n",
       "\n",
       "      period resting_count  period rumination_count  nivel_actividad  \\\n",
       "0                      2.0                      1.0        -0.249625   \n",
       "1                      1.0                      1.0        -0.297680   \n",
       "2                      2.0                      1.0        -0.287678   \n",
       "3                      1.0                      1.0        -0.217033   \n",
       "4                      2.0                      2.0        -0.228115   \n",
       "...                    ...                      ...              ...   \n",
       "2515                   1.0                      2.0        -0.309110   \n",
       "2516                   1.0                      1.0        -0.240343   \n",
       "2517                   2.0                      3.0        -0.177580   \n",
       "2518                   2.0                      1.0        -0.141321   \n",
       "2519                   2.0                      2.0        -0.294029   \n",
       "\n",
       "      distancia  nivel_estres  \n",
       "0      0.117183             0  \n",
       "1      0.105690             0  \n",
       "2      0.097722             0  \n",
       "3      0.134944             0  \n",
       "4      0.118325             0  \n",
       "...         ...           ...  \n",
       "2515   0.052213             0  \n",
       "2516   0.063239             0  \n",
       "2517   0.076083             0  \n",
       "2518   0.093184             0  \n",
       "2519   0.049492             0  \n",
       "\n",
       "[2520 rows x 13 columns]"
      ]
     },
     "execution_count": 26,
     "metadata": {},
     "output_type": "execute_result"
    }
   ],
   "source": [
    "dp"
   ]
  },
  {
   "cell_type": "markdown",
   "metadata": {},
   "source": [
    "# Procesamiento"
   ]
  },
  {
   "cell_type": "code",
   "execution_count": 4,
   "metadata": {
    "id": "tNzDx458xTz5"
   },
   "outputs": [
    {
     "name": "stdout",
     "output_type": "stream",
     "text": [
      "nivel_estres\n",
      "normal     3408\n",
      "alerta      417\n",
      "peligro     207\n",
      "Name: count, dtype: int64\n",
      "nivel_estres\n",
      "normal     2244\n",
      "alerta      197\n",
      "peligro      79\n",
      "Name: count, dtype: int64\n"
     ]
    }
   ],
   "source": [
    "# Contamos las ocurrencias de cada nivel de estrés en la nueva columna\n",
    "conteo_nivel_estresde = de['nivel_estres'].value_counts()\n",
    "conteo_nivel_estresdp = dp['nivel_estres'].value_counts()\n",
    "# Mostramos el resultado\n",
    "print(conteo_nivel_estresde)\n",
    "print(conteo_nivel_estresdp)"
   ]
  },
  {
   "cell_type": "code",
   "execution_count": 5,
   "metadata": {
    "id": "Xl9IHQwfxX6R"
   },
   "outputs": [],
   "source": [
    "# Crear un diccionario para mapear cada categoría única en la columna 'nivel_estres' a un número\n",
    "mapping = {'normal': 0, 'alerta': 1, 'peligro': 2}\n",
    "# Mapear las categorías a números utilizando el método map de pandas\n",
    "de['nivel_estres'] = de['nivel_estres'].map(mapping)\n",
    "dp['nivel_estres'] = dp['nivel_estres'].map(mapping)"
   ]
  },
  {
   "cell_type": "markdown",
   "metadata": {
    "id": "TVUnOhfZ1Ntc"
   },
   "source": [
    "# ALGORITMO DE LSTM"
   ]
  },
  {
   "cell_type": "code",
   "execution_count": 6,
   "metadata": {
    "id": "Lvzb3Kfcxe5h"
   },
   "outputs": [],
   "source": [
    "# Separar características y etiquetas del conjunto de entrenamiento\n",
    "X_train = de[['period eating','period other','period resting','period rumination']]\n",
    "y_train = de['nivel_estres']\n",
    "# Separar características y etiquetas del conjunto de prueba\n",
    "X_test = dp[['period eating','period other','period resting','period rumination']]\n",
    "y_test = dp['nivel_estres']"
   ]
  },
  {
   "cell_type": "code",
   "execution_count": 7,
   "metadata": {
    "id": "juQN7hSuxhmY"
   },
   "outputs": [],
   "source": [
    "# Estandarizar las características\n",
    "scaler = StandardScaler()\n",
    "X_train_scaled = scaler.fit_transform(X_train)\n",
    "X_test_scaled = scaler.transform(X_test)"
   ]
  },
  {
   "cell_type": "code",
   "execution_count": 8,
   "metadata": {
    "id": "y48rGM_0xlNZ"
   },
   "outputs": [],
   "source": [
    "#Expandir a 24 horas de datos para capturar ciclo diario\n",
    "timesteps = 24\n",
    "X_train_reshaped = np.array([X_train_scaled[i:i + timesteps] for i in range(len(X_train_scaled) - timesteps)])\n",
    "y_train = y_train[timesteps:]\n",
    "X_test_reshaped = np.array([X_test_scaled[i:i + timesteps] for i in range(len(X_test_scaled) - timesteps)])\n",
    "y_test = y_test[timesteps:]"
   ]
  },
  {
   "cell_type": "code",
   "execution_count": 9,
   "metadata": {},
   "outputs": [],
   "source": [
    "#Ajuste de pesos: Calcular pesos de clase para manejar el desbalance\n",
    "class_weights = compute_class_weight(class_weight='balanced', classes=np.unique(y_train), y=y_train)\n",
    "#class_weights_dict = {i: weight for i, weight in enumerate(class_weights)}\n",
    "class_weights_dict = dict(enumerate(class_weights))"
   ]
  },
  {
   "cell_type": "code",
   "execution_count": 10,
   "metadata": {},
   "outputs": [],
   "source": [
    "# Convertir etiquetas a formato categórico\n",
    "y_train_categorical = to_categorical(y_train, num_classes=3)\n",
    "y_test_categorical = to_categorical(y_test, num_classes=3)"
   ]
  },
  {
   "cell_type": "code",
   "execution_count": 11,
   "metadata": {
    "id": "weTv5z_TxnD4"
   },
   "outputs": [
    {
     "name": "stderr",
     "output_type": "stream",
     "text": [
      "C:\\Users\\PC\\AppData\\Roaming\\Python\\Python311\\site-packages\\keras\\src\\layers\\rnn\\rnn.py:204: UserWarning: Do not pass an `input_shape`/`input_dim` argument to a layer. When using Sequential models, prefer using an `Input(shape)` object as the first layer in the model instead.\n",
      "  super().__init__(**kwargs)\n"
     ]
    },
    {
     "name": "stdout",
     "output_type": "stream",
     "text": [
      "Epoch 1/100\n",
      "\u001b[1m167/167\u001b[0m \u001b[32m━━━━━━━━━━━━━━━━━━━━\u001b[0m\u001b[37m\u001b[0m \u001b[1m8s\u001b[0m 25ms/step - accuracy: 0.5790 - auc: 0.7428 - loss: 1.0560 - val_accuracy: 0.6010 - val_auc: 0.6573 - val_loss: 1.0868\n",
      "Epoch 2/100\n",
      "\u001b[1m167/167\u001b[0m \u001b[32m━━━━━━━━━━━━━━━━━━━━\u001b[0m\u001b[37m\u001b[0m \u001b[1m4s\u001b[0m 25ms/step - accuracy: 0.6896 - auc: 0.7795 - loss: 1.0320 - val_accuracy: 0.6595 - val_auc: 0.7232 - val_loss: 1.0342\n",
      "Epoch 3/100\n",
      "\u001b[1m167/167\u001b[0m \u001b[32m━━━━━━━━━━━━━━━━━━━━\u001b[0m\u001b[37m\u001b[0m \u001b[1m4s\u001b[0m 25ms/step - accuracy: 0.6765 - auc: 0.7761 - loss: 1.0069 - val_accuracy: 0.6643 - val_auc: 0.7384 - val_loss: 1.0171\n",
      "Epoch 4/100\n",
      "\u001b[1m167/167\u001b[0m \u001b[32m━━━━━━━━━━━━━━━━━━━━\u001b[0m\u001b[37m\u001b[0m \u001b[1m4s\u001b[0m 25ms/step - accuracy: 0.6664 - auc: 0.7821 - loss: 0.9981 - val_accuracy: 0.6887 - val_auc: 0.7646 - val_loss: 0.9967\n",
      "Epoch 5/100\n",
      "\u001b[1m167/167\u001b[0m \u001b[32m━━━━━━━━━━━━━━━━━━━━\u001b[0m\u001b[37m\u001b[0m \u001b[1m5s\u001b[0m 28ms/step - accuracy: 0.6789 - auc: 0.7941 - loss: 0.9820 - val_accuracy: 0.6723 - val_auc: 0.7523 - val_loss: 1.0066\n",
      "Epoch 6/100\n",
      "\u001b[1m167/167\u001b[0m \u001b[32m━━━━━━━━━━━━━━━━━━━━\u001b[0m\u001b[37m\u001b[0m \u001b[1m4s\u001b[0m 26ms/step - accuracy: 0.6755 - auc: 0.8007 - loss: 0.9792 - val_accuracy: 0.6238 - val_auc: 0.7279 - val_loss: 1.0074\n",
      "Epoch 7/100\n",
      "\u001b[1m167/167\u001b[0m \u001b[32m━━━━━━━━━━━━━━━━━━━━\u001b[0m\u001b[37m\u001b[0m \u001b[1m5s\u001b[0m 29ms/step - accuracy: 0.6457 - auc: 0.7792 - loss: 0.9863 - val_accuracy: 0.6562 - val_auc: 0.7625 - val_loss: 0.9805\n",
      "Epoch 8/100\n",
      "\u001b[1m167/167\u001b[0m \u001b[32m━━━━━━━━━━━━━━━━━━━━\u001b[0m\u001b[37m\u001b[0m \u001b[1m4s\u001b[0m 22ms/step - accuracy: 0.6618 - auc: 0.7979 - loss: 0.9506 - val_accuracy: 0.5657 - val_auc: 0.6950 - val_loss: 1.0363\n",
      "Epoch 9/100\n",
      "\u001b[1m167/167\u001b[0m \u001b[32m━━━━━━━━━━━━━━━━━━━━\u001b[0m\u001b[37m\u001b[0m \u001b[1m4s\u001b[0m 26ms/step - accuracy: 0.6403 - auc: 0.7803 - loss: 0.9412 - val_accuracy: 0.5649 - val_auc: 0.6960 - val_loss: 1.0320\n",
      "Epoch 10/100\n",
      "\u001b[1m167/167\u001b[0m \u001b[32m━━━━━━━━━━━━━━━━━━━━\u001b[0m\u001b[37m\u001b[0m \u001b[1m5s\u001b[0m 30ms/step - accuracy: 0.6464 - auc: 0.7882 - loss: 0.9282 - val_accuracy: 0.5052 - val_auc: 0.6500 - val_loss: 1.0695\n",
      "Epoch 11/100\n",
      "\u001b[1m167/167\u001b[0m \u001b[32m━━━━━━━━━━━━━━━━━━━━\u001b[0m\u001b[37m\u001b[0m \u001b[1m5s\u001b[0m 28ms/step - accuracy: 0.5864 - auc: 0.7543 - loss: 0.9518 - val_accuracy: 0.5837 - val_auc: 0.7075 - val_loss: 1.0165\n",
      "Epoch 12/100\n",
      "\u001b[1m167/167\u001b[0m \u001b[32m━━━━━━━━━━━━━━━━━━━━\u001b[0m\u001b[37m\u001b[0m \u001b[1m4s\u001b[0m 25ms/step - accuracy: 0.6539 - auc: 0.7997 - loss: 0.9002 - val_accuracy: 0.5925 - val_auc: 0.7264 - val_loss: 0.9905\n",
      "Epoch 13/100\n",
      "\u001b[1m167/167\u001b[0m \u001b[32m━━━━━━━━━━━━━━━━━━━━\u001b[0m\u001b[37m\u001b[0m \u001b[1m5s\u001b[0m 27ms/step - accuracy: 0.6620 - auc: 0.8110 - loss: 0.8677 - val_accuracy: 0.5577 - val_auc: 0.6929 - val_loss: 1.0415\n",
      "Epoch 14/100\n",
      "\u001b[1m167/167\u001b[0m \u001b[32m━━━━━━━━━━━━━━━━━━━━\u001b[0m\u001b[37m\u001b[0m \u001b[1m5s\u001b[0m 29ms/step - accuracy: 0.6591 - auc: 0.8189 - loss: 0.8415 - val_accuracy: 0.5280 - val_auc: 0.6635 - val_loss: 1.1001\n",
      "Epoch 15/100\n",
      "\u001b[1m167/167\u001b[0m \u001b[32m━━━━━━━━━━━━━━━━━━━━\u001b[0m\u001b[37m\u001b[0m \u001b[1m5s\u001b[0m 28ms/step - accuracy: 0.6706 - auc: 0.8253 - loss: 0.8203 - val_accuracy: 0.4996 - val_auc: 0.6216 - val_loss: 1.1901\n",
      "Epoch 16/100\n",
      "\u001b[1m167/167\u001b[0m \u001b[32m━━━━━━━━━━━━━━━━━━━━\u001b[0m\u001b[37m\u001b[0m \u001b[1m4s\u001b[0m 26ms/step - accuracy: 0.6736 - auc: 0.8262 - loss: 0.8060 - val_accuracy: 0.6202 - val_auc: 0.7565 - val_loss: 0.9489\n",
      "Epoch 17/100\n",
      "\u001b[1m167/167\u001b[0m \u001b[32m━━━━━━━━━━━━━━━━━━━━\u001b[0m\u001b[37m\u001b[0m \u001b[1m5s\u001b[0m 29ms/step - accuracy: 0.6891 - auc: 0.8444 - loss: 0.7855 - val_accuracy: 0.5877 - val_auc: 0.7181 - val_loss: 0.9990\n",
      "Epoch 18/100\n",
      "\u001b[1m167/167\u001b[0m \u001b[32m━━━━━━━━━━━━━━━━━━━━\u001b[0m\u001b[37m\u001b[0m \u001b[1m5s\u001b[0m 28ms/step - accuracy: 0.6571 - auc: 0.8089 - loss: 0.8441 - val_accuracy: 0.6242 - val_auc: 0.7654 - val_loss: 0.9346\n",
      "Epoch 19/100\n",
      "\u001b[1m167/167\u001b[0m \u001b[32m━━━━━━━━━━━━━━━━━━━━\u001b[0m\u001b[37m\u001b[0m \u001b[1m4s\u001b[0m 25ms/step - accuracy: 0.6947 - auc: 0.8457 - loss: 0.7772 - val_accuracy: 0.6058 - val_auc: 0.7439 - val_loss: 0.9818\n",
      "Epoch 20/100\n",
      "\u001b[1m167/167\u001b[0m \u001b[32m━━━━━━━━━━━━━━━━━━━━\u001b[0m\u001b[37m\u001b[0m \u001b[1m4s\u001b[0m 25ms/step - accuracy: 0.7097 - auc: 0.8562 - loss: 0.7371 - val_accuracy: 0.6126 - val_auc: 0.7575 - val_loss: 0.9590\n",
      "Epoch 21/100\n",
      "\u001b[1m167/167\u001b[0m \u001b[32m━━━━━━━━━━━━━━━━━━━━\u001b[0m\u001b[37m\u001b[0m \u001b[1m4s\u001b[0m 24ms/step - accuracy: 0.7168 - auc: 0.8661 - loss: 0.6998 - val_accuracy: 0.5962 - val_auc: 0.7414 - val_loss: 1.0083\n",
      "Epoch 22/100\n",
      "\u001b[1m167/167\u001b[0m \u001b[32m━━━━━━━━━━━━━━━━━━━━\u001b[0m\u001b[37m\u001b[0m \u001b[1m4s\u001b[0m 24ms/step - accuracy: 0.7235 - auc: 0.8712 - loss: 0.6795 - val_accuracy: 0.5505 - val_auc: 0.7133 - val_loss: 1.0745\n",
      "Epoch 23/100\n",
      "\u001b[1m167/167\u001b[0m \u001b[32m━━━━━━━━━━━━━━━━━━━━\u001b[0m\u001b[37m\u001b[0m \u001b[1m4s\u001b[0m 25ms/step - accuracy: 0.7232 - auc: 0.8751 - loss: 0.6525 - val_accuracy: 0.6386 - val_auc: 0.7803 - val_loss: 0.9434\n",
      "Epoch 24/100\n",
      "\u001b[1m167/167\u001b[0m \u001b[32m━━━━━━━━━━━━━━━━━━━━\u001b[0m\u001b[37m\u001b[0m \u001b[1m4s\u001b[0m 26ms/step - accuracy: 0.7329 - auc: 0.8777 - loss: 0.6413 - val_accuracy: 0.6751 - val_auc: 0.8227 - val_loss: 0.8728\n",
      "Epoch 25/100\n",
      "\u001b[1m167/167\u001b[0m \u001b[32m━━━━━━━━━━━━━━━━━━━━\u001b[0m\u001b[37m\u001b[0m \u001b[1m4s\u001b[0m 23ms/step - accuracy: 0.7517 - auc: 0.8923 - loss: 0.6007 - val_accuracy: 0.6871 - val_auc: 0.8319 - val_loss: 0.8719\n",
      "Epoch 26/100\n",
      "\u001b[1m167/167\u001b[0m \u001b[32m━━━━━━━━━━━━━━━━━━━━\u001b[0m\u001b[37m\u001b[0m \u001b[1m4s\u001b[0m 23ms/step - accuracy: 0.7420 - auc: 0.8894 - loss: 0.6052 - val_accuracy: 0.6683 - val_auc: 0.8061 - val_loss: 0.9020\n",
      "Epoch 27/100\n",
      "\u001b[1m167/167\u001b[0m \u001b[32m━━━━━━━━━━━━━━━━━━━━\u001b[0m\u001b[37m\u001b[0m \u001b[1m4s\u001b[0m 21ms/step - accuracy: 0.7621 - auc: 0.8991 - loss: 0.5565 - val_accuracy: 0.7119 - val_auc: 0.8474 - val_loss: 0.8374\n",
      "Epoch 28/100\n",
      "\u001b[1m167/167\u001b[0m \u001b[32m━━━━━━━━━━━━━━━━━━━━\u001b[0m\u001b[37m\u001b[0m \u001b[1m4s\u001b[0m 21ms/step - accuracy: 0.7360 - auc: 0.8929 - loss: 0.5584 - val_accuracy: 0.7288 - val_auc: 0.8581 - val_loss: 0.8193\n",
      "Epoch 29/100\n",
      "\u001b[1m167/167\u001b[0m \u001b[32m━━━━━━━━━━━━━━━━━━━━\u001b[0m\u001b[37m\u001b[0m \u001b[1m4s\u001b[0m 22ms/step - accuracy: 0.7655 - auc: 0.9106 - loss: 0.5080 - val_accuracy: 0.5345 - val_auc: 0.7304 - val_loss: 1.0658\n",
      "Epoch 30/100\n",
      "\u001b[1m167/167\u001b[0m \u001b[32m━━━━━━━━━━━━━━━━━━━━\u001b[0m\u001b[37m\u001b[0m \u001b[1m4s\u001b[0m 23ms/step - accuracy: 0.7302 - auc: 0.8861 - loss: 0.5705 - val_accuracy: 0.6250 - val_auc: 0.7921 - val_loss: 0.9165\n",
      "Epoch 31/100\n",
      "\u001b[1m167/167\u001b[0m \u001b[32m━━━━━━━━━━━━━━━━━━━━\u001b[0m\u001b[37m\u001b[0m \u001b[1m4s\u001b[0m 22ms/step - accuracy: 0.7662 - auc: 0.9105 - loss: 0.5367 - val_accuracy: 0.6494 - val_auc: 0.8004 - val_loss: 1.0086\n",
      "Epoch 32/100\n",
      "\u001b[1m167/167\u001b[0m \u001b[32m━━━━━━━━━━━━━━━━━━━━\u001b[0m\u001b[37m\u001b[0m \u001b[1m4s\u001b[0m 21ms/step - accuracy: 0.7803 - auc: 0.9178 - loss: 0.4724 - val_accuracy: 0.7636 - val_auc: 0.8832 - val_loss: 0.8157\n",
      "Epoch 33/100\n",
      "\u001b[1m167/167\u001b[0m \u001b[32m━━━━━━━━━━━━━━━━━━━━\u001b[0m\u001b[37m\u001b[0m \u001b[1m4s\u001b[0m 24ms/step - accuracy: 0.7971 - auc: 0.9298 - loss: 0.4521 - val_accuracy: 0.6679 - val_auc: 0.8282 - val_loss: 0.8853\n",
      "Epoch 34/100\n",
      "\u001b[1m167/167\u001b[0m \u001b[32m━━━━━━━━━━━━━━━━━━━━\u001b[0m\u001b[37m\u001b[0m \u001b[1m4s\u001b[0m 22ms/step - accuracy: 0.7586 - auc: 0.9077 - loss: 0.5487 - val_accuracy: 0.7252 - val_auc: 0.8641 - val_loss: 0.8848\n",
      "Epoch 35/100\n",
      "\u001b[1m167/167\u001b[0m \u001b[32m━━━━━━━━━━━━━━━━━━━━\u001b[0m\u001b[37m\u001b[0m \u001b[1m4s\u001b[0m 21ms/step - accuracy: 0.7953 - auc: 0.9297 - loss: 0.4291 - val_accuracy: 0.7204 - val_auc: 0.8571 - val_loss: 0.7964\n",
      "Epoch 36/100\n",
      "\u001b[1m167/167\u001b[0m \u001b[32m━━━━━━━━━━━━━━━━━━━━\u001b[0m\u001b[37m\u001b[0m \u001b[1m4s\u001b[0m 22ms/step - accuracy: 0.8230 - auc: 0.9432 - loss: 0.3885 - val_accuracy: 0.7748 - val_auc: 0.8881 - val_loss: 0.8302\n",
      "Epoch 37/100\n",
      "\u001b[1m167/167\u001b[0m \u001b[32m━━━━━━━━━━━━━━━━━━━━\u001b[0m\u001b[37m\u001b[0m \u001b[1m3s\u001b[0m 21ms/step - accuracy: 0.8251 - auc: 0.9473 - loss: 0.3650 - val_accuracy: 0.7336 - val_auc: 0.8662 - val_loss: 0.8748\n",
      "Epoch 38/100\n",
      "\u001b[1m167/167\u001b[0m \u001b[32m━━━━━━━━━━━━━━━━━━━━\u001b[0m\u001b[37m\u001b[0m \u001b[1m4s\u001b[0m 22ms/step - accuracy: 0.8264 - auc: 0.9510 - loss: 0.3442 - val_accuracy: 0.6927 - val_auc: 0.8566 - val_loss: 0.8589\n",
      "Epoch 39/100\n",
      "\u001b[1m167/167\u001b[0m \u001b[32m━━━━━━━━━━━━━━━━━━━━\u001b[0m\u001b[37m\u001b[0m \u001b[1m4s\u001b[0m 21ms/step - accuracy: 0.8269 - auc: 0.9457 - loss: 0.3553 - val_accuracy: 0.7344 - val_auc: 0.8738 - val_loss: 0.8819\n",
      "Epoch 40/100\n",
      "\u001b[1m167/167\u001b[0m \u001b[32m━━━━━━━━━━━━━━━━━━━━\u001b[0m\u001b[37m\u001b[0m \u001b[1m4s\u001b[0m 22ms/step - accuracy: 0.8462 - auc: 0.9605 - loss: 0.3014 - val_accuracy: 0.7163 - val_auc: 0.8653 - val_loss: 0.9360\n",
      "Epoch 41/100\n",
      "\u001b[1m167/167\u001b[0m \u001b[32m━━━━━━━━━━━━━━━━━━━━\u001b[0m\u001b[37m\u001b[0m \u001b[1m4s\u001b[0m 22ms/step - accuracy: 0.8292 - auc: 0.9526 - loss: 0.3334 - val_accuracy: 0.7232 - val_auc: 0.8681 - val_loss: 0.8974\n",
      "Epoch 42/100\n",
      "\u001b[1m167/167\u001b[0m \u001b[32m━━━━━━━━━━━━━━━━━━━━\u001b[0m\u001b[37m\u001b[0m \u001b[1m4s\u001b[0m 21ms/step - accuracy: 0.8441 - auc: 0.9590 - loss: 0.3232 - val_accuracy: 0.7508 - val_auc: 0.8873 - val_loss: 0.8412\n",
      "Epoch 43/100\n",
      "\u001b[1m167/167\u001b[0m \u001b[32m━━━━━━━━━━━━━━━━━━━━\u001b[0m\u001b[37m\u001b[0m \u001b[1m4s\u001b[0m 22ms/step - accuracy: 0.8562 - auc: 0.9670 - loss: 0.2836 - val_accuracy: 0.6847 - val_auc: 0.8493 - val_loss: 0.9762\n",
      "Epoch 44/100\n",
      "\u001b[1m167/167\u001b[0m \u001b[32m━━━━━━━━━━━━━━━━━━━━\u001b[0m\u001b[37m\u001b[0m \u001b[1m4s\u001b[0m 21ms/step - accuracy: 0.8190 - auc: 0.9463 - loss: 0.3870 - val_accuracy: 0.7564 - val_auc: 0.8888 - val_loss: 0.9150\n",
      "Epoch 45/100\n",
      "\u001b[1m167/167\u001b[0m \u001b[32m━━━━━━━━━━━━━━━━━━━━\u001b[0m\u001b[37m\u001b[0m \u001b[1m4s\u001b[0m 24ms/step - accuracy: 0.8493 - auc: 0.9646 - loss: 0.3280 - val_accuracy: 0.6442 - val_auc: 0.8229 - val_loss: 1.0382\n",
      "Epoch 46/100\n",
      "\u001b[1m167/167\u001b[0m \u001b[32m━━━━━━━━━━━━━━━━━━━━\u001b[0m\u001b[37m\u001b[0m \u001b[1m4s\u001b[0m 25ms/step - accuracy: 0.8476 - auc: 0.9625 - loss: 0.2592 - val_accuracy: 0.7432 - val_auc: 0.8818 - val_loss: 1.0005\n",
      "Epoch 47/100\n",
      "\u001b[1m167/167\u001b[0m \u001b[32m━━━━━━━━━━━━━━━━━━━━\u001b[0m\u001b[37m\u001b[0m \u001b[1m4s\u001b[0m 25ms/step - accuracy: 0.8693 - auc: 0.9734 - loss: 0.2209 - val_accuracy: 0.7392 - val_auc: 0.8840 - val_loss: 0.9542\n",
      "Epoch 48/100\n",
      "\u001b[1m167/167\u001b[0m \u001b[32m━━━━━━━━━━━━━━━━━━━━\u001b[0m\u001b[37m\u001b[0m \u001b[1m4s\u001b[0m 24ms/step - accuracy: 0.8725 - auc: 0.9731 - loss: 0.2432 - val_accuracy: 0.7804 - val_auc: 0.9016 - val_loss: 0.8904\n",
      "Epoch 49/100\n",
      "\u001b[1m167/167\u001b[0m \u001b[32m━━━━━━━━━━━━━━━━━━━━\u001b[0m\u001b[37m\u001b[0m \u001b[1m4s\u001b[0m 25ms/step - accuracy: 0.8706 - auc: 0.9715 - loss: 0.2479 - val_accuracy: 0.7452 - val_auc: 0.8809 - val_loss: 0.8489\n",
      "Epoch 50/100\n",
      "\u001b[1m167/167\u001b[0m \u001b[32m━━━━━━━━━━━━━━━━━━━━\u001b[0m\u001b[37m\u001b[0m \u001b[1m4s\u001b[0m 24ms/step - accuracy: 0.8721 - auc: 0.9714 - loss: 0.2701 - val_accuracy: 0.7833 - val_auc: 0.9023 - val_loss: 0.8918\n",
      "Epoch 51/100\n",
      "\u001b[1m167/167\u001b[0m \u001b[32m━━━━━━━━━━━━━━━━━━━━\u001b[0m\u001b[37m\u001b[0m \u001b[1m4s\u001b[0m 23ms/step - accuracy: 0.8990 - auc: 0.9819 - loss: 0.1888 - val_accuracy: 0.7941 - val_auc: 0.9097 - val_loss: 0.9229\n",
      "Epoch 52/100\n",
      "\u001b[1m167/167\u001b[0m \u001b[32m━━━━━━━━━━━━━━━━━━━━\u001b[0m\u001b[37m\u001b[0m \u001b[1m4s\u001b[0m 24ms/step - accuracy: 0.8995 - auc: 0.9834 - loss: 0.1763 - val_accuracy: 0.7893 - val_auc: 0.9048 - val_loss: 0.9938\n",
      "Epoch 53/100\n",
      "\u001b[1m167/167\u001b[0m \u001b[32m━━━━━━━━━━━━━━━━━━━━\u001b[0m\u001b[37m\u001b[0m \u001b[1m4s\u001b[0m 23ms/step - accuracy: 0.9155 - auc: 0.9875 - loss: 0.1542 - val_accuracy: 0.7901 - val_auc: 0.9043 - val_loss: 1.0913\n",
      "Epoch 54/100\n",
      "\u001b[1m167/167\u001b[0m \u001b[32m━━━━━━━━━━━━━━━━━━━━\u001b[0m\u001b[37m\u001b[0m \u001b[1m4s\u001b[0m 25ms/step - accuracy: 0.9182 - auc: 0.9876 - loss: 0.1488 - val_accuracy: 0.7596 - val_auc: 0.8918 - val_loss: 1.0957\n",
      "Epoch 55/100\n",
      "\u001b[1m167/167\u001b[0m \u001b[32m━━━━━━━━━━━━━━━━━━━━\u001b[0m\u001b[37m\u001b[0m \u001b[1m4s\u001b[0m 23ms/step - accuracy: 0.8976 - auc: 0.9810 - loss: 0.2182 - val_accuracy: 0.7780 - val_auc: 0.9008 - val_loss: 1.0332\n",
      "Epoch 56/100\n",
      "\u001b[1m167/167\u001b[0m \u001b[32m━━━━━━━━━━━━━━━━━━━━\u001b[0m\u001b[37m\u001b[0m \u001b[1m4s\u001b[0m 24ms/step - accuracy: 0.9081 - auc: 0.9857 - loss: 0.1792 - val_accuracy: 0.7776 - val_auc: 0.8978 - val_loss: 1.1117\n",
      "Epoch 57/100\n",
      "\u001b[1m167/167\u001b[0m \u001b[32m━━━━━━━━━━━━━━━━━━━━\u001b[0m\u001b[37m\u001b[0m \u001b[1m5s\u001b[0m 27ms/step - accuracy: 0.9009 - auc: 0.9823 - loss: 0.2318 - val_accuracy: 0.7143 - val_auc: 0.8720 - val_loss: 0.9949\n",
      "Epoch 58/100\n",
      "\u001b[1m167/167\u001b[0m \u001b[32m━━━━━━━━━━━━━━━━━━━━\u001b[0m\u001b[37m\u001b[0m \u001b[1m4s\u001b[0m 23ms/step - accuracy: 0.9222 - auc: 0.9890 - loss: 0.1526 - val_accuracy: 0.7692 - val_auc: 0.8955 - val_loss: 1.0447\n",
      "Epoch 59/100\n",
      "\u001b[1m167/167\u001b[0m \u001b[32m━━━━━━━━━━━━━━━━━━━━\u001b[0m\u001b[37m\u001b[0m \u001b[1m5s\u001b[0m 27ms/step - accuracy: 0.9339 - auc: 0.9902 - loss: 0.1291 - val_accuracy: 0.7837 - val_auc: 0.9060 - val_loss: 1.0375\n",
      "Epoch 60/100\n",
      "\u001b[1m167/167\u001b[0m \u001b[32m━━━━━━━━━━━━━━━━━━━━\u001b[0m\u001b[37m\u001b[0m \u001b[1m4s\u001b[0m 24ms/step - accuracy: 0.9400 - auc: 0.9926 - loss: 0.1145 - val_accuracy: 0.7821 - val_auc: 0.9002 - val_loss: 1.2145\n",
      "Epoch 61/100\n",
      "\u001b[1m167/167\u001b[0m \u001b[32m━━━━━━━━━━━━━━━━━━━━\u001b[0m\u001b[37m\u001b[0m \u001b[1m4s\u001b[0m 26ms/step - accuracy: 0.9224 - auc: 0.9886 - loss: 0.1364 - val_accuracy: 0.6759 - val_auc: 0.8502 - val_loss: 1.2072\n",
      "Epoch 62/100\n",
      "\u001b[1m167/167\u001b[0m \u001b[32m━━━━━━━━━━━━━━━━━━━━\u001b[0m\u001b[37m\u001b[0m \u001b[1m4s\u001b[0m 24ms/step - accuracy: 0.8877 - auc: 0.9780 - loss: 0.2473 - val_accuracy: 0.6615 - val_auc: 0.8316 - val_loss: 1.0981\n",
      "Epoch 63/100\n",
      "\u001b[1m167/167\u001b[0m \u001b[32m━━━━━━━━━━━━━━━━━━━━\u001b[0m\u001b[37m\u001b[0m \u001b[1m4s\u001b[0m 25ms/step - accuracy: 0.8627 - auc: 0.9629 - loss: 0.3246 - val_accuracy: 0.7688 - val_auc: 0.8918 - val_loss: 1.0437\n",
      "Epoch 64/100\n",
      "\u001b[1m167/167\u001b[0m \u001b[32m━━━━━━━━━━━━━━━━━━━━\u001b[0m\u001b[37m\u001b[0m \u001b[1m4s\u001b[0m 23ms/step - accuracy: 0.8990 - auc: 0.9823 - loss: 0.2148 - val_accuracy: 0.6959 - val_auc: 0.8617 - val_loss: 1.0542\n",
      "Epoch 65/100\n",
      "\u001b[1m167/167\u001b[0m \u001b[32m━━━━━━━━━━━━━━━━━━━━\u001b[0m\u001b[37m\u001b[0m \u001b[1m4s\u001b[0m 23ms/step - accuracy: 0.8920 - auc: 0.9778 - loss: 0.2648 - val_accuracy: 0.7837 - val_auc: 0.9028 - val_loss: 0.9401\n",
      "Epoch 66/100\n",
      "\u001b[1m167/167\u001b[0m \u001b[32m━━━━━━━━━━━━━━━━━━━━\u001b[0m\u001b[37m\u001b[0m \u001b[1m4s\u001b[0m 24ms/step - accuracy: 0.9318 - auc: 0.9917 - loss: 0.1226 - val_accuracy: 0.7837 - val_auc: 0.9021 - val_loss: 1.1057\n",
      "Epoch 67/100\n",
      "\u001b[1m167/167\u001b[0m \u001b[32m━━━━━━━━━━━━━━━━━━━━\u001b[0m\u001b[37m\u001b[0m \u001b[1m4s\u001b[0m 25ms/step - accuracy: 0.9416 - auc: 0.9934 - loss: 0.0979 - val_accuracy: 0.7837 - val_auc: 0.8989 - val_loss: 1.1435\n",
      "Epoch 68/100\n",
      "\u001b[1m167/167\u001b[0m \u001b[32m━━━━━━━━━━━━━━━━━━━━\u001b[0m\u001b[37m\u001b[0m \u001b[1m4s\u001b[0m 24ms/step - accuracy: 0.9357 - auc: 0.9934 - loss: 0.1039 - val_accuracy: 0.8133 - val_auc: 0.9070 - val_loss: 1.2614\n",
      "Epoch 69/100\n",
      "\u001b[1m167/167\u001b[0m \u001b[32m━━━━━━━━━━━━━━━━━━━━\u001b[0m\u001b[37m\u001b[0m \u001b[1m4s\u001b[0m 24ms/step - accuracy: 0.9464 - auc: 0.9938 - loss: 0.0913 - val_accuracy: 0.8173 - val_auc: 0.9082 - val_loss: 1.2951\n",
      "Epoch 70/100\n",
      "\u001b[1m167/167\u001b[0m \u001b[32m━━━━━━━━━━━━━━━━━━━━\u001b[0m\u001b[37m\u001b[0m \u001b[1m4s\u001b[0m 26ms/step - accuracy: 0.9637 - auc: 0.9969 - loss: 0.0670 - val_accuracy: 0.8253 - val_auc: 0.9103 - val_loss: 1.4243\n",
      "Epoch 71/100\n",
      "\u001b[1m167/167\u001b[0m \u001b[32m━━━━━━━━━━━━━━━━━━━━\u001b[0m\u001b[37m\u001b[0m \u001b[1m6s\u001b[0m 33ms/step - accuracy: 0.9633 - auc: 0.9974 - loss: 0.0589 - val_accuracy: 0.8269 - val_auc: 0.9095 - val_loss: 1.5005\n",
      "Epoch 72/100\n",
      "\u001b[1m167/167\u001b[0m \u001b[32m━━━━━━━━━━━━━━━━━━━━\u001b[0m\u001b[37m\u001b[0m \u001b[1m5s\u001b[0m 29ms/step - accuracy: 0.9662 - auc: 0.9970 - loss: 0.0598 - val_accuracy: 0.7957 - val_auc: 0.8986 - val_loss: 1.3928\n",
      "Epoch 73/100\n",
      "\u001b[1m167/167\u001b[0m \u001b[32m━━━━━━━━━━━━━━━━━━━━\u001b[0m\u001b[37m\u001b[0m \u001b[1m5s\u001b[0m 28ms/step - accuracy: 0.9289 - auc: 0.9886 - loss: 0.1666 - val_accuracy: 0.7800 - val_auc: 0.8927 - val_loss: 1.2837\n",
      "Epoch 74/100\n",
      "\u001b[1m167/167\u001b[0m \u001b[32m━━━━━━━━━━━━━━━━━━━━\u001b[0m\u001b[37m\u001b[0m \u001b[1m5s\u001b[0m 28ms/step - accuracy: 0.8016 - auc: 0.9358 - loss: 0.4481 - val_accuracy: 0.8113 - val_auc: 0.9130 - val_loss: 0.8915\n",
      "Epoch 75/100\n",
      "\u001b[1m167/167\u001b[0m \u001b[32m━━━━━━━━━━━━━━━━━━━━\u001b[0m\u001b[37m\u001b[0m \u001b[1m5s\u001b[0m 31ms/step - accuracy: 0.9392 - auc: 0.9919 - loss: 0.1275 - val_accuracy: 0.8161 - val_auc: 0.9100 - val_loss: 1.0824\n",
      "Epoch 76/100\n",
      "\u001b[1m167/167\u001b[0m \u001b[32m━━━━━━━━━━━━━━━━━━━━\u001b[0m\u001b[37m\u001b[0m \u001b[1m5s\u001b[0m 30ms/step - accuracy: 0.9612 - auc: 0.9964 - loss: 0.0738 - val_accuracy: 0.8173 - val_auc: 0.9092 - val_loss: 1.1959\n",
      "Epoch 77/100\n",
      "\u001b[1m167/167\u001b[0m \u001b[32m━━━━━━━━━━━━━━━━━━━━\u001b[0m\u001b[37m\u001b[0m \u001b[1m5s\u001b[0m 31ms/step - accuracy: 0.9655 - auc: 0.9976 - loss: 0.0580 - val_accuracy: 0.7965 - val_auc: 0.9024 - val_loss: 1.1518\n",
      "Epoch 78/100\n",
      "\u001b[1m167/167\u001b[0m \u001b[32m━━━━━━━━━━━━━━━━━━━━\u001b[0m\u001b[37m\u001b[0m \u001b[1m5s\u001b[0m 27ms/step - accuracy: 0.9672 - auc: 0.9977 - loss: 0.0583 - val_accuracy: 0.8197 - val_auc: 0.9099 - val_loss: 1.3255\n",
      "Epoch 79/100\n",
      "\u001b[1m167/167\u001b[0m \u001b[32m━━━━━━━━━━━━━━━━━━━━\u001b[0m\u001b[37m\u001b[0m \u001b[1m5s\u001b[0m 31ms/step - accuracy: 0.9752 - auc: 0.9989 - loss: 0.0418 - val_accuracy: 0.7740 - val_auc: 0.8966 - val_loss: 1.1821\n",
      "Epoch 80/100\n",
      "\u001b[1m167/167\u001b[0m \u001b[32m━━━━━━━━━━━━━━━━━━━━\u001b[0m\u001b[37m\u001b[0m \u001b[1m5s\u001b[0m 30ms/step - accuracy: 0.9252 - auc: 0.9873 - loss: 0.1716 - val_accuracy: 0.7420 - val_auc: 0.8737 - val_loss: 1.2061\n",
      "Epoch 81/100\n",
      "\u001b[1m167/167\u001b[0m \u001b[32m━━━━━━━━━━━━━━━━━━━━\u001b[0m\u001b[37m\u001b[0m \u001b[1m5s\u001b[0m 33ms/step - accuracy: 0.9160 - auc: 0.9860 - loss: 0.1501 - val_accuracy: 0.7973 - val_auc: 0.9040 - val_loss: 1.1156\n",
      "Epoch 82/100\n",
      "\u001b[1m167/167\u001b[0m \u001b[32m━━━━━━━━━━━━━━━━━━━━\u001b[0m\u001b[37m\u001b[0m \u001b[1m5s\u001b[0m 29ms/step - accuracy: 0.9461 - auc: 0.9929 - loss: 0.1189 - val_accuracy: 0.7921 - val_auc: 0.9014 - val_loss: 1.1635\n",
      "Epoch 83/100\n",
      "\u001b[1m167/167\u001b[0m \u001b[32m━━━━━━━━━━━━━━━━━━━━\u001b[0m\u001b[37m\u001b[0m \u001b[1m5s\u001b[0m 28ms/step - accuracy: 0.9669 - auc: 0.9960 - loss: 0.0894 - val_accuracy: 0.7857 - val_auc: 0.9018 - val_loss: 1.1693\n",
      "Epoch 84/100\n",
      "\u001b[1m167/167\u001b[0m \u001b[32m━━━━━━━━━━━━━━━━━━━━\u001b[0m\u001b[37m\u001b[0m \u001b[1m5s\u001b[0m 28ms/step - accuracy: 0.9689 - auc: 0.9982 - loss: 0.0534 - val_accuracy: 0.8137 - val_auc: 0.9100 - val_loss: 1.3916\n",
      "Epoch 85/100\n",
      "\u001b[1m167/167\u001b[0m \u001b[32m━━━━━━━━━━━━━━━━━━━━\u001b[0m\u001b[37m\u001b[0m \u001b[1m4s\u001b[0m 26ms/step - accuracy: 0.9808 - auc: 0.9991 - loss: 0.0316 - val_accuracy: 0.8209 - val_auc: 0.9093 - val_loss: 1.5341\n",
      "Epoch 86/100\n",
      "\u001b[1m167/167\u001b[0m \u001b[32m━━━━━━━━━━━━━━━━━━━━\u001b[0m\u001b[37m\u001b[0m \u001b[1m4s\u001b[0m 26ms/step - accuracy: 0.9840 - auc: 0.9995 - loss: 0.0251 - val_accuracy: 0.8301 - val_auc: 0.9105 - val_loss: 1.7071\n",
      "Epoch 87/100\n",
      "\u001b[1m167/167\u001b[0m \u001b[32m━━━━━━━━━━━━━━━━━━━━\u001b[0m\u001b[37m\u001b[0m \u001b[1m5s\u001b[0m 28ms/step - accuracy: 0.9870 - auc: 0.9996 - loss: 0.0208 - val_accuracy: 0.8273 - val_auc: 0.9084 - val_loss: 1.7234\n",
      "Epoch 88/100\n",
      "\u001b[1m167/167\u001b[0m \u001b[32m━━━━━━━━━━━━━━━━━━━━\u001b[0m\u001b[37m\u001b[0m \u001b[1m5s\u001b[0m 28ms/step - accuracy: 0.9897 - auc: 0.9995 - loss: 0.0164 - val_accuracy: 0.8273 - val_auc: 0.9087 - val_loss: 1.8188\n",
      "Epoch 89/100\n",
      "\u001b[1m167/167\u001b[0m \u001b[32m━━━━━━━━━━━━━━━━━━━━\u001b[0m\u001b[37m\u001b[0m \u001b[1m4s\u001b[0m 26ms/step - accuracy: 0.9928 - auc: 0.9997 - loss: 0.0133 - val_accuracy: 0.8317 - val_auc: 0.9081 - val_loss: 1.9760\n",
      "Epoch 90/100\n",
      "\u001b[1m167/167\u001b[0m \u001b[32m━━━━━━━━━━━━━━━━━━━━\u001b[0m\u001b[37m\u001b[0m \u001b[1m5s\u001b[0m 30ms/step - accuracy: 0.9872 - auc: 0.9991 - loss: 0.0328 - val_accuracy: 0.6567 - val_auc: 0.8210 - val_loss: 1.5475\n",
      "Epoch 91/100\n",
      "\u001b[1m167/167\u001b[0m \u001b[32m━━━━━━━━━━━━━━━━━━━━\u001b[0m\u001b[37m\u001b[0m \u001b[1m4s\u001b[0m 26ms/step - accuracy: 0.8481 - auc: 0.9609 - loss: 0.3436 - val_accuracy: 0.7857 - val_auc: 0.9027 - val_loss: 1.1741\n",
      "Epoch 92/100\n",
      "\u001b[1m167/167\u001b[0m \u001b[32m━━━━━━━━━━━━━━━━━━━━\u001b[0m\u001b[37m\u001b[0m \u001b[1m5s\u001b[0m 28ms/step - accuracy: 0.9228 - auc: 0.9883 - loss: 0.2218 - val_accuracy: 0.7929 - val_auc: 0.9043 - val_loss: 1.0608\n",
      "Epoch 93/100\n",
      "\u001b[1m167/167\u001b[0m \u001b[32m━━━━━━━━━━━━━━━━━━━━\u001b[0m\u001b[37m\u001b[0m \u001b[1m4s\u001b[0m 26ms/step - accuracy: 0.9371 - auc: 0.9912 - loss: 0.1400 - val_accuracy: 0.7720 - val_auc: 0.8916 - val_loss: 1.1790\n",
      "Epoch 94/100\n",
      "\u001b[1m167/167\u001b[0m \u001b[32m━━━━━━━━━━━━━━━━━━━━\u001b[0m\u001b[37m\u001b[0m \u001b[1m5s\u001b[0m 27ms/step - accuracy: 0.9523 - auc: 0.9943 - loss: 0.0882 - val_accuracy: 0.8217 - val_auc: 0.9099 - val_loss: 1.2374\n",
      "Epoch 95/100\n",
      "\u001b[1m167/167\u001b[0m \u001b[32m━━━━━━━━━━━━━━━━━━━━\u001b[0m\u001b[37m\u001b[0m \u001b[1m5s\u001b[0m 30ms/step - accuracy: 0.9794 - auc: 0.9990 - loss: 0.0379 - val_accuracy: 0.8213 - val_auc: 0.9112 - val_loss: 1.3362\n",
      "Epoch 96/100\n",
      "\u001b[1m167/167\u001b[0m \u001b[32m━━━━━━━━━━━━━━━━━━━━\u001b[0m\u001b[37m\u001b[0m \u001b[1m5s\u001b[0m 29ms/step - accuracy: 0.9868 - auc: 0.9997 - loss: 0.0249 - val_accuracy: 0.8329 - val_auc: 0.9111 - val_loss: 1.4990\n",
      "Epoch 97/100\n",
      "\u001b[1m167/167\u001b[0m \u001b[32m━━━━━━━━━━━━━━━━━━━━\u001b[0m\u001b[37m\u001b[0m \u001b[1m4s\u001b[0m 26ms/step - accuracy: 0.9831 - auc: 0.9997 - loss: 0.0270 - val_accuracy: 0.8309 - val_auc: 0.9082 - val_loss: 1.5604\n",
      "Epoch 98/100\n",
      "\u001b[1m167/167\u001b[0m \u001b[32m━━━━━━━━━━━━━━━━━━━━\u001b[0m\u001b[37m\u001b[0m \u001b[1m5s\u001b[0m 28ms/step - accuracy: 0.9815 - auc: 0.9983 - loss: 0.0487 - val_accuracy: 0.7788 - val_auc: 0.8937 - val_loss: 1.2319\n",
      "Epoch 99/100\n",
      "\u001b[1m167/167\u001b[0m \u001b[32m━━━━━━━━━━━━━━━━━━━━\u001b[0m\u001b[37m\u001b[0m \u001b[1m5s\u001b[0m 27ms/step - accuracy: 0.9502 - auc: 0.9924 - loss: 0.1168 - val_accuracy: 0.8033 - val_auc: 0.9038 - val_loss: 1.3296\n",
      "Epoch 100/100\n",
      "\u001b[1m167/167\u001b[0m \u001b[32m━━━━━━━━━━━━━━━━━━━━\u001b[0m\u001b[37m\u001b[0m \u001b[1m5s\u001b[0m 30ms/step - accuracy: 0.9780 - auc: 0.9979 - loss: 0.0433 - val_accuracy: 0.8189 - val_auc: 0.9062 - val_loss: 1.4226\n"
     ]
    },
    {
     "data": {
      "text/plain": [
       "<keras.src.callbacks.history.History at 0x223e39e2410>"
      ]
     },
     "execution_count": 11,
     "metadata": {},
     "output_type": "execute_result"
    }
   ],
   "source": [
    "# Construir el modelo LSTM\n",
    "model = Sequential()\n",
    "model.add(LSTM(144, activation='relu', input_shape=(timesteps, X_train_scaled.shape[1])),LSTM(288, activation='relu'))\n",
    "model.add(Dense(36, activation='relu'))\n",
    "model.add(Dense(3, activation='softmax'))\n",
    "# Compilar el modelo\n",
    "model.compile(optimizer='adam', loss='categorical_crossentropy', metrics=['accuracy','auc'])\n",
    "\n",
    "# Entrenar el modelo\n",
    "model.fit(X_train_reshaped, y_train_categorical, epochs=100, batch_size=24,\n",
    "          validation_data=(X_test_reshaped, y_test_categorical), class_weight=class_weights_dict)\n"
   ]
  },
  {
   "cell_type": "code",
   "execution_count": null,
   "metadata": {},
   "outputs": [
    {
     "name": "stderr",
     "output_type": "stream",
     "text": [
      "WARNING:absl:You are saving your model as an HDF5 file via `model.save()` or `keras.saving.save_model(model)`. This file format is considered legacy. We recommend using instead the native Keras format, e.g. `model.save('my_model.keras')` or `keras.saving.save_model(model, 'my_model.keras')`. \n"
     ]
    }
   ],
   "source": [
    "# Guardar el modelo completo\n",
    "#model.save(f'entrenamientos/{nombre_csv}modelo_entrenado.h5')\n"
   ]
  },
  {
   "cell_type": "code",
   "execution_count": 12,
   "metadata": {
    "colab": {
     "base_uri": "https://localhost:8080/"
    },
    "id": "Hq-cWmEVxsKB",
    "outputId": "da098090-b3eb-42be-e96f-728e1712343b"
   },
   "outputs": [
    {
     "name": "stdout",
     "output_type": "stream",
     "text": [
      "\u001b[1m78/78\u001b[0m \u001b[32m━━━━━━━━━━━━━━━━━━━━\u001b[0m\u001b[37m\u001b[0m \u001b[1m1s\u001b[0m 13ms/step\n",
      "{0: 2220, 1: 197, 2: 79}\n",
      "{0: 2237, 1: 187, 2: 72}\n"
     ]
    }
   ],
   "source": [
    "# Predecir las etiquetas para el conjunto de prueba\n",
    "y_pred_proba = model.predict(X_test_reshaped)\n",
    "y_pred = np.argmax(y_pred_proba, axis=1)\n",
    "# Contamos las ocurrencias de cada nivel de estrés\n",
    "valores_unicos, conteos = np.unique(y_test, return_counts=True)\n",
    "valores_unicos1, conteos1 = np.unique(y_pred, return_counts=True)\n",
    "# Combina los valores únicos y sus conteos en un diccionario para facilitar la visualización\n",
    "ocurrencias = dict(zip(valores_unicos, conteos))\n",
    "ocurrenciaspre = dict(zip(valores_unicos1, conteos1))\n",
    "# Mostramos el resultado\n",
    "#print(conteo_nivel_estres)\n",
    "print(ocurrencias)\n",
    "print(ocurrenciaspre)"
   ]
  },
  {
   "cell_type": "markdown",
   "metadata": {
    "id": "r_WwX96g31SC"
   },
   "source": [
    "# EVALUACION DEL ALGORITMO"
   ]
  },
  {
   "cell_type": "code",
   "execution_count": 13,
   "metadata": {},
   "outputs": [
    {
     "name": "stdout",
     "output_type": "stream",
     "text": [
      "\u001b[1m78/78\u001b[0m \u001b[32m━━━━━━━━━━━━━━━━━━━━\u001b[0m\u001b[37m\u001b[0m \u001b[1m2s\u001b[0m 13ms/step - accuracy: 0.7718 - auc: 0.8752 - loss: 1.7088\n",
      "Acuracy: 0.8189102411270142\n",
      "AUC en prueba: 0.9061876535415649\n"
     ]
    }
   ],
   "source": [
    "test_loss,test_acuracy , test_auc = model.evaluate(X_test_reshaped, y_test_categorical)\n",
    "print(f\"Acuracy: {test_acuracy}\")\n",
    "print(f\"AUC en prueba: {test_auc}\")"
   ]
  },
  {
   "cell_type": "code",
   "execution_count": 14,
   "metadata": {
    "colab": {
     "base_uri": "https://localhost:8080/"
    },
    "id": "OWISIj2Nx4KC",
    "outputId": "69dc4ea4-2114-458b-9b9b-093076faaf3e"
   },
   "outputs": [
    {
     "name": "stdout",
     "output_type": "stream",
     "text": [
      "Accuracy: 0.8189102564102564\n",
      "Precision: 0.8135612695278509\n",
      "Recall: 0.8189102564102563\n",
      "F1 Score: 0.8162107086605026\n",
      "ROC AUC: 0.5736167635474105\n"
     ]
    }
   ],
   "source": [
    "# EVALUACION DEL MODELO\n",
    "from sklearn.preprocessing import label_binarize\n",
    "y_pred2 = label_binarize(y_pred, classes=[0, 1, 2])\n",
    "# Calcular las métricas de evaluación\n",
    "accuracy = accuracy_score(y_test, y_pred)\n",
    "precision = precision_score(y_test, y_pred, average='weighted')\n",
    "recall = recall_score(y_test, y_pred, average='weighted')\n",
    "f1 = f1_score(y_test, y_pred, average='weighted')\n",
    "# Calcular el AUC\n",
    "roc_auc = roc_auc_score(y_test_categorical, y_pred_proba, multi_class='ovr')\n",
    "\n",
    "# Mostrar métricas\n",
    "print(\"Accuracy:\", accuracy)\n",
    "print(\"Precision:\", precision)\n",
    "print(\"Recall:\", recall)\n",
    "print(\"F1 Score:\", f1)\n",
    "print(\"ROC AUC:\", roc_auc)"
   ]
  },
  {
   "cell_type": "code",
   "execution_count": 15,
   "metadata": {},
   "outputs": [
    {
     "data": {
      "image/png": "[encoded data removed]",
      "text/plain": [
       "<Figure size 640x480 with 1 Axes>"
      ]
     },
     "metadata": {},
     "output_type": "display_data"
    }
   ],
   "source": [
    "fpr = {}\n",
    "tpr = {}\n",
    "roc_auc = {}\n",
    "\n",
    "for i in range(3):\n",
    "    fpr[i], tpr[i], _ = roc_curve(y_test_categorical[:, i], y_pred_proba[:, i])\n",
    "    roc_auc[i] = auc(fpr[i], tpr[i])\n",
    "\n",
    "# Graficar las curvas ROC\n",
    "plt.figure()\n",
    "for i in range(3):\n",
    "    plt.plot(fpr[i], tpr[i], label=f'Clase {i} (AUC = {roc_auc[i]:.2f})')\n",
    "\n",
    "# Extraer los valores\n",
    "values = roc_auc.values()\n",
    "# Calcular la media\n",
    "mean_auc = sum(values) / len(values)\n",
    "\n",
    "plt.plot([0, 1], [0, 1], 'b--', label=f\"Mean AUC = {mean_auc:.2f}\", alpha=0.5)\n",
    "plt.xlim([0.0, 1.0])\n",
    "plt.ylim([0.0, 1.05])\n",
    "plt.xlabel('Tasa de Falsos Positivos')\n",
    "plt.ylabel('Tasa de Verdaderos Positivos')\n",
    "plt.title('Curva ROC Multiclase')\n",
    "plt.legend(loc='lower right')\n",
    "plt.show()"
   ]
  }
 ],
 "metadata": {
  "colab": {
   "provenance": []
  },
  "kernelspec": {
   "display_name": "Python 3",
   "name": "python3"
  },
  "language_info": {
   "codemirror_mode": {
    "name": "ipython",
    "version": 3
   },
   "file_extension": ".py",
   "mimetype": "text/x-python",
   "name": "python",
   "nbconvert_exporter": "python",
   "pygments_lexer": "ipython3",
   "version": "3.11.0"
  }
 },
 "nbformat": 4,
 "nbformat_minor": 0
}
