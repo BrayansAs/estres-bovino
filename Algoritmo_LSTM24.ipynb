{
 "cells": [
  {
   "cell_type": "markdown",
   "metadata": {
    "id": "VaDJ6NbM4R4c"
   },
   "source": [
    "## Algoritmo LSTM"
   ]
  },
  {
   "cell_type": "code",
   "execution_count": 3,
   "metadata": {
    "id": "s_sVYocgwqjC"
   },
   "outputs": [],
   "source": [
    "# Importar las bibliotecas necesarias\n",
    "import pandas as pd\n",
    "import numpy as np\n",
    "import tensorflow as tf\n",
    "import matplotlib.pyplot as plt\n",
    "from sklearn.metrics import accuracy_score, precision_score, recall_score, f1_score, roc_auc_score,roc_auc_score, roc_curve, auc\n",
    "from sklearn.preprocessing import MinMaxScaler\n",
    "from tensorflow.keras.models import Sequential\n",
    "from tensorflow.keras.layers import LSTM, Dense, Dropout\n",
    "from tensorflow.keras.utils import to_categorical\n",
    "from tensorflow.keras.callbacks import EarlyStopping\n",
    "from sklearn.utils.class_weight import compute_class_weight\n",
    "import random\n",
    "import joblib"
   ]
  },
  {
   "cell_type": "code",
   "execution_count": 4,
   "metadata": {},
   "outputs": [],
   "source": [
    "# Establecer una semilla aleatoria\n",
    "seed_value = 24\n",
    "np.random.seed(seed_value)\n",
    "random.seed(seed_value)\n",
    "tf.random.set_seed(seed_value)"
   ]
  },
  {
   "cell_type": "code",
   "execution_count": 6,
   "metadata": {
    "collapsed": true,
    "id": "g8WDDqQaxRx4"
   },
   "outputs": [],
   "source": [
    "nombre_csv = 479\n",
    "de = pd.read_csv(f'Datos_entrenamiento2/{nombre_csv}_e.csv')\n",
    "dp = pd.read_csv(f'Datos_prueba2/{nombre_csv}_p.csv')"
   ]
  },
  {
   "cell_type": "markdown",
   "metadata": {},
   "source": [
    "# Procesamiento"
   ]
  },
  {
   "cell_type": "code",
   "execution_count": 7,
   "metadata": {
    "id": "tNzDx458xTz5"
   },
   "outputs": [
    {
     "name": "stdout",
     "output_type": "stream",
     "text": [
      "nivel_estres\n",
      "Normal    3874\n",
      "Leve       490\n",
      "Alto       244\n",
      "Name: count, dtype: int64\n",
      "nivel_estres\n",
      "Normal    2010\n",
      "Leve       226\n",
      "Alto        68\n",
      "Name: count, dtype: int64\n"
     ]
    }
   ],
   "source": [
    "# Contamos las ocurrencias de cada nivel de estrés en la nueva columna\n",
    "conteo_nivel_estresde = de['nivel_estres'].value_counts()\n",
    "conteo_nivel_estresdp = dp['nivel_estres'].value_counts()\n",
    "# Mostramos el resultado\n",
    "print(conteo_nivel_estresde)\n",
    "print(conteo_nivel_estresdp)"
   ]
  },
  {
   "cell_type": "code",
   "execution_count": 8,
   "metadata": {
    "id": "Xl9IHQwfxX6R"
   },
   "outputs": [],
   "source": [
    "# Crear un diccionario para mapear cada categoría única en la columna 'nivel_estres' a un número\n",
    "mapping = {'Normal': 0, 'Leve': 1, 'Alto': 2}\n",
    "# Mapear las categorías a números utilizando el método map de pandas\n",
    "de['nivel_estres'] = de['nivel_estres'].map(mapping)\n",
    "dp['nivel_estres'] = dp['nivel_estres'].map(mapping)"
   ]
  },
  {
   "cell_type": "markdown",
   "metadata": {
    "id": "TVUnOhfZ1Ntc"
   },
   "source": [
    "# ALGORITMO DE LSTM"
   ]
  },
  {
   "cell_type": "code",
   "execution_count": 9,
   "metadata": {
    "id": "Lvzb3Kfcxe5h"
   },
   "outputs": [],
   "source": [
    "# Separar características y etiquetas del conjunto de entrenamiento\n",
    "X_train = de[['period eating','period other','period resting','period rumination']]\n",
    "y_train = de['nivel_estres']\n",
    "# Separar características y etiquetas del conjunto de prueba\n",
    "X_test = dp[['period eating','period other','period resting','period rumination']]\n",
    "y_test = dp['nivel_estres']"
   ]
  },
  {
   "cell_type": "code",
   "execution_count": 10,
   "metadata": {
    "id": "juQN7hSuxhmY"
   },
   "outputs": [],
   "source": [
    "# Estandarizar las características\n",
    "scaler = joblib.load(f'scalers/{nombre_csv}_scaler.pkl')\n",
    "#scaler = MinMaxScaler(feature_range = (0, 1))\n",
    "X_train_scaled = scaler.transform(X_train)\n",
    "X_test_scaled = scaler.transform(X_test)\n"
   ]
  },
  {
   "cell_type": "code",
   "execution_count": 11,
   "metadata": {
    "id": "y48rGM_0xlNZ"
   },
   "outputs": [],
   "source": [
    "#Expandir a 24 horas de datos para capturar ciclo diario\n",
    "timesteps = 24\n",
    "X_train_reshaped = np.array([X_train_scaled[i:i + timesteps] for i in range(len(X_train_scaled) - timesteps)])\n",
    "y_train = y_train[timesteps:]\n",
    "X_test_reshaped = np.array([X_test_scaled[i:i + timesteps] for i in range(len(X_test_scaled) - timesteps)])\n",
    "y_test = y_test[timesteps:]\n"
   ]
  },
  {
   "cell_type": "code",
   "execution_count": 12,
   "metadata": {},
   "outputs": [],
   "source": [
    "# # #Ajuste de pesos: Calcular pesos de clase para manejar el desbalance\n",
    "# class_weights = compute_class_weight(class_weight='balanced', classes=np.unique(y_train), y=y_train)\n",
    "# #class_weights_dict = {i: weight for i, weight in enumerate(class_weights)}\n",
    "# class_weights_dict = dict(enumerate(class_weights))"
   ]
  },
  {
   "cell_type": "code",
   "execution_count": 13,
   "metadata": {},
   "outputs": [],
   "source": [
    "# Convertir etiquetas a formato categórico\n",
    "y_train_categorical = to_categorical(y_train, num_classes=3)\n",
    "y_test_categorical = to_categorical(y_test, num_classes=3)"
   ]
  },
  {
   "cell_type": "code",
   "execution_count": 14,
   "metadata": {
    "id": "weTv5z_TxnD4"
   },
   "outputs": [
    {
     "name": "stderr",
     "output_type": "stream",
     "text": [
      "C:\\Users\\PC\\AppData\\Roaming\\Python\\Python311\\site-packages\\keras\\src\\layers\\rnn\\rnn.py:204: UserWarning: Do not pass an `input_shape`/`input_dim` argument to a layer. When using Sequential models, prefer using an `Input(shape)` object as the first layer in the model instead.\n",
      "  super().__init__(**kwargs)\n"
     ]
    },
    {
     "name": "stdout",
     "output_type": "stream",
     "text": [
      "Epoch 1/100\n",
      "\u001b[1m128/128\u001b[0m \u001b[32m━━━━━━━━━━━━━━━━━━━━\u001b[0m\u001b[37m\u001b[0m \u001b[1m7s\u001b[0m 24ms/step - accuracy: 0.7942 - auc: 0.8690 - loss: 0.6630 - val_accuracy: 0.8715 - val_auc: 0.9220 - val_loss: 0.4568\n",
      "Epoch 2/100\n",
      "\u001b[1m128/128\u001b[0m \u001b[32m━━━━━━━━━━━━━━━━━━━━\u001b[0m\u001b[37m\u001b[0m \u001b[1m2s\u001b[0m 18ms/step - accuracy: 0.8425 - auc: 0.8993 - loss: 0.5398 - val_accuracy: 0.8715 - val_auc: 0.9237 - val_loss: 0.4552\n",
      "Epoch 3/100\n",
      "\u001b[1m128/128\u001b[0m \u001b[32m━━━━━━━━━━━━━━━━━━━━\u001b[0m\u001b[37m\u001b[0m \u001b[1m3s\u001b[0m 21ms/step - accuracy: 0.8425 - auc: 0.9020 - loss: 0.5367 - val_accuracy: 0.8715 - val_auc: 0.9233 - val_loss: 0.4559\n",
      "Epoch 4/100\n",
      "\u001b[1m128/128\u001b[0m \u001b[32m━━━━━━━━━━━━━━━━━━━━\u001b[0m\u001b[37m\u001b[0m \u001b[1m2s\u001b[0m 18ms/step - accuracy: 0.8425 - auc: 0.9051 - loss: 0.5393 - val_accuracy: 0.8715 - val_auc: 0.9216 - val_loss: 0.4564\n",
      "Epoch 5/100\n",
      "\u001b[1m128/128\u001b[0m \u001b[32m━━━━━━━━━━━━━━━━━━━━\u001b[0m\u001b[37m\u001b[0m \u001b[1m2s\u001b[0m 18ms/step - accuracy: 0.8425 - auc: 0.9086 - loss: 0.5286 - val_accuracy: 0.8715 - val_auc: 0.9220 - val_loss: 0.4567\n",
      "Epoch 6/100\n",
      "\u001b[1m128/128\u001b[0m \u001b[32m━━━━━━━━━━━━━━━━━━━━\u001b[0m\u001b[37m\u001b[0m \u001b[1m2s\u001b[0m 18ms/step - accuracy: 0.8425 - auc: 0.9114 - loss: 0.5250 - val_accuracy: 0.8715 - val_auc: 0.9218 - val_loss: 0.4579\n",
      "Epoch 7/100\n",
      "\u001b[1m128/128\u001b[0m \u001b[32m━━━━━━━━━━━━━━━━━━━━\u001b[0m\u001b[37m\u001b[0m \u001b[1m3s\u001b[0m 21ms/step - accuracy: 0.8425 - auc: 0.9125 - loss: 0.5225 - val_accuracy: 0.8715 - val_auc: 0.9221 - val_loss: 0.4581\n",
      "Epoch 8/100\n",
      "\u001b[1m128/128\u001b[0m \u001b[32m━━━━━━━━━━━━━━━━━━━━\u001b[0m\u001b[37m\u001b[0m \u001b[1m3s\u001b[0m 19ms/step - accuracy: 0.8432 - auc: 0.9146 - loss: 0.5177 - val_accuracy: 0.8711 - val_auc: 0.9208 - val_loss: 0.4611\n",
      "Epoch 9/100\n",
      "\u001b[1m128/128\u001b[0m \u001b[32m━━━━━━━━━━━━━━━━━━━━\u001b[0m\u001b[37m\u001b[0m \u001b[1m3s\u001b[0m 19ms/step - accuracy: 0.8441 - auc: 0.9173 - loss: 0.5118 - val_accuracy: 0.8715 - val_auc: 0.9190 - val_loss: 0.4637\n",
      "Epoch 10/100\n",
      "\u001b[1m128/128\u001b[0m \u001b[32m━━━━━━━━━━━━━━━━━━━━\u001b[0m\u001b[37m\u001b[0m \u001b[1m2s\u001b[0m 18ms/step - accuracy: 0.8435 - auc: 0.9194 - loss: 0.5092 - val_accuracy: 0.8684 - val_auc: 0.9202 - val_loss: 0.4649\n",
      "Epoch 11/100\n",
      "\u001b[1m128/128\u001b[0m \u001b[32m━━━━━━━━━━━━━━━━━━━━\u001b[0m\u001b[37m\u001b[0m \u001b[1m2s\u001b[0m 19ms/step - accuracy: 0.8453 - auc: 0.9206 - loss: 0.5039 - val_accuracy: 0.8715 - val_auc: 0.9210 - val_loss: 0.4601\n",
      "Epoch 12/100\n",
      "\u001b[1m128/128\u001b[0m \u001b[32m━━━━━━━━━━━━━━━━━━━━\u001b[0m\u001b[37m\u001b[0m \u001b[1m2s\u001b[0m 17ms/step - accuracy: 0.8451 - auc: 0.9217 - loss: 0.5020 - val_accuracy: 0.8671 - val_auc: 0.9188 - val_loss: 0.4666\n",
      "Epoch 13/100\n",
      "\u001b[1m128/128\u001b[0m \u001b[32m━━━━━━━━━━━━━━━━━━━━\u001b[0m\u001b[37m\u001b[0m \u001b[1m2s\u001b[0m 19ms/step - accuracy: 0.8455 - auc: 0.9257 - loss: 0.4930 - val_accuracy: 0.8636 - val_auc: 0.9180 - val_loss: 0.4739\n",
      "Epoch 14/100\n",
      "\u001b[1m128/128\u001b[0m \u001b[32m━━━━━━━━━━━━━━━━━━━━\u001b[0m\u001b[37m\u001b[0m \u001b[1m2s\u001b[0m 17ms/step - accuracy: 0.8473 - auc: 0.9278 - loss: 0.4871 - val_accuracy: 0.8618 - val_auc: 0.9168 - val_loss: 0.4902\n",
      "Epoch 15/100\n",
      "\u001b[1m128/128\u001b[0m \u001b[32m━━━━━━━━━━━━━━━━━━━━\u001b[0m\u001b[37m\u001b[0m \u001b[1m2s\u001b[0m 18ms/step - accuracy: 0.8477 - auc: 0.9294 - loss: 0.4837 - val_accuracy: 0.8601 - val_auc: 0.9121 - val_loss: 0.4997\n",
      "Epoch 16/100\n",
      "\u001b[1m128/128\u001b[0m \u001b[32m━━━━━━━━━━━━━━━━━━━━\u001b[0m\u001b[37m\u001b[0m \u001b[1m2s\u001b[0m 17ms/step - accuracy: 0.8474 - auc: 0.9325 - loss: 0.4770 - val_accuracy: 0.8614 - val_auc: 0.9177 - val_loss: 0.4859\n",
      "Epoch 17/100\n",
      "\u001b[1m128/128\u001b[0m \u001b[32m━━━━━━━━━━━━━━━━━━━━\u001b[0m\u001b[37m\u001b[0m \u001b[1m2s\u001b[0m 18ms/step - accuracy: 0.8503 - auc: 0.9363 - loss: 0.4642 - val_accuracy: 0.8623 - val_auc: 0.9153 - val_loss: 0.4914\n",
      "Epoch 18/100\n",
      "\u001b[1m128/128\u001b[0m \u001b[32m━━━━━━━━━━━━━━━━━━━━\u001b[0m\u001b[37m\u001b[0m \u001b[1m2s\u001b[0m 17ms/step - accuracy: 0.8527 - auc: 0.9396 - loss: 0.4555 - val_accuracy: 0.8614 - val_auc: 0.9143 - val_loss: 0.5039\n",
      "Epoch 19/100\n",
      "\u001b[1m128/128\u001b[0m \u001b[32m━━━━━━━━━━━━━━━━━━━━\u001b[0m\u001b[37m\u001b[0m \u001b[1m2s\u001b[0m 17ms/step - accuracy: 0.8555 - auc: 0.9430 - loss: 0.4451 - val_accuracy: 0.8627 - val_auc: 0.9123 - val_loss: 0.5097\n",
      "Epoch 20/100\n",
      "\u001b[1m128/128\u001b[0m \u001b[32m━━━━━━━━━━━━━━━━━━━━\u001b[0m\u001b[37m\u001b[0m \u001b[1m2s\u001b[0m 18ms/step - accuracy: 0.8562 - auc: 0.9447 - loss: 0.4380 - val_accuracy: 0.8588 - val_auc: 0.9102 - val_loss: 0.5190\n",
      "Epoch 21/100\n",
      "\u001b[1m128/128\u001b[0m \u001b[32m━━━━━━━━━━━━━━━━━━━━\u001b[0m\u001b[37m\u001b[0m \u001b[1m2s\u001b[0m 17ms/step - accuracy: 0.8564 - auc: 0.9458 - loss: 0.4336 - val_accuracy: 0.8605 - val_auc: 0.9121 - val_loss: 0.5124\n",
      "Epoch 22/100\n",
      "\u001b[1m128/128\u001b[0m \u001b[32m━━━━━━━━━━━━━━━━━━━━\u001b[0m\u001b[37m\u001b[0m \u001b[1m3s\u001b[0m 23ms/step - accuracy: 0.8593 - auc: 0.9492 - loss: 0.4218 - val_accuracy: 0.8623 - val_auc: 0.9124 - val_loss: 0.5143\n",
      "Epoch 23/100\n",
      "\u001b[1m128/128\u001b[0m \u001b[32m━━━━━━━━━━━━━━━━━━━━\u001b[0m\u001b[37m\u001b[0m \u001b[1m2s\u001b[0m 17ms/step - accuracy: 0.8610 - auc: 0.9519 - loss: 0.4114 - val_accuracy: 0.8601 - val_auc: 0.9119 - val_loss: 0.5369\n",
      "Epoch 24/100\n",
      "\u001b[1m128/128\u001b[0m \u001b[32m━━━━━━━━━━━━━━━━━━━━\u001b[0m\u001b[37m\u001b[0m \u001b[1m2s\u001b[0m 19ms/step - accuracy: 0.8629 - auc: 0.9544 - loss: 0.4023 - val_accuracy: 0.8627 - val_auc: 0.9127 - val_loss: 0.5546\n",
      "Epoch 25/100\n",
      "\u001b[1m128/128\u001b[0m \u001b[32m━━━━━━━━━━━━━━━━━━━━\u001b[0m\u001b[37m\u001b[0m \u001b[1m2s\u001b[0m 19ms/step - accuracy: 0.8649 - auc: 0.9561 - loss: 0.3957 - val_accuracy: 0.8610 - val_auc: 0.9159 - val_loss: 0.5517\n",
      "Epoch 26/100\n",
      "\u001b[1m128/128\u001b[0m \u001b[32m━━━━━━━━━━━━━━━━━━━━\u001b[0m\u001b[37m\u001b[0m \u001b[1m2s\u001b[0m 18ms/step - accuracy: 0.8655 - auc: 0.9600 - loss: 0.3776 - val_accuracy: 0.8627 - val_auc: 0.9147 - val_loss: 0.5523\n",
      "Epoch 27/100\n",
      "\u001b[1m128/128\u001b[0m \u001b[32m━━━━━━━━━━━━━━━━━━━━\u001b[0m\u001b[37m\u001b[0m \u001b[1m2s\u001b[0m 17ms/step - accuracy: 0.8704 - auc: 0.9628 - loss: 0.3647 - val_accuracy: 0.8623 - val_auc: 0.9146 - val_loss: 0.5652\n",
      "Epoch 28/100\n",
      "\u001b[1m128/128\u001b[0m \u001b[32m━━━━━━━━━━━━━━━━━━━━\u001b[0m\u001b[37m\u001b[0m \u001b[1m2s\u001b[0m 18ms/step - accuracy: 0.8750 - auc: 0.9644 - loss: 0.3582 - val_accuracy: 0.8583 - val_auc: 0.9107 - val_loss: 0.5954\n",
      "Epoch 29/100\n",
      "\u001b[1m128/128\u001b[0m \u001b[32m━━━━━━━━━━━━━━━━━━━━\u001b[0m\u001b[37m\u001b[0m \u001b[1m2s\u001b[0m 17ms/step - accuracy: 0.8659 - auc: 0.9595 - loss: 0.4940 - val_accuracy: 0.8522 - val_auc: 0.9065 - val_loss: 0.5590\n",
      "Epoch 30/100\n",
      "\u001b[1m128/128\u001b[0m \u001b[32m━━━━━━━━━━━━━━━━━━━━\u001b[0m\u001b[37m\u001b[0m \u001b[1m2s\u001b[0m 17ms/step - accuracy: 0.8656 - auc: 0.9600 - loss: 0.3831 - val_accuracy: 0.8553 - val_auc: 0.9093 - val_loss: 0.5918\n",
      "Epoch 31/100\n",
      "\u001b[1m128/128\u001b[0m \u001b[32m━━━━━━━━━━━━━━━━━━━━\u001b[0m\u001b[37m\u001b[0m \u001b[1m2s\u001b[0m 17ms/step - accuracy: 0.8685 - auc: 0.9654 - loss: 0.3555 - val_accuracy: 0.8570 - val_auc: 0.9093 - val_loss: 0.6190\n",
      "Epoch 32/100\n",
      "\u001b[1m128/128\u001b[0m \u001b[32m━━━━━━━━━━━━━━━━━━━━\u001b[0m\u001b[37m\u001b[0m \u001b[1m2s\u001b[0m 17ms/step - accuracy: 0.8637 - auc: 0.9624 - loss: 0.3739 - val_accuracy: 0.8588 - val_auc: 0.9129 - val_loss: 0.5723\n",
      "Epoch 33/100\n",
      "\u001b[1m128/128\u001b[0m \u001b[32m━━━━━━━━━━━━━━━━━━━━\u001b[0m\u001b[37m\u001b[0m \u001b[1m2s\u001b[0m 18ms/step - accuracy: 0.8702 - auc: 0.9650 - loss: 0.3577 - val_accuracy: 0.8544 - val_auc: 0.9132 - val_loss: 0.5949\n",
      "Epoch 34/100\n",
      "\u001b[1m128/128\u001b[0m \u001b[32m━━━━━━━━━━━━━━━━━━━━\u001b[0m\u001b[37m\u001b[0m \u001b[1m2s\u001b[0m 17ms/step - accuracy: 0.8804 - auc: 0.9700 - loss: 0.3300 - val_accuracy: 0.8526 - val_auc: 0.9100 - val_loss: 0.6258\n",
      "Epoch 35/100\n",
      "\u001b[1m128/128\u001b[0m \u001b[32m━━━━━━━━━━━━━━━━━━━━\u001b[0m\u001b[37m\u001b[0m \u001b[1m2s\u001b[0m 17ms/step - accuracy: 0.8837 - auc: 0.9716 - loss: 0.3210 - val_accuracy: 0.8465 - val_auc: 0.9084 - val_loss: 0.6748\n",
      "Epoch 36/100\n",
      "\u001b[1m128/128\u001b[0m \u001b[32m━━━━━━━━━━━━━━━━━━━━\u001b[0m\u001b[37m\u001b[0m \u001b[1m2s\u001b[0m 18ms/step - accuracy: 0.8853 - auc: 0.9737 - loss: 0.3093 - val_accuracy: 0.8346 - val_auc: 0.9070 - val_loss: 0.7071\n",
      "Epoch 37/100\n",
      "\u001b[1m128/128\u001b[0m \u001b[32m━━━━━━━━━━━━━━━━━━━━\u001b[0m\u001b[37m\u001b[0m \u001b[1m2s\u001b[0m 17ms/step - accuracy: 0.8736 - auc: 0.9646 - loss: 0.3677 - val_accuracy: 0.8592 - val_auc: 0.9134 - val_loss: 0.5825\n",
      "Epoch 38/100\n",
      "\u001b[1m128/128\u001b[0m \u001b[32m━━━━━━━━━━━━━━━━━━━━\u001b[0m\u001b[37m\u001b[0m \u001b[1m2s\u001b[0m 18ms/step - accuracy: 0.8624 - auc: 0.9610 - loss: 0.3778 - val_accuracy: 0.8513 - val_auc: 0.9102 - val_loss: 0.6097\n",
      "Epoch 39/100\n",
      "\u001b[1m128/128\u001b[0m \u001b[32m━━━━━━━━━━━━━━━━━━━━\u001b[0m\u001b[37m\u001b[0m \u001b[1m2s\u001b[0m 19ms/step - accuracy: 0.8841 - auc: 0.9727 - loss: 0.3158 - val_accuracy: 0.8452 - val_auc: 0.9087 - val_loss: 0.6383\n",
      "Epoch 40/100\n",
      "\u001b[1m128/128\u001b[0m \u001b[32m━━━━━━━━━━━━━━━━━━━━\u001b[0m\u001b[37m\u001b[0m \u001b[1m2s\u001b[0m 18ms/step - accuracy: 0.8871 - auc: 0.9760 - loss: 0.2964 - val_accuracy: 0.8430 - val_auc: 0.9080 - val_loss: 0.6779\n",
      "Epoch 41/100\n",
      "\u001b[1m128/128\u001b[0m \u001b[32m━━━━━━━━━━━━━━━━━━━━\u001b[0m\u001b[37m\u001b[0m \u001b[1m3s\u001b[0m 20ms/step - accuracy: 0.8927 - auc: 0.9788 - loss: 0.2780 - val_accuracy: 0.8425 - val_auc: 0.9076 - val_loss: 0.7202\n",
      "Epoch 42/100\n",
      "\u001b[1m128/128\u001b[0m \u001b[32m━━━━━━━━━━━━━━━━━━━━\u001b[0m\u001b[37m\u001b[0m \u001b[1m2s\u001b[0m 19ms/step - accuracy: 0.8958 - auc: 0.9801 - loss: 0.2689 - val_accuracy: 0.8404 - val_auc: 0.9076 - val_loss: 0.7427\n",
      "Epoch 43/100\n",
      "\u001b[1m128/128\u001b[0m \u001b[32m━━━━━━━━━━━━━━━━━━━━\u001b[0m\u001b[37m\u001b[0m \u001b[1m2s\u001b[0m 19ms/step - accuracy: 0.9030 - auc: 0.9810 - loss: 0.2637 - val_accuracy: 0.8469 - val_auc: 0.9089 - val_loss: 0.7715\n",
      "Epoch 44/100\n",
      "\u001b[1m128/128\u001b[0m \u001b[32m━━━━━━━━━━━━━━━━━━━━\u001b[0m\u001b[37m\u001b[0m \u001b[1m2s\u001b[0m 19ms/step - accuracy: 0.9014 - auc: 0.9831 - loss: 0.2498 - val_accuracy: 0.8382 - val_auc: 0.9077 - val_loss: 0.8129\n",
      "Epoch 45/100\n",
      "\u001b[1m128/128\u001b[0m \u001b[32m━━━━━━━━━━━━━━━━━━━━\u001b[0m\u001b[37m\u001b[0m \u001b[1m2s\u001b[0m 17ms/step - accuracy: 0.9064 - auc: 0.9835 - loss: 0.2439 - val_accuracy: 0.8355 - val_auc: 0.9063 - val_loss: 0.8571\n",
      "Epoch 46/100\n",
      "\u001b[1m128/128\u001b[0m \u001b[32m━━━━━━━━━━━━━━━━━━━━\u001b[0m\u001b[37m\u001b[0m \u001b[1m2s\u001b[0m 17ms/step - accuracy: 0.9098 - auc: 0.9848 - loss: 0.2321 - val_accuracy: 0.8513 - val_auc: 0.9078 - val_loss: 0.8616\n",
      "Epoch 47/100\n",
      "\u001b[1m128/128\u001b[0m \u001b[32m━━━━━━━━━━━━━━━━━━━━\u001b[0m\u001b[37m\u001b[0m \u001b[1m2s\u001b[0m 17ms/step - accuracy: 0.9025 - auc: 0.9848 - loss: 0.2371 - val_accuracy: 0.8439 - val_auc: 0.9092 - val_loss: 0.9146\n",
      "Epoch 48/100\n",
      "\u001b[1m128/128\u001b[0m \u001b[32m━━━━━━━━━━━━━━━━━━━━\u001b[0m\u001b[37m\u001b[0m \u001b[1m2s\u001b[0m 17ms/step - accuracy: 0.9163 - auc: 0.9875 - loss: 0.2141 - val_accuracy: 0.8246 - val_auc: 0.9089 - val_loss: 0.7298\n",
      "Epoch 49/100\n",
      "\u001b[1m128/128\u001b[0m \u001b[32m━━━━━━━━━━━━━━━━━━━━\u001b[0m\u001b[37m\u001b[0m \u001b[1m2s\u001b[0m 17ms/step - accuracy: 0.9083 - auc: 0.9851 - loss: 0.2349 - val_accuracy: 0.8281 - val_auc: 0.9004 - val_loss: 0.9882\n",
      "Epoch 50/100\n",
      "\u001b[1m128/128\u001b[0m \u001b[32m━━━━━━━━━━━━━━━━━━━━\u001b[0m\u001b[37m\u001b[0m \u001b[1m2s\u001b[0m 17ms/step - accuracy: 0.9142 - auc: 0.9878 - loss: 0.2117 - val_accuracy: 0.8211 - val_auc: 0.9016 - val_loss: 1.1000\n",
      "Epoch 51/100\n",
      "\u001b[1m128/128\u001b[0m \u001b[32m━━━━━━━━━━━━━━━━━━━━\u001b[0m\u001b[37m\u001b[0m \u001b[1m2s\u001b[0m 17ms/step - accuracy: 0.9201 - auc: 0.9887 - loss: 0.2006 - val_accuracy: 0.8180 - val_auc: 0.9022 - val_loss: 1.0908\n",
      "Epoch 52/100\n",
      "\u001b[1m128/128\u001b[0m \u001b[32m━━━━━━━━━━━━━━━━━━━━\u001b[0m\u001b[37m\u001b[0m \u001b[1m2s\u001b[0m 18ms/step - accuracy: 0.9051 - auc: 0.9836 - loss: 0.2465 - val_accuracy: 0.8132 - val_auc: 0.9007 - val_loss: 0.8325\n",
      "Epoch 53/100\n",
      "\u001b[1m128/128\u001b[0m \u001b[32m━━━━━━━━━━━━━━━━━━━━\u001b[0m\u001b[37m\u001b[0m \u001b[1m2s\u001b[0m 18ms/step - accuracy: 0.9185 - auc: 0.9888 - loss: 0.2017 - val_accuracy: 0.8228 - val_auc: 0.9045 - val_loss: 0.9969\n",
      "Epoch 54/100\n",
      "\u001b[1m128/128\u001b[0m \u001b[32m━━━━━━━━━━━━━━━━━━━━\u001b[0m\u001b[37m\u001b[0m \u001b[1m2s\u001b[0m 17ms/step - accuracy: 0.9264 - auc: 0.9904 - loss: 0.1881 - val_accuracy: 0.8211 - val_auc: 0.9000 - val_loss: 0.9841\n",
      "Epoch 55/100\n",
      "\u001b[1m128/128\u001b[0m \u001b[32m━━━━━━━━━━━━━━━━━━━━\u001b[0m\u001b[37m\u001b[0m \u001b[1m2s\u001b[0m 19ms/step - accuracy: 0.9328 - auc: 0.9918 - loss: 0.1732 - val_accuracy: 0.7991 - val_auc: 0.8942 - val_loss: 1.2576\n",
      "Epoch 56/100\n",
      "\u001b[1m128/128\u001b[0m \u001b[32m━━━━━━━━━━━━━━━━━━━━\u001b[0m\u001b[37m\u001b[0m \u001b[1m2s\u001b[0m 17ms/step - accuracy: 0.9225 - auc: 0.9871 - loss: 0.2126 - val_accuracy: 0.8048 - val_auc: 0.8983 - val_loss: 1.1439\n",
      "Epoch 57/100\n",
      "\u001b[1m128/128\u001b[0m \u001b[32m━━━━━━━━━━━━━━━━━━━━\u001b[0m\u001b[37m\u001b[0m \u001b[1m2s\u001b[0m 17ms/step - accuracy: 0.9314 - auc: 0.9909 - loss: 0.1778 - val_accuracy: 0.7890 - val_auc: 0.8913 - val_loss: 1.3663\n",
      "Epoch 58/100\n",
      "\u001b[1m128/128\u001b[0m \u001b[32m━━━━━━━━━━━━━━━━━━━━\u001b[0m\u001b[37m\u001b[0m \u001b[1m2s\u001b[0m 18ms/step - accuracy: 0.9301 - auc: 0.9910 - loss: 0.1870 - val_accuracy: 0.8333 - val_auc: 0.9045 - val_loss: 0.7306\n",
      "Epoch 59/100\n",
      "\u001b[1m128/128\u001b[0m \u001b[32m━━━━━━━━━━━━━━━━━━━━\u001b[0m\u001b[37m\u001b[0m \u001b[1m2s\u001b[0m 17ms/step - accuracy: 0.8907 - auc: 0.9797 - loss: 0.2726 - val_accuracy: 0.8175 - val_auc: 0.9018 - val_loss: 0.9180\n",
      "Epoch 60/100\n",
      "\u001b[1m128/128\u001b[0m \u001b[32m━━━━━━━━━━━━━━━━━━━━\u001b[0m\u001b[37m\u001b[0m \u001b[1m2s\u001b[0m 18ms/step - accuracy: 0.9193 - auc: 0.9885 - loss: 0.2052 - val_accuracy: 0.8096 - val_auc: 0.8955 - val_loss: 1.0525\n",
      "Epoch 61/100\n",
      "\u001b[1m128/128\u001b[0m \u001b[32m━━━━━━━━━━━━━━━━━━━━\u001b[0m\u001b[37m\u001b[0m \u001b[1m2s\u001b[0m 17ms/step - accuracy: 0.9331 - auc: 0.9915 - loss: 0.1765 - val_accuracy: 0.8110 - val_auc: 0.8971 - val_loss: 1.1706\n",
      "Epoch 62/100\n",
      "\u001b[1m128/128\u001b[0m \u001b[32m━━━━━━━━━━━━━━━━━━━━\u001b[0m\u001b[37m\u001b[0m \u001b[1m2s\u001b[0m 18ms/step - accuracy: 0.9323 - auc: 0.9923 - loss: 0.1685 - val_accuracy: 0.7982 - val_auc: 0.8928 - val_loss: 1.2036\n",
      "Epoch 63/100\n",
      "\u001b[1m128/128\u001b[0m \u001b[32m━━━━━━━━━━━━━━━━━━━━\u001b[0m\u001b[37m\u001b[0m \u001b[1m3s\u001b[0m 19ms/step - accuracy: 0.9380 - auc: 0.9925 - loss: 0.1638 - val_accuracy: 0.8175 - val_auc: 0.8985 - val_loss: 1.2696\n",
      "Epoch 64/100\n",
      "\u001b[1m128/128\u001b[0m \u001b[32m━━━━━━━━━━━━━━━━━━━━\u001b[0m\u001b[37m\u001b[0m \u001b[1m2s\u001b[0m 18ms/step - accuracy: 0.9451 - auc: 0.9943 - loss: 0.1440 - val_accuracy: 0.8066 - val_auc: 0.8959 - val_loss: 1.2810\n",
      "Epoch 65/100\n",
      "\u001b[1m128/128\u001b[0m \u001b[32m━━━━━━━━━━━━━━━━━━━━\u001b[0m\u001b[37m\u001b[0m \u001b[1m2s\u001b[0m 19ms/step - accuracy: 0.9507 - auc: 0.9954 - loss: 0.1310 - val_accuracy: 0.8083 - val_auc: 0.8947 - val_loss: 1.4483\n",
      "Epoch 66/100\n",
      "\u001b[1m128/128\u001b[0m \u001b[32m━━━━━━━━━━━━━━━━━━━━\u001b[0m\u001b[37m\u001b[0m \u001b[1m2s\u001b[0m 18ms/step - accuracy: 0.9516 - auc: 0.9954 - loss: 0.1297 - val_accuracy: 0.7842 - val_auc: 0.8862 - val_loss: 1.3974\n",
      "Epoch 67/100\n",
      "\u001b[1m128/128\u001b[0m \u001b[32m━━━━━━━━━━━━━━━━━━━━\u001b[0m\u001b[37m\u001b[0m \u001b[1m2s\u001b[0m 18ms/step - accuracy: 0.9430 - auc: 0.9940 - loss: 0.1491 - val_accuracy: 0.7965 - val_auc: 0.8918 - val_loss: 1.5027\n",
      "Epoch 68/100\n",
      "\u001b[1m128/128\u001b[0m \u001b[32m━━━━━━━━━━━━━━━━━━━━\u001b[0m\u001b[37m\u001b[0m \u001b[1m2s\u001b[0m 18ms/step - accuracy: 0.9536 - auc: 0.9953 - loss: 0.1259 - val_accuracy: 0.7636 - val_auc: 0.8775 - val_loss: 1.4470\n",
      "Epoch 69/100\n",
      "\u001b[1m128/128\u001b[0m \u001b[32m━━━━━━━━━━━━━━━━━━━━\u001b[0m\u001b[37m\u001b[0m \u001b[1m2s\u001b[0m 19ms/step - accuracy: 0.9385 - auc: 0.9929 - loss: 0.1592 - val_accuracy: 0.7693 - val_auc: 0.8863 - val_loss: 1.4024\n",
      "Epoch 70/100\n",
      "\u001b[1m128/128\u001b[0m \u001b[32m━━━━━━━━━━━━━━━━━━━━\u001b[0m\u001b[37m\u001b[0m \u001b[1m2s\u001b[0m 18ms/step - accuracy: 0.9481 - auc: 0.9949 - loss: 0.1369 - val_accuracy: 0.7939 - val_auc: 0.8925 - val_loss: 1.5679\n",
      "Epoch 71/100\n",
      "\u001b[1m128/128\u001b[0m \u001b[32m━━━━━━━━━━━━━━━━━━━━\u001b[0m\u001b[37m\u001b[0m \u001b[1m2s\u001b[0m 18ms/step - accuracy: 0.9504 - auc: 0.9951 - loss: 0.1298 - val_accuracy: 0.8171 - val_auc: 0.8969 - val_loss: 1.7465\n",
      "Epoch 72/100\n",
      "\u001b[1m128/128\u001b[0m \u001b[32m━━━━━━━━━━━━━━━━━━━━\u001b[0m\u001b[37m\u001b[0m \u001b[1m2s\u001b[0m 18ms/step - accuracy: 0.9460 - auc: 0.9959 - loss: 0.1215 - val_accuracy: 0.7702 - val_auc: 0.8829 - val_loss: 1.6573\n",
      "Epoch 73/100\n",
      "\u001b[1m128/128\u001b[0m \u001b[32m━━━━━━━━━━━━━━━━━━━━\u001b[0m\u001b[37m\u001b[0m \u001b[1m2s\u001b[0m 17ms/step - accuracy: 0.9336 - auc: 0.9908 - loss: 0.1795 - val_accuracy: 0.7982 - val_auc: 0.8987 - val_loss: 1.6698\n",
      "Epoch 74/100\n",
      "\u001b[1m128/128\u001b[0m \u001b[32m━━━━━━━━━━━━━━━━━━━━\u001b[0m\u001b[37m\u001b[0m \u001b[1m3s\u001b[0m 22ms/step - accuracy: 0.9501 - auc: 0.9956 - loss: 0.1223 - val_accuracy: 0.8035 - val_auc: 0.8972 - val_loss: 1.6398\n",
      "Epoch 75/100\n",
      "\u001b[1m128/128\u001b[0m \u001b[32m━━━━━━━━━━━━━━━━━━━━\u001b[0m\u001b[37m\u001b[0m \u001b[1m3s\u001b[0m 22ms/step - accuracy: 0.9612 - auc: 0.9974 - loss: 0.0980 - val_accuracy: 0.8048 - val_auc: 0.8968 - val_loss: 1.8234\n",
      "Epoch 76/100\n",
      "\u001b[1m128/128\u001b[0m \u001b[32m━━━━━━━━━━━━━━━━━━━━\u001b[0m\u001b[37m\u001b[0m \u001b[1m3s\u001b[0m 22ms/step - accuracy: 0.9628 - auc: 0.9967 - loss: 0.1006 - val_accuracy: 0.7925 - val_auc: 0.8919 - val_loss: 2.0062\n",
      "Epoch 77/100\n",
      "\u001b[1m128/128\u001b[0m \u001b[32m━━━━━━━━━━━━━━━━━━━━\u001b[0m\u001b[37m\u001b[0m \u001b[1m3s\u001b[0m 21ms/step - accuracy: 0.9668 - auc: 0.9977 - loss: 0.0882 - val_accuracy: 0.7715 - val_auc: 0.8820 - val_loss: 2.0178\n",
      "Epoch 78/100\n",
      "\u001b[1m128/128\u001b[0m \u001b[32m━━━━━━━━━━━━━━━━━━━━\u001b[0m\u001b[37m\u001b[0m \u001b[1m3s\u001b[0m 20ms/step - accuracy: 0.9584 - auc: 0.9970 - loss: 0.1030 - val_accuracy: 0.7943 - val_auc: 0.8907 - val_loss: 2.0362\n",
      "Epoch 79/100\n",
      "\u001b[1m128/128\u001b[0m \u001b[32m━━━━━━━━━━━━━━━━━━━━\u001b[0m\u001b[37m\u001b[0m \u001b[1m2s\u001b[0m 18ms/step - accuracy: 0.9635 - auc: 0.9970 - loss: 0.0960 - val_accuracy: 0.8061 - val_auc: 0.8948 - val_loss: 2.1664\n",
      "Epoch 80/100\n",
      "\u001b[1m128/128\u001b[0m \u001b[32m━━━━━━━━━━━━━━━━━━━━\u001b[0m\u001b[37m\u001b[0m \u001b[1m2s\u001b[0m 18ms/step - accuracy: 0.9583 - auc: 0.9958 - loss: 0.1152 - val_accuracy: 0.8105 - val_auc: 0.8947 - val_loss: 2.1183\n",
      "Epoch 81/100\n",
      "\u001b[1m128/128\u001b[0m \u001b[32m━━━━━━━━━━━━━━━━━━━━\u001b[0m\u001b[37m\u001b[0m \u001b[1m2s\u001b[0m 18ms/step - accuracy: 0.9537 - auc: 0.9950 - loss: 0.1219 - val_accuracy: 0.8193 - val_auc: 0.8942 - val_loss: 1.9896\n",
      "Epoch 82/100\n",
      "\u001b[1m128/128\u001b[0m \u001b[32m━━━━━━━━━━━━━━━━━━━━\u001b[0m\u001b[37m\u001b[0m \u001b[1m2s\u001b[0m 18ms/step - accuracy: 0.9672 - auc: 0.9974 - loss: 0.0875 - val_accuracy: 0.8140 - val_auc: 0.8940 - val_loss: 2.0774\n",
      "Epoch 83/100\n",
      "\u001b[1m128/128\u001b[0m \u001b[32m━━━━━━━━━━━━━━━━━━━━\u001b[0m\u001b[37m\u001b[0m \u001b[1m2s\u001b[0m 17ms/step - accuracy: 0.9708 - auc: 0.9981 - loss: 0.0789 - val_accuracy: 0.8048 - val_auc: 0.8906 - val_loss: 1.8128\n",
      "Epoch 84/100\n",
      "\u001b[1m128/128\u001b[0m \u001b[32m━━━━━━━━━━━━━━━━━━━━\u001b[0m\u001b[37m\u001b[0m \u001b[1m2s\u001b[0m 18ms/step - accuracy: 0.9771 - auc: 0.9989 - loss: 0.0649 - val_accuracy: 0.8088 - val_auc: 0.8953 - val_loss: 1.9071\n",
      "Epoch 85/100\n",
      "\u001b[1m128/128\u001b[0m \u001b[32m━━━━━━━━━━━━━━━━━━━━\u001b[0m\u001b[37m\u001b[0m \u001b[1m2s\u001b[0m 18ms/step - accuracy: 0.9754 - auc: 0.9984 - loss: 0.0685 - val_accuracy: 0.8175 - val_auc: 0.8945 - val_loss: 2.2654\n",
      "Epoch 86/100\n",
      "\u001b[1m128/128\u001b[0m \u001b[32m━━━━━━━━━━━━━━━━━━━━\u001b[0m\u001b[37m\u001b[0m \u001b[1m2s\u001b[0m 18ms/step - accuracy: 0.9830 - auc: 0.9992 - loss: 0.0457 - val_accuracy: 0.8039 - val_auc: 0.8912 - val_loss: 2.0151\n",
      "Epoch 87/100\n",
      "\u001b[1m128/128\u001b[0m \u001b[32m━━━━━━━━━━━━━━━━━━━━\u001b[0m\u001b[37m\u001b[0m \u001b[1m2s\u001b[0m 18ms/step - accuracy: 0.9682 - auc: 0.9978 - loss: 0.0834 - val_accuracy: 0.8039 - val_auc: 0.8912 - val_loss: 2.0738\n",
      "Epoch 88/100\n",
      "\u001b[1m128/128\u001b[0m \u001b[32m━━━━━━━━━━━━━━━━━━━━\u001b[0m\u001b[37m\u001b[0m \u001b[1m2s\u001b[0m 19ms/step - accuracy: 0.9799 - auc: 0.9987 - loss: 0.0587 - val_accuracy: 0.8114 - val_auc: 0.8947 - val_loss: 1.8953\n",
      "Epoch 89/100\n",
      "\u001b[1m128/128\u001b[0m \u001b[32m━━━━━━━━━━━━━━━━━━━━\u001b[0m\u001b[37m\u001b[0m \u001b[1m2s\u001b[0m 18ms/step - accuracy: 0.9765 - auc: 0.9989 - loss: 0.0628 - val_accuracy: 0.8075 - val_auc: 0.8950 - val_loss: 2.0314\n",
      "Epoch 90/100\n",
      "\u001b[1m128/128\u001b[0m \u001b[32m━━━━━━━━━━━━━━━━━━━━\u001b[0m\u001b[37m\u001b[0m \u001b[1m2s\u001b[0m 18ms/step - accuracy: 0.9823 - auc: 0.9990 - loss: 0.0523 - val_accuracy: 0.7899 - val_auc: 0.8854 - val_loss: 2.0442\n",
      "Epoch 91/100\n",
      "\u001b[1m128/128\u001b[0m \u001b[32m━━━━━━━━━━━━━━━━━━━━\u001b[0m\u001b[37m\u001b[0m \u001b[1m2s\u001b[0m 18ms/step - accuracy: 0.9829 - auc: 0.9993 - loss: 0.0491 - val_accuracy: 0.7925 - val_auc: 0.8884 - val_loss: 1.8658\n",
      "Epoch 92/100\n",
      "\u001b[1m128/128\u001b[0m \u001b[32m━━━━━━━━━━━━━━━━━━━━\u001b[0m\u001b[37m\u001b[0m \u001b[1m2s\u001b[0m 18ms/step - accuracy: 0.9820 - auc: 0.9988 - loss: 0.0579 - val_accuracy: 0.7816 - val_auc: 0.8895 - val_loss: 1.8711\n",
      "Epoch 93/100\n",
      "\u001b[1m128/128\u001b[0m \u001b[32m━━━━━━━━━━━━━━━━━━━━\u001b[0m\u001b[37m\u001b[0m \u001b[1m2s\u001b[0m 18ms/step - accuracy: 0.9826 - auc: 0.9985 - loss: 0.0568 - val_accuracy: 0.8057 - val_auc: 0.8923 - val_loss: 1.9164\n",
      "Epoch 94/100\n",
      "\u001b[1m128/128\u001b[0m \u001b[32m━━━━━━━━━━━━━━━━━━━━\u001b[0m\u001b[37m\u001b[0m \u001b[1m2s\u001b[0m 18ms/step - accuracy: 0.9868 - auc: 0.9994 - loss: 0.0434 - val_accuracy: 0.7732 - val_auc: 0.8810 - val_loss: 2.0237\n",
      "Epoch 95/100\n",
      "\u001b[1m128/128\u001b[0m \u001b[32m━━━━━━━━━━━━━━━━━━━━\u001b[0m\u001b[37m\u001b[0m \u001b[1m2s\u001b[0m 18ms/step - accuracy: 0.9817 - auc: 0.9987 - loss: 0.0564 - val_accuracy: 0.7816 - val_auc: 0.8840 - val_loss: 1.7998\n",
      "Epoch 96/100\n",
      "\u001b[1m128/128\u001b[0m \u001b[32m━━━━━━━━━━━━━━━━━━━━\u001b[0m\u001b[37m\u001b[0m \u001b[1m2s\u001b[0m 19ms/step - accuracy: 0.9875 - auc: 0.9994 - loss: 0.0439 - val_accuracy: 0.7789 - val_auc: 0.8792 - val_loss: 2.0590\n",
      "Epoch 97/100\n",
      "\u001b[1m128/128\u001b[0m \u001b[32m━━━━━━━━━━━━━━━━━━━━\u001b[0m\u001b[37m\u001b[0m \u001b[1m2s\u001b[0m 19ms/step - accuracy: 0.9942 - auc: 0.9999 - loss: 0.0226 - val_accuracy: 0.7846 - val_auc: 0.8823 - val_loss: 2.1131\n",
      "Epoch 98/100\n",
      "\u001b[1m128/128\u001b[0m \u001b[32m━━━━━━━━━━━━━━━━━━━━\u001b[0m\u001b[37m\u001b[0m \u001b[1m2s\u001b[0m 17ms/step - accuracy: 0.9936 - auc: 0.9996 - loss: 0.0255 - val_accuracy: 0.7921 - val_auc: 0.8834 - val_loss: 2.2205\n",
      "Epoch 99/100\n",
      "\u001b[1m128/128\u001b[0m \u001b[32m━━━━━━━━━━━━━━━━━━━━\u001b[0m\u001b[37m\u001b[0m \u001b[1m2s\u001b[0m 18ms/step - accuracy: 0.9843 - auc: 0.9992 - loss: 0.0454 - val_accuracy: 0.7965 - val_auc: 0.8849 - val_loss: 2.1310\n",
      "Epoch 100/100\n",
      "\u001b[1m128/128\u001b[0m \u001b[32m━━━━━━━━━━━━━━━━━━━━\u001b[0m\u001b[37m\u001b[0m \u001b[1m2s\u001b[0m 17ms/step - accuracy: 0.9695 - auc: 0.9964 - loss: 0.0953 - val_accuracy: 0.7965 - val_auc: 0.8893 - val_loss: 1.9366\n"
     ]
    },
    {
     "data": {
      "text/plain": [
       "<keras.src.callbacks.history.History at 0x203ab1a40d0>"
      ]
     },
     "execution_count": 14,
     "metadata": {},
     "output_type": "execute_result"
    }
   ],
   "source": [
    "# Construir el modelo LSTM\n",
    "model = Sequential()\n",
    "model.add(LSTM(144, activation='relu', input_shape=(timesteps, X_train.shape[1])))#, return_sequences=True))\n",
    "#model.add(LSTM(288, activation='relu'))\n",
    "model.add(Dense(72, activation='relu'))\n",
    "#model.add(Dense(72, activation='relu'))\n",
    "model.add(Dense(3, activation='softmax'))\n",
    "# Compilar el modelo\n",
    "model.compile(optimizer='adam', loss='categorical_crossentropy', metrics=['accuracy','auc'])\n",
    "\n",
    "# Entrenar el modelo\n",
    "model.fit(X_train_reshaped, y_train_categorical, epochs=100, batch_size=36,\n",
    "          validation_data=(X_test_reshaped, y_test_categorical))#, class_weight=class_weights_dict)\n"
   ]
  },
  {
   "cell_type": "code",
   "execution_count": 15,
   "metadata": {},
   "outputs": [],
   "source": [
    "# Guardar el modelo completo\n",
    "#model.save(f'entrenamientos/{nombre_csv}_modelo_entrenado.h5')\n"
   ]
  },
  {
   "cell_type": "code",
   "execution_count": 16,
   "metadata": {
    "colab": {
     "base_uri": "https://localhost:8080/"
    },
    "id": "Hq-cWmEVxsKB",
    "outputId": "da098090-b3eb-42be-e96f-728e1712343b"
   },
   "outputs": [
    {
     "name": "stdout",
     "output_type": "stream",
     "text": [
      "\u001b[1m72/72\u001b[0m \u001b[32m━━━━━━━━━━━━━━━━━━━━\u001b[0m\u001b[37m\u001b[0m \u001b[1m1s\u001b[0m 9ms/step\n",
      "{0: 1987, 1: 225, 2: 68}\n",
      "{0: 2044, 1: 179, 2: 57}\n"
     ]
    }
   ],
   "source": [
    "# Predecir las etiquetas para el conjunto de prueba\n",
    "y_pred_proba = model.predict(X_test_reshaped)\n",
    "y_pred = np.argmax(y_pred_proba, axis=1)\n",
    "# Contamos las ocurrencias de cada nivel de estrés\n",
    "valores_unicos, conteos = np.unique(y_test, return_counts=True)\n",
    "valores_unicos1, conteos1 = np.unique(y_pred, return_counts=True)\n",
    "# Combina los valores únicos y sus conteos en un diccionario para facilitar la visualización\n",
    "ocurrencias = dict(zip(valores_unicos, conteos))\n",
    "ocurrenciaspre = dict(zip(valores_unicos1, conteos1))\n",
    "# Mostramos el resultado\n",
    "#print(conteo_nivel_estres)\n",
    "print(ocurrencias)\n",
    "print(ocurrenciaspre)"
   ]
  },
  {
   "cell_type": "code",
   "execution_count": 17,
   "metadata": {},
   "outputs": [
    {
     "name": "stdout",
     "output_type": "stream",
     "text": [
      "Cantidad de coincidencias: 1816\n"
     ]
    }
   ],
   "source": [
    "# Comparar elemento por elemento\n",
    "resultado = y_test==y_pred\n",
    "conteo = np.sum(resultado)\n",
    "print(\"Cantidad de coincidencias:\", conteo)"
   ]
  },
  {
   "cell_type": "code",
   "execution_count": 18,
   "metadata": {},
   "outputs": [
    {
     "data": {
      "application/vnd.microsoft.datawrangler.viewer.v0+json": {
       "columns": [
        {
         "name": "index",
         "rawType": "int64",
         "type": "integer"
        },
        {
         "name": "reales",
         "rawType": "int64",
         "type": "integer"
        },
        {
         "name": "predichos",
         "rawType": "int64",
         "type": "integer"
        },
        {
         "name": "T/F",
         "rawType": "bool",
         "type": "boolean"
        }
       ],
       "conversionMethod": "pd.DataFrame",
       "ref": "3159d87a-8be3-4352-a8c7-a09d2a44a9df",
       "rows": [
        [
         "24",
         "0",
         "0",
         "True"
        ],
        [
         "25",
         "0",
         "0",
         "True"
        ],
        [
         "26",
         "0",
         "0",
         "True"
        ],
        [
         "27",
         "0",
         "0",
         "True"
        ],
        [
         "28",
         "0",
         "0",
         "True"
        ],
        [
         "29",
         "0",
         "0",
         "True"
        ],
        [
         "30",
         "0",
         "0",
         "True"
        ],
        [
         "31",
         "0",
         "0",
         "True"
        ],
        [
         "32",
         "0",
         "0",
         "True"
        ],
        [
         "33",
         "0",
         "0",
         "True"
        ],
        [
         "34",
         "0",
         "0",
         "True"
        ],
        [
         "35",
         "0",
         "0",
         "True"
        ],
        [
         "36",
         "0",
         "0",
         "True"
        ],
        [
         "37",
         "0",
         "0",
         "True"
        ],
        [
         "38",
         "0",
         "0",
         "True"
        ],
        [
         "39",
         "0",
         "0",
         "True"
        ],
        [
         "40",
         "0",
         "0",
         "True"
        ],
        [
         "41",
         "0",
         "0",
         "True"
        ],
        [
         "42",
         "0",
         "0",
         "True"
        ],
        [
         "43",
         "0",
         "0",
         "True"
        ],
        [
         "44",
         "0",
         "1",
         "False"
        ],
        [
         "45",
         "0",
         "0",
         "True"
        ],
        [
         "46",
         "0",
         "0",
         "True"
        ],
        [
         "47",
         "0",
         "0",
         "True"
        ],
        [
         "48",
         "0",
         "0",
         "True"
        ],
        [
         "49",
         "0",
         "0",
         "True"
        ],
        [
         "50",
         "0",
         "0",
         "True"
        ],
        [
         "51",
         "0",
         "0",
         "True"
        ],
        [
         "52",
         "0",
         "0",
         "True"
        ],
        [
         "53",
         "0",
         "1",
         "False"
        ],
        [
         "54",
         "0",
         "1",
         "False"
        ],
        [
         "55",
         "0",
         "0",
         "True"
        ],
        [
         "56",
         "0",
         "0",
         "True"
        ],
        [
         "57",
         "0",
         "0",
         "True"
        ],
        [
         "58",
         "0",
         "0",
         "True"
        ],
        [
         "59",
         "0",
         "0",
         "True"
        ],
        [
         "60",
         "0",
         "0",
         "True"
        ],
        [
         "61",
         "1",
         "0",
         "False"
        ],
        [
         "62",
         "0",
         "0",
         "True"
        ],
        [
         "63",
         "0",
         "0",
         "True"
        ],
        [
         "64",
         "0",
         "0",
         "True"
        ],
        [
         "65",
         "0",
         "0",
         "True"
        ],
        [
         "66",
         "1",
         "0",
         "False"
        ],
        [
         "67",
         "0",
         "0",
         "True"
        ],
        [
         "68",
         "1",
         "0",
         "False"
        ],
        [
         "69",
         "1",
         "0",
         "False"
        ],
        [
         "70",
         "1",
         "0",
         "False"
        ],
        [
         "71",
         "0",
         "0",
         "True"
        ],
        [
         "72",
         "0",
         "0",
         "True"
        ],
        [
         "73",
         "0",
         "0",
         "True"
        ]
       ],
       "shape": {
        "columns": 3,
        "rows": 2280
       }
      },
      "text/html": [
       "<div>\n",
       "<style scoped>\n",
       "    .dataframe tbody tr th:only-of-type {\n",
       "        vertical-align: middle;\n",
       "    }\n",
       "\n",
       "    .dataframe tbody tr th {\n",
       "        vertical-align: top;\n",
       "    }\n",
       "\n",
       "    .dataframe thead th {\n",
       "        text-align: right;\n",
       "    }\n",
       "</style>\n",
       "<table border=\"1\" class=\"dataframe\">\n",
       "  <thead>\n",
       "    <tr style=\"text-align: right;\">\n",
       "      <th></th>\n",
       "      <th>reales</th>\n",
       "      <th>predichos</th>\n",
       "      <th>T/F</th>\n",
       "    </tr>\n",
       "  </thead>\n",
       "  <tbody>\n",
       "    <tr>\n",
       "      <th>24</th>\n",
       "      <td>0</td>\n",
       "      <td>0</td>\n",
       "      <td>True</td>\n",
       "    </tr>\n",
       "    <tr>\n",
       "      <th>25</th>\n",
       "      <td>0</td>\n",
       "      <td>0</td>\n",
       "      <td>True</td>\n",
       "    </tr>\n",
       "    <tr>\n",
       "      <th>26</th>\n",
       "      <td>0</td>\n",
       "      <td>0</td>\n",
       "      <td>True</td>\n",
       "    </tr>\n",
       "    <tr>\n",
       "      <th>27</th>\n",
       "      <td>0</td>\n",
       "      <td>0</td>\n",
       "      <td>True</td>\n",
       "    </tr>\n",
       "    <tr>\n",
       "      <th>28</th>\n",
       "      <td>0</td>\n",
       "      <td>0</td>\n",
       "      <td>True</td>\n",
       "    </tr>\n",
       "    <tr>\n",
       "      <th>...</th>\n",
       "      <td>...</td>\n",
       "      <td>...</td>\n",
       "      <td>...</td>\n",
       "    </tr>\n",
       "    <tr>\n",
       "      <th>2299</th>\n",
       "      <td>0</td>\n",
       "      <td>0</td>\n",
       "      <td>True</td>\n",
       "    </tr>\n",
       "    <tr>\n",
       "      <th>2300</th>\n",
       "      <td>0</td>\n",
       "      <td>0</td>\n",
       "      <td>True</td>\n",
       "    </tr>\n",
       "    <tr>\n",
       "      <th>2301</th>\n",
       "      <td>0</td>\n",
       "      <td>0</td>\n",
       "      <td>True</td>\n",
       "    </tr>\n",
       "    <tr>\n",
       "      <th>2302</th>\n",
       "      <td>0</td>\n",
       "      <td>0</td>\n",
       "      <td>True</td>\n",
       "    </tr>\n",
       "    <tr>\n",
       "      <th>2303</th>\n",
       "      <td>0</td>\n",
       "      <td>0</td>\n",
       "      <td>True</td>\n",
       "    </tr>\n",
       "  </tbody>\n",
       "</table>\n",
       "<p>2280 rows × 3 columns</p>\n",
       "</div>"
      ],
      "text/plain": [
       "      reales  predichos   T/F\n",
       "24         0          0  True\n",
       "25         0          0  True\n",
       "26         0          0  True\n",
       "27         0          0  True\n",
       "28         0          0  True\n",
       "...      ...        ...   ...\n",
       "2299       0          0  True\n",
       "2300       0          0  True\n",
       "2301       0          0  True\n",
       "2302       0          0  True\n",
       "2303       0          0  True\n",
       "\n",
       "[2280 rows x 3 columns]"
      ]
     },
     "execution_count": 18,
     "metadata": {},
     "output_type": "execute_result"
    }
   ],
   "source": [
    "comparacion = pd.DataFrame({'reales':y_test,'predichos':y_pred,'T/F':resultado})\n",
    "comparacion"
   ]
  },
  {
   "cell_type": "markdown",
   "metadata": {
    "id": "r_WwX96g31SC"
   },
   "source": [
    "# EVALUACION DEL ALGORITMO"
   ]
  },
  {
   "cell_type": "code",
   "execution_count": 19,
   "metadata": {},
   "outputs": [
    {
     "name": "stdout",
     "output_type": "stream",
     "text": [
      "\u001b[1m72/72\u001b[0m \u001b[32m━━━━━━━━━━━━━━━━━━━━\u001b[0m\u001b[37m\u001b[0m \u001b[1m0s\u001b[0m 6ms/step - accuracy: 0.8148 - auc: 0.8976 - loss: 1.7907\n",
      "Acuracy: 0.7964912056922913\n",
      "AUC en prueba: 0.889286994934082\n"
     ]
    }
   ],
   "source": [
    "test_loss,test_acuracy, test_auc = model.evaluate(X_test_reshaped, y_test_categorical)\n",
    "print(f\"Acuracy: {test_acuracy}\")\n",
    "print(f\"AUC en prueba: {test_auc}\")"
   ]
  },
  {
   "cell_type": "code",
   "execution_count": 20,
   "metadata": {
    "colab": {
     "base_uri": "https://localhost:8080/"
    },
    "id": "OWISIj2Nx4KC",
    "outputId": "69dc4ea4-2114-458b-9b9b-093076faaf3e"
   },
   "outputs": [
    {
     "name": "stdout",
     "output_type": "stream",
     "text": [
      "Accuracy: 0.7964912280701755\n",
      "Precision: 0.7770005503363937\n",
      "Recall: 0.7964912280701755\n",
      "F1 Score: 0.7864522764581097\n",
      "ROC AUC: 0.5385591236597044\n"
     ]
    }
   ],
   "source": [
    "# EVALUACION DEL MODELO\n",
    "from sklearn.preprocessing import label_binarize\n",
    "y_pred2 = label_binarize(y_pred, classes=[0, 1, 2])\n",
    "# Calcular las métricas de evaluación\n",
    "accuracy = accuracy_score(y_test, y_pred)\n",
    "precision = precision_score(y_test, y_pred, average='weighted')\n",
    "recall = recall_score(y_test, y_pred, average='weighted')\n",
    "f1 = f1_score(y_test, y_pred, average='weighted')\n",
    "# Calcular el AUC\n",
    "roc_auc = roc_auc_score(y_test_categorical, y_pred_proba, multi_class='ovr')\n",
    "\n",
    "# Mostrar métricas\n",
    "print(\"Accuracy:\", accuracy)\n",
    "print(\"Precision:\", precision)\n",
    "print(\"Recall:\", recall)\n",
    "print(\"F1 Score:\", f1)\n",
    "print(\"ROC AUC:\", roc_auc)"
   ]
  },
  {
   "cell_type": "code",
   "execution_count": 21,
   "metadata": {},
   "outputs": [
    {
     "data": {
      "image/png": "[encoded data removed]",
      "text/plain": [
       "<Figure size 640x480 with 1 Axes>"
      ]
     },
     "metadata": {},
     "output_type": "display_data"
    }
   ],
   "source": [
    "fpr = {}\n",
    "tpr = {}\n",
    "roc_auc = {}\n",
    "\n",
    "for i in range(3):\n",
    "    fpr[i], tpr[i], _ = roc_curve(y_test_categorical[:, i], y_pred_proba[:, i])\n",
    "    roc_auc[i] = auc(fpr[i], tpr[i])\n",
    "\n",
    "# Graficar las curvas ROC\n",
    "plt.figure()\n",
    "for i in range(3):\n",
    "    plt.plot(fpr[i], tpr[i], label=f'Clase {i} (AUC = {roc_auc[i]:.2f})')\n",
    "\n",
    "# Extraer los valores\n",
    "values = roc_auc.values()\n",
    "# Calcular la media\n",
    "mean_auc = sum(values) / len(values)\n",
    "\n",
    "plt.plot([0, 1], [0, 1], 'b--', label=f\"Mean AUC = {mean_auc:.2f}\", alpha=0.5)\n",
    "plt.xlim([0.0, 1.0])\n",
    "plt.ylim([0.0, 1.05])\n",
    "plt.xlabel('Tasa de Falsos Positivos')\n",
    "plt.ylabel('Tasa de Verdaderos Positivos')\n",
    "plt.title('Curva ROC Multiclase')\n",
    "plt.legend(loc='lower right')\n",
    "plt.show()"
   ]
  }
 ],
 "metadata": {
  "colab": {
   "provenance": []
  },
  "kernelspec": {
   "display_name": "Python 3",
   "name": "python3"
  },
  "language_info": {
   "codemirror_mode": {
    "name": "ipython",
    "version": 3
   },
   "file_extension": ".py",
   "mimetype": "text/x-python",
   "name": "python",
   "nbconvert_exporter": "python",
   "pygments_lexer": "ipython3",
   "version": "3.11.0"
  }
 },
 "nbformat": 4,
 "nbformat_minor": 0
}
