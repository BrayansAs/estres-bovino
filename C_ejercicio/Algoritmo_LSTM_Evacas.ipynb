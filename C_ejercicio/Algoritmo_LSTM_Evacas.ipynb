{
 "cells": [
  {
   "cell_type": "markdown",
   "metadata": {
    "id": "VaDJ6NbM4R4c"
   },
   "source": [
    "## Algoritmo LSTM"
   ]
  },
  {
   "cell_type": "code",
   "execution_count": 9,
   "metadata": {
    "id": "s_sVYocgwqjC"
   },
   "outputs": [],
   "source": [
    "# Importar las bibliotecas necesarias\n",
    "import pandas as pd\n",
    "import numpy as np\n",
    "import matplotlib.pyplot as plt\n",
    "import plotly.graph_objects as go\n",
    "from collections import Counter\n",
    "from sklearn.metrics import accuracy_score, precision_score, recall_score, f1_score, roc_auc_score,roc_auc_score, roc_curve, auc\n",
    "from sklearn.preprocessing import StandardScaler, LabelEncoder\n",
    "from tensorflow.keras.models import Sequential\n",
    "from tensorflow.keras.layers import LSTM, Dense\n",
    "from tensorflow.keras.utils import to_categorical\n",
    "from collections import Counter"
   ]
  },
  {
   "cell_type": "code",
   "execution_count": 2,
   "metadata": {
    "collapsed": true,
    "id": "g8WDDqQaxRx4"
   },
   "outputs": [],
   "source": [
    "nombre_csv = 1\n",
    "de = pd.read_csv(f'Datos_entrenamiento/{nombre_csv}_e.csv')\n",
    "dp = pd.read_csv(f'Datos_prueba/{nombre_csv}_p.csv')"
   ]
  },
  {
   "cell_type": "markdown",
   "metadata": {},
   "source": [
    "# Procesamiento"
   ]
  },
  {
   "cell_type": "code",
   "execution_count": 3,
   "metadata": {
    "id": "tNzDx458xTz5"
   },
   "outputs": [
    {
     "name": "stdout",
     "output_type": "stream",
     "text": [
      "Nivel_estres_2\n",
      "normal     3600\n",
      "alerta      288\n",
      "peligro      48\n",
      "Name: count, dtype: int64\n",
      "Nivel_estres_2\n",
      "normal     2448\n",
      "alerta       24\n",
      "peligro      24\n",
      "Name: count, dtype: int64\n"
     ]
    }
   ],
   "source": [
    "# Contamos las ocurrencias de cada nivel de estrés en la nueva columna\n",
    "conteo_nivel_estresde = de['Nivel_estres_2'].value_counts()\n",
    "conteo_nivel_estresdp = dp['Nivel_estres_2'].value_counts()\n",
    "# Mostramos el resultado\n",
    "print(conteo_nivel_estresde)\n",
    "print(conteo_nivel_estresdp)"
   ]
  },
  {
   "cell_type": "code",
   "execution_count": 4,
   "metadata": {
    "id": "Xl9IHQwfxX6R"
   },
   "outputs": [],
   "source": [
    "# Crear un diccionario para mapear cada categoría única en la columna 'nivel_estres' a un número\n",
    "mapping = {'normal': 0, 'alerta': 1, 'peligro': 2}\n",
    "# Mapear las categorías a números utilizando el método map de pandas\n",
    "de['Nivel_estres_1'] = de['Nivel_estres_1'].map(mapping)\n",
    "dp['Nivel_estres_1'] = dp['Nivel_estres_1'].map(mapping)\n",
    "de['Nivel_estres_2'] = de['Nivel_estres_2'].map(mapping)\n",
    "dp['Nivel_estres_2'] = dp['Nivel_estres_2'].map(mapping)"
   ]
  },
  {
   "cell_type": "markdown",
   "metadata": {
    "id": "TVUnOhfZ1Ntc"
   },
   "source": [
    "# ALGORITMO DE LSTM"
   ]
  },
  {
   "cell_type": "code",
   "execution_count": 5,
   "metadata": {
    "id": "Lvzb3Kfcxe5h"
   },
   "outputs": [],
   "source": [
    "# Separar características y etiquetas del conjunto de entrenamiento\n",
    "X_train = de[['period eating','period other','period resting','period rumination']]\n",
    "y_train = de['Nivel_estres_1']\n",
    "# Separar características y etiquetas del conjunto de prueba\n",
    "X_test = dp[['period eating','period other','period resting','period rumination']]\n",
    "y_test = dp['Nivel_estres_1']"
   ]
  },
  {
   "cell_type": "code",
   "execution_count": 6,
   "metadata": {},
   "outputs": [],
   "source": [
    "# # Separar características y etiquetas del conjunto de entrenamiento\n",
    "# X_train = de[['period eating_count','period other_count','period resting_count','period rumination_count']]\n",
    "# y_train = de['Nivel_estres_2']\n",
    "# # Separar características y etiquetas del conjunto de prueba\n",
    "# X_test = dp[['period eating_count','period other_count','period resting_count','period rumination_count']]\n",
    "# y_test = dp['Nivel_estres_2']"
   ]
  },
  {
   "cell_type": "code",
   "execution_count": 7,
   "metadata": {
    "id": "juQN7hSuxhmY"
   },
   "outputs": [],
   "source": [
    "# Estandarizar las características\n",
    "scaler = StandardScaler()\n",
    "X_train_scaled = scaler.fit_transform(X_train)\n",
    "X_test_scaled = scaler.transform(X_test)\n",
    "# Convertir etiquetas a formato categórico\n",
    "y_train_categorical = to_categorical(y_train, num_classes=3)\n",
    "y_test_categorical = to_categorical(y_test, num_classes=3)"
   ]
  },
  {
   "cell_type": "code",
   "execution_count": 8,
   "metadata": {
    "id": "y48rGM_0xlNZ"
   },
   "outputs": [],
   "source": [
    "# Reshape de datos para LSTM (samples, timesteps, features)\n",
    "X_train_reshaped = X_train_scaled.reshape((X_train_scaled.shape[0], 1, X_train_scaled.shape[1]))\n",
    "X_test_reshaped = X_test_scaled.reshape((X_test_scaled.shape[0], 1, X_test_scaled.shape[1]))\n"
   ]
  },
  {
   "cell_type": "code",
   "execution_count": null,
   "metadata": {
    "id": "weTv5z_TxnD4"
   },
   "outputs": [
    {
     "name": "stderr",
     "output_type": "stream",
     "text": [
      "C:\\Users\\PC\\AppData\\Roaming\\Python\\Python311\\site-packages\\keras\\src\\layers\\rnn\\rnn.py:204: UserWarning: Do not pass an `input_shape`/`input_dim` argument to a layer. When using Sequential models, prefer using an `Input(shape)` object as the first layer in the model instead.\n",
      "  super().__init__(**kwargs)\n"
     ]
    }
   ],
   "source": [
    "# Construir el modelo LSTM\n",
    "model = Sequential()\n",
    "model.add(LSTM(80, activation='relu', input_shape=(24, X_train_scaled.shape[24])))\n",
    "model.add(LSTM(64, activation='relu'))\n",
    "model.add(Dense(32, activation='relu'))\n",
    "model.add(Dense(3, activation='softmax'))\n",
    "# Compilar el modelo\n",
    "model.compile(optimizer='adam', loss='categorical_crossentropy', metrics=['auc'])\n"
   ]
  },
  {
   "cell_type": "code",
   "execution_count": 10,
   "metadata": {
    "colab": {
     "base_uri": "https://localhost:8080/"
    },
    "id": "490PYEKHxqXo",
    "outputId": "81579542-1e5b-4f56-e9b9-ffdbb1642472"
   },
   "outputs": [
    {
     "name": "stdout",
     "output_type": "stream",
     "text": [
      "Epoch 1/50\n",
      "\u001b[1m164/164\u001b[0m \u001b[32m━━━━━━━━━━━━━━━━━━━━\u001b[0m\u001b[37m\u001b[0m \u001b[1m4s\u001b[0m 6ms/step - auc: 0.7378 - loss: 1.0051 - val_auc: 0.8468 - val_loss: 0.7283\n",
      "Epoch 2/50\n",
      "\u001b[1m164/164\u001b[0m \u001b[32m━━━━━━━━━━━━━━━━━━━━\u001b[0m\u001b[37m\u001b[0m \u001b[1m1s\u001b[0m 4ms/step - auc: 0.7959 - loss: 0.8152 - val_auc: 0.8553 - val_loss: 0.7002\n",
      "Epoch 3/50\n",
      "\u001b[1m164/164\u001b[0m \u001b[32m━━━━━━━━━━━━━━━━━━━━\u001b[0m\u001b[37m\u001b[0m \u001b[1m0s\u001b[0m 3ms/step - auc: 0.8022 - loss: 0.8051 - val_auc: 0.8579 - val_loss: 0.6923\n",
      "Epoch 4/50\n",
      "\u001b[1m164/164\u001b[0m \u001b[32m━━━━━━━━━━━━━━━━━━━━\u001b[0m\u001b[37m\u001b[0m \u001b[1m0s\u001b[0m 3ms/step - auc: 0.8142 - loss: 0.7843 - val_auc: 0.8587 - val_loss: 0.6912\n",
      "Epoch 5/50\n",
      "\u001b[1m164/164\u001b[0m \u001b[32m━━━━━━━━━━━━━━━━━━━━\u001b[0m\u001b[37m\u001b[0m \u001b[1m1s\u001b[0m 3ms/step - auc: 0.8090 - loss: 0.7914 - val_auc: 0.8590 - val_loss: 0.6859\n",
      "Epoch 6/50\n",
      "\u001b[1m164/164\u001b[0m \u001b[32m━━━━━━━━━━━━━━━━━━━━\u001b[0m\u001b[37m\u001b[0m \u001b[1m1s\u001b[0m 3ms/step - auc: 0.8072 - loss: 0.8049 - val_auc: 0.8593 - val_loss: 0.6809\n",
      "Epoch 7/50\n",
      "\u001b[1m164/164\u001b[0m \u001b[32m━━━━━━━━━━━━━━━━━━━━\u001b[0m\u001b[37m\u001b[0m \u001b[1m1s\u001b[0m 4ms/step - auc: 0.8141 - loss: 0.7892 - val_auc: 0.8596 - val_loss: 0.6847\n",
      "Epoch 8/50\n",
      "\u001b[1m164/164\u001b[0m \u001b[32m━━━━━━━━━━━━━━━━━━━━\u001b[0m\u001b[37m\u001b[0m \u001b[1m1s\u001b[0m 5ms/step - auc: 0.8117 - loss: 0.7875 - val_auc: 0.8593 - val_loss: 0.6831\n",
      "Epoch 9/50\n",
      "\u001b[1m164/164\u001b[0m \u001b[32m━━━━━━━━━━━━━━━━━━━━\u001b[0m\u001b[37m\u001b[0m \u001b[1m1s\u001b[0m 5ms/step - auc: 0.8184 - loss: 0.7834 - val_auc: 0.8597 - val_loss: 0.6841\n",
      "Epoch 10/50\n",
      "\u001b[1m164/164\u001b[0m \u001b[32m━━━━━━━━━━━━━━━━━━━━\u001b[0m\u001b[37m\u001b[0m \u001b[1m1s\u001b[0m 5ms/step - auc: 0.8079 - loss: 0.8018 - val_auc: 0.8578 - val_loss: 0.6814\n",
      "Epoch 11/50\n",
      "\u001b[1m164/164\u001b[0m \u001b[32m━━━━━━━━━━━━━━━━━━━━\u001b[0m\u001b[37m\u001b[0m \u001b[1m1s\u001b[0m 5ms/step - auc: 0.8201 - loss: 0.7809 - val_auc: 0.8593 - val_loss: 0.6811\n",
      "Epoch 12/50\n",
      "\u001b[1m164/164\u001b[0m \u001b[32m━━━━━━━━━━━━━━━━━━━━\u001b[0m\u001b[37m\u001b[0m \u001b[1m1s\u001b[0m 4ms/step - auc: 0.8217 - loss: 0.7782 - val_auc: 0.8579 - val_loss: 0.6863\n",
      "Epoch 13/50\n",
      "\u001b[1m164/164\u001b[0m \u001b[32m━━━━━━━━━━━━━━━━━━━━\u001b[0m\u001b[37m\u001b[0m \u001b[1m1s\u001b[0m 3ms/step - auc: 0.8247 - loss: 0.7710 - val_auc: 0.8578 - val_loss: 0.6860\n",
      "Epoch 14/50\n",
      "\u001b[1m164/164\u001b[0m \u001b[32m━━━━━━━━━━━━━━━━━━━━\u001b[0m\u001b[37m\u001b[0m \u001b[1m1s\u001b[0m 4ms/step - auc: 0.8154 - loss: 0.7867 - val_auc: 0.8585 - val_loss: 0.6867\n",
      "Epoch 15/50\n",
      "\u001b[1m164/164\u001b[0m \u001b[32m━━━━━━━━━━━━━━━━━━━━\u001b[0m\u001b[37m\u001b[0m \u001b[1m1s\u001b[0m 4ms/step - auc: 0.8191 - loss: 0.7903 - val_auc: 0.8595 - val_loss: 0.6810\n",
      "Epoch 16/50\n",
      "\u001b[1m164/164\u001b[0m \u001b[32m━━━━━━━━━━━━━━━━━━━━\u001b[0m\u001b[37m\u001b[0m \u001b[1m1s\u001b[0m 4ms/step - auc: 0.8211 - loss: 0.7796 - val_auc: 0.8582 - val_loss: 0.6891\n",
      "Epoch 17/50\n",
      "\u001b[1m164/164\u001b[0m \u001b[32m━━━━━━━━━━━━━━━━━━━━\u001b[0m\u001b[37m\u001b[0m \u001b[1m1s\u001b[0m 4ms/step - auc: 0.8249 - loss: 0.7666 - val_auc: 0.8592 - val_loss: 0.6823\n",
      "Epoch 18/50\n",
      "\u001b[1m164/164\u001b[0m \u001b[32m━━━━━━━━━━━━━━━━━━━━\u001b[0m\u001b[37m\u001b[0m \u001b[1m1s\u001b[0m 4ms/step - auc: 0.8169 - loss: 0.7861 - val_auc: 0.8588 - val_loss: 0.6826\n",
      "Epoch 19/50\n",
      "\u001b[1m164/164\u001b[0m \u001b[32m━━━━━━━━━━━━━━━━━━━━\u001b[0m\u001b[37m\u001b[0m \u001b[1m1s\u001b[0m 3ms/step - auc: 0.8180 - loss: 0.7905 - val_auc: 0.8591 - val_loss: 0.6843\n",
      "Epoch 20/50\n",
      "\u001b[1m164/164\u001b[0m \u001b[32m━━━━━━━━━━━━━━━━━━━━\u001b[0m\u001b[37m\u001b[0m \u001b[1m1s\u001b[0m 3ms/step - auc: 0.8142 - loss: 0.7960 - val_auc: 0.8593 - val_loss: 0.6809\n",
      "Epoch 21/50\n",
      "\u001b[1m164/164\u001b[0m \u001b[32m━━━━━━━━━━━━━━━━━━━━\u001b[0m\u001b[37m\u001b[0m \u001b[1m1s\u001b[0m 3ms/step - auc: 0.8190 - loss: 0.7843 - val_auc: 0.8587 - val_loss: 0.6838\n",
      "Epoch 22/50\n",
      "\u001b[1m164/164\u001b[0m \u001b[32m━━━━━━━━━━━━━━━━━━━━\u001b[0m\u001b[37m\u001b[0m \u001b[1m1s\u001b[0m 4ms/step - auc: 0.8231 - loss: 0.7779 - val_auc: 0.8592 - val_loss: 0.6823\n",
      "Epoch 23/50\n",
      "\u001b[1m164/164\u001b[0m \u001b[32m━━━━━━━━━━━━━━━━━━━━\u001b[0m\u001b[37m\u001b[0m \u001b[1m1s\u001b[0m 3ms/step - auc: 0.8243 - loss: 0.7716 - val_auc: 0.8581 - val_loss: 0.6856\n",
      "Epoch 24/50\n",
      "\u001b[1m164/164\u001b[0m \u001b[32m━━━━━━━━━━━━━━━━━━━━\u001b[0m\u001b[37m\u001b[0m \u001b[1m1s\u001b[0m 3ms/step - auc: 0.8237 - loss: 0.7746 - val_auc: 0.8582 - val_loss: 0.6865\n",
      "Epoch 25/50\n",
      "\u001b[1m164/164\u001b[0m \u001b[32m━━━━━━━━━━━━━━━━━━━━\u001b[0m\u001b[37m\u001b[0m \u001b[1m1s\u001b[0m 3ms/step - auc: 0.8236 - loss: 0.7736 - val_auc: 0.8589 - val_loss: 0.6842\n",
      "Epoch 26/50\n",
      "\u001b[1m164/164\u001b[0m \u001b[32m━━━━━━━━━━━━━━━━━━━━\u001b[0m\u001b[37m\u001b[0m \u001b[1m1s\u001b[0m 4ms/step - auc: 0.8309 - loss: 0.7566 - val_auc: 0.8581 - val_loss: 0.6916\n",
      "Epoch 27/50\n",
      "\u001b[1m164/164\u001b[0m \u001b[32m━━━━━━━━━━━━━━━━━━━━\u001b[0m\u001b[37m\u001b[0m \u001b[1m1s\u001b[0m 3ms/step - auc: 0.8214 - loss: 0.7761 - val_auc: 0.8593 - val_loss: 0.6834\n",
      "Epoch 28/50\n",
      "\u001b[1m164/164\u001b[0m \u001b[32m━━━━━━━━━━━━━━━━━━━━\u001b[0m\u001b[37m\u001b[0m \u001b[1m1s\u001b[0m 3ms/step - auc: 0.8135 - loss: 0.7973 - val_auc: 0.8594 - val_loss: 0.6799\n",
      "Epoch 29/50\n",
      "\u001b[1m164/164\u001b[0m \u001b[32m━━━━━━━━━━━━━━━━━━━━\u001b[0m\u001b[37m\u001b[0m \u001b[1m1s\u001b[0m 3ms/step - auc: 0.8216 - loss: 0.7803 - val_auc: 0.8580 - val_loss: 0.6858\n",
      "Epoch 30/50\n",
      "\u001b[1m164/164\u001b[0m \u001b[32m━━━━━━━━━━━━━━━━━━━━\u001b[0m\u001b[37m\u001b[0m \u001b[1m1s\u001b[0m 4ms/step - auc: 0.8276 - loss: 0.7672 - val_auc: 0.8585 - val_loss: 0.6881\n",
      "Epoch 31/50\n",
      "\u001b[1m164/164\u001b[0m \u001b[32m━━━━━━━━━━━━━━━━━━━━\u001b[0m\u001b[37m\u001b[0m \u001b[1m1s\u001b[0m 4ms/step - auc: 0.8251 - loss: 0.7745 - val_auc: 0.8590 - val_loss: 0.6840\n",
      "Epoch 32/50\n",
      "\u001b[1m164/164\u001b[0m \u001b[32m━━━━━━━━━━━━━━━━━━━━\u001b[0m\u001b[37m\u001b[0m \u001b[1m1s\u001b[0m 3ms/step - auc: 0.8201 - loss: 0.7828 - val_auc: 0.8591 - val_loss: 0.6830\n",
      "Epoch 33/50\n",
      "\u001b[1m164/164\u001b[0m \u001b[32m━━━━━━━━━━━━━━━━━━━━\u001b[0m\u001b[37m\u001b[0m \u001b[1m1s\u001b[0m 3ms/step - auc: 0.8194 - loss: 0.7851 - val_auc: 0.8592 - val_loss: 0.6836\n",
      "Epoch 34/50\n",
      "\u001b[1m164/164\u001b[0m \u001b[32m━━━━━━━━━━━━━━━━━━━━\u001b[0m\u001b[37m\u001b[0m \u001b[1m1s\u001b[0m 3ms/step - auc: 0.8240 - loss: 0.7700 - val_auc: 0.8591 - val_loss: 0.6858\n",
      "Epoch 35/50\n",
      "\u001b[1m164/164\u001b[0m \u001b[32m━━━━━━━━━━━━━━━━━━━━\u001b[0m\u001b[37m\u001b[0m \u001b[1m1s\u001b[0m 3ms/step - auc: 0.8318 - loss: 0.7595 - val_auc: 0.8593 - val_loss: 0.6823\n",
      "Epoch 36/50\n",
      "\u001b[1m164/164\u001b[0m \u001b[32m━━━━━━━━━━━━━━━━━━━━\u001b[0m\u001b[37m\u001b[0m \u001b[1m1s\u001b[0m 3ms/step - auc: 0.8242 - loss: 0.7783 - val_auc: 0.8585 - val_loss: 0.6850\n",
      "Epoch 37/50\n",
      "\u001b[1m164/164\u001b[0m \u001b[32m━━━━━━━━━━━━━━━━━━━━\u001b[0m\u001b[37m\u001b[0m \u001b[1m1s\u001b[0m 3ms/step - auc: 0.8243 - loss: 0.7738 - val_auc: 0.8582 - val_loss: 0.6858\n",
      "Epoch 38/50\n",
      "\u001b[1m164/164\u001b[0m \u001b[32m━━━━━━━━━━━━━━━━━━━━\u001b[0m\u001b[37m\u001b[0m \u001b[1m1s\u001b[0m 3ms/step - auc: 0.8245 - loss: 0.7696 - val_auc: 0.8594 - val_loss: 0.6829\n",
      "Epoch 39/50\n",
      "\u001b[1m164/164\u001b[0m \u001b[32m━━━━━━━━━━━━━━━━━━━━\u001b[0m\u001b[37m\u001b[0m \u001b[1m1s\u001b[0m 3ms/step - auc: 0.8194 - loss: 0.7851 - val_auc: 0.8594 - val_loss: 0.6819\n",
      "Epoch 40/50\n",
      "\u001b[1m164/164\u001b[0m \u001b[32m━━━━━━━━━━━━━━━━━━━━\u001b[0m\u001b[37m\u001b[0m \u001b[1m1s\u001b[0m 4ms/step - auc: 0.8341 - loss: 0.7562 - val_auc: 0.8590 - val_loss: 0.6890\n",
      "Epoch 41/50\n",
      "\u001b[1m164/164\u001b[0m \u001b[32m━━━━━━━━━━━━━━━━━━━━\u001b[0m\u001b[37m\u001b[0m \u001b[1m1s\u001b[0m 4ms/step - auc: 0.8239 - loss: 0.7677 - val_auc: 0.8594 - val_loss: 0.6841\n",
      "Epoch 42/50\n",
      "\u001b[1m164/164\u001b[0m \u001b[32m━━━━━━━━━━━━━━━━━━━━\u001b[0m\u001b[37m\u001b[0m \u001b[1m1s\u001b[0m 4ms/step - auc: 0.8205 - loss: 0.7849 - val_auc: 0.8585 - val_loss: 0.6842\n",
      "Epoch 43/50\n",
      "\u001b[1m164/164\u001b[0m \u001b[32m━━━━━━━━━━━━━━━━━━━━\u001b[0m\u001b[37m\u001b[0m \u001b[1m1s\u001b[0m 3ms/step - auc: 0.8197 - loss: 0.7815 - val_auc: 0.8596 - val_loss: 0.6836\n",
      "Epoch 44/50\n",
      "\u001b[1m164/164\u001b[0m \u001b[32m━━━━━━━━━━━━━━━━━━━━\u001b[0m\u001b[37m\u001b[0m \u001b[1m1s\u001b[0m 5ms/step - auc: 0.8203 - loss: 0.7843 - val_auc: 0.8584 - val_loss: 0.6836\n",
      "Epoch 45/50\n",
      "\u001b[1m164/164\u001b[0m \u001b[32m━━━━━━━━━━━━━━━━━━━━\u001b[0m\u001b[37m\u001b[0m \u001b[1m1s\u001b[0m 4ms/step - auc: 0.8173 - loss: 0.7904 - val_auc: 0.8591 - val_loss: 0.6810\n",
      "Epoch 46/50\n",
      "\u001b[1m164/164\u001b[0m \u001b[32m━━━━━━━━━━━━━━━━━━━━\u001b[0m\u001b[37m\u001b[0m \u001b[1m1s\u001b[0m 4ms/step - auc: 0.8252 - loss: 0.7726 - val_auc: 0.8577 - val_loss: 0.6889\n",
      "Epoch 47/50\n",
      "\u001b[1m164/164\u001b[0m \u001b[32m━━━━━━━━━━━━━━━━━━━━\u001b[0m\u001b[37m\u001b[0m \u001b[1m1s\u001b[0m 3ms/step - auc: 0.8223 - loss: 0.7807 - val_auc: 0.8590 - val_loss: 0.6832\n",
      "Epoch 48/50\n",
      "\u001b[1m164/164\u001b[0m \u001b[32m━━━━━━━━━━━━━━━━━━━━\u001b[0m\u001b[37m\u001b[0m \u001b[1m1s\u001b[0m 3ms/step - auc: 0.8149 - loss: 0.7947 - val_auc: 0.8591 - val_loss: 0.6839\n",
      "Epoch 49/50\n",
      "\u001b[1m164/164\u001b[0m \u001b[32m━━━━━━━━━━━━━━━━━━━━\u001b[0m\u001b[37m\u001b[0m \u001b[1m1s\u001b[0m 5ms/step - auc: 0.8211 - loss: 0.7838 - val_auc: 0.8583 - val_loss: 0.6842\n",
      "Epoch 50/50\n",
      "\u001b[1m164/164\u001b[0m \u001b[32m━━━━━━━━━━━━━━━━━━━━\u001b[0m\u001b[37m\u001b[0m \u001b[1m1s\u001b[0m 3ms/step - auc: 0.8276 - loss: 0.7679 - val_auc: 0.8592 - val_loss: 0.6845\n"
     ]
    },
    {
     "data": {
      "text/plain": [
       "<keras.src.callbacks.history.History at 0x158853935d0>"
      ]
     },
     "execution_count": 10,
     "metadata": {},
     "output_type": "execute_result"
    }
   ],
   "source": [
    "# Entrenar el modelo\n",
    "model.fit(X_train_reshaped, y_train_categorical, epochs=50, batch_size=24, validation_data=(X_test_reshaped, y_test_categorical))\n"
   ]
  },
  {
   "cell_type": "code",
   "execution_count": 11,
   "metadata": {
    "colab": {
     "base_uri": "https://localhost:8080/"
    },
    "id": "Hq-cWmEVxsKB",
    "outputId": "da098090-b3eb-42be-e96f-728e1712343b"
   },
   "outputs": [
    {
     "name": "stdout",
     "output_type": "stream",
     "text": [
      "\u001b[1m78/78\u001b[0m \u001b[32m━━━━━━━━━━━━━━━━━━━━\u001b[0m\u001b[37m\u001b[0m \u001b[1m0s\u001b[0m 2ms/step\n"
     ]
    }
   ],
   "source": [
    "# Predecir las etiquetas para el conjunto de prueba\n",
    "y_pred_proba = model.predict(X_test_reshaped)\n",
    "y_pred = np.argmax(y_pred_proba, axis=1)"
   ]
  },
  {
   "cell_type": "code",
   "execution_count": 12,
   "metadata": {},
   "outputs": [
    {
     "name": "stdout",
     "output_type": "stream",
     "text": [
      "{0: 1896, 1: 480, 2: 120}\n",
      "{0: 2496}\n"
     ]
    }
   ],
   "source": [
    "# Contamos las ocurrencias de cada nivel de estrés\n",
    "valores_unicos, conteos = np.unique(y_test, return_counts=True)\n",
    "valores_unicos1, conteos1 = np.unique(y_pred, return_counts=True)\n",
    "# Combina los valores únicos y sus conteos en un diccionario para facilitar la visualización\n",
    "ocurrencias = dict(zip(valores_unicos, conteos))\n",
    "ocurrenciaspre = dict(zip(valores_unicos1, conteos1))\n",
    "# Mostramos el resultado\n",
    "#print(conteo_nivel_estres)\n",
    "print(ocurrencias)\n",
    "print(ocurrenciaspre)"
   ]
  },
  {
   "cell_type": "markdown",
   "metadata": {
    "id": "r_WwX96g31SC"
   },
   "source": [
    "# EVALUACION DEL ALGORITMO"
   ]
  },
  {
   "cell_type": "code",
   "execution_count": 10,
   "metadata": {
    "colab": {
     "base_uri": "https://localhost:8080/"
    },
    "id": "OWISIj2Nx4KC",
    "outputId": "69dc4ea4-2114-458b-9b9b-093076faaf3e"
   },
   "outputs": [
    {
     "ename": "ValueError",
     "evalue": "Found input variables with inconsistent numbers of samples: [2472, 2496]",
     "output_type": "error",
     "traceback": [
      "\u001b[1;31m---------------------------------------------------------------------------\u001b[0m",
      "\u001b[1;31mValueError\u001b[0m                                Traceback (most recent call last)",
      "Cell \u001b[1;32mIn[10], line 5\u001b[0m\n\u001b[0;32m      2\u001b[0m \u001b[38;5;28;01mfrom\u001b[39;00m \u001b[38;5;21;01msklearn\u001b[39;00m\u001b[38;5;21;01m.\u001b[39;00m\u001b[38;5;21;01mpreprocessing\u001b[39;00m \u001b[38;5;28;01mimport\u001b[39;00m label_binarize\n\u001b[0;32m      4\u001b[0m \u001b[38;5;66;03m# Calcular las métricas de evaluación\u001b[39;00m\n\u001b[1;32m----> 5\u001b[0m accuracy \u001b[38;5;241m=\u001b[39m \u001b[43maccuracy_score\u001b[49m\u001b[43m(\u001b[49m\u001b[43my_test\u001b[49m\u001b[43m,\u001b[49m\u001b[43m \u001b[49m\u001b[43my_pred\u001b[49m\u001b[43m)\u001b[49m\n\u001b[0;32m      6\u001b[0m precision \u001b[38;5;241m=\u001b[39m precision_score(y_test, y_pred, average\u001b[38;5;241m=\u001b[39m\u001b[38;5;124m'\u001b[39m\u001b[38;5;124mweighted\u001b[39m\u001b[38;5;124m'\u001b[39m)\n\u001b[0;32m      7\u001b[0m recall \u001b[38;5;241m=\u001b[39m recall_score(y_test, y_pred, average\u001b[38;5;241m=\u001b[39m\u001b[38;5;124m'\u001b[39m\u001b[38;5;124mweighted\u001b[39m\u001b[38;5;124m'\u001b[39m)\n",
      "File \u001b[1;32mc:\\Users\\PC\\AppData\\Local\\Programs\\Python\\Python311\\Lib\\site-packages\\sklearn\\utils\\_param_validation.py:213\u001b[0m, in \u001b[0;36mvalidate_params.<locals>.decorator.<locals>.wrapper\u001b[1;34m(*args, **kwargs)\u001b[0m\n\u001b[0;32m    207\u001b[0m \u001b[38;5;28;01mtry\u001b[39;00m:\n\u001b[0;32m    208\u001b[0m     \u001b[38;5;28;01mwith\u001b[39;00m config_context(\n\u001b[0;32m    209\u001b[0m         skip_parameter_validation\u001b[38;5;241m=\u001b[39m(\n\u001b[0;32m    210\u001b[0m             prefer_skip_nested_validation \u001b[38;5;129;01mor\u001b[39;00m global_skip_validation\n\u001b[0;32m    211\u001b[0m         )\n\u001b[0;32m    212\u001b[0m     ):\n\u001b[1;32m--> 213\u001b[0m         \u001b[38;5;28;01mreturn\u001b[39;00m \u001b[43mfunc\u001b[49m\u001b[43m(\u001b[49m\u001b[38;5;241;43m*\u001b[39;49m\u001b[43margs\u001b[49m\u001b[43m,\u001b[49m\u001b[43m \u001b[49m\u001b[38;5;241;43m*\u001b[39;49m\u001b[38;5;241;43m*\u001b[39;49m\u001b[43mkwargs\u001b[49m\u001b[43m)\u001b[49m\n\u001b[0;32m    214\u001b[0m \u001b[38;5;28;01mexcept\u001b[39;00m InvalidParameterError \u001b[38;5;28;01mas\u001b[39;00m e:\n\u001b[0;32m    215\u001b[0m     \u001b[38;5;66;03m# When the function is just a wrapper around an estimator, we allow\u001b[39;00m\n\u001b[0;32m    216\u001b[0m     \u001b[38;5;66;03m# the function to delegate validation to the estimator, but we replace\u001b[39;00m\n\u001b[0;32m    217\u001b[0m     \u001b[38;5;66;03m# the name of the estimator by the name of the function in the error\u001b[39;00m\n\u001b[0;32m    218\u001b[0m     \u001b[38;5;66;03m# message to avoid confusion.\u001b[39;00m\n\u001b[0;32m    219\u001b[0m     msg \u001b[38;5;241m=\u001b[39m re\u001b[38;5;241m.\u001b[39msub(\n\u001b[0;32m    220\u001b[0m         \u001b[38;5;124mr\u001b[39m\u001b[38;5;124m\"\u001b[39m\u001b[38;5;124mparameter of \u001b[39m\u001b[38;5;124m\\\u001b[39m\u001b[38;5;124mw+ must be\u001b[39m\u001b[38;5;124m\"\u001b[39m,\n\u001b[0;32m    221\u001b[0m         \u001b[38;5;124mf\u001b[39m\u001b[38;5;124m\"\u001b[39m\u001b[38;5;124mparameter of \u001b[39m\u001b[38;5;132;01m{\u001b[39;00mfunc\u001b[38;5;241m.\u001b[39m\u001b[38;5;18m__qualname__\u001b[39m\u001b[38;5;132;01m}\u001b[39;00m\u001b[38;5;124m must be\u001b[39m\u001b[38;5;124m\"\u001b[39m,\n\u001b[0;32m    222\u001b[0m         \u001b[38;5;28mstr\u001b[39m(e),\n\u001b[0;32m    223\u001b[0m     )\n",
      "File \u001b[1;32mc:\\Users\\PC\\AppData\\Local\\Programs\\Python\\Python311\\Lib\\site-packages\\sklearn\\metrics\\_classification.py:231\u001b[0m, in \u001b[0;36maccuracy_score\u001b[1;34m(y_true, y_pred, normalize, sample_weight)\u001b[0m\n\u001b[0;32m    229\u001b[0m xp, _, device \u001b[38;5;241m=\u001b[39m get_namespace_and_device(y_true, y_pred, sample_weight)\n\u001b[0;32m    230\u001b[0m \u001b[38;5;66;03m# Compute accuracy for each possible representation\u001b[39;00m\n\u001b[1;32m--> 231\u001b[0m y_type, y_true, y_pred \u001b[38;5;241m=\u001b[39m \u001b[43m_check_targets\u001b[49m\u001b[43m(\u001b[49m\u001b[43my_true\u001b[49m\u001b[43m,\u001b[49m\u001b[43m \u001b[49m\u001b[43my_pred\u001b[49m\u001b[43m)\u001b[49m\n\u001b[0;32m    232\u001b[0m check_consistent_length(y_true, y_pred, sample_weight)\n\u001b[0;32m    233\u001b[0m \u001b[38;5;28;01mif\u001b[39;00m y_type\u001b[38;5;241m.\u001b[39mstartswith(\u001b[38;5;124m\"\u001b[39m\u001b[38;5;124mmultilabel\u001b[39m\u001b[38;5;124m\"\u001b[39m):\n",
      "File \u001b[1;32mc:\\Users\\PC\\AppData\\Local\\Programs\\Python\\Python311\\Lib\\site-packages\\sklearn\\metrics\\_classification.py:103\u001b[0m, in \u001b[0;36m_check_targets\u001b[1;34m(y_true, y_pred)\u001b[0m\n\u001b[0;32m     76\u001b[0m \u001b[38;5;250m\u001b[39m\u001b[38;5;124;03m\"\"\"Check that y_true and y_pred belong to the same classification task.\u001b[39;00m\n\u001b[0;32m     77\u001b[0m \n\u001b[0;32m     78\u001b[0m \u001b[38;5;124;03mThis converts multiclass or binary types to a common shape, and raises a\u001b[39;00m\n\u001b[1;32m   (...)\u001b[0m\n\u001b[0;32m    100\u001b[0m \u001b[38;5;124;03my_pred : array or indicator matrix\u001b[39;00m\n\u001b[0;32m    101\u001b[0m \u001b[38;5;124;03m\"\"\"\u001b[39;00m\n\u001b[0;32m    102\u001b[0m xp, _ \u001b[38;5;241m=\u001b[39m get_namespace(y_true, y_pred)\n\u001b[1;32m--> 103\u001b[0m \u001b[43mcheck_consistent_length\u001b[49m\u001b[43m(\u001b[49m\u001b[43my_true\u001b[49m\u001b[43m,\u001b[49m\u001b[43m \u001b[49m\u001b[43my_pred\u001b[49m\u001b[43m)\u001b[49m\n\u001b[0;32m    104\u001b[0m type_true \u001b[38;5;241m=\u001b[39m type_of_target(y_true, input_name\u001b[38;5;241m=\u001b[39m\u001b[38;5;124m\"\u001b[39m\u001b[38;5;124my_true\u001b[39m\u001b[38;5;124m\"\u001b[39m)\n\u001b[0;32m    105\u001b[0m type_pred \u001b[38;5;241m=\u001b[39m type_of_target(y_pred, input_name\u001b[38;5;241m=\u001b[39m\u001b[38;5;124m\"\u001b[39m\u001b[38;5;124my_pred\u001b[39m\u001b[38;5;124m\"\u001b[39m)\n",
      "File \u001b[1;32mc:\\Users\\PC\\AppData\\Local\\Programs\\Python\\Python311\\Lib\\site-packages\\sklearn\\utils\\validation.py:457\u001b[0m, in \u001b[0;36mcheck_consistent_length\u001b[1;34m(*arrays)\u001b[0m\n\u001b[0;32m    455\u001b[0m uniques \u001b[38;5;241m=\u001b[39m np\u001b[38;5;241m.\u001b[39munique(lengths)\n\u001b[0;32m    456\u001b[0m \u001b[38;5;28;01mif\u001b[39;00m \u001b[38;5;28mlen\u001b[39m(uniques) \u001b[38;5;241m>\u001b[39m \u001b[38;5;241m1\u001b[39m:\n\u001b[1;32m--> 457\u001b[0m     \u001b[38;5;28;01mraise\u001b[39;00m \u001b[38;5;167;01mValueError\u001b[39;00m(\n\u001b[0;32m    458\u001b[0m         \u001b[38;5;124m\"\u001b[39m\u001b[38;5;124mFound input variables with inconsistent numbers of samples: \u001b[39m\u001b[38;5;132;01m%r\u001b[39;00m\u001b[38;5;124m\"\u001b[39m\n\u001b[0;32m    459\u001b[0m         \u001b[38;5;241m%\u001b[39m [\u001b[38;5;28mint\u001b[39m(l) \u001b[38;5;28;01mfor\u001b[39;00m l \u001b[38;5;129;01min\u001b[39;00m lengths]\n\u001b[0;32m    460\u001b[0m     )\n",
      "\u001b[1;31mValueError\u001b[0m: Found input variables with inconsistent numbers of samples: [2472, 2496]"
     ]
    }
   ],
   "source": [
    "# EVALUACION DEL MODELO\n",
    "from sklearn.preprocessing import label_binarize\n",
    "\n",
    "# Calcular las métricas de evaluación\n",
    "accuracy = accuracy_score(y_test, y_pred)\n",
    "precision = precision_score(y_test, y_pred, average='weighted')\n",
    "recall = recall_score(y_test, y_pred, average='weighted')\n",
    "f1 = f1_score(y_test, y_pred, average='weighted')\n",
    "\n",
    "y_test_binarized = label_binarize(y_test, classes=[0, 1, 2])\n",
    "\n",
    "# Calcular el AUC\n",
    "roc_auc = roc_auc_score(y_test_binarized, y_pred_proba, multi_class='ovo')\n",
    "\n",
    "# Mostrar métricas\n",
    "print(\"Accuracy:\", accuracy)\n",
    "print(\"Precision:\", precision)\n",
    "print(\"Recall:\", recall)\n",
    "print(\"F1 Score:\", f1)\n",
    "print(\"ROC AUC:\", roc_auc)"
   ]
  },
  {
   "cell_type": "code",
   "execution_count": 11,
   "metadata": {},
   "outputs": [
    {
     "ename": "NameError",
     "evalue": "name 'y_test_binarized' is not defined",
     "output_type": "error",
     "traceback": [
      "\u001b[1;31m---------------------------------------------------------------------------\u001b[0m",
      "\u001b[1;31mNameError\u001b[0m                                 Traceback (most recent call last)",
      "Cell \u001b[1;32mIn[11], line 6\u001b[0m\n\u001b[0;32m      3\u001b[0m roc_auc \u001b[38;5;241m=\u001b[39m {}\n\u001b[0;32m      5\u001b[0m \u001b[38;5;28;01mfor\u001b[39;00m i \u001b[38;5;129;01min\u001b[39;00m \u001b[38;5;28mrange\u001b[39m(\u001b[38;5;241m3\u001b[39m):\n\u001b[1;32m----> 6\u001b[0m     fpr[i], tpr[i], _ \u001b[38;5;241m=\u001b[39m roc_curve(\u001b[43my_test_binarized\u001b[49m[:, i], y_pred_proba[:, i])\n\u001b[0;32m      7\u001b[0m     roc_auc[i] \u001b[38;5;241m=\u001b[39m auc(fpr[i], tpr[i])\n\u001b[0;32m      9\u001b[0m \u001b[38;5;66;03m# Graficar las curvas ROC\u001b[39;00m\n",
      "\u001b[1;31mNameError\u001b[0m: name 'y_test_binarized' is not defined"
     ]
    }
   ],
   "source": [
    "fpr = {}\n",
    "tpr = {}\n",
    "roc_auc = {}\n",
    "\n",
    "for i in range(3):\n",
    "    fpr[i], tpr[i], _ = roc_curve(y_test_binarized[:, i], y_pred_proba[:, i])\n",
    "    roc_auc[i] = auc(fpr[i], tpr[i])\n",
    "\n",
    "# Graficar las curvas ROC\n",
    "plt.figure()\n",
    "for i in range(3):\n",
    "    plt.plot(fpr[i], tpr[i], label=f'Clase {i} (AUC = {roc_auc[i]:.2f})')\n",
    "\n",
    "# Extraer los valores\n",
    "values = roc_auc.values()\n",
    "# Calcular la media\n",
    "mean_auc = sum(values) / len(values)\n",
    "\n",
    "plt.plot([0, 1], [0, 1], 'b--', label=f\"Mean AUC = {mean_auc:.2f}\", alpha=0.5)\n",
    "plt.xlim([0.0, 1.0])\n",
    "plt.ylim([0.0, 1.05])\n",
    "plt.xlabel('Tasa de Falsos Positivos')\n",
    "plt.ylabel('Tasa de Verdaderos Positivos')\n",
    "plt.title('Curva ROC Multiclase')\n",
    "plt.legend(loc='lower right')\n",
    "#plt.savefig(f'../Curva_Roc/{nombre_csv}_roc_LSTM.png', format='png', dpi=300)\n",
    "plt.show()"
   ]
  },
  {
   "cell_type": "code",
   "execution_count": 2,
   "metadata": {},
   "outputs": [
    {
     "name": "stderr",
     "output_type": "stream",
     "text": [
      "C:\\Users\\PC\\AppData\\Roaming\\Python\\Python311\\site-packages\\keras\\src\\layers\\rnn\\rnn.py:204: UserWarning: Do not pass an `input_shape`/`input_dim` argument to a layer. When using Sequential models, prefer using an `Input(shape)` object as the first layer in the model instead.\n",
      "  super().__init__(**kwargs)\n"
     ]
    },
    {
     "name": "stdout",
     "output_type": "stream",
     "text": [
      "Epoch 1/50\n",
      "\u001b[1m163/163\u001b[0m \u001b[32m━━━━━━━━━━━━━━━━━━━━\u001b[0m\u001b[37m\u001b[0m \u001b[1m6s\u001b[0m 17ms/step - auc: 0.5088 - loss: 1.1010 - val_auc: 0.8681 - val_loss: 0.7872\n",
      "Epoch 2/50\n",
      "\u001b[1m163/163\u001b[0m \u001b[32m━━━━━━━━━━━━━━━━━━━━\u001b[0m\u001b[37m\u001b[0m \u001b[1m2s\u001b[0m 13ms/step - auc: 0.7520 - loss: 0.9907 - val_auc: 0.8542 - val_loss: 0.8848\n",
      "Epoch 3/50\n",
      "\u001b[1m163/163\u001b[0m \u001b[32m━━━━━━━━━━━━━━━━━━━━\u001b[0m\u001b[37m\u001b[0m \u001b[1m2s\u001b[0m 11ms/step - auc: 0.7812 - loss: 0.9319 - val_auc: 0.8403 - val_loss: 0.8114\n",
      "Epoch 4/50\n",
      "\u001b[1m163/163\u001b[0m \u001b[32m━━━━━━━━━━━━━━━━━━━━\u001b[0m\u001b[37m\u001b[0m \u001b[1m2s\u001b[0m 9ms/step - auc: 0.8007 - loss: 0.9078 - val_auc: 0.8483 - val_loss: 0.7932\n",
      "Epoch 5/50\n",
      "\u001b[1m163/163\u001b[0m \u001b[32m━━━━━━━━━━━━━━━━━━━━\u001b[0m\u001b[37m\u001b[0m \u001b[1m2s\u001b[0m 11ms/step - auc: 0.8198 - loss: 0.8440 - val_auc: 0.8559 - val_loss: 0.8166\n",
      "Epoch 6/50\n",
      "\u001b[1m163/163\u001b[0m \u001b[32m━━━━━━━━━━━━━━━━━━━━\u001b[0m\u001b[37m\u001b[0m \u001b[1m2s\u001b[0m 13ms/step - auc: 0.8192 - loss: 0.8417 - val_auc: 0.8508 - val_loss: 0.8149\n",
      "Epoch 7/50\n",
      "\u001b[1m163/163\u001b[0m \u001b[32m━━━━━━━━━━━━━━━━━━━━\u001b[0m\u001b[37m\u001b[0m \u001b[1m2s\u001b[0m 12ms/step - auc: 0.8364 - loss: 0.8097 - val_auc: 0.8460 - val_loss: 0.8402\n",
      "Epoch 8/50\n",
      "\u001b[1m163/163\u001b[0m \u001b[32m━━━━━━━━━━━━━━━━━━━━\u001b[0m\u001b[37m\u001b[0m \u001b[1m2s\u001b[0m 13ms/step - auc: 0.8236 - loss: 0.8166 - val_auc: 0.8591 - val_loss: 0.7372\n",
      "Epoch 9/50\n",
      "\u001b[1m163/163\u001b[0m \u001b[32m━━━━━━━━━━━━━━━━━━━━\u001b[0m\u001b[37m\u001b[0m \u001b[1m2s\u001b[0m 11ms/step - auc: 0.8436 - loss: 0.7571 - val_auc: 0.8649 - val_loss: 0.7211\n",
      "Epoch 10/50\n",
      "\u001b[1m163/163\u001b[0m \u001b[32m━━━━━━━━━━━━━━━━━━━━\u001b[0m\u001b[37m\u001b[0m \u001b[1m2s\u001b[0m 13ms/step - auc: 0.8643 - loss: 0.7339 - val_auc: 0.8059 - val_loss: 0.8560\n",
      "Epoch 11/50\n",
      "\u001b[1m163/163\u001b[0m \u001b[32m━━━━━━━━━━━━━━━━━━━━\u001b[0m\u001b[37m\u001b[0m \u001b[1m2s\u001b[0m 13ms/step - auc: 0.8688 - loss: 0.6425 - val_auc: 0.8404 - val_loss: 0.7863\n",
      "Epoch 12/50\n",
      "\u001b[1m163/163\u001b[0m \u001b[32m━━━━━━━━━━━━━━━━━━━━\u001b[0m\u001b[37m\u001b[0m \u001b[1m3s\u001b[0m 15ms/step - auc: 0.8870 - loss: 0.6086 - val_auc: 0.8516 - val_loss: 0.7828\n",
      "Epoch 13/50\n",
      "\u001b[1m163/163\u001b[0m \u001b[32m━━━━━━━━━━━━━━━━━━━━\u001b[0m\u001b[37m\u001b[0m \u001b[1m2s\u001b[0m 14ms/step - auc: 0.8560 - loss: 0.6952 - val_auc: 0.8179 - val_loss: 0.8240\n",
      "Epoch 14/50\n",
      "\u001b[1m163/163\u001b[0m \u001b[32m━━━━━━━━━━━━━━━━━━━━\u001b[0m\u001b[37m\u001b[0m \u001b[1m2s\u001b[0m 14ms/step - auc: 0.8719 - loss: 0.6581 - val_auc: 0.8262 - val_loss: 1.2138\n",
      "Epoch 15/50\n",
      "\u001b[1m163/163\u001b[0m \u001b[32m━━━━━━━━━━━━━━━━━━━━\u001b[0m\u001b[37m\u001b[0m \u001b[1m2s\u001b[0m 14ms/step - auc: 0.8988 - loss: 0.5186 - val_auc: 0.8306 - val_loss: 1.5855\n",
      "Epoch 16/50\n",
      "\u001b[1m163/163\u001b[0m \u001b[32m━━━━━━━━━━━━━━━━━━━━\u001b[0m\u001b[37m\u001b[0m \u001b[1m3s\u001b[0m 15ms/step - auc: 0.9106 - loss: 0.4623 - val_auc: 0.8145 - val_loss: 1.5646\n",
      "Epoch 17/50\n",
      "\u001b[1m163/163\u001b[0m \u001b[32m━━━━━━━━━━━━━━━━━━━━\u001b[0m\u001b[37m\u001b[0m \u001b[1m3s\u001b[0m 18ms/step - auc: 0.9047 - loss: 0.4996 - val_auc: 0.7516 - val_loss: 1.1344\n",
      "Epoch 18/50\n",
      "\u001b[1m163/163\u001b[0m \u001b[32m━━━━━━━━━━━━━━━━━━━━\u001b[0m\u001b[37m\u001b[0m \u001b[1m3s\u001b[0m 17ms/step - auc: 0.9055 - loss: 0.4449 - val_auc: 0.8351 - val_loss: 1.9032\n",
      "Epoch 19/50\n",
      "\u001b[1m163/163\u001b[0m \u001b[32m━━━━━━━━━━━━━━━━━━━━\u001b[0m\u001b[37m\u001b[0m \u001b[1m3s\u001b[0m 16ms/step - auc: 0.9294 - loss: 0.3960 - val_auc: 0.8346 - val_loss: 3.1937\n",
      "Epoch 20/50\n",
      "\u001b[1m163/163\u001b[0m \u001b[32m━━━━━━━━━━━━━━━━━━━━\u001b[0m\u001b[37m\u001b[0m \u001b[1m2s\u001b[0m 15ms/step - auc: 0.9449 - loss: 0.3412 - val_auc: 0.8187 - val_loss: 2.6773\n",
      "Epoch 21/50\n",
      "\u001b[1m163/163\u001b[0m \u001b[32m━━━━━━━━━━━━━━━━━━━━\u001b[0m\u001b[37m\u001b[0m \u001b[1m2s\u001b[0m 13ms/step - auc: 0.9598 - loss: 0.2958 - val_auc: 0.8184 - val_loss: 2.8348\n",
      "Epoch 22/50\n",
      "\u001b[1m163/163\u001b[0m \u001b[32m━━━━━━━━━━━━━━━━━━━━\u001b[0m\u001b[37m\u001b[0m \u001b[1m2s\u001b[0m 15ms/step - auc: 0.9620 - loss: 0.2863 - val_auc: 0.8057 - val_loss: 3.6248\n",
      "Epoch 23/50\n",
      "\u001b[1m163/163\u001b[0m \u001b[32m━━━━━━━━━━━━━━━━━━━━\u001b[0m\u001b[37m\u001b[0m \u001b[1m2s\u001b[0m 11ms/step - auc: 0.9671 - loss: 0.2687 - val_auc: 0.8202 - val_loss: 3.8094\n",
      "Epoch 24/50\n",
      "\u001b[1m163/163\u001b[0m \u001b[32m━━━━━━━━━━━━━━━━━━━━\u001b[0m\u001b[37m\u001b[0m \u001b[1m2s\u001b[0m 15ms/step - auc: 0.9708 - loss: 0.2434 - val_auc: 0.8382 - val_loss: 5.5351\n",
      "Epoch 25/50\n",
      "\u001b[1m163/163\u001b[0m \u001b[32m━━━━━━━━━━━━━━━━━━━━\u001b[0m\u001b[37m\u001b[0m \u001b[1m3s\u001b[0m 16ms/step - auc: 0.9791 - loss: 0.2194 - val_auc: 0.7861 - val_loss: 3.5332\n",
      "Epoch 26/50\n",
      "\u001b[1m163/163\u001b[0m \u001b[32m━━━━━━━━━━━━━━━━━━━━\u001b[0m\u001b[37m\u001b[0m \u001b[1m2s\u001b[0m 12ms/step - auc: 0.9764 - loss: 0.2057 - val_auc: 0.8269 - val_loss: 3.5649\n",
      "Epoch 27/50\n",
      "\u001b[1m163/163\u001b[0m \u001b[32m━━━━━━━━━━━━━━━━━━━━\u001b[0m\u001b[37m\u001b[0m \u001b[1m2s\u001b[0m 11ms/step - auc: 0.9826 - loss: 0.2124 - val_auc: 0.8304 - val_loss: 4.6721\n",
      "Epoch 28/50\n",
      "\u001b[1m163/163\u001b[0m \u001b[32m━━━━━━━━━━━━━━━━━━━━\u001b[0m\u001b[37m\u001b[0m \u001b[1m2s\u001b[0m 14ms/step - auc: 0.9897 - loss: 0.1385 - val_auc: 0.8248 - val_loss: 5.3113\n",
      "Epoch 29/50\n",
      "\u001b[1m163/163\u001b[0m \u001b[32m━━━━━━━━━━━━━━━━━━━━\u001b[0m\u001b[37m\u001b[0m \u001b[1m2s\u001b[0m 13ms/step - auc: 0.9923 - loss: 0.1182 - val_auc: 0.8261 - val_loss: 3.4527\n",
      "Epoch 30/50\n",
      "\u001b[1m163/163\u001b[0m \u001b[32m━━━━━━━━━━━━━━━━━━━━\u001b[0m\u001b[37m\u001b[0m \u001b[1m2s\u001b[0m 11ms/step - auc: 0.9916 - loss: 0.1434 - val_auc: 0.8175 - val_loss: 2.9372\n",
      "Epoch 31/50\n",
      "\u001b[1m163/163\u001b[0m \u001b[32m━━━━━━━━━━━━━━━━━━━━\u001b[0m\u001b[37m\u001b[0m \u001b[1m2s\u001b[0m 13ms/step - auc: 0.9936 - loss: 0.1312 - val_auc: 0.8198 - val_loss: 3.6517\n",
      "Epoch 32/50\n",
      "\u001b[1m163/163\u001b[0m \u001b[32m━━━━━━━━━━━━━━━━━━━━\u001b[0m\u001b[37m\u001b[0m \u001b[1m3s\u001b[0m 16ms/step - auc: 0.9788 - loss: 0.2093 - val_auc: 0.8170 - val_loss: 6.7986\n",
      "Epoch 33/50\n",
      "\u001b[1m163/163\u001b[0m \u001b[32m━━━━━━━━━━━━━━━━━━━━\u001b[0m\u001b[37m\u001b[0m \u001b[1m2s\u001b[0m 15ms/step - auc: 0.9947 - loss: 0.0993 - val_auc: 0.8110 - val_loss: 3.6452\n",
      "Epoch 34/50\n",
      "\u001b[1m163/163\u001b[0m \u001b[32m━━━━━━━━━━━━━━━━━━━━\u001b[0m\u001b[37m\u001b[0m \u001b[1m4s\u001b[0m 26ms/step - auc: 0.9959 - loss: 0.0835 - val_auc: 0.8320 - val_loss: 5.0461\n",
      "Epoch 35/50\n",
      "\u001b[1m163/163\u001b[0m \u001b[32m━━━━━━━━━━━━━━━━━━━━\u001b[0m\u001b[37m\u001b[0m \u001b[1m4s\u001b[0m 21ms/step - auc: 0.9960 - loss: 0.0810 - val_auc: 0.8254 - val_loss: 3.8355\n",
      "Epoch 36/50\n",
      "\u001b[1m163/163\u001b[0m \u001b[32m━━━━━━━━━━━━━━━━━━━━\u001b[0m\u001b[37m\u001b[0m \u001b[1m3s\u001b[0m 21ms/step - auc: 0.9978 - loss: 0.0634 - val_auc: 0.8036 - val_loss: 2.4957\n",
      "Epoch 37/50\n",
      "\u001b[1m163/163\u001b[0m \u001b[32m━━━━━━━━━━━━━━━━━━━━\u001b[0m\u001b[37m\u001b[0m \u001b[1m3s\u001b[0m 20ms/step - auc: 0.9895 - loss: 0.1327 - val_auc: 0.8093 - val_loss: 4.0192\n",
      "Epoch 38/50\n",
      "\u001b[1m163/163\u001b[0m \u001b[32m━━━━━━━━━━━━━━━━━━━━\u001b[0m\u001b[37m\u001b[0m \u001b[1m3s\u001b[0m 20ms/step - auc: 0.9966 - loss: 0.0674 - val_auc: 0.8158 - val_loss: 4.0337\n",
      "Epoch 39/50\n",
      "\u001b[1m163/163\u001b[0m \u001b[32m━━━━━━━━━━━━━━━━━━━━\u001b[0m\u001b[37m\u001b[0m \u001b[1m3s\u001b[0m 21ms/step - auc: 0.9961 - loss: 0.0853 - val_auc: 0.8108 - val_loss: 3.2166\n",
      "Epoch 40/50\n",
      "\u001b[1m163/163\u001b[0m \u001b[32m━━━━━━━━━━━━━━━━━━━━\u001b[0m\u001b[37m\u001b[0m \u001b[1m3s\u001b[0m 20ms/step - auc: 0.9980 - loss: 0.0550 - val_auc: 0.8022 - val_loss: 4.2850\n",
      "Epoch 41/50\n",
      "\u001b[1m163/163\u001b[0m \u001b[32m━━━━━━━━━━━━━━━━━━━━\u001b[0m\u001b[37m\u001b[0m \u001b[1m3s\u001b[0m 19ms/step - auc: 0.9971 - loss: 0.0652 - val_auc: 0.8257 - val_loss: 4.9966\n",
      "Epoch 42/50\n",
      "\u001b[1m163/163\u001b[0m \u001b[32m━━━━━━━━━━━━━━━━━━━━\u001b[0m\u001b[37m\u001b[0m \u001b[1m3s\u001b[0m 20ms/step - auc: 0.9964 - loss: 0.0653 - val_auc: 0.7976 - val_loss: 4.3727\n",
      "Epoch 43/50\n",
      "\u001b[1m163/163\u001b[0m \u001b[32m━━━━━━━━━━━━━━━━━━━━\u001b[0m\u001b[37m\u001b[0m \u001b[1m3s\u001b[0m 20ms/step - auc: 0.9988 - loss: 0.0490 - val_auc: 0.8122 - val_loss: 4.4780\n",
      "Epoch 44/50\n",
      "\u001b[1m163/163\u001b[0m \u001b[32m━━━━━━━━━━━━━━━━━━━━\u001b[0m\u001b[37m\u001b[0m \u001b[1m3s\u001b[0m 20ms/step - auc: 0.9988 - loss: 0.0326 - val_auc: 0.8229 - val_loss: 3.7078\n",
      "Epoch 45/50\n",
      "\u001b[1m163/163\u001b[0m \u001b[32m━━━━━━━━━━━━━━━━━━━━\u001b[0m\u001b[37m\u001b[0m \u001b[1m4s\u001b[0m 21ms/step - auc: 0.9982 - loss: 0.0430 - val_auc: 0.8221 - val_loss: 4.4666\n",
      "Epoch 46/50\n",
      "\u001b[1m163/163\u001b[0m \u001b[32m━━━━━━━━━━━━━━━━━━━━\u001b[0m\u001b[37m\u001b[0m \u001b[1m3s\u001b[0m 21ms/step - auc: 0.9956 - loss: 0.1146 - val_auc: 0.8204 - val_loss: 3.4025\n",
      "Epoch 47/50\n",
      "\u001b[1m163/163\u001b[0m \u001b[32m━━━━━━━━━━━━━━━━━━━━\u001b[0m\u001b[37m\u001b[0m \u001b[1m3s\u001b[0m 20ms/step - auc: 0.9938 - loss: 0.1459 - val_auc: 0.7999 - val_loss: 5.6820\n",
      "Epoch 48/50\n",
      "\u001b[1m163/163\u001b[0m \u001b[32m━━━━━━━━━━━━━━━━━━━━\u001b[0m\u001b[37m\u001b[0m \u001b[1m3s\u001b[0m 20ms/step - auc: 0.9993 - loss: 0.0310 - val_auc: 0.8236 - val_loss: 3.4882\n",
      "Epoch 49/50\n",
      "\u001b[1m163/163\u001b[0m \u001b[32m━━━━━━━━━━━━━━━━━━━━\u001b[0m\u001b[37m\u001b[0m \u001b[1m4s\u001b[0m 21ms/step - auc: 0.9989 - loss: 0.0435 - val_auc: 0.8257 - val_loss: 2.8529\n",
      "Epoch 50/50\n",
      "\u001b[1m163/163\u001b[0m \u001b[32m━━━━━━━━━━━━━━━━━━━━\u001b[0m\u001b[37m\u001b[0m \u001b[1m4s\u001b[0m 22ms/step - auc: 0.9989 - loss: 0.0386 - val_auc: 0.8143 - val_loss: 2.2139\n",
      "\u001b[1m78/78\u001b[0m \u001b[32m━━━━━━━━━━━━━━━━━━━━\u001b[0m\u001b[37m\u001b[0m \u001b[1m2s\u001b[0m 9ms/step - auc: 0.8357 - loss: 1.8068\n",
      "AUC en prueba: 0.8142863512039185\n"
     ]
    }
   ],
   "source": [
    "import pandas as pd\n",
    "import numpy as np\n",
    "from tensorflow.keras.models import Sequential\n",
    "from tensorflow.keras.layers import LSTM, Dense\n",
    "from tensorflow.keras.utils import to_categorical\n",
    "from sklearn.preprocessing import StandardScaler\n",
    "from sklearn.utils.class_weight import compute_class_weight\n",
    "\n",
    "nombre_csv = 1\n",
    "de = pd.read_csv(f'../Datos_entrenamiento/{nombre_csv}_e.csv')\n",
    "dp = pd.read_csv(f'../Datos_prueba/{nombre_csv}_p.csv')\n",
    "\n",
    "mapping = {'normal': 0, 'alerta': 1, 'peligro': 2}\n",
    "de['Nivel_estres_1'] = de['Nivel_estres_1'].map(mapping)\n",
    "dp['Nivel_estres_1'] = dp['Nivel_estres_1'].map(mapping)\n",
    "\n",
    "X_train = de[['period eating', 'period other', 'period resting', 'period rumination']]\n",
    "y_train = de['Nivel_estres_1']\n",
    "X_test = dp[['period eating', 'period other', 'period resting', 'period rumination']]\n",
    "y_test = dp['Nivel_estres_1']\n",
    "\n",
    "scaler = StandardScaler()\n",
    "X_train_scaled = scaler.fit_transform(X_train)\n",
    "X_test_scaled = scaler.transform(X_test)\n",
    "\n",
    "# Expandir a 24 horas de datos para capturar ciclo diario\n",
    "timesteps = 24\n",
    "X_train_reshaped = np.array([X_train_scaled[i:i + timesteps] for i in range(len(X_train_scaled) - timesteps)])\n",
    "y_train = y_train[timesteps:]\n",
    "X_test_reshaped = np.array([X_test_scaled[i:i + timesteps] for i in range(len(X_test_scaled) - timesteps)])\n",
    "y_test = y_test[timesteps:]\n",
    "#Ajuste de pesos\n",
    "class_weights = compute_class_weight(class_weight='balanced', classes=np.unique(y_train), y=y_train)\n",
    "class_weights_dict = {i: weight for i, weight in enumerate(class_weights)}\n",
    "\n",
    "y_train_categorical = to_categorical(y_train, num_classes=3)\n",
    "y_test_categorical = to_categorical(y_test, num_classes=3)\n",
    "\n",
    "model = Sequential()\n",
    "model.add(LSTM(80, activation='relu', input_shape=(timesteps, X_train.shape[1])))\n",
    "model.add(Dense(3, activation='softmax'))\n",
    "model.compile(optimizer='adam', loss='categorical_crossentropy', metrics=['auc'])\n",
    "\n",
    "model.fit(X_train_reshaped, y_train_categorical, epochs=50, batch_size=24,\n",
    "          validation_data=(X_test_reshaped, y_test_categorical), class_weight=class_weights_dict)\n",
    "\n",
    "test_loss, test_auc = model.evaluate(X_test_reshaped, y_test_categorical)\n",
    "print(f\"AUC en prueba: {test_auc}\")"
   ]
  },
  {
   "cell_type": "code",
   "execution_count": 3,
   "metadata": {},
   "outputs": [
    {
     "name": "stdout",
     "output_type": "stream",
     "text": [
      "\u001b[1m78/78\u001b[0m \u001b[32m━━━━━━━━━━━━━━━━━━━━\u001b[0m\u001b[37m\u001b[0m \u001b[1m2s\u001b[0m 15ms/step\n",
      "{0: 1896, 1: 456, 2: 120}\n",
      "{0: 1935, 1: 480, 2: 57}\n"
     ]
    }
   ],
   "source": [
    "# Predecir las etiquetas para el conjunto de prueba\n",
    "y_pred_proba = model.predict(X_test_reshaped)\n",
    "y_pred = np.argmax(y_pred_proba, axis=1)\n",
    "\n",
    "# Contamos las ocurrencias de cada nivel de estrés\n",
    "valores_unicos, conteos = np.unique(y_test, return_counts=True)\n",
    "valores_unicos1, conteos1 = np.unique(y_pred, return_counts=True)\n",
    "# Combina los valores únicos y sus conteos en un diccionario para facilitar la visualización\n",
    "ocurrencias = dict(zip(valores_unicos, conteos))\n",
    "ocurrenciaspre = dict(zip(valores_unicos1, conteos1))\n",
    "# Mostramos el resultado\n",
    "#print(conteo_nivel_estres)\n",
    "print(ocurrencias)\n",
    "print(ocurrenciaspre)"
   ]
  },
  {
   "cell_type": "code",
   "execution_count": 7,
   "metadata": {},
   "outputs": [
    {
     "name": "stderr",
     "output_type": "stream",
     "text": [
      "C:\\Users\\PC\\AppData\\Roaming\\Python\\Python311\\site-packages\\keras\\src\\layers\\rnn\\rnn.py:204: UserWarning: Do not pass an `input_shape`/`input_dim` argument to a layer. When using Sequential models, prefer using an `Input(shape)` object as the first layer in the model instead.\n",
      "  super().__init__(**kwargs)\n"
     ]
    },
    {
     "name": "stdout",
     "output_type": "stream",
     "text": [
      "Epoch 1/100\n",
      "\u001b[1m123/123\u001b[0m \u001b[32m━━━━━━━━━━━━━━━━━━━━\u001b[0m\u001b[37m\u001b[0m \u001b[1m8s\u001b[0m 12ms/step - AUC: 0.4493 - accuracy: 0.2251 - loss: 1.1105 - val_AUC: 0.5126 - val_accuracy: 0.5489 - val_loss: 1.0988\n",
      "Epoch 2/100\n",
      "\u001b[1m123/123\u001b[0m \u001b[32m━━━━━━━━━━━━━━━━━━━━\u001b[0m\u001b[37m\u001b[0m \u001b[1m1s\u001b[0m 8ms/step - AUC: 0.4749 - accuracy: 0.3783 - loss: 1.0927 - val_AUC: 0.5958 - val_accuracy: 0.5509 - val_loss: 1.0996\n",
      "Epoch 3/100\n",
      "\u001b[1m123/123\u001b[0m \u001b[32m━━━━━━━━━━━━━━━━━━━━\u001b[0m\u001b[37m\u001b[0m \u001b[1m1s\u001b[0m 6ms/step - AUC: 0.5044 - accuracy: 0.4361 - loss: 1.0973 - val_AUC: 0.6423 - val_accuracy: 0.5853 - val_loss: 1.0828\n",
      "Epoch 4/100\n",
      "\u001b[1m123/123\u001b[0m \u001b[32m━━━━━━━━━━━━━━━━━━━━\u001b[0m\u001b[37m\u001b[0m \u001b[1m1s\u001b[0m 6ms/step - AUC: 0.5981 - accuracy: 0.5225 - loss: 1.0737 - val_AUC: 0.7195 - val_accuracy: 0.6442 - val_loss: 1.0634\n",
      "Epoch 5/100\n",
      "\u001b[1m123/123\u001b[0m \u001b[32m━━━━━━━━━━━━━━━━━━━━\u001b[0m\u001b[37m\u001b[0m \u001b[1m1s\u001b[0m 6ms/step - AUC: 0.6157 - accuracy: 0.5450 - loss: 1.0923 - val_AUC: 0.6912 - val_accuracy: 0.6214 - val_loss: 1.0678\n",
      "Epoch 6/100\n",
      "\u001b[1m123/123\u001b[0m \u001b[32m━━━━━━━━━━━━━━━━━━━━\u001b[0m\u001b[37m\u001b[0m \u001b[1m1s\u001b[0m 6ms/step - AUC: 0.5890 - accuracy: 0.5198 - loss: 1.0957 - val_AUC: 0.6951 - val_accuracy: 0.6262 - val_loss: 1.0730\n",
      "Epoch 7/100\n",
      "\u001b[1m123/123\u001b[0m \u001b[32m━━━━━━━━━━━━━━━━━━━━\u001b[0m\u001b[37m\u001b[0m \u001b[1m1s\u001b[0m 6ms/step - AUC: 0.6116 - accuracy: 0.5425 - loss: 1.0834 - val_AUC: 0.7336 - val_accuracy: 0.6607 - val_loss: 1.0538\n",
      "Epoch 8/100\n",
      "\u001b[1m123/123\u001b[0m \u001b[32m━━━━━━━━━━━━━━━━━━━━\u001b[0m\u001b[37m\u001b[0m \u001b[1m1s\u001b[0m 6ms/step - AUC: 0.6392 - accuracy: 0.5575 - loss: 1.0747 - val_AUC: 0.6935 - val_accuracy: 0.6146 - val_loss: 1.0658\n",
      "Epoch 9/100\n",
      "\u001b[1m123/123\u001b[0m \u001b[32m━━━━━━━━━━━━━━━━━━━━\u001b[0m\u001b[37m\u001b[0m \u001b[1m1s\u001b[0m 6ms/step - AUC: 0.5690 - accuracy: 0.4930 - loss: 1.1105 - val_AUC: 0.6838 - val_accuracy: 0.6086 - val_loss: 1.0641\n",
      "Epoch 10/100\n",
      "\u001b[1m123/123\u001b[0m \u001b[32m━━━━━━━━━━━━━━━━━━━━\u001b[0m\u001b[37m\u001b[0m \u001b[1m1s\u001b[0m 5ms/step - AUC: 0.5910 - accuracy: 0.4839 - loss: 1.0941 - val_AUC: 0.7113 - val_accuracy: 0.6242 - val_loss: 1.0657\n",
      "Epoch 11/100\n",
      "\u001b[1m123/123\u001b[0m \u001b[32m━━━━━━━━━━━━━━━━━━━━\u001b[0m\u001b[37m\u001b[0m \u001b[1m1s\u001b[0m 5ms/step - AUC: 0.6178 - accuracy: 0.5280 - loss: 1.1006 - val_AUC: 0.6799 - val_accuracy: 0.5966 - val_loss: 1.0699\n",
      "Epoch 12/100\n",
      "\u001b[1m123/123\u001b[0m \u001b[32m━━━━━━━━━━━━━━━━━━━━\u001b[0m\u001b[37m\u001b[0m \u001b[1m1s\u001b[0m 5ms/step - AUC: 0.6026 - accuracy: 0.5154 - loss: 1.0805 - val_AUC: 0.7275 - val_accuracy: 0.6366 - val_loss: 1.0540\n",
      "Epoch 13/100\n",
      "\u001b[1m123/123\u001b[0m \u001b[32m━━━━━━━━━━━━━━━━━━━━\u001b[0m\u001b[37m\u001b[0m \u001b[1m1s\u001b[0m 5ms/step - AUC: 0.6567 - accuracy: 0.5708 - loss: 1.0641 - val_AUC: 0.6760 - val_accuracy: 0.6046 - val_loss: 1.0636\n",
      "Epoch 14/100\n",
      "\u001b[1m123/123\u001b[0m \u001b[32m━━━━━━━━━━━━━━━━━━━━\u001b[0m\u001b[37m\u001b[0m \u001b[1m1s\u001b[0m 5ms/step - AUC: 0.6289 - accuracy: 0.5368 - loss: 1.0873 - val_AUC: 0.6479 - val_accuracy: 0.4688 - val_loss: 1.0697\n",
      "Epoch 15/100\n",
      "\u001b[1m123/123\u001b[0m \u001b[32m━━━━━━━━━━━━━━━━━━━━\u001b[0m\u001b[37m\u001b[0m \u001b[1m1s\u001b[0m 5ms/step - AUC: 0.6043 - accuracy: 0.4895 - loss: 1.0794 - val_AUC: 0.6310 - val_accuracy: 0.4683 - val_loss: 1.0698\n",
      "Epoch 16/100\n",
      "\u001b[1m123/123\u001b[0m \u001b[32m━━━━━━━━━━━━━━━━━━━━\u001b[0m\u001b[37m\u001b[0m \u001b[1m1s\u001b[0m 5ms/step - AUC: 0.5759 - accuracy: 0.4652 - loss: 1.0666 - val_AUC: 0.6137 - val_accuracy: 0.4571 - val_loss: 1.0684\n",
      "Epoch 17/100\n",
      "\u001b[1m123/123\u001b[0m \u001b[32m━━━━━━━━━━━━━━━━━━━━\u001b[0m\u001b[37m\u001b[0m \u001b[1m1s\u001b[0m 5ms/step - AUC: 0.6053 - accuracy: 0.4946 - loss: 1.0854 - val_AUC: 0.6750 - val_accuracy: 0.5950 - val_loss: 1.0545\n",
      "Epoch 18/100\n",
      "\u001b[1m123/123\u001b[0m \u001b[32m━━━━━━━━━━━━━━━━━━━━\u001b[0m\u001b[37m\u001b[0m \u001b[1m1s\u001b[0m 6ms/step - AUC: 0.5876 - accuracy: 0.4804 - loss: 1.0939 - val_AUC: 0.6598 - val_accuracy: 0.6026 - val_loss: 1.0487\n",
      "Epoch 19/100\n",
      "\u001b[1m123/123\u001b[0m \u001b[32m━━━━━━━━━━━━━━━━━━━━\u001b[0m\u001b[37m\u001b[0m \u001b[1m1s\u001b[0m 6ms/step - AUC: 0.5735 - accuracy: 0.4451 - loss: 1.1008 - val_AUC: 0.6389 - val_accuracy: 0.4539 - val_loss: 1.0594\n",
      "Epoch 20/100\n",
      "\u001b[1m123/123\u001b[0m \u001b[32m━━━━━━━━━━━━━━━━━━━━\u001b[0m\u001b[37m\u001b[0m \u001b[1m1s\u001b[0m 9ms/step - AUC: 0.6062 - accuracy: 0.4859 - loss: 1.0771 - val_AUC: 0.6949 - val_accuracy: 0.5950 - val_loss: 1.0544\n",
      "Epoch 21/100\n",
      "\u001b[1m123/123\u001b[0m \u001b[32m━━━━━━━━━━━━━━━━━━━━\u001b[0m\u001b[37m\u001b[0m \u001b[1m1s\u001b[0m 8ms/step - AUC: 0.6443 - accuracy: 0.5342 - loss: 1.0595 - val_AUC: 0.7262 - val_accuracy: 0.6170 - val_loss: 1.0373\n",
      "Epoch 22/100\n",
      "\u001b[1m123/123\u001b[0m \u001b[32m━━━━━━━━━━━━━━━━━━━━\u001b[0m\u001b[37m\u001b[0m \u001b[1m1s\u001b[0m 6ms/step - AUC: 0.5857 - accuracy: 0.4458 - loss: 1.0950 - val_AUC: 0.6596 - val_accuracy: 0.5789 - val_loss: 1.0621\n",
      "Epoch 23/100\n",
      "\u001b[1m123/123\u001b[0m \u001b[32m━━━━━━━━━━━━━━━━━━━━\u001b[0m\u001b[37m\u001b[0m \u001b[1m1s\u001b[0m 6ms/step - AUC: 0.6042 - accuracy: 0.5006 - loss: 1.0795 - val_AUC: 0.6390 - val_accuracy: 0.5901 - val_loss: 1.0597\n",
      "Epoch 24/100\n",
      "\u001b[1m123/123\u001b[0m \u001b[32m━━━━━━━━━━━━━━━━━━━━\u001b[0m\u001b[37m\u001b[0m \u001b[1m1s\u001b[0m 7ms/step - AUC: 0.5974 - accuracy: 0.4906 - loss: 1.0634 - val_AUC: 0.5774 - val_accuracy: 0.4034 - val_loss: 1.0715\n",
      "Epoch 25/100\n",
      "\u001b[1m123/123\u001b[0m \u001b[32m━━━━━━━━━━━━━━━━━━━━\u001b[0m\u001b[37m\u001b[0m \u001b[1m1s\u001b[0m 8ms/step - AUC: 0.5558 - accuracy: 0.3932 - loss: 1.0797 - val_AUC: 0.6110 - val_accuracy: 0.5629 - val_loss: 1.0707\n",
      "Epoch 26/100\n",
      "\u001b[1m123/123\u001b[0m \u001b[32m━━━━━━━━━━━━━━━━━━━━\u001b[0m\u001b[37m\u001b[0m \u001b[1m1s\u001b[0m 6ms/step - AUC: 0.5740 - accuracy: 0.4657 - loss: 1.0810 - val_AUC: 0.6872 - val_accuracy: 0.5893 - val_loss: 1.0455\n",
      "Epoch 27/100\n",
      "\u001b[1m123/123\u001b[0m \u001b[32m━━━━━━━━━━━━━━━━━━━━\u001b[0m\u001b[37m\u001b[0m \u001b[1m1s\u001b[0m 8ms/step - AUC: 0.6160 - accuracy: 0.4752 - loss: 1.0870 - val_AUC: 0.6636 - val_accuracy: 0.5821 - val_loss: 1.0528\n",
      "Epoch 28/100\n",
      "\u001b[1m123/123\u001b[0m \u001b[32m━━━━━━━━━━━━━━━━━━━━\u001b[0m\u001b[37m\u001b[0m \u001b[1m1s\u001b[0m 6ms/step - AUC: 0.6333 - accuracy: 0.5172 - loss: 1.0568 - val_AUC: 0.5908 - val_accuracy: 0.4151 - val_loss: 1.0589\n",
      "Epoch 29/100\n",
      "\u001b[1m123/123\u001b[0m \u001b[32m━━━━━━━━━━━━━━━━━━━━\u001b[0m\u001b[37m\u001b[0m \u001b[1m1s\u001b[0m 6ms/step - AUC: 0.5885 - accuracy: 0.4284 - loss: 1.0757 - val_AUC: 0.5995 - val_accuracy: 0.3954 - val_loss: 1.0703\n",
      "Epoch 30/100\n",
      "\u001b[1m123/123\u001b[0m \u001b[32m━━━━━━━━━━━━━━━━━━━━\u001b[0m\u001b[37m\u001b[0m \u001b[1m1s\u001b[0m 6ms/step - AUC: 0.5787 - accuracy: 0.4172 - loss: 1.0852 - val_AUC: 0.5656 - val_accuracy: 0.3898 - val_loss: 1.0724\n",
      "Epoch 31/100\n",
      "\u001b[1m123/123\u001b[0m \u001b[32m━━━━━━━━━━━━━━━━━━━━\u001b[0m\u001b[37m\u001b[0m \u001b[1m1s\u001b[0m 6ms/step - AUC: 0.5934 - accuracy: 0.4666 - loss: 1.0585 - val_AUC: 0.6695 - val_accuracy: 0.4716 - val_loss: 1.0424\n",
      "Epoch 32/100\n",
      "\u001b[1m123/123\u001b[0m \u001b[32m━━━━━━━━━━━━━━━━━━━━\u001b[0m\u001b[37m\u001b[0m \u001b[1m1s\u001b[0m 6ms/step - AUC: 0.6059 - accuracy: 0.4344 - loss: 1.0757 - val_AUC: 0.6587 - val_accuracy: 0.4459 - val_loss: 1.0400\n",
      "Epoch 33/100\n",
      "\u001b[1m123/123\u001b[0m \u001b[32m━━━━━━━━━━━━━━━━━━━━\u001b[0m\u001b[37m\u001b[0m \u001b[1m1s\u001b[0m 6ms/step - AUC: 0.6130 - accuracy: 0.5110 - loss: 1.0740 - val_AUC: 0.5719 - val_accuracy: 0.3850 - val_loss: 1.0694\n",
      "Epoch 34/100\n",
      "\u001b[1m123/123\u001b[0m \u001b[32m━━━━━━━━━━━━━━━━━━━━\u001b[0m\u001b[37m\u001b[0m \u001b[1m1s\u001b[0m 6ms/step - AUC: 0.5681 - accuracy: 0.3975 - loss: 1.0553 - val_AUC: 0.6078 - val_accuracy: 0.4006 - val_loss: 1.0617\n",
      "Epoch 35/100\n",
      "\u001b[1m123/123\u001b[0m \u001b[32m━━━━━━━━━━━━━━━━━━━━\u001b[0m\u001b[37m\u001b[0m \u001b[1m1s\u001b[0m 6ms/step - AUC: 0.5816 - accuracy: 0.3940 - loss: 1.0828 - val_AUC: 0.6783 - val_accuracy: 0.4447 - val_loss: 1.0396\n",
      "Epoch 36/100\n",
      "\u001b[1m123/123\u001b[0m \u001b[32m━━━━━━━━━━━━━━━━━━━━\u001b[0m\u001b[37m\u001b[0m \u001b[1m1s\u001b[0m 7ms/step - AUC: 0.5821 - accuracy: 0.4231 - loss: 1.0685 - val_AUC: 0.6233 - val_accuracy: 0.4046 - val_loss: 1.0580\n",
      "Epoch 37/100\n",
      "\u001b[1m123/123\u001b[0m \u001b[32m━━━━━━━━━━━━━━━━━━━━\u001b[0m\u001b[37m\u001b[0m \u001b[1m1s\u001b[0m 6ms/step - AUC: 0.5644 - accuracy: 0.3972 - loss: 1.0798 - val_AUC: 0.6320 - val_accuracy: 0.4183 - val_loss: 1.0531\n",
      "Epoch 38/100\n",
      "\u001b[1m123/123\u001b[0m \u001b[32m━━━━━━━━━━━━━━━━━━━━\u001b[0m\u001b[37m\u001b[0m \u001b[1m1s\u001b[0m 6ms/step - AUC: 0.6242 - accuracy: 0.4356 - loss: 1.0568 - val_AUC: 0.5415 - val_accuracy: 0.3618 - val_loss: 1.0862\n",
      "Epoch 39/100\n",
      "\u001b[1m123/123\u001b[0m \u001b[32m━━━━━━━━━━━━━━━━━━━━\u001b[0m\u001b[37m\u001b[0m \u001b[1m1s\u001b[0m 6ms/step - AUC: 0.5842 - accuracy: 0.4071 - loss: 1.0548 - val_AUC: 0.5449 - val_accuracy: 0.3474 - val_loss: 1.0868\n",
      "Epoch 40/100\n",
      "\u001b[1m123/123\u001b[0m \u001b[32m━━━━━━━━━━━━━━━━━━━━\u001b[0m\u001b[37m\u001b[0m \u001b[1m1s\u001b[0m 6ms/step - AUC: 0.5201 - accuracy: 0.3452 - loss: 1.0844 - val_AUC: 0.6567 - val_accuracy: 0.5689 - val_loss: 1.0445\n",
      "Epoch 41/100\n",
      "\u001b[1m123/123\u001b[0m \u001b[32m━━━━━━━━━━━━━━━━━━━━\u001b[0m\u001b[37m\u001b[0m \u001b[1m1s\u001b[0m 6ms/step - AUC: 0.6114 - accuracy: 0.4490 - loss: 1.0778 - val_AUC: 0.6360 - val_accuracy: 0.5561 - val_loss: 1.0566\n",
      "Epoch 42/100\n",
      "\u001b[1m123/123\u001b[0m \u001b[32m━━━━━━━━━━━━━━━━━━━━\u001b[0m\u001b[37m\u001b[0m \u001b[1m1s\u001b[0m 5ms/step - AUC: 0.5727 - accuracy: 0.4170 - loss: 1.0821 - val_AUC: 0.6433 - val_accuracy: 0.5589 - val_loss: 1.0555\n",
      "Epoch 43/100\n",
      "\u001b[1m123/123\u001b[0m \u001b[32m━━━━━━━━━━━━━━━━━━━━\u001b[0m\u001b[37m\u001b[0m \u001b[1m1s\u001b[0m 6ms/step - AUC: 0.6257 - accuracy: 0.4995 - loss: 1.0643 - val_AUC: 0.6216 - val_accuracy: 0.3958 - val_loss: 1.0533\n",
      "Epoch 44/100\n",
      "\u001b[1m123/123\u001b[0m \u001b[32m━━━━━━━━━━━━━━━━━━━━\u001b[0m\u001b[37m\u001b[0m \u001b[1m1s\u001b[0m 5ms/step - AUC: 0.5795 - accuracy: 0.3964 - loss: 1.0968 - val_AUC: 0.5820 - val_accuracy: 0.3782 - val_loss: 1.0694\n",
      "Epoch 45/100\n",
      "\u001b[1m123/123\u001b[0m \u001b[32m━━━━━━━━━━━━━━━━━━━━\u001b[0m\u001b[37m\u001b[0m \u001b[1m1s\u001b[0m 5ms/step - AUC: 0.5952 - accuracy: 0.4343 - loss: 1.0544 - val_AUC: 0.5975 - val_accuracy: 0.3838 - val_loss: 1.0664\n",
      "Epoch 46/100\n",
      "\u001b[1m123/123\u001b[0m \u001b[32m━━━━━━━━━━━━━━━━━━━━\u001b[0m\u001b[37m\u001b[0m \u001b[1m1s\u001b[0m 6ms/step - AUC: 0.5740 - accuracy: 0.3816 - loss: 1.0812 - val_AUC: 0.6321 - val_accuracy: 0.4050 - val_loss: 1.0507\n",
      "Epoch 47/100\n",
      "\u001b[1m123/123\u001b[0m \u001b[32m━━━━━━━━━━━━━━━━━━━━\u001b[0m\u001b[37m\u001b[0m \u001b[1m1s\u001b[0m 6ms/step - AUC: 0.5917 - accuracy: 0.3935 - loss: 1.0861 - val_AUC: 0.6211 - val_accuracy: 0.3994 - val_loss: 1.0500\n",
      "Epoch 48/100\n",
      "\u001b[1m123/123\u001b[0m \u001b[32m━━━━━━━━━━━━━━━━━━━━\u001b[0m\u001b[37m\u001b[0m \u001b[1m1s\u001b[0m 6ms/step - AUC: 0.6130 - accuracy: 0.4255 - loss: 1.0474 - val_AUC: 0.4697 - val_accuracy: 0.2284 - val_loss: 1.1226\n",
      "Epoch 49/100\n",
      "\u001b[1m123/123\u001b[0m \u001b[32m━━━━━━━━━━━━━━━━━━━━\u001b[0m\u001b[37m\u001b[0m \u001b[1m1s\u001b[0m 6ms/step - AUC: 0.5610 - accuracy: 0.3902 - loss: 1.0454 - val_AUC: 0.5989 - val_accuracy: 0.3786 - val_loss: 1.0651\n",
      "Epoch 50/100\n",
      "\u001b[1m123/123\u001b[0m \u001b[32m━━━━━━━━━━━━━━━━━━━━\u001b[0m\u001b[37m\u001b[0m \u001b[1m1s\u001b[0m 6ms/step - AUC: 0.5678 - accuracy: 0.3774 - loss: 1.0694 - val_AUC: 0.5827 - val_accuracy: 0.3510 - val_loss: 1.0761\n",
      "Epoch 51/100\n",
      "\u001b[1m123/123\u001b[0m \u001b[32m━━━━━━━━━━━━━━━━━━━━\u001b[0m\u001b[37m\u001b[0m \u001b[1m1s\u001b[0m 5ms/step - AUC: 0.5555 - accuracy: 0.3397 - loss: 1.0713 - val_AUC: 0.6296 - val_accuracy: 0.4042 - val_loss: 1.0466\n",
      "Epoch 52/100\n",
      "\u001b[1m123/123\u001b[0m \u001b[32m━━━━━━━━━━━━━━━━━━━━\u001b[0m\u001b[37m\u001b[0m \u001b[1m1s\u001b[0m 5ms/step - AUC: 0.6008 - accuracy: 0.4014 - loss: 1.0767 - val_AUC: 0.5986 - val_accuracy: 0.3686 - val_loss: 1.0729\n",
      "Epoch 53/100\n",
      "\u001b[1m123/123\u001b[0m \u001b[32m━━━━━━━━━━━━━━━━━━━━\u001b[0m\u001b[37m\u001b[0m \u001b[1m1s\u001b[0m 5ms/step - AUC: 0.5744 - accuracy: 0.3737 - loss: 1.0646 - val_AUC: 0.6154 - val_accuracy: 0.3838 - val_loss: 1.0534\n",
      "Epoch 54/100\n",
      "\u001b[1m123/123\u001b[0m \u001b[32m━━━━━━━━━━━━━━━━━━━━\u001b[0m\u001b[37m\u001b[0m \u001b[1m1s\u001b[0m 6ms/step - AUC: 0.5592 - accuracy: 0.3553 - loss: 1.0814 - val_AUC: 0.6189 - val_accuracy: 0.5389 - val_loss: 1.0631\n",
      "Epoch 55/100\n",
      "\u001b[1m123/123\u001b[0m \u001b[32m━━━━━━━━━━━━━━━━━━━━\u001b[0m\u001b[37m\u001b[0m \u001b[1m1s\u001b[0m 6ms/step - AUC: 0.6193 - accuracy: 0.4855 - loss: 1.0508 - val_AUC: 0.5781 - val_accuracy: 0.3490 - val_loss: 1.0718\n",
      "Epoch 56/100\n",
      "\u001b[1m123/123\u001b[0m \u001b[32m━━━━━━━━━━━━━━━━━━━━\u001b[0m\u001b[37m\u001b[0m \u001b[1m1s\u001b[0m 6ms/step - AUC: 0.5847 - accuracy: 0.3991 - loss: 1.0584 - val_AUC: 0.5986 - val_accuracy: 0.3670 - val_loss: 1.0682\n",
      "Epoch 57/100\n",
      "\u001b[1m123/123\u001b[0m \u001b[32m━━━━━━━━━━━━━━━━━━━━\u001b[0m\u001b[37m\u001b[0m \u001b[1m1s\u001b[0m 6ms/step - AUC: 0.5893 - accuracy: 0.4029 - loss: 1.0685 - val_AUC: 0.5882 - val_accuracy: 0.3598 - val_loss: 1.0710\n",
      "Epoch 58/100\n",
      "\u001b[1m123/123\u001b[0m \u001b[32m━━━━━━━━━━━━━━━━━━━━\u001b[0m\u001b[37m\u001b[0m \u001b[1m1s\u001b[0m 6ms/step - AUC: 0.5652 - accuracy: 0.3603 - loss: 1.0708 - val_AUC: 0.6103 - val_accuracy: 0.3818 - val_loss: 1.0617\n",
      "Epoch 59/100\n",
      "\u001b[1m123/123\u001b[0m \u001b[32m━━━━━━━━━━━━━━━━━━━━\u001b[0m\u001b[37m\u001b[0m \u001b[1m1s\u001b[0m 6ms/step - AUC: 0.5941 - accuracy: 0.3788 - loss: 1.0616 - val_AUC: 0.6215 - val_accuracy: 0.3838 - val_loss: 1.0523\n",
      "Epoch 60/100\n",
      "\u001b[1m123/123\u001b[0m \u001b[32m━━━━━━━━━━━━━━━━━━━━\u001b[0m\u001b[37m\u001b[0m \u001b[1m1s\u001b[0m 6ms/step - AUC: 0.5732 - accuracy: 0.3619 - loss: 1.1076 - val_AUC: 0.6076 - val_accuracy: 0.3698 - val_loss: 1.0576\n",
      "Epoch 61/100\n",
      "\u001b[1m123/123\u001b[0m \u001b[32m━━━━━━━━━━━━━━━━━━━━\u001b[0m\u001b[37m\u001b[0m \u001b[1m1s\u001b[0m 5ms/step - AUC: 0.5572 - accuracy: 0.3515 - loss: 1.0692 - val_AUC: 0.5993 - val_accuracy: 0.3590 - val_loss: 1.0607\n",
      "Epoch 62/100\n",
      "\u001b[1m123/123\u001b[0m \u001b[32m━━━━━━━━━━━━━━━━━━━━\u001b[0m\u001b[37m\u001b[0m \u001b[1m1s\u001b[0m 6ms/step - AUC: 0.5773 - accuracy: 0.3570 - loss: 1.0750 - val_AUC: 0.6349 - val_accuracy: 0.3982 - val_loss: 1.0440\n",
      "Epoch 63/100\n",
      "\u001b[1m123/123\u001b[0m \u001b[32m━━━━━━━━━━━━━━━━━━━━\u001b[0m\u001b[37m\u001b[0m \u001b[1m1s\u001b[0m 5ms/step - AUC: 0.6102 - accuracy: 0.4308 - loss: 1.0762 - val_AUC: 0.6644 - val_accuracy: 0.4135 - val_loss: 1.0390\n",
      "Epoch 64/100\n",
      "\u001b[1m123/123\u001b[0m \u001b[32m━━━━━━━━━━━━━━━━━━━━\u001b[0m\u001b[37m\u001b[0m \u001b[1m1s\u001b[0m 5ms/step - AUC: 0.6367 - accuracy: 0.4604 - loss: 1.0418 - val_AUC: 0.5608 - val_accuracy: 0.3225 - val_loss: 1.0798\n",
      "Epoch 65/100\n",
      "\u001b[1m123/123\u001b[0m \u001b[32m━━━━━━━━━━━━━━━━━━━━\u001b[0m\u001b[37m\u001b[0m \u001b[1m1s\u001b[0m 6ms/step - AUC: 0.5461 - accuracy: 0.3320 - loss: 1.0774 - val_AUC: 0.6175 - val_accuracy: 0.3674 - val_loss: 1.0506\n",
      "Epoch 66/100\n",
      "\u001b[1m123/123\u001b[0m \u001b[32m━━━━━━━━━━━━━━━━━━━━\u001b[0m\u001b[37m\u001b[0m \u001b[1m1s\u001b[0m 6ms/step - AUC: 0.5551 - accuracy: 0.3461 - loss: 1.0971 - val_AUC: 0.5947 - val_accuracy: 0.3542 - val_loss: 1.0644\n",
      "Epoch 67/100\n",
      "\u001b[1m123/123\u001b[0m \u001b[32m━━━━━━━━━━━━━━━━━━━━\u001b[0m\u001b[37m\u001b[0m \u001b[1m1s\u001b[0m 6ms/step - AUC: 0.5880 - accuracy: 0.3759 - loss: 1.0453 - val_AUC: 0.5978 - val_accuracy: 0.4904 - val_loss: 1.0728\n",
      "Epoch 68/100\n",
      "\u001b[1m123/123\u001b[0m \u001b[32m━━━━━━━━━━━━━━━━━━━━\u001b[0m\u001b[37m\u001b[0m \u001b[1m1s\u001b[0m 6ms/step - AUC: 0.5753 - accuracy: 0.3534 - loss: 1.0702 - val_AUC: 0.5721 - val_accuracy: 0.3301 - val_loss: 1.0791\n",
      "Epoch 69/100\n",
      "\u001b[1m123/123\u001b[0m \u001b[32m━━━━━━━━━━━━━━━━━━━━\u001b[0m\u001b[37m\u001b[0m \u001b[1m1s\u001b[0m 6ms/step - AUC: 0.5777 - accuracy: 0.3585 - loss: 1.0600 - val_AUC: 0.5888 - val_accuracy: 0.3257 - val_loss: 1.0683\n",
      "Epoch 70/100\n",
      "\u001b[1m123/123\u001b[0m \u001b[32m━━━━━━━━━━━━━━━━━━━━\u001b[0m\u001b[37m\u001b[0m \u001b[1m1s\u001b[0m 7ms/step - AUC: 0.5871 - accuracy: 0.4059 - loss: 1.0459 - val_AUC: 0.5702 - val_accuracy: 0.3381 - val_loss: 1.0801\n",
      "Epoch 71/100\n",
      "\u001b[1m123/123\u001b[0m \u001b[32m━━━━━━━━━━━━━━━━━━━━\u001b[0m\u001b[37m\u001b[0m \u001b[1m1s\u001b[0m 6ms/step - AUC: 0.6026 - accuracy: 0.3997 - loss: 1.0494 - val_AUC: 0.5440 - val_accuracy: 0.3129 - val_loss: 1.0927\n",
      "Epoch 72/100\n",
      "\u001b[1m123/123\u001b[0m \u001b[32m━━━━━━━━━━━━━━━━━━━━\u001b[0m\u001b[37m\u001b[0m \u001b[1m1s\u001b[0m 6ms/step - AUC: 0.5801 - accuracy: 0.3910 - loss: 1.0460 - val_AUC: 0.5912 - val_accuracy: 0.3397 - val_loss: 1.0771\n",
      "Epoch 73/100\n",
      "\u001b[1m123/123\u001b[0m \u001b[32m━━━━━━━━━━━━━━━━━━━━\u001b[0m\u001b[37m\u001b[0m \u001b[1m1s\u001b[0m 6ms/step - AUC: 0.5482 - accuracy: 0.3385 - loss: 1.0753 - val_AUC: 0.6145 - val_accuracy: 0.3618 - val_loss: 1.0512\n",
      "Epoch 74/100\n",
      "\u001b[1m123/123\u001b[0m \u001b[32m━━━━━━━━━━━━━━━━━━━━\u001b[0m\u001b[37m\u001b[0m \u001b[1m1s\u001b[0m 6ms/step - AUC: 0.5948 - accuracy: 0.3709 - loss: 1.0565 - val_AUC: 0.6009 - val_accuracy: 0.3598 - val_loss: 1.0579\n",
      "Epoch 75/100\n",
      "\u001b[1m123/123\u001b[0m \u001b[32m━━━━━━━━━━━━━━━━━━━━\u001b[0m\u001b[37m\u001b[0m \u001b[1m1s\u001b[0m 6ms/step - AUC: 0.5755 - accuracy: 0.3512 - loss: 1.0712 - val_AUC: 0.6095 - val_accuracy: 0.3654 - val_loss: 1.0543\n",
      "Epoch 76/100\n",
      "\u001b[1m123/123\u001b[0m \u001b[32m━━━━━━━━━━━━━━━━━━━━\u001b[0m\u001b[37m\u001b[0m \u001b[1m1s\u001b[0m 6ms/step - AUC: 0.5454 - accuracy: 0.3264 - loss: 1.0927 - val_AUC: 0.6241 - val_accuracy: 0.3702 - val_loss: 1.0448\n",
      "Epoch 77/100\n",
      "\u001b[1m123/123\u001b[0m \u001b[32m━━━━━━━━━━━━━━━━━━━━\u001b[0m\u001b[37m\u001b[0m \u001b[1m1s\u001b[0m 6ms/step - AUC: 0.5789 - accuracy: 0.3560 - loss: 1.0887 - val_AUC: 0.6282 - val_accuracy: 0.3714 - val_loss: 1.0399\n",
      "Epoch 78/100\n",
      "\u001b[1m123/123\u001b[0m \u001b[32m━━━━━━━━━━━━━━━━━━━━\u001b[0m\u001b[37m\u001b[0m \u001b[1m1s\u001b[0m 6ms/step - AUC: 0.5954 - accuracy: 0.3718 - loss: 1.0522 - val_AUC: 0.5685 - val_accuracy: 0.3221 - val_loss: 1.0820\n",
      "Epoch 79/100\n",
      "\u001b[1m123/123\u001b[0m \u001b[32m━━━━━━━━━━━━━━━━━━━━\u001b[0m\u001b[37m\u001b[0m \u001b[1m1s\u001b[0m 6ms/step - AUC: 0.5665 - accuracy: 0.3690 - loss: 1.0766 - val_AUC: 0.6133 - val_accuracy: 0.3586 - val_loss: 1.0587\n",
      "Epoch 80/100\n",
      "\u001b[1m123/123\u001b[0m \u001b[32m━━━━━━━━━━━━━━━━━━━━\u001b[0m\u001b[37m\u001b[0m \u001b[1m1s\u001b[0m 6ms/step - AUC: 0.5879 - accuracy: 0.3819 - loss: 1.0712 - val_AUC: 0.6200 - val_accuracy: 0.3610 - val_loss: 1.0500\n",
      "Epoch 81/100\n",
      "\u001b[1m123/123\u001b[0m \u001b[32m━━━━━━━━━━━━━━━━━━━━\u001b[0m\u001b[37m\u001b[0m \u001b[1m1s\u001b[0m 6ms/step - AUC: 0.5750 - accuracy: 0.3651 - loss: 1.0747 - val_AUC: 0.6050 - val_accuracy: 0.3417 - val_loss: 1.0638\n",
      "Epoch 82/100\n",
      "\u001b[1m123/123\u001b[0m \u001b[32m━━━━━━━━━━━━━━━━━━━━\u001b[0m\u001b[37m\u001b[0m \u001b[1m1s\u001b[0m 5ms/step - AUC: 0.5682 - accuracy: 0.3358 - loss: 1.0748 - val_AUC: 0.6243 - val_accuracy: 0.3534 - val_loss: 1.0490\n",
      "Epoch 83/100\n",
      "\u001b[1m123/123\u001b[0m \u001b[32m━━━━━━━━━━━━━━━━━━━━\u001b[0m\u001b[37m\u001b[0m \u001b[1m1s\u001b[0m 5ms/step - AUC: 0.5773 - accuracy: 0.3749 - loss: 1.0627 - val_AUC: 0.6172 - val_accuracy: 0.4996 - val_loss: 1.0598\n",
      "Epoch 84/100\n",
      "\u001b[1m123/123\u001b[0m \u001b[32m━━━━━━━━━━━━━━━━━━━━\u001b[0m\u001b[37m\u001b[0m \u001b[1m1s\u001b[0m 5ms/step - AUC: 0.5833 - accuracy: 0.3762 - loss: 1.0904 - val_AUC: 0.6318 - val_accuracy: 0.3794 - val_loss: 1.0450\n",
      "Epoch 85/100\n",
      "\u001b[1m123/123\u001b[0m \u001b[32m━━━━━━━━━━━━━━━━━━━━\u001b[0m\u001b[37m\u001b[0m \u001b[1m1s\u001b[0m 6ms/step - AUC: 0.6025 - accuracy: 0.3902 - loss: 1.0765 - val_AUC: 0.6039 - val_accuracy: 0.3458 - val_loss: 1.0564\n",
      "Epoch 86/100\n",
      "\u001b[1m123/123\u001b[0m \u001b[32m━━━━━━━━━━━━━━━━━━━━\u001b[0m\u001b[37m\u001b[0m \u001b[1m1s\u001b[0m 6ms/step - AUC: 0.5722 - accuracy: 0.3555 - loss: 1.0694 - val_AUC: 0.5990 - val_accuracy: 0.3506 - val_loss: 1.0603\n",
      "Epoch 87/100\n",
      "\u001b[1m123/123\u001b[0m \u001b[32m━━━━━━━━━━━━━━━━━━━━\u001b[0m\u001b[37m\u001b[0m \u001b[1m1s\u001b[0m 5ms/step - AUC: 0.5836 - accuracy: 0.3541 - loss: 1.0572 - val_AUC: 0.6014 - val_accuracy: 0.3421 - val_loss: 1.0578\n",
      "Epoch 88/100\n",
      "\u001b[1m123/123\u001b[0m \u001b[32m━━━━━━━━━━━━━━━━━━━━\u001b[0m\u001b[37m\u001b[0m \u001b[1m1s\u001b[0m 7ms/step - AUC: 0.5708 - accuracy: 0.3567 - loss: 1.0880 - val_AUC: 0.5782 - val_accuracy: 0.3337 - val_loss: 1.0726\n",
      "Epoch 89/100\n",
      "\u001b[1m123/123\u001b[0m \u001b[32m━━━━━━━━━━━━━━━━━━━━\u001b[0m\u001b[37m\u001b[0m \u001b[1m1s\u001b[0m 8ms/step - AUC: 0.5740 - accuracy: 0.3389 - loss: 1.0664 - val_AUC: 0.5942 - val_accuracy: 0.3454 - val_loss: 1.0660\n",
      "Epoch 90/100\n",
      "\u001b[1m123/123\u001b[0m \u001b[32m━━━━━━━━━━━━━━━━━━━━\u001b[0m\u001b[37m\u001b[0m \u001b[1m1s\u001b[0m 8ms/step - AUC: 0.5727 - accuracy: 0.3494 - loss: 1.0737 - val_AUC: 0.6382 - val_accuracy: 0.5140 - val_loss: 1.0480\n",
      "Epoch 91/100\n",
      "\u001b[1m123/123\u001b[0m \u001b[32m━━━━━━━━━━━━━━━━━━━━\u001b[0m\u001b[37m\u001b[0m \u001b[1m1s\u001b[0m 7ms/step - AUC: 0.6242 - accuracy: 0.4541 - loss: 1.0337 - val_AUC: 0.5702 - val_accuracy: 0.3161 - val_loss: 1.0747\n",
      "Epoch 92/100\n",
      "\u001b[1m123/123\u001b[0m \u001b[32m━━━━━━━━━━━━━━━━━━━━\u001b[0m\u001b[37m\u001b[0m \u001b[1m1s\u001b[0m 8ms/step - AUC: 0.5433 - accuracy: 0.3036 - loss: 1.0924 - val_AUC: 0.6059 - val_accuracy: 0.3466 - val_loss: 1.0515\n",
      "Epoch 93/100\n",
      "\u001b[1m123/123\u001b[0m \u001b[32m━━━━━━━━━━━━━━━━━━━━\u001b[0m\u001b[37m\u001b[0m \u001b[1m1s\u001b[0m 8ms/step - AUC: 0.5922 - accuracy: 0.3892 - loss: 1.0718 - val_AUC: 0.5542 - val_accuracy: 0.3369 - val_loss: 1.0750\n",
      "Epoch 94/100\n",
      "\u001b[1m123/123\u001b[0m \u001b[32m━━━━━━━━━━━━━━━━━━━━\u001b[0m\u001b[37m\u001b[0m \u001b[1m1s\u001b[0m 8ms/step - AUC: 0.5841 - accuracy: 0.3770 - loss: 1.0379 - val_AUC: 0.5736 - val_accuracy: 0.3413 - val_loss: 1.0648\n",
      "Epoch 95/100\n",
      "\u001b[1m123/123\u001b[0m \u001b[32m━━━━━━━━━━━━━━━━━━━━\u001b[0m\u001b[37m\u001b[0m \u001b[1m1s\u001b[0m 8ms/step - AUC: 0.5576 - accuracy: 0.3272 - loss: 1.0628 - val_AUC: 0.5987 - val_accuracy: 0.4880 - val_loss: 1.0693\n",
      "Epoch 96/100\n",
      "\u001b[1m123/123\u001b[0m \u001b[32m━━━━━━━━━━━━━━━━━━━━\u001b[0m\u001b[37m\u001b[0m \u001b[1m1s\u001b[0m 7ms/step - AUC: 0.5710 - accuracy: 0.3925 - loss: 1.0710 - val_AUC: 0.5868 - val_accuracy: 0.4836 - val_loss: 1.0701\n",
      "Epoch 97/100\n",
      "\u001b[1m123/123\u001b[0m \u001b[32m━━━━━━━━━━━━━━━━━━━━\u001b[0m\u001b[37m\u001b[0m \u001b[1m1s\u001b[0m 7ms/step - AUC: 0.6067 - accuracy: 0.4579 - loss: 1.0511 - val_AUC: 0.5811 - val_accuracy: 0.3309 - val_loss: 1.0737\n",
      "Epoch 98/100\n",
      "\u001b[1m123/123\u001b[0m \u001b[32m━━━━━━━━━━━━━━━━━━━━\u001b[0m\u001b[37m\u001b[0m \u001b[1m1s\u001b[0m 7ms/step - AUC: 0.5430 - accuracy: 0.3261 - loss: 1.0672 - val_AUC: 0.5922 - val_accuracy: 0.3438 - val_loss: 1.0599\n",
      "Epoch 99/100\n",
      "\u001b[1m123/123\u001b[0m \u001b[32m━━━━━━━━━━━━━━━━━━━━\u001b[0m\u001b[37m\u001b[0m \u001b[1m1s\u001b[0m 7ms/step - AUC: 0.5714 - accuracy: 0.3503 - loss: 1.0888 - val_AUC: 0.6119 - val_accuracy: 0.5008 - val_loss: 1.0541\n",
      "Epoch 100/100\n",
      "\u001b[1m123/123\u001b[0m \u001b[32m━━━━━━━━━━━━━━━━━━━━\u001b[0m\u001b[37m\u001b[0m \u001b[1m1s\u001b[0m 7ms/step - AUC: 0.5697 - accuracy: 0.3770 - loss: 1.0642 - val_AUC: 0.6333 - val_accuracy: 0.5140 - val_loss: 1.0549\n",
      "\u001b[1m78/78\u001b[0m \u001b[32m━━━━━━━━━━━━━━━━━━━━\u001b[0m\u001b[37m\u001b[0m \u001b[1m0s\u001b[0m 3ms/step - AUC: 0.5968 - accuracy: 0.4864 - loss: 1.0796\n",
      "\u001b[1m78/78\u001b[0m \u001b[32m━━━━━━━━━━━━━━━━━━━━\u001b[0m\u001b[37m\u001b[0m \u001b[1m0s\u001b[0m 2ms/step\n",
      "Métricas de evaluación: [1.0786893367767334, 0.49599358439445496, 0.5995243787765503]\n",
      "Distribución de predicciones: [1442  442  612]\n"
     ]
    }
   ],
   "source": [
    "import pandas as pd\n",
    "import numpy as np\n",
    "from sklearn.preprocessing import StandardScaler\n",
    "from tensorflow.keras.models import Sequential\n",
    "from tensorflow.keras.layers import LSTM, Dense\n",
    "from tensorflow.keras.utils import to_categorical\n",
    "from sklearn.utils.class_weight import compute_class_weight\n",
    "\n",
    "# 1. Mejora en el preprocesamiento de datos\n",
    "def prepare_data(df_train, df_test):\n",
    "    # Características y etiquetas\n",
    "    features = ['period eating', 'period other', 'period resting', 'period rumination']\n",
    "    X_train = df_train[features]\n",
    "    y_train = df_train['Nivel_estres_1']\n",
    "    X_test = df_test[features]\n",
    "    y_test = df_test['Nivel_estres_1']\n",
    "    \n",
    "    # Estandarización\n",
    "    scaler = StandardScaler()\n",
    "    X_train_scaled = scaler.fit_transform(X_train)\n",
    "    X_test_scaled = scaler.transform(X_test)\n",
    "    \n",
    "    # Conversión a formato LSTM\n",
    "    X_train_reshaped = X_train_scaled.reshape((X_train_scaled.shape[0], 1, X_train_scaled.shape[1]))\n",
    "    X_test_reshaped = X_test_scaled.reshape((X_test_scaled.shape[0], 1, X_test_scaled.shape[1]))\n",
    "    \n",
    "    # Conversión de etiquetas\n",
    "    y_train_categorical = to_categorical(y_train, num_classes=3)\n",
    "    y_test_categorical = to_categorical(y_test, num_classes=3)\n",
    "    \n",
    "    return X_train_reshaped, y_train_categorical, X_test_reshaped, y_test_categorical, y_train\n",
    "\n",
    "# 2. Modelo LSTM mejorado\n",
    "def create_improved_model(input_shape):\n",
    "    model = Sequential([\n",
    "        LSTM(128, activation='relu', input_shape=input_shape, return_sequences=True),\n",
    "        LSTM(64, activation='relu'),\n",
    "        Dense(32, activation='relu'),\n",
    "        Dense(3, activation='softmax')\n",
    "    ])\n",
    "    \n",
    "    model.compile(\n",
    "        optimizer='adam',\n",
    "        loss='categorical_crossentropy',\n",
    "        metrics=['accuracy', 'AUC']\n",
    "    )\n",
    "    \n",
    "    return model\n",
    "\n",
    "# 3. Función principal de entrenamiento\n",
    "def train_stress_model(nombre_csv):\n",
    "    # Cargar datos\n",
    "    de = pd.read_csv(f'Datos_entrenamiento/{nombre_csv}_e.csv')\n",
    "    dp = pd.read_csv(f'Datos_prueba/{nombre_csv}_p.csv')\n",
    "    \n",
    "    # Mapear niveles de estrés\n",
    "    mapping = {'normal': 0, 'alerta': 1, 'peligro': 2}\n",
    "    de['Nivel_estres_1'] = de['Nivel_estres_1'].map(mapping)\n",
    "    dp['Nivel_estres_1'] = dp['Nivel_estres_1'].map(mapping)\n",
    "    \n",
    "    # Preparar datos\n",
    "    X_train_reshaped, y_train_categorical, X_test_reshaped, y_test_categorical, y_train = prepare_data(de, dp)\n",
    "    \n",
    "    # Calcular pesos de clase para manejar el desbalance\n",
    "    class_weights = compute_class_weight(\n",
    "        class_weight='balanced',\n",
    "        classes=np.unique(y_train),\n",
    "        y=y_train\n",
    "    )\n",
    "    class_weight_dict = dict(enumerate(class_weights))\n",
    "    \n",
    "    # Crear y entrenar modelo\n",
    "    model = create_improved_model((1, X_train_reshaped.shape[2]))\n",
    "    \n",
    "    history = model.fit(\n",
    "        X_train_reshaped, \n",
    "        y_train_categorical,\n",
    "        epochs=100,\n",
    "        batch_size=32,\n",
    "        validation_data=(X_test_reshaped, y_test_categorical),\n",
    "        class_weight=class_weight_dict,\n",
    "        shuffle=True\n",
    "    )\n",
    "    \n",
    "    return model, history\n",
    "\n",
    "# 4. Evaluación y predicción\n",
    "def evaluate_model(model, X_test_reshaped, y_test_categorical):\n",
    "    # Evaluación\n",
    "    evaluation = model.evaluate(X_test_reshaped, y_test_categorical)\n",
    "    \n",
    "    # Predicciones\n",
    "    y_pred_proba = model.predict(X_test_reshaped)\n",
    "    y_pred = np.argmax(y_pred_proba, axis=1)\n",
    "    \n",
    "    return evaluation, y_pred, y_pred_proba\n",
    "\n",
    "# Uso del código mejorado\n",
    "if __name__ == \"__main__\":\n",
    "    nombre_csv = 1\n",
    "    model, history = train_stress_model(nombre_csv)\n",
    "    \n",
    "    # Cargar datos de prueba para evaluación\n",
    "    dp = pd.read_csv(f'Datos_prueba/{nombre_csv}_p.csv')\n",
    "    mapping = {'normal': 0, 'alerta': 1, 'peligro': 2}\n",
    "    dp['Nivel_estres_1'] = dp['Nivel_estres_1'].map(mapping)\n",
    "    \n",
    "    # Preparar datos de prueba\n",
    "    _, _, X_test_reshaped, y_test_categorical, _ = prepare_data(dp, dp)\n",
    "    \n",
    "    # Evaluar modelo\n",
    "    evaluation, y_pred, y_pred_proba = evaluate_model(model, X_test_reshaped, y_test_categorical)\n",
    "    \n",
    "    # Imprimir resultados\n",
    "    print(f\"Métricas de evaluación: {evaluation}\")\n",
    "    print(f\"Distribución de predicciones: {np.bincount(y_pred)}\")"
   ]
  },
  {
   "cell_type": "code",
   "execution_count": 12,
   "metadata": {},
   "outputs": [
    {
     "data": {
      "text/plain": [
       "<keras.src.callbacks.history.History at 0x178ae990c90>"
      ]
     },
     "execution_count": 12,
     "metadata": {},
     "output_type": "execute_result"
    }
   ],
   "source": [
    "history"
   ]
  }
 ],
 "metadata": {
  "colab": {
   "provenance": []
  },
  "kernelspec": {
   "display_name": "Python 3",
   "name": "python3"
  },
  "language_info": {
   "codemirror_mode": {
    "name": "ipython",
    "version": 3
   },
   "file_extension": ".py",
   "mimetype": "text/x-python",
   "name": "python",
   "nbconvert_exporter": "python",
   "pygments_lexer": "ipython3",
   "version": "3.11.0"
  }
 },
 "nbformat": 4,
 "nbformat_minor": 0
}
